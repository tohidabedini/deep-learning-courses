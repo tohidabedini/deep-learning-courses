{
 "cells": [
  {
   "cell_type": "markdown",
   "id": "considerable-seeking",
   "metadata": {},
   "source": [
    "```\n",
    "def add(x,y):\n",
    "    return x+y\n",
    "    \n",
    "write your code inside ``` ............. ```\n",
    "\n",
    "```"
   ]
  },
  {
   "cell_type": "markdown",
   "id": "accepting-fundamental",
   "metadata": {},
   "source": [
    "To insert a mathematical formula we use the dollar symbol $, as follows:\n",
    "\n",
    "Euler's identity: \n",
    "$ e^{i \\pi} + 1 = 0 $\n",
    "\n",
    "To isolate and center the formulas and enter in math display mode, we use 2 dollars symbol:\n",
    "$$\n",
    "...\n",
    "$$\n",
    "\n",
    "Euler's identity: $$ e^{i \\pi} + 1 = 0 $$"
   ]
  },
  {
   "cell_type": "markdown",
   "id": "universal-crawford",
   "metadata": {},
   "source": [
    "<ul>\n",
    "<li>To add little spacing in math mode use \\,</li>\n",
    "<li>To add a new line when in math mode use \\\\</li>\n",
    "<li>To display fraction use \\frac{arg 1}{arg 2}</li>\n",
    "<li>For power (superscripts text) use ^{}</li>\n",
    "<li>For indices (subscripts) use _{}</li>\n",
    "<li>For roots use \\sqrt[n]{arg}</li>\n",
    "<li>The [n]is optional.</li>\n",
    "</ul>"
   ]
  },
  {
   "cell_type": "markdown",
   "id": "worth-conference",
   "metadata": {},
   "source": [
    "$$\n",
    "\\frac{arg 1}{arg 2} \\\\\n",
    "x^2\\\\\n",
    "e^{i\\pi}\\\\\n",
    "A_i\\\\\n",
    "B_{ij}\\\\\n",
    "C       D\\\\\n",
    "C\\ D\\\\\n",
    "CD\\\\\n",
    "\\sqrt[n]{arg}\t\n",
    "$$"
   ]
  },
  {
   "cell_type": "code",
   "execution_count": 2,
   "id": "accessory-favorite",
   "metadata": {},
   "outputs": [],
   "source": [
    "# ![Alt Text](./images/2.jpg \"MSE\")]()\n",
    "# ![Alt Text](./images/2.jpg \"MSE\")"
   ]
  },
  {
   "cell_type": "markdown",
   "id": "worthy-authority",
   "metadata": {},
   "source": [
    "Given : $\\pi = 3.14$ , $\\alpha = \\frac{3\\pi}{4}\\, rad$\n",
    "$$\n",
    "\\omega = 2\\pi f \\\\\n",
    "f = \\frac{c}{\\lambda}\\\\\n",
    "\\lambda_0=\\theta^2+\\delta\\\\\n",
    "\\Delta\\lambda = \\frac{1}{\\lambda^2}\n",
    "$$"
   ]
  },
  {
   "cell_type": "markdown",
   "id": "applicable-barbados",
   "metadata": {},
   "source": [
    "$$\n",
    "\\Delta\\\\\n",
    "\\delta\\\\\n",
    "\\Omega\\\\\n",
    "\\omega\\\\\n",
    "\\Theta\\\\\n",
    "\\theta\\\\\n",
    "\\Lambda\\\\\n",
    "\\lambda\\\\\n",
    "\\Pi\\\\\n",
    "\\pi\\\\\n",
    "\\alpha\\\\\n",
    "\\beta\\\\\n",
    "\\Gamma\\\\\n",
    "\\gamma\\\\\n",
    "$$"
   ]
  },
  {
   "cell_type": "markdown",
   "id": "molecular-intro",
   "metadata": {},
   "source": [
    "![Alt Text](./greek.png \"Greek Words\")"
   ]
  },
  {
   "cell_type": "markdown",
   "id": "employed-design",
   "metadata": {},
   "source": [
    "$$\n",
    "\\sin(-\\alpha)=-\\sin(\\alpha)\\\\\n",
    "\\arccos(x)=\\arcsin(u)\\\\\n",
    "\\log_n(n)=1\\\\\n",
    "\\tan(x) = \\frac{\\sin(x)}{\\cos(x)}\n",
    "$$"
   ]
  },
  {
   "cell_type": "markdown",
   "id": "pressed-textbook",
   "metadata": {},
   "source": [
    "![Alt Text](./roman.png \"Roman Symbols\")"
   ]
  },
  {
   "cell_type": "markdown",
   "id": "absolute-purse",
   "metadata": {},
   "source": [
    "Other Symbols\\\n",
    "Angles:\n",
    "\n",
    "Left angle : $\\langle$\n",
    "\n",
    "Right angle : $\\rangle$\n",
    "\n",
    "Angle between two vectors u and v\t: $\\langle \\vec{u},\\vec{v}\\rangle$\t\n",
    "\n",
    "$$ \\vec{AB} \\, \\cdot \\, \\vec{CD} =0  \\Rightarrow  \\vec{AB} \\, \\perp\\, \\vec{CD}$$\n",
    "\n",
    "Sets and logic:\\\n",
    "$$\\mathbb{N} \\subset \\mathbb{Z} \\subset \\mathbb{D} \\subset \\mathbb{Q} \\subset \\mathbb{R} \\subset \\mathbb{C}$$"
   ]
  },
  {
   "cell_type": "markdown",
   "id": "proper-gravity",
   "metadata": {},
   "source": [
    "![Alt Text](./sets_and_logic.png \"sets_and_logic\")"
   ]
  },
  {
   "cell_type": "markdown",
   "id": "sealed-fisher",
   "metadata": {},
   "source": [
    "# and so on ...\n",
    "\n",
    "https://towardsdatascience.com/write-markdown-latex-in-the-jupyter-notebook-10985edb91fd"
   ]
  },
  {
   "cell_type": "code",
   "execution_count": null,
   "id": "olympic-roads",
   "metadata": {},
   "outputs": [],
   "source": []
  }
 ],
 "metadata": {
  "kernelspec": {
   "display_name": "Python 3",
   "language": "python",
   "name": "python3"
  },
  "language_info": {
   "codemirror_mode": {
    "name": "ipython",
    "version": 3
   },
   "file_extension": ".py",
   "mimetype": "text/x-python",
   "name": "python",
   "nbconvert_exporter": "python",
   "pygments_lexer": "ipython3",
   "version": "3.6.12"
  }
 },
 "nbformat": 4,
 "nbformat_minor": 5
}
