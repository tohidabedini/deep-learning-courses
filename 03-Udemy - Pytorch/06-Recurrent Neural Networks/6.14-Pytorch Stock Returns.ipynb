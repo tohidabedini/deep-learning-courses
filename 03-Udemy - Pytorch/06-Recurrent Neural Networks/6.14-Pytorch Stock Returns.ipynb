{
 "cells": [
  {
   "cell_type": "markdown",
   "id": "9864388b",
   "metadata": {},
   "source": [
    "### Imports"
   ]
  },
  {
   "cell_type": "code",
   "execution_count": 3,
   "id": "fc52842e",
   "metadata": {},
   "outputs": [],
   "source": [
    "import torch\n",
    "import torch.nn as nn\n",
    "import numpy as np\n",
    "import matplotlib.pyplot as plt\n",
    "import pandas as pd\n",
    "from sklearn.preprocessing import StandardScaler\n",
    "\n",
    "%matplotlib inline"
   ]
  },
  {
   "cell_type": "markdown",
   "id": "1c6000a2",
   "metadata": {},
   "source": [
    "### Functions"
   ]
  },
  {
   "cell_type": "code",
   "execution_count": 46,
   "id": "ddc78e52",
   "metadata": {},
   "outputs": [],
   "source": [
    "def scale_series(df):\n",
    "    series = df['close'].values.reshape(-1,1)\n",
    "    scaler = StandardScaler()\n",
    "    scaler.fit(series[:len(series)//2])\n",
    "    series = scaler.transform(series).flatten()\n",
    "    return scaler, series\n",
    "    \n",
    "\n",
    "def plot_series(series):\n",
    "    plt.plot(series)\n",
    "    plt.show()\n",
    "\n",
    "def create_dataset(series,T):\n",
    "    X = []\n",
    "    Y = []\n",
    "    for t in range(len(series)-T):\n",
    "        x = series[t:t+T]\n",
    "        X.append(x)\n",
    "        y = series[t+T]\n",
    "        Y.append(y)\n",
    "        \n",
    "    X = np.array(X).reshape(-1,T,1)\n",
    "    Y = np.array(Y).reshape(-1,1)\n",
    "        \n",
    "    N = len(X)\n",
    "    print(N)\n",
    "    print(\"X.shape\",X.shape,\"Y.shape\",Y.shape)\n",
    "    return X,Y    \n",
    "\n",
    "\n",
    "class SimpleRNN(nn.Module):\n",
    "    def __init__(self,n_inputs, n_hidden, n_rnnlayers, n_outputs, model_type, device):\n",
    "        super(SimpleRNN,self).__init__()\n",
    "        self.D = n_inputs\n",
    "        self.M = n_hidden\n",
    "        self.K = n_outputs\n",
    "        self.L = n_rnnlayers\n",
    "        self.model_type = model_type\n",
    "        self.device = device\n",
    "        \n",
    "        if self.model_type==\"GRU\":\n",
    "            self.rnn = nn.GRU(\n",
    "                input_size = self.D,\n",
    "                hidden_size = self.M,\n",
    "                num_layers = self.L,\n",
    "                batch_first=True\n",
    "            )\n",
    "        elif self.model_type==\"LSTM\":\n",
    "            self.rnn = nn.LSTM(\n",
    "                input_size = self.D,\n",
    "                hidden_size = self.M,\n",
    "                num_layers = self.L,\n",
    "                batch_first=True\n",
    "            )\n",
    "            \n",
    "        self.fc = nn.Linear(self.M, self.K)\n",
    "        \n",
    "    def forward(self, X):\n",
    "        h0 = torch.zeros(self.L, X.size(0), self.M).to(self.device)\n",
    "        if self.model_type==\"LSTM\":\n",
    "            c0 = torch.zeros(self.L, X.size(0), self.M).to(self.device)\n",
    "            out,_ = self.rnn(X, (h0,c0))\n",
    "        elif self.model_type==\"GRU\":\n",
    "            out,_ = self.rnn(X, h0)\n",
    "        \n",
    "        out = self.fc(out[:, -1, :])\n",
    "        return out\n",
    "\n",
    "\n",
    "def create_model_and_train(X,Y,T,N,D,M,L,K,n_epochs=100,model_type=\"Linear\"):\n",
    "    device = torch.device(\"cuda:0\" if torch.cuda.is_available() else \"cpu\")\n",
    "    print(device)\n",
    "    \n",
    "    if model_type==\"Linear\":\n",
    "        model = nn.Linear(T,1)\n",
    "    elif model_type==\"GRU\":\n",
    "        model = SimpleRNN(n_inputs=D, n_hidden=M, n_rnnlayers=L, n_outputs=K, model_type=model_type, device=device)\n",
    "    elif model_type==\"LSTM\":\n",
    "        model = SimpleRNN(n_inputs=D, n_hidden=M, n_rnnlayers=L, n_outputs=K, model_type=model_type, device=device)\n",
    "\n",
    "\n",
    "    \n",
    "    print(device)\n",
    "    model.to(device)\n",
    "    \n",
    "    criterion = nn.MSELoss()\n",
    "    optimizer = torch.optim.Adam(model.parameters(),lr=0.05)\n",
    "    \n",
    "    # random split is not reasonable in time series\n",
    "    \n",
    "    X_train = torch.from_numpy(X[:-N//2].astype(np.float32)).to(device)\n",
    "    y_train = torch.from_numpy(Y[:-N//2].astype(np.float32)).to(device)\n",
    "    X_test = torch.from_numpy(X[-N//2:].astype(np.float32)).to(device)\n",
    "    y_test = torch.from_numpy(Y[-N//2:].astype(np.float32)).to(device)\n",
    "    \n",
    "    train_losses = np.zeros(n_epochs)\n",
    "    test_losses  = np.zeros(n_epochs)\n",
    "    \n",
    "    for it in range(n_epochs):\n",
    "        optimizer.zero_grad()\n",
    "        \n",
    "        outputs = model(X_train)\n",
    "        loss = criterion(outputs, y_train)\n",
    "        \n",
    "        loss.backward()\n",
    "        optimizer.step()\n",
    "        \n",
    "        train_losses[it] = loss.item()\n",
    "        \n",
    "        test_outputs = model(X_test)\n",
    "        test_loss = criterion(test_outputs, y_test)\n",
    "        test_losses[it] = test_loss.item()\n",
    "        \n",
    "        \n",
    "        if (it+1)%5==0:\n",
    "\n",
    "            print(f\"Epoch {it+1}/{n_epochs}, Train Loss: {loss.item():.4f}, Test Loss: {test_loss.item():.4f}\")\n",
    "        \n",
    "    return model,train_losses, test_losses, device,X_test,y_test\n",
    "\n",
    "\n",
    "def plot_metric(data, metric):\n",
    "    plt.plot(data, label=metric)\n",
    "    plt.legend()\n",
    "    plt.show\n",
    "    \n",
    "    \n",
    "def wrong_forcasting(Y,N,X_test,model_type=\"Linear\",T=None):\n",
    "    validation_target = Y[-N//2:]\n",
    "    validation_predictions = []\n",
    "    \n",
    "    i=0\n",
    "    while len(validation_predictions)<len(validation_target):\n",
    "        if model_type==\"Linear\":\n",
    "            input_ = X_test[i].reshape(1,-1)\n",
    "        elif model_type in [\"GRU\",\"LSTM\"]:\n",
    "            input_ = X_test[i].reshape(1,T,-1)\n",
    "            \n",
    "        p = model(input_)[0,0].item()\n",
    "        i+=1\n",
    "        validation_predictions.append(p)\n",
    "        \n",
    "    return validation_predictions,validation_target\n",
    "\n",
    "def correct_forcasting(Y,N,X_test,model_type=\"Linear\",T=None):\n",
    "    validation_target = Y[-N//2:]\n",
    "    validation_predictions = []\n",
    "    \n",
    "    if model_type==\"Linear\":\n",
    "        last_x = torch.from_numpy(X[-N//2].astype(np.float32))\n",
    "    elif model_type in [\"GRU\",\"LSTM\"]:\n",
    "        last_x = X_test[0].view(T)\n",
    "            \n",
    "    while len(validation_predictions)<len(validation_target):\n",
    "        if model_type==\"Linear\":\n",
    "            input_ = last_x.view(1,-1)\n",
    "        elif model_type in [\"GRU\",\"LSTM\"]:\n",
    "            input_ = last_x.view(1,T,-1)\n",
    "            \n",
    "        p = model(input_)\n",
    "        \n",
    "        validation_predictions.append(p[0,0].item())\n",
    "        \n",
    "        last_x = torch.cat((last_x[1:],p[0]))\n",
    "        \n",
    "    return validation_predictions,validation_target"
   ]
  },
  {
   "cell_type": "markdown",
   "id": "68af455b",
   "metadata": {},
   "source": [
    "### Part1: Price Prediction"
   ]
  },
  {
   "cell_type": "code",
   "execution_count": 20,
   "id": "9416820f",
   "metadata": {},
   "outputs": [],
   "source": [
    "df = pd.read_csv('https://raw.githubusercontent.com/lazyprogrammer/machine_learning_examples/master/tf2.0/sbux.csv')"
   ]
  },
  {
   "cell_type": "code",
   "execution_count": 21,
   "id": "b3c7189c",
   "metadata": {},
   "outputs": [
    {
     "data": {
      "text/html": [
       "<div>\n",
       "<style scoped>\n",
       "    .dataframe tbody tr th:only-of-type {\n",
       "        vertical-align: middle;\n",
       "    }\n",
       "\n",
       "    .dataframe tbody tr th {\n",
       "        vertical-align: top;\n",
       "    }\n",
       "\n",
       "    .dataframe thead th {\n",
       "        text-align: right;\n",
       "    }\n",
       "</style>\n",
       "<table border=\"1\" class=\"dataframe\">\n",
       "  <thead>\n",
       "    <tr style=\"text-align: right;\">\n",
       "      <th></th>\n",
       "      <th>date</th>\n",
       "      <th>open</th>\n",
       "      <th>high</th>\n",
       "      <th>low</th>\n",
       "      <th>close</th>\n",
       "      <th>volume</th>\n",
       "      <th>Name</th>\n",
       "    </tr>\n",
       "  </thead>\n",
       "  <tbody>\n",
       "    <tr>\n",
       "      <th>0</th>\n",
       "      <td>2013-02-08</td>\n",
       "      <td>27.920</td>\n",
       "      <td>28.325</td>\n",
       "      <td>27.920</td>\n",
       "      <td>28.185</td>\n",
       "      <td>7146296</td>\n",
       "      <td>SBUX</td>\n",
       "    </tr>\n",
       "    <tr>\n",
       "      <th>1</th>\n",
       "      <td>2013-02-11</td>\n",
       "      <td>28.260</td>\n",
       "      <td>28.260</td>\n",
       "      <td>27.930</td>\n",
       "      <td>28.070</td>\n",
       "      <td>5457354</td>\n",
       "      <td>SBUX</td>\n",
       "    </tr>\n",
       "    <tr>\n",
       "      <th>2</th>\n",
       "      <td>2013-02-12</td>\n",
       "      <td>28.000</td>\n",
       "      <td>28.275</td>\n",
       "      <td>27.975</td>\n",
       "      <td>28.130</td>\n",
       "      <td>8665592</td>\n",
       "      <td>SBUX</td>\n",
       "    </tr>\n",
       "    <tr>\n",
       "      <th>3</th>\n",
       "      <td>2013-02-13</td>\n",
       "      <td>28.230</td>\n",
       "      <td>28.230</td>\n",
       "      <td>27.750</td>\n",
       "      <td>27.915</td>\n",
       "      <td>7022056</td>\n",
       "      <td>SBUX</td>\n",
       "    </tr>\n",
       "    <tr>\n",
       "      <th>4</th>\n",
       "      <td>2013-02-14</td>\n",
       "      <td>27.765</td>\n",
       "      <td>27.905</td>\n",
       "      <td>27.675</td>\n",
       "      <td>27.775</td>\n",
       "      <td>8899188</td>\n",
       "      <td>SBUX</td>\n",
       "    </tr>\n",
       "  </tbody>\n",
       "</table>\n",
       "</div>"
      ],
      "text/plain": [
       "         date    open    high     low   close   volume  Name\n",
       "0  2013-02-08  27.920  28.325  27.920  28.185  7146296  SBUX\n",
       "1  2013-02-11  28.260  28.260  27.930  28.070  5457354  SBUX\n",
       "2  2013-02-12  28.000  28.275  27.975  28.130  8665592  SBUX\n",
       "3  2013-02-13  28.230  28.230  27.750  27.915  7022056  SBUX\n",
       "4  2013-02-14  27.765  27.905  27.675  27.775  8899188  SBUX"
      ]
     },
     "execution_count": 21,
     "metadata": {},
     "output_type": "execute_result"
    }
   ],
   "source": [
    "df.head()"
   ]
  },
  {
   "cell_type": "code",
   "execution_count": 22,
   "id": "642d2554",
   "metadata": {},
   "outputs": [
    {
     "data": {
      "text/html": [
       "<div>\n",
       "<style scoped>\n",
       "    .dataframe tbody tr th:only-of-type {\n",
       "        vertical-align: middle;\n",
       "    }\n",
       "\n",
       "    .dataframe tbody tr th {\n",
       "        vertical-align: top;\n",
       "    }\n",
       "\n",
       "    .dataframe thead th {\n",
       "        text-align: right;\n",
       "    }\n",
       "</style>\n",
       "<table border=\"1\" class=\"dataframe\">\n",
       "  <thead>\n",
       "    <tr style=\"text-align: right;\">\n",
       "      <th></th>\n",
       "      <th>date</th>\n",
       "      <th>open</th>\n",
       "      <th>high</th>\n",
       "      <th>low</th>\n",
       "      <th>close</th>\n",
       "      <th>volume</th>\n",
       "      <th>Name</th>\n",
       "    </tr>\n",
       "  </thead>\n",
       "  <tbody>\n",
       "    <tr>\n",
       "      <th>1254</th>\n",
       "      <td>2018-02-01</td>\n",
       "      <td>56.280</td>\n",
       "      <td>56.42</td>\n",
       "      <td>55.89</td>\n",
       "      <td>56.00</td>\n",
       "      <td>14690146</td>\n",
       "      <td>SBUX</td>\n",
       "    </tr>\n",
       "    <tr>\n",
       "      <th>1255</th>\n",
       "      <td>2018-02-02</td>\n",
       "      <td>55.900</td>\n",
       "      <td>56.32</td>\n",
       "      <td>55.70</td>\n",
       "      <td>55.77</td>\n",
       "      <td>15358909</td>\n",
       "      <td>SBUX</td>\n",
       "    </tr>\n",
       "    <tr>\n",
       "      <th>1256</th>\n",
       "      <td>2018-02-05</td>\n",
       "      <td>55.530</td>\n",
       "      <td>56.26</td>\n",
       "      <td>54.57</td>\n",
       "      <td>54.69</td>\n",
       "      <td>16059955</td>\n",
       "      <td>SBUX</td>\n",
       "    </tr>\n",
       "    <tr>\n",
       "      <th>1257</th>\n",
       "      <td>2018-02-06</td>\n",
       "      <td>53.685</td>\n",
       "      <td>56.06</td>\n",
       "      <td>53.56</td>\n",
       "      <td>55.61</td>\n",
       "      <td>17415065</td>\n",
       "      <td>SBUX</td>\n",
       "    </tr>\n",
       "    <tr>\n",
       "      <th>1258</th>\n",
       "      <td>2018-02-07</td>\n",
       "      <td>55.080</td>\n",
       "      <td>55.43</td>\n",
       "      <td>54.44</td>\n",
       "      <td>54.46</td>\n",
       "      <td>13927022</td>\n",
       "      <td>SBUX</td>\n",
       "    </tr>\n",
       "  </tbody>\n",
       "</table>\n",
       "</div>"
      ],
      "text/plain": [
       "            date    open   high    low  close    volume  Name\n",
       "1254  2018-02-01  56.280  56.42  55.89  56.00  14690146  SBUX\n",
       "1255  2018-02-02  55.900  56.32  55.70  55.77  15358909  SBUX\n",
       "1256  2018-02-05  55.530  56.26  54.57  54.69  16059955  SBUX\n",
       "1257  2018-02-06  53.685  56.06  53.56  55.61  17415065  SBUX\n",
       "1258  2018-02-07  55.080  55.43  54.44  54.46  13927022  SBUX"
      ]
     },
     "execution_count": 22,
     "metadata": {},
     "output_type": "execute_result"
    }
   ],
   "source": [
    "df.tail()"
   ]
  },
  {
   "cell_type": "markdown",
   "id": "7156ae4f",
   "metadata": {},
   "source": [
    "### Wrong forecasintg"
   ]
  },
  {
   "cell_type": "code",
   "execution_count": 27,
   "id": "35b17137",
   "metadata": {},
   "outputs": [],
   "source": [
    "scaler,series = scale_series(df)"
   ]
  },
  {
   "cell_type": "code",
   "execution_count": 37,
   "id": "8334e74b",
   "metadata": {},
   "outputs": [
    {
     "name": "stdout",
     "output_type": "stream",
     "text": [
      "1239\n",
      "X.shape (1239, 20, 1) Y.shape (1239, 1)\n"
     ]
    }
   ],
   "source": [
    "T=20\n",
    "D=1\n",
    "M=5\n",
    "L=1\n",
    "K=1\n",
    "X,Y = create_dataset(series,T)\n",
    "\n",
    "model_type = \"LSTM\"\n",
    "\n",
    "N = len(X)"
   ]
  },
  {
   "cell_type": "code",
   "execution_count": 34,
   "id": "9d498d00",
   "metadata": {},
   "outputs": [
    {
     "name": "stdout",
     "output_type": "stream",
     "text": [
      "cpu\n",
      "cpu\n",
      "Epoch 5/200, Train Loss: 0.5177, Test Loss: 3.3625\n",
      "Epoch 10/200, Train Loss: 0.1697, Test Loss: 0.8290\n",
      "Epoch 15/200, Train Loss: 0.1052, Test Loss: 0.2888\n",
      "Epoch 20/200, Train Loss: 0.0490, Test Loss: 0.2747\n",
      "Epoch 25/200, Train Loss: 0.0205, Test Loss: 0.1147\n",
      "Epoch 30/200, Train Loss: 0.0169, Test Loss: 0.0968\n",
      "Epoch 35/200, Train Loss: 0.0099, Test Loss: 0.1071\n",
      "Epoch 40/200, Train Loss: 0.0072, Test Loss: 0.0677\n",
      "Epoch 45/200, Train Loss: 0.0085, Test Loss: 0.0588\n",
      "Epoch 50/200, Train Loss: 0.0073, Test Loss: 0.0598\n",
      "Epoch 55/200, Train Loss: 0.0064, Test Loss: 0.0555\n",
      "Epoch 60/200, Train Loss: 0.0064, Test Loss: 0.0497\n",
      "Epoch 65/200, Train Loss: 0.0062, Test Loss: 0.0585\n",
      "Epoch 70/200, Train Loss: 0.0060, Test Loss: 0.0477\n",
      "Epoch 75/200, Train Loss: 0.0060, Test Loss: 0.0457\n",
      "Epoch 80/200, Train Loss: 0.0060, Test Loss: 0.0479\n",
      "Epoch 85/200, Train Loss: 0.0059, Test Loss: 0.0425\n",
      "Epoch 90/200, Train Loss: 0.0059, Test Loss: 0.0434\n",
      "Epoch 95/200, Train Loss: 0.0058, Test Loss: 0.0412\n",
      "Epoch 100/200, Train Loss: 0.0058, Test Loss: 0.0404\n",
      "Epoch 105/200, Train Loss: 0.0058, Test Loss: 0.0404\n",
      "Epoch 110/200, Train Loss: 0.0057, Test Loss: 0.0394\n",
      "Epoch 115/200, Train Loss: 0.0057, Test Loss: 0.0391\n",
      "Epoch 120/200, Train Loss: 0.0057, Test Loss: 0.0386\n",
      "Epoch 125/200, Train Loss: 0.0057, Test Loss: 0.0380\n",
      "Epoch 130/200, Train Loss: 0.0056, Test Loss: 0.0377\n",
      "Epoch 135/200, Train Loss: 0.0056, Test Loss: 0.0370\n",
      "Epoch 140/200, Train Loss: 0.0056, Test Loss: 0.0367\n",
      "Epoch 145/200, Train Loss: 0.0056, Test Loss: 0.0361\n",
      "Epoch 150/200, Train Loss: 0.0055, Test Loss: 0.0357\n",
      "Epoch 155/200, Train Loss: 0.0055, Test Loss: 0.0352\n",
      "Epoch 160/200, Train Loss: 0.0055, Test Loss: 0.0348\n",
      "Epoch 165/200, Train Loss: 0.0055, Test Loss: 0.0343\n",
      "Epoch 170/200, Train Loss: 0.0055, Test Loss: 0.0338\n",
      "Epoch 175/200, Train Loss: 0.0054, Test Loss: 0.0333\n",
      "Epoch 180/200, Train Loss: 0.0054, Test Loss: 0.0328\n",
      "Epoch 185/200, Train Loss: 0.0054, Test Loss: 0.0324\n",
      "Epoch 190/200, Train Loss: 0.0054, Test Loss: 0.0319\n",
      "Epoch 195/200, Train Loss: 0.0054, Test Loss: 0.0314\n",
      "Epoch 200/200, Train Loss: 0.0054, Test Loss: 0.0309\n"
     ]
    }
   ],
   "source": [
    "model,train_losses, test_losses, device, X_test, y_test = create_model_and_train(X,Y,T=T,N=N,D=D,M=M,L=L,K=K,n_epochs=200,model_type=model_type)"
   ]
  },
  {
   "cell_type": "code",
   "execution_count": 38,
   "id": "afe9959b",
   "metadata": {},
   "outputs": [
    {
     "data": {
      "image/png": "[encoded data removed]",
      "text/plain": [
       "<Figure size 432x288 with 1 Axes>"
      ]
     },
     "metadata": {
      "needs_background": "light"
     },
     "output_type": "display_data"
    }
   ],
   "source": [
    "plot_metric(train_losses, \"train loss\")\n",
    "plot_metric(test_losses, \"test loss\")"
   ]
  },
  {
   "cell_type": "code",
   "execution_count": 47,
   "id": "eee35c45",
   "metadata": {},
   "outputs": [],
   "source": [
    "validation_predictions,validation_target = wrong_forcasting(Y,N,X_test,model_type=model_type,T=T)"
   ]
  },
  {
   "cell_type": "code",
   "execution_count": 48,
   "id": "5bd57a27",
   "metadata": {},
   "outputs": [
    {
     "data": {
      "image/png": "[encoded data removed]",
      "text/plain": [
       "<Figure size 432x288 with 1 Axes>"
      ]
     },
     "metadata": {
      "needs_background": "light"
     },
     "output_type": "display_data"
    }
   ],
   "source": [
    "plot_metric(validation_target, \"forecast target\")\n",
    "plot_metric(validation_predictions, \"forecast predictions\")"
   ]
  },
  {
   "cell_type": "markdown",
   "id": "5db4c450",
   "metadata": {},
   "source": [
    "### Correct forecasting"
   ]
  },
  {
   "cell_type": "code",
   "execution_count": 42,
   "id": "c18ecbbe",
   "metadata": {},
   "outputs": [],
   "source": [
    "validation_predictions,validation_target = correct_forcasting(Y,N,X_test,model_type=model_type,T=T)"
   ]
  },
  {
   "cell_type": "code",
   "execution_count": 43,
   "id": "d591a928",
   "metadata": {},
   "outputs": [
    {
     "data": {
      "image/png": "[encoded data removed]",
      "text/plain": [
       "<Figure size 432x288 with 1 Axes>"
      ]
     },
     "metadata": {
      "needs_background": "light"
     },
     "output_type": "display_data"
    }
   ],
   "source": [
    "plot_metric(validation_target, \"forecast target\")\n",
    "plot_metric(validation_predictions, \"forecast predictions\")"
   ]
  },
  {
   "cell_type": "code",
   "execution_count": null,
   "id": "f839e57b",
   "metadata": {},
   "outputs": [],
   "source": []
  }
 ],
 "metadata": {
  "kernelspec": {
   "display_name": "Python 3",
   "language": "python",
   "name": "python3"
  },
  "language_info": {
   "codemirror_mode": {
    "name": "ipython",
    "version": 3
   },
   "file_extension": ".py",
   "mimetype": "text/x-python",
   "name": "python",
   "nbconvert_exporter": "python",
   "pygments_lexer": "ipython3",
   "version": "3.7.9"
  }
 },
 "nbformat": 4,
 "nbformat_minor": 5
}
