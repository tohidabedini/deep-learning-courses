{
 "cells": [
  {
   "cell_type": "markdown",
   "id": "9864388b",
   "metadata": {},
   "source": [
    "### Imports"
   ]
  },
  {
   "cell_type": "code",
   "execution_count": 1,
   "id": "fc52842e",
   "metadata": {},
   "outputs": [],
   "source": [
    "import torch\n",
    "import torch.nn as nn\n",
    "import numpy as np\n",
    "import matplotlib.pyplot as plt\n",
    "\n",
    "%matplotlib inline"
   ]
  },
  {
   "cell_type": "code",
   "execution_count": 2,
   "id": "747c3632",
   "metadata": {},
   "outputs": [],
   "source": [
    "# remember\n",
    "# N = number of samples\n",
    "# T = sequence length\n",
    "# D = number of input features\n",
    "# M = number of input units\n",
    "# K = number of output units"
   ]
  },
  {
   "cell_type": "markdown",
   "id": "1c6000a2",
   "metadata": {},
   "source": [
    "### Functions"
   ]
  },
  {
   "cell_type": "code",
   "execution_count": 38,
   "id": "ddc78e52",
   "metadata": {},
   "outputs": [],
   "source": [
    "class SimpleRNN(nn.Module):\n",
    "    def __init__(self,n_inputs, n_hidden, n_rnnlayers, n_outputs):\n",
    "        super(SimpleRNN,self).__init__()\n",
    "        self.D = n_inputs\n",
    "        self.M = n_hidden\n",
    "        self.K = n_outputs\n",
    "        self.L = n_rnnlayers\n",
    "        \n",
    "        self.rnn = nn.RNN(\n",
    "            input_size = self.D,\n",
    "            hidden_size = self.M,\n",
    "            num_layers = self.L,\n",
    "            nonlinearity = 'tanh',\n",
    "            batch_first=True\n",
    "        )\n",
    "        self.fc = nn.Linear(self.M, self.K)\n",
    "        \n",
    "    def forward(self, X):\n",
    "        h0 = torch.zeros(self.L, X.size(0), self.M)\n",
    "        \n",
    "        out,_ = self.rnn(X, h0)\n",
    "        \n",
    "#         out = self.fc(out[:, -1, :])\n",
    "        out = self.fc(out)\n",
    "        return out"
   ]
  },
  {
   "cell_type": "markdown",
   "id": "68af455b",
   "metadata": {},
   "source": [
    "### Create data"
   ]
  },
  {
   "cell_type": "code",
   "execution_count": 39,
   "id": "b1fe0610",
   "metadata": {},
   "outputs": [],
   "source": [
    "N=1\n",
    "T=10\n",
    "D=3\n",
    "M=5\n",
    "K=2\n",
    "L=1\n",
    "\n",
    "X = np.random.randn(N,T,D)"
   ]
  },
  {
   "cell_type": "code",
   "execution_count": 40,
   "id": "8521b373",
   "metadata": {},
   "outputs": [
    {
     "data": {
      "text/plain": [
       "(1, 10, 3)"
      ]
     },
     "execution_count": 40,
     "metadata": {},
     "output_type": "execute_result"
    }
   ],
   "source": [
    "X.shape"
   ]
  },
  {
   "cell_type": "markdown",
   "id": "0e97f28d",
   "metadata": {},
   "source": [
    "### Create and train model"
   ]
  },
  {
   "cell_type": "code",
   "execution_count": 41,
   "id": "97f7d24e",
   "metadata": {},
   "outputs": [],
   "source": [
    "model = SimpleRNN(n_inputs=D, n_hidden=M, n_rnnlayers=L, n_outputs=K)\n",
    "    \n",
    "inputs = torch.from_numpy(X.astype(np.float32))\n",
    "out = model(inputs)"
   ]
  },
  {
   "cell_type": "code",
   "execution_count": 42,
   "id": "258af789",
   "metadata": {},
   "outputs": [
    {
     "data": {
      "text/plain": [
       "torch.Size([1, 10, 2])"
      ]
     },
     "execution_count": 42,
     "metadata": {},
     "output_type": "execute_result"
    }
   ],
   "source": [
    "out.shape"
   ]
  },
  {
   "cell_type": "code",
   "execution_count": 43,
   "id": "ddee8b22",
   "metadata": {},
   "outputs": [],
   "source": [
    "# out"
   ]
  },
  {
   "cell_type": "code",
   "execution_count": 44,
   "id": "ecb3235a",
   "metadata": {},
   "outputs": [],
   "source": [
    "Yhats_torch = out.detach().numpy()"
   ]
  },
  {
   "cell_type": "code",
   "execution_count": 45,
   "id": "3b4b7106",
   "metadata": {},
   "outputs": [
    {
     "data": {
      "text/plain": [
       "array([[[ 0.37914371,  0.45375326],\n",
       "        [ 0.24274841, -0.24644494],\n",
       "        [ 0.2960476 ,  0.0516105 ],\n",
       "        [ 0.48041022,  0.34107348],\n",
       "        [ 0.3452308 ,  0.34777388],\n",
       "        [ 0.2709691 , -0.17157316],\n",
       "        [ 0.39632678,  0.18019316],\n",
       "        [ 0.21948442, -0.12511605],\n",
       "        [ 0.18743178, -0.35153332],\n",
       "        [ 0.26475424,  0.21748504]]], dtype=float32)"
      ]
     },
     "execution_count": 45,
     "metadata": {},
     "output_type": "execute_result"
    }
   ],
   "source": [
    "Yhats_torch"
   ]
  },
  {
   "cell_type": "code",
   "execution_count": 46,
   "id": "7ffe5ea2",
   "metadata": {},
   "outputs": [],
   "source": [
    "W_xh, W_hh, b_xh, b_hh = model.rnn.parameters()"
   ]
  },
  {
   "cell_type": "code",
   "execution_count": 47,
   "id": "cccd0744",
   "metadata": {},
   "outputs": [],
   "source": [
    "Wo, bo = model.fc.parameters()"
   ]
  },
  {
   "cell_type": "code",
   "execution_count": 48,
   "id": "4f12b37f",
   "metadata": {},
   "outputs": [
    {
     "data": {
      "text/plain": [
       "torch.Size([5, 3])"
      ]
     },
     "execution_count": 48,
     "metadata": {},
     "output_type": "execute_result"
    }
   ],
   "source": [
    "W_xh.shape"
   ]
  },
  {
   "cell_type": "code",
   "execution_count": 49,
   "id": "040031f4",
   "metadata": {},
   "outputs": [
    {
     "data": {
      "text/plain": [
       "Parameter containing:\n",
       "tensor([[-0.3127, -0.1878, -0.3873],\n",
       "        [-0.1836, -0.3284,  0.3695],\n",
       "        [ 0.3084,  0.0173,  0.1247],\n",
       "        [-0.1339, -0.3704, -0.3500],\n",
       "        [ 0.2168, -0.1162, -0.1928]], requires_grad=True)"
      ]
     },
     "execution_count": 49,
     "metadata": {},
     "output_type": "execute_result"
    }
   ],
   "source": [
    "W_xh"
   ]
  },
  {
   "cell_type": "code",
   "execution_count": 50,
   "id": "3487b6b9",
   "metadata": {},
   "outputs": [],
   "source": [
    "W_xh = W_xh.data.numpy()\n",
    "W_hh = W_hh.data.numpy()\n",
    "b_xh = b_xh.data.numpy()\n",
    "b_hh = b_hh.data.numpy()\n",
    "\n",
    "Wo = Wo.data.numpy()\n",
    "bo = bo.data.numpy()\n"
   ]
  },
  {
   "cell_type": "code",
   "execution_count": 51,
   "id": "053f55ca",
   "metadata": {},
   "outputs": [
    {
     "data": {
      "text/plain": [
       "((5, 3), (5, 5), (5,), (5,), (2, 5), (2,))"
      ]
     },
     "execution_count": 51,
     "metadata": {},
     "output_type": "execute_result"
    }
   ],
   "source": [
    "W_xh.shape, W_hh.shape, b_xh.shape, b_hh.shape, Wo.shape, bo.shape"
   ]
  },
  {
   "cell_type": "code",
   "execution_count": 52,
   "id": "fede6b1d",
   "metadata": {},
   "outputs": [
    {
     "name": "stdout",
     "output_type": "stream",
     "text": [
      "[[ 0.37914368  0.45375327]\n",
      " [ 0.24274842 -0.24644494]\n",
      " [ 0.29604762  0.05161049]\n",
      " [ 0.48041021  0.3410735 ]\n",
      " [ 0.3452308   0.34777389]\n",
      " [ 0.2709691  -0.17157314]\n",
      " [ 0.39632677  0.18019319]\n",
      " [ 0.21948441 -0.12511606]\n",
      " [ 0.18743178 -0.35153334]\n",
      " [ 0.26475423  0.21748502]]\n"
     ]
    }
   ],
   "source": [
    "h_last = np.zeros(M)\n",
    "\n",
    "x = X[0]\n",
    "Yhats = np.zeros((T,K))\n",
    "\n",
    "for t in range(T):\n",
    "    h = np.tanh(x[t].dot(W_xh.T)+ b_xh + h_last.dot(W_hh.T)+ b_hh)\n",
    "    y = h.dot(Wo.T) + bo\n",
    "    Yhats[t] = y\n",
    "    \n",
    "    h_last = h\n",
    "print(Yhats)"
   ]
  },
  {
   "cell_type": "code",
   "execution_count": 53,
   "id": "183d6a48",
   "metadata": {},
   "outputs": [
    {
     "data": {
      "text/plain": [
       "True"
      ]
     },
     "execution_count": 53,
     "metadata": {},
     "output_type": "execute_result"
    }
   ],
   "source": [
    "np.allclose(Yhats,Yhats_torch)"
   ]
  },
  {
   "cell_type": "code",
   "execution_count": null,
   "id": "a2cebfdc",
   "metadata": {},
   "outputs": [],
   "source": []
  }
 ],
 "metadata": {
  "kernelspec": {
   "display_name": "Python 3",
   "language": "python",
   "name": "python3"
  },
  "language_info": {
   "codemirror_mode": {
    "name": "ipython",
    "version": 3
   },
   "file_extension": ".py",
   "mimetype": "text/x-python",
   "name": "python",
   "nbconvert_exporter": "python",
   "pygments_lexer": "ipython3",
   "version": "3.7.9"
  }
 },
 "nbformat": 4,
 "nbformat_minor": 5
}
