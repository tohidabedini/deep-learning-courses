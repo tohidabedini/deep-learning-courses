{
 "cells": [
  {
   "cell_type": "markdown",
   "id": "9864388b",
   "metadata": {},
   "source": [
    "### Imports"
   ]
  },
  {
   "cell_type": "code",
   "execution_count": 1,
   "id": "fc52842e",
   "metadata": {},
   "outputs": [],
   "source": [
    "import torch\n",
    "import torch.nn as nn\n",
    "import numpy as np\n",
    "import matplotlib.pyplot as plt\n",
    "\n",
    "%matplotlib inline"
   ]
  },
  {
   "cell_type": "code",
   "execution_count": 2,
   "id": "747c3632",
   "metadata": {},
   "outputs": [],
   "source": [
    "# remember\n",
    "# N = number of samples\n",
    "# T = sequence length\n",
    "# D = number of input features\n",
    "# M = number of input units\n",
    "# K = number of output units"
   ]
  },
  {
   "cell_type": "markdown",
   "id": "1c6000a2",
   "metadata": {},
   "source": [
    "### Functions"
   ]
  },
  {
   "cell_type": "code",
   "execution_count": 3,
   "id": "ddc78e52",
   "metadata": {},
   "outputs": [],
   "source": [
    "class SimpleRNN(nn.Module):\n",
    "    def __init__(self,n_inputs, n_hidden, n_rnnlayers, n_outputs):\n",
    "        super(SimpleRNN,self).__init__()\n",
    "        self.D = n_inputs\n",
    "        self.M = n_hidden\n",
    "        self.K = n_outputs\n",
    "        self.L = n_rnnlayers\n",
    "        \n",
    "        self.rnn = nn.RNN(\n",
    "            input_size = self.D,\n",
    "            hidden_size = self.M,\n",
    "            num_layers = self.L,\n",
    "            nonlinearity = 'tanh',\n",
    "            batch_first=True\n",
    "        )\n",
    "        self.fc = nn.Linear(self.M, self.K)\n",
    "        \n",
    "    def forward(self, X):\n",
    "        h0 = torch.zeros(self.L, X.size(0), self.M)\n",
    "        \n",
    "        out,_ = self.rnn(X, h0)\n",
    "        \n",
    "#         out = self.fc(out[:, -1, :])\n",
    "        out = self.fc(out)\n",
    "        return out"
   ]
  },
  {
   "cell_type": "markdown",
   "id": "68af455b",
   "metadata": {},
   "source": [
    "### Create data"
   ]
  },
  {
   "cell_type": "code",
   "execution_count": 21,
   "id": "b1fe0610",
   "metadata": {},
   "outputs": [],
   "source": [
    "N=1\n",
    "T=10\n",
    "D=7\n",
    "M=30\n",
    "K=7\n",
    "L=1\n",
    "\n",
    "X = np.random.randn(N,T,D)"
   ]
  },
  {
   "cell_type": "code",
   "execution_count": 22,
   "id": "8521b373",
   "metadata": {},
   "outputs": [
    {
     "data": {
      "text/plain": [
       "(1, 10, 7)"
      ]
     },
     "execution_count": 22,
     "metadata": {},
     "output_type": "execute_result"
    }
   ],
   "source": [
    "X.shape"
   ]
  },
  {
   "cell_type": "markdown",
   "id": "0e97f28d",
   "metadata": {},
   "source": [
    "### Create and train model"
   ]
  },
  {
   "cell_type": "code",
   "execution_count": 23,
   "id": "97f7d24e",
   "metadata": {},
   "outputs": [],
   "source": [
    "model = SimpleRNN(n_inputs=D, n_hidden=M, n_rnnlayers=L, n_outputs=K)\n",
    "    \n",
    "inputs = torch.from_numpy(X.astype(np.float32))\n",
    "out = model(inputs)"
   ]
  },
  {
   "cell_type": "code",
   "execution_count": 24,
   "id": "258af789",
   "metadata": {},
   "outputs": [
    {
     "data": {
      "text/plain": [
       "torch.Size([1, 10, 7])"
      ]
     },
     "execution_count": 24,
     "metadata": {},
     "output_type": "execute_result"
    }
   ],
   "source": [
    "out.shape"
   ]
  },
  {
   "cell_type": "code",
   "execution_count": 25,
   "id": "ddee8b22",
   "metadata": {},
   "outputs": [],
   "source": [
    "# out"
   ]
  },
  {
   "cell_type": "code",
   "execution_count": 26,
   "id": "ecb3235a",
   "metadata": {},
   "outputs": [],
   "source": [
    "Yhats_torch = out.detach().numpy()"
   ]
  },
  {
   "cell_type": "code",
   "execution_count": 27,
   "id": "3b4b7106",
   "metadata": {},
   "outputs": [
    {
     "data": {
      "text/plain": [
       "array([[[-0.23914573, -0.00561276,  0.27054527,  0.6078329 ,\n",
       "          0.255951  , -0.02782328,  0.39205444],\n",
       "        [ 0.05487784,  0.431114  ,  0.34497124,  0.3886513 ,\n",
       "          0.16479775, -0.24054877, -0.01547538],\n",
       "        [-0.02050099,  0.30601448,  0.34104246,  0.30659038,\n",
       "          0.29468   ,  0.13449825,  0.09009729],\n",
       "        [ 0.1727648 ,  0.30750796,  0.02667528,  0.00740698,\n",
       "          0.04949115,  0.32272577, -0.17799291],\n",
       "        [-0.4581695 ,  0.16674955,  0.35903767,  0.38640803,\n",
       "          0.4121445 ,  0.3173287 ,  0.23487648],\n",
       "        [-0.24155822,  0.2632517 ,  0.2728587 ,  0.2666041 ,\n",
       "          0.27923316,  0.37510353,  0.14208375],\n",
       "        [-0.05837795,  0.1799213 ,  0.3014036 , -0.12022686,\n",
       "          0.21474952,  0.23753487,  0.2382418 ],\n",
       "        [ 0.31464928, -0.36120874,  0.04347937, -0.20549104,\n",
       "         -0.19457723,  0.07116429,  0.48618156],\n",
       "        [ 0.18523552,  0.04194547,  0.11283469, -0.08910662,\n",
       "         -0.12034521, -0.22207288,  0.31435058],\n",
       "        [ 0.20495102,  0.00465597,  0.02588998,  0.01049995,\n",
       "          0.09764154,  0.14536113,  0.09077451]]], dtype=float32)"
      ]
     },
     "execution_count": 27,
     "metadata": {},
     "output_type": "execute_result"
    }
   ],
   "source": [
    "Yhats_torch"
   ]
  },
  {
   "cell_type": "code",
   "execution_count": 28,
   "id": "7ffe5ea2",
   "metadata": {},
   "outputs": [],
   "source": [
    "W_xh, W_hh, b_xh, b_hh = model.rnn.parameters()"
   ]
  },
  {
   "cell_type": "code",
   "execution_count": 29,
   "id": "cccd0744",
   "metadata": {},
   "outputs": [],
   "source": [
    "Wo, bo = model.fc.parameters()"
   ]
  },
  {
   "cell_type": "code",
   "execution_count": 30,
   "id": "4f12b37f",
   "metadata": {},
   "outputs": [
    {
     "data": {
      "text/plain": [
       "torch.Size([30, 7])"
      ]
     },
     "execution_count": 30,
     "metadata": {},
     "output_type": "execute_result"
    }
   ],
   "source": [
    "W_xh.shape"
   ]
  },
  {
   "cell_type": "code",
   "execution_count": 31,
   "id": "040031f4",
   "metadata": {},
   "outputs": [
    {
     "data": {
      "text/plain": [
       "Parameter containing:\n",
       "tensor([[-0.1693, -0.0584,  0.1315,  0.1492,  0.1774,  0.0179, -0.0825],\n",
       "        [ 0.0838,  0.1285, -0.0256, -0.1429, -0.1723, -0.0243,  0.1590],\n",
       "        [ 0.0921,  0.1646, -0.1057,  0.1039, -0.0035,  0.1150, -0.0543],\n",
       "        [-0.1292, -0.0429, -0.0068,  0.0958, -0.1379,  0.1303, -0.0438],\n",
       "        [-0.1154, -0.1209,  0.0018, -0.0026, -0.1512, -0.0026, -0.0537],\n",
       "        [-0.1702,  0.1213,  0.1310,  0.1497,  0.0071, -0.1064, -0.1695],\n",
       "        [-0.1366, -0.1477,  0.1425, -0.0587,  0.1581,  0.1487, -0.0217],\n",
       "        [-0.1035, -0.0943,  0.1173, -0.1525,  0.0705,  0.0579,  0.1400],\n",
       "        [ 0.1338, -0.0316, -0.1282,  0.1580, -0.0074,  0.1405, -0.1400],\n",
       "        [-0.1004,  0.0520,  0.0720,  0.0084,  0.0132,  0.0737,  0.1262],\n",
       "        [-0.0939,  0.0527,  0.0434, -0.1265,  0.1596,  0.0971,  0.1022],\n",
       "        [ 0.1368, -0.1394, -0.0703, -0.0129,  0.1570,  0.0897, -0.0517],\n",
       "        [-0.1013, -0.1281,  0.0026,  0.1707,  0.0760,  0.1045, -0.1293],\n",
       "        [ 0.0103, -0.1284, -0.1185,  0.0318,  0.0270,  0.1184, -0.1095],\n",
       "        [-0.1747,  0.1599,  0.1657,  0.0571, -0.0835, -0.1081,  0.0460],\n",
       "        [-0.0636, -0.1022, -0.0235, -0.0432, -0.1204, -0.1734, -0.0890],\n",
       "        [ 0.0332,  0.1765,  0.1035, -0.0758, -0.0357, -0.1095, -0.0103],\n",
       "        [-0.0858, -0.0452,  0.0450,  0.1090,  0.0133,  0.0687, -0.0143],\n",
       "        [-0.0845,  0.1379, -0.1243, -0.0274, -0.1488,  0.1199, -0.0606],\n",
       "        [-0.0685, -0.1791, -0.0393, -0.0438,  0.0424, -0.1548,  0.1758],\n",
       "        [-0.0148, -0.1256, -0.0439, -0.0012, -0.1708,  0.1015, -0.1794],\n",
       "        [ 0.0287, -0.1390, -0.0471, -0.1578,  0.1093,  0.1494, -0.1704],\n",
       "        [-0.1581, -0.1403, -0.0685,  0.1692, -0.1536,  0.0305,  0.1625],\n",
       "        [-0.0107, -0.0569, -0.0731,  0.0557, -0.1238, -0.0136,  0.0812],\n",
       "        [ 0.1104, -0.1802, -0.0377, -0.0181,  0.1732, -0.1686, -0.0342],\n",
       "        [ 0.1402,  0.0295, -0.0112,  0.1357, -0.0077, -0.1512,  0.1420],\n",
       "        [ 0.0842, -0.0224, -0.0050,  0.0091, -0.0598, -0.0254, -0.0274],\n",
       "        [ 0.0949, -0.1116, -0.0023, -0.1777, -0.1729, -0.0658, -0.0504],\n",
       "        [ 0.0955,  0.0467, -0.1542, -0.1374, -0.0014,  0.0371, -0.1688],\n",
       "        [-0.0593, -0.1714,  0.0265,  0.1682,  0.0133, -0.0731, -0.1736]],\n",
       "       requires_grad=True)"
      ]
     },
     "execution_count": 31,
     "metadata": {},
     "output_type": "execute_result"
    }
   ],
   "source": [
    "W_xh"
   ]
  },
  {
   "cell_type": "code",
   "execution_count": 32,
   "id": "3487b6b9",
   "metadata": {},
   "outputs": [],
   "source": [
    "W_xh = W_xh.data.numpy()\n",
    "W_hh = W_hh.data.numpy()\n",
    "b_xh = b_xh.data.numpy()\n",
    "b_hh = b_hh.data.numpy()\n",
    "\n",
    "Wo = Wo.data.numpy()\n",
    "bo = bo.data.numpy()\n"
   ]
  },
  {
   "cell_type": "code",
   "execution_count": 33,
   "id": "053f55ca",
   "metadata": {},
   "outputs": [
    {
     "data": {
      "text/plain": [
       "((30, 7), (30, 30), (30,), (30,), (7, 30), (7,))"
      ]
     },
     "execution_count": 33,
     "metadata": {},
     "output_type": "execute_result"
    }
   ],
   "source": [
    "W_xh.shape, W_hh.shape, b_xh.shape, b_hh.shape, Wo.shape, bo.shape"
   ]
  },
  {
   "cell_type": "code",
   "execution_count": 34,
   "id": "fede6b1d",
   "metadata": {},
   "outputs": [
    {
     "name": "stdout",
     "output_type": "stream",
     "text": [
      "[[-0.23914574 -0.00561275  0.27054528  0.60783289  0.25595098 -0.02782329\n",
      "   0.39205441]\n",
      " [ 0.05487785  0.43111399  0.34497122  0.3886513   0.16479776 -0.24054875\n",
      "  -0.01547537]\n",
      " [-0.020501    0.30601449  0.34104243  0.30659039  0.29468006  0.13449826\n",
      "   0.09009729]\n",
      " [ 0.17276479  0.30750795  0.0266753   0.007407    0.04949116  0.32272579\n",
      "  -0.17799288]\n",
      " [-0.45816947  0.16674956  0.3590377   0.38640803  0.41214451  0.31732871\n",
      "   0.23487646]\n",
      " [-0.24155823  0.26325167  0.27285873  0.26660407  0.27923314  0.37510352\n",
      "   0.14208372]\n",
      " [-0.05837795  0.1799213   0.30140358 -0.12022682  0.2147495   0.23753485\n",
      "   0.23824182]\n",
      " [ 0.31464929 -0.36120873  0.0434794  -0.20549106 -0.19457724  0.07116428\n",
      "   0.48618155]\n",
      " [ 0.18523554  0.04194546  0.11283467 -0.08910665 -0.1203452  -0.22207288\n",
      "   0.31435056]\n",
      " [ 0.20495101  0.00465598  0.02589001  0.01049995  0.09764157  0.14536115\n",
      "   0.09077454]]\n"
     ]
    }
   ],
   "source": [
    "h_last = np.zeros(M)\n",
    "\n",
    "x = X[0]\n",
    "Yhats = np.zeros((T,K))\n",
    "\n",
    "for t in range(T):\n",
    "    h = np.tanh(x[t].dot(W_xh.T)+ b_xh + h_last.dot(W_hh.T)+ b_hh)\n",
    "    y = h.dot(Wo.T) + bo\n",
    "    Yhats[t] = y\n",
    "    \n",
    "    h_last = h\n",
    "print(Yhats)"
   ]
  },
  {
   "cell_type": "code",
   "execution_count": 35,
   "id": "183d6a48",
   "metadata": {},
   "outputs": [
    {
     "data": {
      "text/plain": [
       "True"
      ]
     },
     "execution_count": 35,
     "metadata": {},
     "output_type": "execute_result"
    }
   ],
   "source": [
    "np.allclose(Yhats,Yhats_torch)"
   ]
  },
  {
   "cell_type": "code",
   "execution_count": null,
   "id": "a2cebfdc",
   "metadata": {},
   "outputs": [],
   "source": []
  }
 ],
 "metadata": {
  "kernelspec": {
   "display_name": "Python 3",
   "language": "python",
   "name": "python3"
  },
  "language_info": {
   "codemirror_mode": {
    "name": "ipython",
    "version": 3
   },
   "file_extension": ".py",
   "mimetype": "text/x-python",
   "name": "python",
   "nbconvert_exporter": "python",
   "pygments_lexer": "ipython3",
   "version": "3.7.9"
  }
 },
 "nbformat": 4,
 "nbformat_minor": 5
}
