{
 "cells": [
  {
   "cell_type": "markdown",
   "id": "a69c6b22",
   "metadata": {},
   "source": [
    "### Imports"
   ]
  },
  {
   "cell_type": "code",
   "execution_count": 2,
   "id": "3ba8d0dd",
   "metadata": {},
   "outputs": [],
   "source": [
    "import torch\n",
    "import torch.nn as nn\n",
    "import torchvision\n",
    "import torchvision.transforms as transforms\n",
    "import numpy as np\n",
    "import matplotlib.pyplot as plt\n",
    "\n",
    "from sklearn.datasets import load_breast_cancer\n",
    "from sklearn.model_selection import train_test_split\n",
    "from sklearn.preprocessing import StandardScaler\n",
    "from sklearn.metrics import classification_report\n",
    "from sklearn.metrics import confusion_matrix#,plot_confusion_matrix\n",
    "from sklearn import metrics\n",
    "import itertools\n",
    "\n",
    "%matplotlib inline"
   ]
  },
  {
   "cell_type": "markdown",
   "id": "a0fab30d",
   "metadata": {},
   "source": [
    "### Functions"
   ]
  },
  {
   "cell_type": "code",
   "execution_count": 3,
   "id": "76e3de18",
   "metadata": {},
   "outputs": [],
   "source": [
    "def dataloader_batch(train_dataset,test_dataset,batch_size=128):\n",
    "    train_loader = torch.utils.data.DataLoader(dataset=train_dataset,batch_size=batch_size,shuffle=True)\n",
    "    # to prevent unwanted correlation in train_data we shuffle train data\n",
    "    test_loader  = torch.utils.data.DataLoader(dataset=test_dataset,batch_size=batch_size,shuffle=False)\n",
    "    return train_loader,test_loader\n",
    "    \n",
    "\n",
    "def create_model_and_train(train_dataset,test_dataset,n_epochs=10):\n",
    "    \n",
    "    model = nn.Sequential(\n",
    "        nn.Linear(784,128),\n",
    "        nn.ReLU(),\n",
    "        nn.Linear(128,10),\n",
    "        )\n",
    "    device = torch.device(\"cuda:0\" if torch.cuda.is_available() else \"cpu\")\n",
    "    model.to(device)\n",
    "    \n",
    "    criterion = nn.CrossEntropyLoss()\n",
    "    optimizer = torch.optim.Adam(model.parameters())\n",
    "    \n",
    "    train_loader,test_loader = dataloader_batch(train_dataset,test_dataset,batch_size=128)\n",
    "\n",
    "    train_losses = np.zeros(n_epochs)\n",
    "    test_losses = np.zeros(n_epochs)\n",
    "\n",
    "#     train_accs = np.zeros(n_epochs)\n",
    "#     test_accs = np.zeros(n_epochs)\n",
    "    \n",
    "    \n",
    "    for it in range(n_epochs):\n",
    "        train_loss=[]\n",
    "        for inputs,targets in train_loader:\n",
    "            inputs,targets = inputs.to(device), targets.to(device)\n",
    "            inputs = inputs.view(-1,784)\n",
    "#             print(inputs.shape)\n",
    "            \n",
    "            optimizer.zero_grad()\n",
    "            outputs = model(inputs)\n",
    "        \n",
    "            loss = criterion(outputs, targets)\n",
    "\n",
    "            loss.backward()\n",
    "            optimizer.step()\n",
    "            \n",
    "            train_loss.append(loss.item())\n",
    "            \n",
    "        train_loss = np.mean(train_loss)\n",
    "        train_losses[it]=train_loss\n",
    "\n",
    "        \n",
    "        #test\n",
    "        test_loss=[]\n",
    "        for inputs,targets in test_loader:\n",
    "            inputs,targets = inputs.to(device), targets.to(device)\n",
    "            inputs = inputs.view(-1,784)\n",
    "            outputs = model(inputs)\n",
    "            loss = criterion(outputs, targets)\n",
    "            test_loss.append(loss.item())\n",
    "            \n",
    "        test_loss = np.mean(test_loss)\n",
    "        test_losses[it]=test_loss\n",
    "        \n",
    "#         train_accs[it]= model_result_printer(model,targets,predict_model(model,outputs,mode=1,logit=logit),usage=\"in\",metrics_lists=[metrics.accuracy_score])[0]\n",
    "#         test_accs[it] = model_result_printer(model,test_targets,predict_model(model,test_outputs,mode=1,logit=logit),usage=\"in\",metrics_lists=[metrics.accuracy_score])[0]\n",
    "        \n",
    "        \n",
    "        if it%1==0:\n",
    "            print(\"{:20}\".format(f\"epoch {it+1}/{n_epochs}, Train Loss: {loss.item():.4f}, Test Loss: {test_loss.item():.4f}\"))\n",
    "\n",
    "    return model ,device, train_losses, test_losses, train_loader, test_loader#, train_accs, test_accs\n",
    "\n",
    "\n",
    "def plot_test_and_train_metric(train, test, metric):\n",
    "    plt.plot(train, label=f\"train {metric}\")\n",
    "    plt.plot(test, label =f\"test {metric}\")\n",
    "    plt.legend()\n",
    "    plt.show\n",
    "    \n",
    "\n",
    "def acc_compouter(model,device,data_loader):\n",
    "    n_correct=0.\n",
    "    n_total=0.\n",
    "    \n",
    "    for inputs,targets in data_loader:\n",
    "        inputs,targets = inputs.to(device), targets.to(device)\n",
    "        inputs = inputs.view(-1,784)\n",
    "        outputs = model(inputs)\n",
    "        \n",
    "        _,predictions = torch.max(outputs,1)\n",
    "        # 1 is the axis and  _ is the max value that is not needed here\n",
    "        \n",
    "        n_correct += (predictions == targets).sum().item()\n",
    "        # .item() from torch to simple python data type\n",
    "        n_total += targets.shape[0]\n",
    "        \n",
    "    train_acc = n_correct/n_total\n",
    "\n",
    "    return train_acc\n",
    "\n",
    "\n",
    "def predict_model(model,data_loader,dataset,device):\n",
    "    x = dataset.data.numpy()\n",
    "    y = dataset.targets.numpy()\n",
    "    p = np.array([])\n",
    "    for inputs,targets in data_loader:\n",
    "        inputs = inputs.to(device)\n",
    "        inputs = inputs.view(-1,784)\n",
    "        \n",
    "        outputs = model(inputs)\n",
    "        _,predictions = torch.max(outputs,1)\n",
    "        p = np.concatenate((p,predictions.cpu().numpy()))\n",
    "        \n",
    "    return p,y,x\n",
    "\n",
    "def plot_confusion_matrix(cm, classes, normalize=False, title=\"Confusion matrix\", cmap=plt.cm.Blues):\n",
    "    if normalize:\n",
    "        cm=cm.astype(\"float\") / cm.sum(axis=1)[:, np.newaxis]\n",
    "        print(\"Normalized confusion matrix\")\n",
    "    else:\n",
    "        print(\"Confusion matrix, without normalization\")\n",
    "    print(cm)\n",
    "    \n",
    "    plt.imshow(cm, interpolation=\"nearest\",cmap=cmap)\n",
    "    plt.title(title)\n",
    "    plt.colorbar()\n",
    "    \n",
    "    tick_marks = np.arange(len(classes))\n",
    "    plt.xticks(tick_marks, classes, rotation=45)\n",
    "    plt.yticks(tick_marks, classes)\n",
    "    \n",
    "    fmt = \".2f\" if normalize else \"d\"\n",
    "    thresh = cm.max()/2.\n",
    "    \n",
    "    for i,j in itertools.product(range(cm.shape[0]),range(cm.shape[1])):\n",
    "        plt.text(j,i,format(cm[i,j],fmt),\n",
    "                 horizontalalignment=\"center\",\n",
    "                 color=\"white\" if cm[i,j] > thresh else \"black\")\n",
    "    plt.tight_layout()\n",
    "    plt.ylabel(\"True label\")\n",
    "    plt.xlabel(\"Predicted label\")\n",
    "    plt.show()\n",
    "    "
   ]
  },
  {
   "cell_type": "markdown",
   "id": "0dbf15f8",
   "metadata": {},
   "source": [
    "### Load Data"
   ]
  },
  {
   "cell_type": "code",
   "execution_count": 4,
   "id": "afa00a04",
   "metadata": {},
   "outputs": [],
   "source": [
    "train_dataset = torchvision.datasets.MNIST(root=\".\",train=True,transform=transforms.ToTensor(),download=True)"
   ]
  },
  {
   "cell_type": "code",
   "execution_count": 5,
   "id": "757e37b3",
   "metadata": {},
   "outputs": [
    {
     "data": {
      "text/plain": [
       "tensor([[[0, 0, 0,  ..., 0, 0, 0],\n",
       "         [0, 0, 0,  ..., 0, 0, 0],\n",
       "         [0, 0, 0,  ..., 0, 0, 0],\n",
       "         ...,\n",
       "         [0, 0, 0,  ..., 0, 0, 0],\n",
       "         [0, 0, 0,  ..., 0, 0, 0],\n",
       "         [0, 0, 0,  ..., 0, 0, 0]],\n",
       "\n",
       "        [[0, 0, 0,  ..., 0, 0, 0],\n",
       "         [0, 0, 0,  ..., 0, 0, 0],\n",
       "         [0, 0, 0,  ..., 0, 0, 0],\n",
       "         ...,\n",
       "         [0, 0, 0,  ..., 0, 0, 0],\n",
       "         [0, 0, 0,  ..., 0, 0, 0],\n",
       "         [0, 0, 0,  ..., 0, 0, 0]],\n",
       "\n",
       "        [[0, 0, 0,  ..., 0, 0, 0],\n",
       "         [0, 0, 0,  ..., 0, 0, 0],\n",
       "         [0, 0, 0,  ..., 0, 0, 0],\n",
       "         ...,\n",
       "         [0, 0, 0,  ..., 0, 0, 0],\n",
       "         [0, 0, 0,  ..., 0, 0, 0],\n",
       "         [0, 0, 0,  ..., 0, 0, 0]],\n",
       "\n",
       "        ...,\n",
       "\n",
       "        [[0, 0, 0,  ..., 0, 0, 0],\n",
       "         [0, 0, 0,  ..., 0, 0, 0],\n",
       "         [0, 0, 0,  ..., 0, 0, 0],\n",
       "         ...,\n",
       "         [0, 0, 0,  ..., 0, 0, 0],\n",
       "         [0, 0, 0,  ..., 0, 0, 0],\n",
       "         [0, 0, 0,  ..., 0, 0, 0]],\n",
       "\n",
       "        [[0, 0, 0,  ..., 0, 0, 0],\n",
       "         [0, 0, 0,  ..., 0, 0, 0],\n",
       "         [0, 0, 0,  ..., 0, 0, 0],\n",
       "         ...,\n",
       "         [0, 0, 0,  ..., 0, 0, 0],\n",
       "         [0, 0, 0,  ..., 0, 0, 0],\n",
       "         [0, 0, 0,  ..., 0, 0, 0]],\n",
       "\n",
       "        [[0, 0, 0,  ..., 0, 0, 0],\n",
       "         [0, 0, 0,  ..., 0, 0, 0],\n",
       "         [0, 0, 0,  ..., 0, 0, 0],\n",
       "         ...,\n",
       "         [0, 0, 0,  ..., 0, 0, 0],\n",
       "         [0, 0, 0,  ..., 0, 0, 0],\n",
       "         [0, 0, 0,  ..., 0, 0, 0]]], dtype=torch.uint8)"
      ]
     },
     "execution_count": 5,
     "metadata": {},
     "output_type": "execute_result"
    }
   ],
   "source": [
    "train_dataset.data"
   ]
  },
  {
   "cell_type": "code",
   "execution_count": 6,
   "id": "76c159b7",
   "metadata": {},
   "outputs": [
    {
     "data": {
      "text/plain": [
       "tensor(255, dtype=torch.uint8)"
      ]
     },
     "execution_count": 6,
     "metadata": {},
     "output_type": "execute_result"
    }
   ],
   "source": [
    "train_dataset.data.max()"
   ]
  },
  {
   "cell_type": "code",
   "execution_count": 7,
   "id": "6f6be824",
   "metadata": {},
   "outputs": [
    {
     "data": {
      "text/plain": [
       "torch.Size([60000, 28, 28])"
      ]
     },
     "execution_count": 7,
     "metadata": {},
     "output_type": "execute_result"
    }
   ],
   "source": [
    "train_dataset.data.shape"
   ]
  },
  {
   "cell_type": "code",
   "execution_count": 8,
   "id": "42d1c2cc",
   "metadata": {},
   "outputs": [
    {
     "data": {
      "text/plain": [
       "tensor([5, 0, 4,  ..., 5, 6, 8])"
      ]
     },
     "execution_count": 8,
     "metadata": {},
     "output_type": "execute_result"
    }
   ],
   "source": [
    "train_dataset.targets"
   ]
  },
  {
   "cell_type": "code",
   "execution_count": 9,
   "id": "6bbace02",
   "metadata": {},
   "outputs": [],
   "source": [
    "test_dataset = torchvision.datasets.MNIST(root=\".\",train=False,transform=transforms.ToTensor(),download=True)"
   ]
  },
  {
   "cell_type": "code",
   "execution_count": 10,
   "id": "b76222db",
   "metadata": {},
   "outputs": [
    {
     "data": {
      "text/plain": [
       "torch.Size([10000, 28, 28])"
      ]
     },
     "execution_count": 10,
     "metadata": {},
     "output_type": "execute_result"
    }
   ],
   "source": [
    "test_dataset.data.shape"
   ]
  },
  {
   "cell_type": "markdown",
   "id": "01ecebee",
   "metadata": {},
   "source": [
    "### Create model and dataloder (batch)"
   ]
  },
  {
   "cell_type": "code",
   "execution_count": 11,
   "id": "9951265d",
   "metadata": {},
   "outputs": [
    {
     "name": "stdout",
     "output_type": "stream",
     "text": [
      "tensor([[[[0.0000, 0.0000, 0.0000, 0.0000, 0.0000, 0.0000, 0.0000, 0.0000,\n",
      "           0.0000, 0.0000, 0.0000, 0.0000, 0.0000, 0.0000, 0.0000, 0.0000,\n",
      "           0.0000, 0.0000, 0.0000, 0.0000, 0.0000, 0.0000, 0.0000, 0.0000,\n",
      "           0.0000, 0.0000, 0.0000, 0.0000],\n",
      "          [0.0000, 0.0000, 0.0000, 0.0000, 0.0000, 0.0000, 0.0000, 0.0000,\n",
      "           0.0000, 0.0000, 0.0000, 0.0000, 0.0000, 0.0000, 0.0000, 0.0000,\n",
      "           0.0000, 0.0000, 0.0000, 0.0000, 0.0000, 0.0000, 0.0000, 0.0000,\n",
      "           0.0000, 0.0000, 0.0000, 0.0000],\n",
      "          [0.0000, 0.0000, 0.0000, 0.0000, 0.0000, 0.0000, 0.0000, 0.0000,\n",
      "           0.0000, 0.0000, 0.0000, 0.0000, 0.0000, 0.0000, 0.0000, 0.0000,\n",
      "           0.0000, 0.0000, 0.0000, 0.0000, 0.0000, 0.0000, 0.0000, 0.0000,\n",
      "           0.0000, 0.0000, 0.0000, 0.0000],\n",
      "          [0.0000, 0.0000, 0.0000, 0.0000, 0.0000, 0.0000, 0.0000, 0.0000,\n",
      "           0.0000, 0.0471, 0.6667, 0.9961, 0.9961, 0.9961, 1.0000, 0.3725,\n",
      "           0.1137, 0.0000, 0.0000, 0.0000, 0.0000, 0.0000, 0.0000, 0.0000,\n",
      "           0.0000, 0.0000, 0.0000, 0.0000],\n",
      "          [0.0000, 0.0000, 0.0000, 0.0000, 0.0000, 0.0000, 0.0000, 0.0000,\n",
      "           0.0275, 0.6039, 0.9922, 0.9922, 0.9922, 0.9922, 0.9529, 0.9255,\n",
      "           0.2980, 0.0000, 0.0000, 0.0000, 0.0000, 0.0000, 0.0000, 0.0000,\n",
      "           0.0000, 0.0000, 0.0000, 0.0000],\n",
      "          [0.0000, 0.0000, 0.0000, 0.0000, 0.0000, 0.0000, 0.0000, 0.0275,\n",
      "           0.6588, 0.9922, 0.9922, 0.9922, 0.9922, 0.6118, 0.2235, 0.0000,\n",
      "           0.0000, 0.0000, 0.0000, 0.0000, 0.0000, 0.0000, 0.0000, 0.0000,\n",
      "           0.0000, 0.0000, 0.0000, 0.0000],\n",
      "          [0.0000, 0.0000, 0.0000, 0.0000, 0.0000, 0.0000, 0.0000, 0.1490,\n",
      "           0.9922, 0.9922, 0.9922, 0.9922, 0.5647, 0.0235, 0.0000, 0.0000,\n",
      "           0.0000, 0.0000, 0.0000, 0.0000, 0.0000, 0.0000, 0.0000, 0.0000,\n",
      "           0.0000, 0.0000, 0.0000, 0.0000],\n",
      "          [0.0000, 0.0000, 0.0000, 0.0000, 0.0000, 0.0000, 0.1765, 0.8471,\n",
      "           0.9922, 0.9922, 0.9922, 0.8980, 0.2314, 0.0000, 0.0000, 0.0000,\n",
      "           0.0000, 0.0000, 0.0000, 0.0000, 0.0000, 0.0000, 0.0000, 0.0000,\n",
      "           0.0000, 0.0000, 0.0000, 0.0000],\n",
      "          [0.0000, 0.0000, 0.0000, 0.0000, 0.0000, 0.0000, 0.3569, 0.9922,\n",
      "           0.9922, 0.9922, 0.8980, 0.2275, 0.0000, 0.0000, 0.0000, 0.0000,\n",
      "           0.0000, 0.0000, 0.0000, 0.0000, 0.0000, 0.0000, 0.0000, 0.0000,\n",
      "           0.0000, 0.0000, 0.0000, 0.0000],\n",
      "          [0.0000, 0.0000, 0.0000, 0.0000, 0.0000, 0.0000, 0.3569, 0.9922,\n",
      "           0.9922, 0.9922, 0.5059, 0.0000, 0.0000, 0.0000, 0.0000, 0.0000,\n",
      "           0.0000, 0.0000, 0.0000, 0.0000, 0.0000, 0.0000, 0.0000, 0.0000,\n",
      "           0.0000, 0.0000, 0.0000, 0.0000],\n",
      "          [0.0000, 0.0000, 0.0000, 0.0000, 0.0000, 0.0000, 0.3569, 0.9922,\n",
      "           0.9922, 0.9922, 0.5059, 0.0000, 0.0000, 0.0000, 0.0000, 0.0000,\n",
      "           0.0000, 0.0000, 0.0275, 0.2588, 0.2588, 0.2588, 0.2588, 0.2588,\n",
      "           0.0157, 0.0000, 0.0000, 0.0000],\n",
      "          [0.0000, 0.0000, 0.0000, 0.0000, 0.0000, 0.0000, 0.3569, 0.9922,\n",
      "           0.9922, 0.9922, 0.5059, 0.0000, 0.0000, 0.0000, 0.0000, 0.0000,\n",
      "           0.4196, 0.6118, 0.6471, 0.9922, 0.9922, 0.9922, 0.9922, 0.9922,\n",
      "           0.4588, 0.0000, 0.0000, 0.0000],\n",
      "          [0.0000, 0.0000, 0.0000, 0.0000, 0.0000, 0.0000, 0.3569, 0.9922,\n",
      "           0.9922, 0.9490, 0.3451, 0.0000, 0.0000, 0.0000, 0.2000, 0.5294,\n",
      "           0.9843, 0.9922, 0.9922, 0.9922, 0.9922, 0.9922, 0.9922, 0.9922,\n",
      "           0.9843, 0.3412, 0.0000, 0.0000],\n",
      "          [0.0000, 0.0000, 0.0000, 0.0000, 0.0000, 0.0000, 0.7922, 0.9922,\n",
      "           0.9922, 0.8627, 0.0000, 0.0000, 0.0000, 0.2000, 0.8706, 0.9922,\n",
      "           0.9922, 0.9922, 0.9922, 0.9765, 0.9608, 0.9608, 0.9882, 0.9922,\n",
      "           0.9922, 0.3490, 0.0000, 0.0000],\n",
      "          [0.0000, 0.0000, 0.0000, 0.0000, 0.0000, 0.0000, 0.9961, 0.9922,\n",
      "           0.9922, 0.8627, 0.0000, 0.0000, 0.2157, 0.9373, 0.9922, 0.9922,\n",
      "           0.9922, 0.9922, 0.7020, 0.3333, 0.0000, 0.0000, 0.8706, 0.9922,\n",
      "           0.9922, 0.3490, 0.0000, 0.0000],\n",
      "          [0.0000, 0.0000, 0.0000, 0.0000, 0.0000, 0.0000, 0.9961, 0.9922,\n",
      "           0.9922, 0.8627, 0.0510, 0.2235, 0.8784, 0.9922, 0.9922, 0.8980,\n",
      "           0.4588, 0.2549, 0.0667, 0.0000, 0.0000, 0.0510, 0.8824, 0.9922,\n",
      "           0.7137, 0.0902, 0.0000, 0.0000],\n",
      "          [0.0000, 0.0000, 0.0000, 0.0000, 0.0000, 0.0000, 0.7059, 0.9922,\n",
      "           0.9922, 0.9216, 0.7137, 0.9922, 0.9922, 0.9922, 0.7137, 0.0157,\n",
      "           0.0000, 0.0000, 0.0000, 0.0000, 0.0745, 0.7294, 0.9922, 0.9922,\n",
      "           0.0588, 0.0000, 0.0000, 0.0000],\n",
      "          [0.0000, 0.0000, 0.0000, 0.0000, 0.0000, 0.0000, 0.3569, 0.9922,\n",
      "           0.9922, 0.9922, 0.9922, 0.9922, 0.9922, 0.9922, 0.3843, 0.0000,\n",
      "           0.0000, 0.0000, 0.0000, 0.0745, 0.7137, 0.9922, 0.8510, 0.4588,\n",
      "           0.0118, 0.0000, 0.0000, 0.0000],\n",
      "          [0.0000, 0.0000, 0.0000, 0.0000, 0.0000, 0.0000, 0.1725, 0.8431,\n",
      "           0.9922, 0.9922, 0.9922, 0.9922, 0.9922, 0.9922, 0.3843, 0.0000,\n",
      "           0.0000, 0.0000, 0.3882, 0.7294, 0.9922, 0.7216, 0.0627, 0.0000,\n",
      "           0.0000, 0.0000, 0.0000, 0.0000],\n",
      "          [0.0000, 0.0000, 0.0000, 0.0000, 0.0000, 0.0000, 0.0000, 0.5608,\n",
      "           0.9922, 0.9922, 0.9922, 0.9922, 0.9922, 0.9922, 0.9176, 0.8706,\n",
      "           0.8706, 0.8706, 0.9608, 0.8902, 0.2471, 0.0627, 0.0000, 0.0000,\n",
      "           0.0000, 0.0000, 0.0000, 0.0000],\n",
      "          [0.0000, 0.0000, 0.0000, 0.0000, 0.0000, 0.0000, 0.0000, 0.0275,\n",
      "           0.6549, 0.9922, 0.9922, 0.9922, 0.9922, 0.9922, 0.9922, 0.9922,\n",
      "           0.9922, 0.9922, 0.9333, 0.2275, 0.0000, 0.0000, 0.0000, 0.0000,\n",
      "           0.0000, 0.0000, 0.0000, 0.0000],\n",
      "          [0.0000, 0.0000, 0.0000, 0.0000, 0.0000, 0.0000, 0.0000, 0.0000,\n",
      "           0.0275, 0.1451, 0.7020, 0.7020, 0.8627, 0.9922, 0.9922, 0.9922,\n",
      "           0.9922, 0.9922, 0.9843, 0.9333, 0.1765, 0.0000, 0.0000, 0.0000,\n",
      "           0.0000, 0.0000, 0.0000, 0.0000],\n",
      "          [0.0000, 0.0000, 0.0000, 0.0000, 0.0000, 0.0000, 0.0000, 0.0000,\n",
      "           0.0000, 0.0000, 0.0000, 0.0000, 0.1961, 0.3490, 0.3490, 0.5569,\n",
      "           0.9922, 0.9922, 0.9922, 0.9922, 0.1882, 0.0000, 0.0000, 0.0000,\n",
      "           0.0000, 0.0000, 0.0000, 0.0000],\n",
      "          [0.0000, 0.0000, 0.0000, 0.0000, 0.0000, 0.0000, 0.0000, 0.0000,\n",
      "           0.0000, 0.0000, 0.0000, 0.0000, 0.0000, 0.0000, 0.0000, 0.0000,\n",
      "           0.0000, 0.0000, 0.0000, 0.0000, 0.0000, 0.0000, 0.0000, 0.0000,\n",
      "           0.0000, 0.0000, 0.0000, 0.0000],\n",
      "          [0.0000, 0.0000, 0.0000, 0.0000, 0.0000, 0.0000, 0.0000, 0.0000,\n",
      "           0.0000, 0.0000, 0.0000, 0.0000, 0.0000, 0.0000, 0.0000, 0.0000,\n",
      "           0.0000, 0.0000, 0.0000, 0.0000, 0.0000, 0.0000, 0.0000, 0.0000,\n",
      "           0.0000, 0.0000, 0.0000, 0.0000],\n",
      "          [0.0000, 0.0000, 0.0000, 0.0000, 0.0000, 0.0000, 0.0000, 0.0000,\n",
      "           0.0000, 0.0000, 0.0000, 0.0000, 0.0000, 0.0000, 0.0000, 0.0000,\n",
      "           0.0000, 0.0000, 0.0000, 0.0000, 0.0000, 0.0000, 0.0000, 0.0000,\n",
      "           0.0000, 0.0000, 0.0000, 0.0000],\n",
      "          [0.0000, 0.0000, 0.0000, 0.0000, 0.0000, 0.0000, 0.0000, 0.0000,\n",
      "           0.0000, 0.0000, 0.0000, 0.0000, 0.0000, 0.0000, 0.0000, 0.0000,\n",
      "           0.0000, 0.0000, 0.0000, 0.0000, 0.0000, 0.0000, 0.0000, 0.0000,\n",
      "           0.0000, 0.0000, 0.0000, 0.0000],\n",
      "          [0.0000, 0.0000, 0.0000, 0.0000, 0.0000, 0.0000, 0.0000, 0.0000,\n",
      "           0.0000, 0.0000, 0.0000, 0.0000, 0.0000, 0.0000, 0.0000, 0.0000,\n",
      "           0.0000, 0.0000, 0.0000, 0.0000, 0.0000, 0.0000, 0.0000, 0.0000,\n",
      "           0.0000, 0.0000, 0.0000, 0.0000]]]])\n",
      "torch.Size([1, 1, 28, 28])\n",
      "torch.Size([1])\n"
     ]
    }
   ],
   "source": [
    "#check dataloader way of working\n",
    "temp_loader = torch.utils.data.DataLoader(dataset=train_dataset,batch_size=1,shuffle=True)\n",
    "for x,y in temp_loader:\n",
    "    print(x)\n",
    "    print(x.shape)\n",
    "    print(y.shape)\n",
    "    break"
   ]
  },
  {
   "cell_type": "code",
   "execution_count": 12,
   "id": "0fc8e9a1",
   "metadata": {},
   "outputs": [
    {
     "data": {
      "text/plain": [
       "tensor(1.)"
      ]
     },
     "execution_count": 12,
     "metadata": {},
     "output_type": "execute_result"
    }
   ],
   "source": [
    "train_dataset.transform(train_dataset.data.numpy()).max()"
   ]
  },
  {
   "cell_type": "code",
   "execution_count": 13,
   "id": "236790d3",
   "metadata": {
    "scrolled": true
   },
   "outputs": [
    {
     "name": "stdout",
     "output_type": "stream",
     "text": [
      "epoch 1/10, Train Loss: 0.0760, Test Loss: 0.2258\n",
      "epoch 2/10, Train Loss: 0.0469, Test Loss: 0.1624\n",
      "epoch 3/10, Train Loss: 0.0149, Test Loss: 0.1280\n",
      "epoch 4/10, Train Loss: 0.0166, Test Loss: 0.1090\n",
      "epoch 5/10, Train Loss: 0.0138, Test Loss: 0.0967\n",
      "epoch 6/10, Train Loss: 0.0037, Test Loss: 0.0919\n",
      "epoch 7/10, Train Loss: 0.0127, Test Loss: 0.0903\n",
      "epoch 8/10, Train Loss: 0.0080, Test Loss: 0.0776\n",
      "epoch 9/10, Train Loss: 0.0015, Test Loss: 0.0795\n",
      "epoch 10/10, Train Loss: 0.0013, Test Loss: 0.0747\n"
     ]
    }
   ],
   "source": [
    "model ,device ,train_losses, test_losses, train_loader, test_loader = create_model_and_train(train_dataset,test_dataset,n_epochs=10)"
   ]
  },
  {
   "cell_type": "code",
   "execution_count": 14,
   "id": "bf91d17c",
   "metadata": {},
   "outputs": [
    {
     "data": {
      "image/png": "[encoded data removed]",
      "text/plain": [
       "<Figure size 432x288 with 1 Axes>"
      ]
     },
     "metadata": {
      "needs_background": "light"
     },
     "output_type": "display_data"
    }
   ],
   "source": [
    "plot_test_and_train_metric(train_losses, test_losses,\"loss\")"
   ]
  },
  {
   "cell_type": "code",
   "execution_count": 15,
   "id": "6ab0a951",
   "metadata": {},
   "outputs": [
    {
     "name": "stdout",
     "output_type": "stream",
     "text": [
      "train acc: 0.9917166666666667\n",
      "test acc: 0.9772\n"
     ]
    }
   ],
   "source": [
    "train_acc = acc_compouter(model,device,train_loader)\n",
    "print(f\"train acc: {train_acc}\")\n",
    "\n",
    "test_acc = acc_compouter(model,device,test_loader)\n",
    "print(f\"test acc: {test_acc}\")"
   ]
  },
  {
   "cell_type": "code",
   "execution_count": 16,
   "id": "0ea79a72",
   "metadata": {},
   "outputs": [],
   "source": [
    "p_test,y_test,x_test = predict_model(model,test_loader,test_dataset,device)"
   ]
  },
  {
   "cell_type": "code",
   "execution_count": 17,
   "id": "b63c35df",
   "metadata": {},
   "outputs": [
    {
     "name": "stdout",
     "output_type": "stream",
     "text": [
      "Confusion matrix, without normalization\n",
      "[[ 966    0    1    1    0    4    4    1    2    1]\n",
      " [   0 1123    3    2    0    1    2    0    4    0]\n",
      " [   5    1 1004    3    2    0    2    7    8    0]\n",
      " [   1    0    2  985    1    7    0    4    4    6]\n",
      " [   1    0    4    0  957    3    4    2    1   10]\n",
      " [   2    0    0    6    1  876    5    1    0    1]\n",
      " [   6    3    1    1    4    3  936    2    2    0]\n",
      " [   0    4   10    2    0    0    0 1003    3    6]\n",
      " [   5    1    4    4    4    7    3    4  936    6]\n",
      " [   1    3    0    4    6    2    1    4    2  986]]\n"
     ]
    },
    {
     "data": {
      "image/png": "[encoded data removed]",
      "text/plain": [
       "<Figure size 432x288 with 2 Axes>"
      ]
     },
     "metadata": {
      "needs_background": "light"
     },
     "output_type": "display_data"
    }
   ],
   "source": [
    "cm = confusion_matrix(y_test,p_test)\n",
    "plot_confusion_matrix(cm, list(range(10)))"
   ]
  },
  {
   "cell_type": "code",
   "execution_count": 18,
   "id": "63324141",
   "metadata": {},
   "outputs": [
    {
     "data": {
      "image/png": "[encoded data removed]",
      "text/plain": [
       "<Figure size 432x288 with 1 Axes>"
      ]
     },
     "metadata": {
      "needs_background": "light"
     },
     "output_type": "display_data"
    }
   ],
   "source": [
    "misclassified_idx = np.where(p_test!=y_test)[0]\n",
    "i = np.random.choice(misclassified_idx)\n",
    "plt.imshow(x_test[i],cmap=\"gray\")\n",
    "plt.title(\"True label: %s Predicted: %s\" % (y_test[i], int(p_test[i])));"
   ]
  },
  {
   "cell_type": "code",
   "execution_count": null,
   "id": "45f556d1",
   "metadata": {},
   "outputs": [],
   "source": []
  }
 ],
 "metadata": {
  "kernelspec": {
   "display_name": "Python 3",
   "language": "python",
   "name": "python3"
  },
  "language_info": {
   "codemirror_mode": {
    "name": "ipython",
    "version": 3
   },
   "file_extension": ".py",
   "mimetype": "text/x-python",
   "name": "python",
   "nbconvert_exporter": "python",
   "pygments_lexer": "ipython3",
   "version": "3.7.9"
  }
 },
 "nbformat": 4,
 "nbformat_minor": 5
}
