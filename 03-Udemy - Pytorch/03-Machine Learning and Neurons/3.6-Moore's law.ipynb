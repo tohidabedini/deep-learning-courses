{
 "cells": [
  {
   "cell_type": "markdown",
   "id": "a0b3fa70",
   "metadata": {},
   "source": [
    "### Imports"
   ]
  },
  {
   "cell_type": "code",
   "execution_count": 1,
   "id": "2b3231b5",
   "metadata": {},
   "outputs": [],
   "source": [
    "import torch\n",
    "import torch.nn as nn\n",
    "import numpy as np\n",
    "import pandas as pd\n",
    "import matplotlib.pyplot as plt\n",
    "%matplotlib inline"
   ]
  },
  {
   "cell_type": "markdown",
   "id": "4fa6741c",
   "metadata": {},
   "source": [
    "### Functions"
   ]
  },
  {
   "cell_type": "code",
   "execution_count": 2,
   "id": "d810f0f6",
   "metadata": {},
   "outputs": [],
   "source": [
    "def load_data(directory):\n",
    "    data = pd.read_csv(directory,header=None).values\n",
    "    X = data[:,0].reshape(-1,1)\n",
    "    Y = data[:,1].reshape(-1,1)\n",
    "    return X,Y\n",
    "\n",
    "def log_scale(Y):\n",
    "    return np.log(Y)\n",
    "\n",
    "def normalizer(X,Y,cast=True,normal=True):\n",
    "    mx = X.mean()\n",
    "    my = Y.mean()\n",
    "    sx = X.std()\n",
    "    sy = Y.std()\n",
    "    if normal:\n",
    "        X = (X-mx)/sx\n",
    "        Y = (Y-my)/sy\n",
    "    if cast:\n",
    "        X = X.astype(np.float32)\n",
    "        Y = Y.astype(np.float32)\n",
    "        \n",
    "    return X,Y,mx,my,sx,sy\n",
    "\n",
    "def create_model(X,Y,n_epochs,lr=0.01):\n",
    "    model = nn.Linear(1,1)\n",
    "    criterion = nn.MSELoss()\n",
    "    optimizer = torch.optim.SGD(model.parameters(),lr=lr,momentum=0.7)\n",
    "    \n",
    "    inputs = torch.from_numpy(X)\n",
    "    targets = torch.from_numpy(Y)\n",
    "    \n",
    "    losses = []\n",
    "    for it in range(n_epochs):\n",
    "        optimizer.zero_grad()\n",
    "        outputs = model(inputs)\n",
    "        \n",
    "        loss = criterion(outputs, targets)\n",
    "        losses.append(loss.item())\n",
    "        \n",
    "        loss.backward()\n",
    "        optimizer.step()\n",
    "        \n",
    "        print(f\"epoch {it+1}/{n_epochs}, Loss: {loss.item():.4f}\")\n",
    "        \n",
    "    return model ,losses\n",
    "\n",
    "\n",
    "def plot_line_data(model,X,Y):\n",
    "    \n",
    "#     print(type(model(torch.from_numpy(X)).numpy())) \n",
    "# .numpy without detaching does not work\n",
    "    predicted = model(torch.from_numpy(X)).detach().numpy()\n",
    "#     print(type(predicted))\n",
    "    plt.plot(X,Y,\"ro\",label=\"Original Data\")\n",
    "    plt.plot(X,predicted,label=\"Fitted line\",color=\"b\")\n",
    "    plt.legend()\n",
    "    plt.show()\n",
    "    \n",
    "    return predicted\n",
    "\n",
    "def print_model_parameters(model,mode=0):\n",
    "    params = []\n",
    "    if mode==0:\n",
    "        for param in model.parameters():\n",
    "            print(param)\n",
    "\n",
    "        print(\"----------------------------------\")\n",
    "        for name, param in model.named_parameters():\n",
    "            params.append(param.detach().numpy())\n",
    "            print(name,param)\n",
    "    if mode==1:\n",
    "        w = model.weight.data.numpy()\n",
    "        b = model.bias.data.numpy()\n",
    "        params.append(w)\n",
    "        params.append(b)\n",
    "        \n",
    "\n",
    "    return params"
   ]
  },
  {
   "cell_type": "code",
   "execution_count": 3,
   "id": "49c1df48",
   "metadata": {},
   "outputs": [],
   "source": [
    "X,Y = load_data(\"moore.csv\")"
   ]
  },
  {
   "cell_type": "code",
   "execution_count": 4,
   "id": "ef953012",
   "metadata": {},
   "outputs": [
    {
     "data": {
      "image/png": "[encoded data removed]",
      "text/plain": [
       "<Figure size 432x288 with 1 Axes>"
      ]
     },
     "metadata": {
      "needs_background": "light"
     },
     "output_type": "display_data"
    }
   ],
   "source": [
    "plt.scatter(X,Y);"
   ]
  },
  {
   "cell_type": "code",
   "execution_count": 5,
   "id": "b15cb0c6",
   "metadata": {},
   "outputs": [],
   "source": [
    "Y = log_scale(Y)"
   ]
  },
  {
   "cell_type": "code",
   "execution_count": 6,
   "id": "3d15dd3e",
   "metadata": {},
   "outputs": [
    {
     "data": {
      "image/png": "[encoded data removed]",
      "text/plain": [
       "<Figure size 432x288 with 1 Axes>"
      ]
     },
     "metadata": {
      "needs_background": "light"
     },
     "output_type": "display_data"
    }
   ],
   "source": [
    "plt.scatter(X,Y);"
   ]
  },
  {
   "cell_type": "code",
   "execution_count": 7,
   "id": "abe9936d",
   "metadata": {},
   "outputs": [],
   "source": [
    "X,Y,mx,my,sx,sy = normalizer(X,Y,cast=True,normal=True)"
   ]
  },
  {
   "cell_type": "code",
   "execution_count": 8,
   "id": "fb0ccde1",
   "metadata": {},
   "outputs": [],
   "source": [
    "# units will be unimportant"
   ]
  },
  {
   "cell_type": "code",
   "execution_count": 9,
   "id": "504839f6",
   "metadata": {},
   "outputs": [
    {
     "data": {
      "image/png": "[encoded data removed]",
      "text/plain": [
       "<Figure size 432x288 with 1 Axes>"
      ]
     },
     "metadata": {
      "needs_background": "light"
     },
     "output_type": "display_data"
    }
   ],
   "source": [
    "plt.scatter(X,Y);"
   ]
  },
  {
   "cell_type": "code",
   "execution_count": 10,
   "id": "be67773b",
   "metadata": {},
   "outputs": [
    {
     "name": "stdout",
     "output_type": "stream",
     "text": [
      "epoch 1/100, Loss: 0.2214\n",
      "epoch 2/100, Loss: 0.2141\n",
      "epoch 3/100, Loss: 0.2023\n",
      "epoch 4/100, Loss: 0.1879\n",
      "epoch 5/100, Loss: 0.1726\n",
      "epoch 6/100, Loss: 0.1572\n",
      "epoch 7/100, Loss: 0.1425\n",
      "epoch 8/100, Loss: 0.1289\n",
      "epoch 9/100, Loss: 0.1165\n",
      "epoch 10/100, Loss: 0.1055\n",
      "epoch 11/100, Loss: 0.0957\n",
      "epoch 12/100, Loss: 0.0872\n",
      "epoch 13/100, Loss: 0.0799\n",
      "epoch 14/100, Loss: 0.0735\n",
      "epoch 15/100, Loss: 0.0681\n",
      "epoch 16/100, Loss: 0.0635\n",
      "epoch 17/100, Loss: 0.0596\n",
      "epoch 18/100, Loss: 0.0562\n",
      "epoch 19/100, Loss: 0.0534\n",
      "epoch 20/100, Loss: 0.0510\n",
      "epoch 21/100, Loss: 0.0490\n",
      "epoch 22/100, Loss: 0.0473\n",
      "epoch 23/100, Loss: 0.0459\n",
      "epoch 24/100, Loss: 0.0447\n",
      "epoch 25/100, Loss: 0.0437\n",
      "epoch 26/100, Loss: 0.0428\n",
      "epoch 27/100, Loss: 0.0421\n",
      "epoch 28/100, Loss: 0.0415\n",
      "epoch 29/100, Loss: 0.0410\n",
      "epoch 30/100, Loss: 0.0406\n",
      "epoch 31/100, Loss: 0.0403\n",
      "epoch 32/100, Loss: 0.0400\n",
      "epoch 33/100, Loss: 0.0397\n",
      "epoch 34/100, Loss: 0.0395\n",
      "epoch 35/100, Loss: 0.0394\n",
      "epoch 36/100, Loss: 0.0392\n",
      "epoch 37/100, Loss: 0.0391\n",
      "epoch 38/100, Loss: 0.0390\n",
      "epoch 39/100, Loss: 0.0389\n",
      "epoch 40/100, Loss: 0.0388\n",
      "epoch 41/100, Loss: 0.0388\n",
      "epoch 42/100, Loss: 0.0387\n",
      "epoch 43/100, Loss: 0.0387\n",
      "epoch 44/100, Loss: 0.0387\n",
      "epoch 45/100, Loss: 0.0386\n",
      "epoch 46/100, Loss: 0.0386\n",
      "epoch 47/100, Loss: 0.0386\n",
      "epoch 48/100, Loss: 0.0386\n",
      "epoch 49/100, Loss: 0.0386\n",
      "epoch 50/100, Loss: 0.0385\n",
      "epoch 51/100, Loss: 0.0385\n",
      "epoch 52/100, Loss: 0.0385\n",
      "epoch 53/100, Loss: 0.0385\n",
      "epoch 54/100, Loss: 0.0385\n",
      "epoch 55/100, Loss: 0.0385\n",
      "epoch 56/100, Loss: 0.0385\n",
      "epoch 57/100, Loss: 0.0385\n",
      "epoch 58/100, Loss: 0.0385\n",
      "epoch 59/100, Loss: 0.0385\n",
      "epoch 60/100, Loss: 0.0385\n",
      "epoch 61/100, Loss: 0.0385\n",
      "epoch 62/100, Loss: 0.0385\n",
      "epoch 63/100, Loss: 0.0385\n",
      "epoch 64/100, Loss: 0.0385\n",
      "epoch 65/100, Loss: 0.0385\n",
      "epoch 66/100, Loss: 0.0385\n",
      "epoch 67/100, Loss: 0.0385\n",
      "epoch 68/100, Loss: 0.0385\n",
      "epoch 69/100, Loss: 0.0385\n",
      "epoch 70/100, Loss: 0.0385\n",
      "epoch 71/100, Loss: 0.0385\n",
      "epoch 72/100, Loss: 0.0385\n",
      "epoch 73/100, Loss: 0.0385\n",
      "epoch 74/100, Loss: 0.0385\n",
      "epoch 75/100, Loss: 0.0385\n",
      "epoch 76/100, Loss: 0.0385\n",
      "epoch 77/100, Loss: 0.0385\n",
      "epoch 78/100, Loss: 0.0385\n",
      "epoch 79/100, Loss: 0.0385\n",
      "epoch 80/100, Loss: 0.0385\n",
      "epoch 81/100, Loss: 0.0385\n",
      "epoch 82/100, Loss: 0.0385\n",
      "epoch 83/100, Loss: 0.0385\n",
      "epoch 84/100, Loss: 0.0385\n",
      "epoch 85/100, Loss: 0.0385\n",
      "epoch 86/100, Loss: 0.0385\n",
      "epoch 87/100, Loss: 0.0385\n",
      "epoch 88/100, Loss: 0.0385\n",
      "epoch 89/100, Loss: 0.0385\n",
      "epoch 90/100, Loss: 0.0385\n",
      "epoch 91/100, Loss: 0.0385\n",
      "epoch 92/100, Loss: 0.0385\n",
      "epoch 93/100, Loss: 0.0385\n",
      "epoch 94/100, Loss: 0.0385\n",
      "epoch 95/100, Loss: 0.0385\n",
      "epoch 96/100, Loss: 0.0385\n",
      "epoch 97/100, Loss: 0.0385\n",
      "epoch 98/100, Loss: 0.0385\n",
      "epoch 99/100, Loss: 0.0385\n",
      "epoch 100/100, Loss: 0.0385\n"
     ]
    }
   ],
   "source": [
    "# model, losses = create_model(X,Y,100,lr=0.0000001) # if not normalized\n",
    "model, losses = create_model(X,Y,100)"
   ]
  },
  {
   "cell_type": "code",
   "execution_count": 11,
   "id": "86c88973",
   "metadata": {},
   "outputs": [
    {
     "data": {
      "image/png": "[encoded data removed]",
      "text/plain": [
       "<Figure size 432x288 with 1 Axes>"
      ]
     },
     "metadata": {
      "needs_background": "light"
     },
     "output_type": "display_data"
    }
   ],
   "source": [
    "plt.plot(losses);"
   ]
  },
  {
   "cell_type": "code",
   "execution_count": 12,
   "id": "b4b21204",
   "metadata": {},
   "outputs": [
    {
     "data": {
      "image/png": "[encoded data removed]",
      "text/plain": [
       "<Figure size 432x288 with 1 Axes>"
      ]
     },
     "metadata": {
      "needs_background": "light"
     },
     "output_type": "display_data"
    }
   ],
   "source": [
    "predicted = plot_line_data(model,X,Y)"
   ]
  },
  {
   "cell_type": "code",
   "execution_count": 13,
   "id": "aeabe43f",
   "metadata": {},
   "outputs": [],
   "source": [
    "params = print_model_parameters(model,1)"
   ]
  },
  {
   "cell_type": "code",
   "execution_count": 14,
   "id": "17ec80c0",
   "metadata": {},
   "outputs": [
    {
     "data": {
      "text/plain": [
       "[array([[0.98048896]], dtype=float32), array([-1.5894268e-05], dtype=float32)]"
      ]
     },
     "execution_count": 14,
     "metadata": {},
     "output_type": "execute_result"
    }
   ],
   "source": [
    "params"
   ]
  },
  {
   "cell_type": "markdown",
   "id": "75a21124",
   "metadata": {},
   "source": [
    "### Inverse transform of data"
   ]
  },
  {
   "cell_type": "code",
   "execution_count": 15,
   "id": "903b771f",
   "metadata": {},
   "outputs": [],
   "source": [
    "# a = w * (Sy/Sx)"
   ]
  },
  {
   "cell_type": "code",
   "execution_count": 16,
   "id": "bc4f5736",
   "metadata": {},
   "outputs": [],
   "source": [
    "a = params[0][0,0] * sy/sx"
   ]
  },
  {
   "cell_type": "code",
   "execution_count": 17,
   "id": "8e36268f",
   "metadata": {},
   "outputs": [
    {
     "data": {
      "text/plain": [
       "0.3416538560511331"
      ]
     },
     "execution_count": 17,
     "metadata": {},
     "output_type": "execute_result"
    }
   ],
   "source": [
    "a"
   ]
  },
  {
   "cell_type": "markdown",
   "id": "3d00c7f5",
   "metadata": {},
   "source": [
    "### Exponential Growth Model"
   ]
  },
  {
   "cell_type": "code",
   "execution_count": 18,
   "id": "482c1a89",
   "metadata": {},
   "outputs": [
    {
     "name": "stdout",
     "output_type": "stream",
     "text": [
      "2.028799524089687\n"
     ]
    }
   ],
   "source": [
    "# n* time = log(n) / a\n",
    "double_time = np.log(2)/a\n",
    "print(double_time)"
   ]
  },
  {
   "cell_type": "code",
   "execution_count": null,
   "id": "0869be53",
   "metadata": {},
   "outputs": [],
   "source": []
  }
 ],
 "metadata": {
  "kernelspec": {
   "display_name": "Python 3",
   "language": "python",
   "name": "python3"
  },
  "language_info": {
   "codemirror_mode": {
    "name": "ipython",
    "version": 3
   },
   "file_extension": ".py",
   "mimetype": "text/x-python",
   "name": "python",
   "nbconvert_exporter": "python",
   "pygments_lexer": "ipython3",
   "version": "3.7.9"
  }
 },
 "nbformat": 4,
 "nbformat_minor": 5
}
