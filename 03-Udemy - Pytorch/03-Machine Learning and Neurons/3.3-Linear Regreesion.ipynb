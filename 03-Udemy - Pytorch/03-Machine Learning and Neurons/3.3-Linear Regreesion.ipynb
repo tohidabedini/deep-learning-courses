{
 "cells": [
  {
   "cell_type": "code",
   "execution_count": 5,
   "id": "32a2bc5d",
   "metadata": {},
   "outputs": [],
   "source": [
    "import torch\n",
    "import torch.nn as nn\n",
    "import numpy as np\n",
    "import matplotlib.pyplot as plt\n",
    "%matplotlib inline"
   ]
  },
  {
   "cell_type": "code",
   "execution_count": 12,
   "id": "c8cbd4ea",
   "metadata": {},
   "outputs": [],
   "source": [
    "N = 20\n",
    "X = np.random.random(N)*10 - 5  # uniform random\n",
    "Y = 0.5 * X - 1 + np.random.randn(N)*(0.7) # normal gaussian"
   ]
  },
  {
   "cell_type": "code",
   "execution_count": 13,
   "id": "c2e86e3d",
   "metadata": {},
   "outputs": [
    {
     "data": {
      "image/png": "[encoded data removed]",
      "text/plain": [
       "<Figure size 432x288 with 1 Axes>"
      ]
     },
     "metadata": {
      "needs_background": "light"
     },
     "output_type": "display_data"
    }
   ],
   "source": [
    "plt.scatter(X,Y);"
   ]
  },
  {
   "cell_type": "code",
   "execution_count": 63,
   "id": "a377c2bb",
   "metadata": {},
   "outputs": [],
   "source": [
    "def create_model(X,Y,N,n_epochs):\n",
    "    model = nn.Linear(1,1)\n",
    "    criterion = nn.MSELoss()\n",
    "    optimizer = torch.optim.SGD(model.parameters(), lr=0.1)\n",
    "    X = X.reshape(N,1)\n",
    "    Y = Y.reshape(N,1)\n",
    "    # torch 32 default and numpy is 64\n",
    "    inputs  = torch.from_numpy(X.astype(np.float32))\n",
    "    targets = torch.from_numpy(Y.astype(np.float32))\n",
    "    \n",
    "    \n",
    "    losses = []\n",
    "    for it in range(n_epochs):\n",
    "        optimizer.zero_grad()\n",
    "        outputs = model(inputs)\n",
    "        loss = criterion(outputs, targets)\n",
    "        \n",
    "        losses.append(loss.item())\n",
    "        loss.backward()\n",
    "        optimizer.step()\n",
    "        \n",
    "        print(f\"Epoch {it+1}/{n_epochs}, Loss: {loss.item():.4f}\")\n",
    "        \n",
    "        \n",
    "    weights = model.weight.data.numpy()\n",
    "    return model ,losses , weights"
   ]
  },
  {
   "cell_type": "code",
   "execution_count": 64,
   "id": "2a8832b5",
   "metadata": {},
   "outputs": [
    {
     "name": "stdout",
     "output_type": "stream",
     "text": [
      "Epoch 1/30, Loss: 0.6339\n",
      "Epoch 2/30, Loss: 0.6029\n",
      "Epoch 3/30, Loss: 0.5880\n",
      "Epoch 4/30, Loss: 0.5808\n",
      "Epoch 5/30, Loss: 0.5772\n",
      "Epoch 6/30, Loss: 0.5754\n",
      "Epoch 7/30, Loss: 0.5745\n",
      "Epoch 8/30, Loss: 0.5740\n",
      "Epoch 9/30, Loss: 0.5737\n",
      "Epoch 10/30, Loss: 0.5736\n",
      "Epoch 11/30, Loss: 0.5735\n",
      "Epoch 12/30, Loss: 0.5734\n",
      "Epoch 13/30, Loss: 0.5734\n",
      "Epoch 14/30, Loss: 0.5734\n",
      "Epoch 15/30, Loss: 0.5734\n",
      "Epoch 16/30, Loss: 0.5734\n",
      "Epoch 17/30, Loss: 0.5734\n",
      "Epoch 18/30, Loss: 0.5734\n",
      "Epoch 19/30, Loss: 0.5734\n",
      "Epoch 20/30, Loss: 0.5734\n",
      "Epoch 21/30, Loss: 0.5734\n",
      "Epoch 22/30, Loss: 0.5734\n",
      "Epoch 23/30, Loss: 0.5734\n",
      "Epoch 24/30, Loss: 0.5734\n",
      "Epoch 25/30, Loss: 0.5734\n",
      "Epoch 26/30, Loss: 0.5734\n",
      "Epoch 27/30, Loss: 0.5734\n",
      "Epoch 28/30, Loss: 0.5734\n",
      "Epoch 29/30, Loss: 0.5734\n",
      "Epoch 30/30, Loss: 0.5734\n"
     ]
    }
   ],
   "source": [
    "model ,losses , weights = create_model(X,Y,N,30)"
   ]
  },
  {
   "cell_type": "code",
   "execution_count": 65,
   "id": "40d27f7a",
   "metadata": {},
   "outputs": [
    {
     "data": {
      "image/png": "[encoded data removed]",
      "text/plain": [
       "<Figure size 432x288 with 1 Axes>"
      ]
     },
     "metadata": {
      "needs_background": "light"
     },
     "output_type": "display_data"
    }
   ],
   "source": [
    "plt.plot(losses);"
   ]
  },
  {
   "cell_type": "code",
   "execution_count": 83,
   "id": "1238d02d",
   "metadata": {},
   "outputs": [],
   "source": [
    "def plot_line_data(model,X,Y,N,mode=0):\n",
    "    X = X.reshape(N,1)\n",
    "    inputs = torch.from_numpy(X.astype(np.float32))\n",
    "    if mode==0:\n",
    "        predicted = model(inputs).detach().numpy()\n",
    "    # try with this : model(inputs).numpy() or model(inputs)\n",
    "    elif mode==1:\n",
    "        with torch.no_grad():\n",
    "            predicted = model(inputs).numpy()\n",
    "    \n",
    "    plt.scatter(X,Y,label=\"Original Data\")\n",
    "    plt.plot(X,predicted,label=\"Fitted line\",color=\"r\")\n",
    "    plt.legend()\n",
    "    plt.show()\n",
    "    \n",
    "    return predicted"
   ]
  },
  {
   "cell_type": "code",
   "execution_count": 87,
   "id": "1458c0b3",
   "metadata": {},
   "outputs": [
    {
     "data": {
      "image/png": "[encoded data removed]",
      "text/plain": [
       "<Figure size 432x288 with 1 Axes>"
      ]
     },
     "metadata": {
      "needs_background": "light"
     },
     "output_type": "display_data"
    }
   ],
   "source": [
    "predicted = plot_line_data(model,X,Y,N,1)"
   ]
  },
  {
   "cell_type": "code",
   "execution_count": 88,
   "id": "b24f1555",
   "metadata": {},
   "outputs": [
    {
     "data": {
      "text/plain": [
       "array([[-2.5289319e+00],\n",
       "       [-6.5135956e-04],\n",
       "       [ 1.2796206e+00],\n",
       "       [ 9.1746241e-01],\n",
       "       [-1.7497370e+00],\n",
       "       [-2.9628880e+00],\n",
       "       [ 7.3601955e-01],\n",
       "       [-2.0708568e+00],\n",
       "       [-1.1124581e-01],\n",
       "       [-8.9812458e-02],\n",
       "       [-1.3355727e+00],\n",
       "       [-2.0457926e+00],\n",
       "       [-2.2636189e+00],\n",
       "       [-1.8518746e-01],\n",
       "       [-1.2239659e-01],\n",
       "       [-2.1215439e-01],\n",
       "       [-3.0692253e+00],\n",
       "       [-1.4076972e-01],\n",
       "       [ 1.1149814e+00],\n",
       "       [-4.6205097e-01]], dtype=float32)"
      ]
     },
     "execution_count": 88,
     "metadata": {},
     "output_type": "execute_result"
    }
   ],
   "source": [
    "predicted"
   ]
  },
  {
   "cell_type": "code",
   "execution_count": 98,
   "id": "fbb7fbaa",
   "metadata": {},
   "outputs": [
    {
     "name": "stdout",
     "output_type": "stream",
     "text": [
      "[[0.46439603]] [-0.85980004]\n",
      "[0.5] [-1]\n"
     ]
    }
   ],
   "source": [
    "# weight and bias\n",
    "w = model.weight.data.numpy()\n",
    "b = model.bias.data.numpy()\n",
    "\n",
    "print(w,b)\n",
    "print([0.5],[-1])"
   ]
  },
  {
   "cell_type": "code",
   "execution_count": 91,
   "id": "4200e7dc",
   "metadata": {},
   "outputs": [],
   "source": [
    "def print_model_parameters(model):\n",
    "    for param in model.parameters():\n",
    "        print(param)\n",
    "    \n",
    "    print(\"----------------------------------\")\n",
    "    for name, param in model.named_parameters():\n",
    "        print(name,param)"
   ]
  },
  {
   "cell_type": "code",
   "execution_count": 92,
   "id": "45a81e94",
   "metadata": {},
   "outputs": [
    {
     "name": "stdout",
     "output_type": "stream",
     "text": [
      "Parameter containing:\n",
      "tensor([[0.4644]], requires_grad=True)\n",
      "Parameter containing:\n",
      "tensor([-0.8598], requires_grad=True)\n",
      "----------------------------------\n",
      "weight Parameter containing:\n",
      "tensor([[0.4644]], requires_grad=True)\n",
      "bias Parameter containing:\n",
      "tensor([-0.8598], requires_grad=True)\n"
     ]
    }
   ],
   "source": [
    "print_model_parameters(model)\n",
    "# list(model.parameters())[0].data.numpy()"
   ]
  },
  {
   "cell_type": "code",
   "execution_count": 99,
   "id": "2ef0881b",
   "metadata": {},
   "outputs": [],
   "source": [
    "# In order to test the efficiency of our model, synthetic data is useful"
   ]
  }
 ],
 "metadata": {
  "kernelspec": {
   "display_name": "Python 3",
   "language": "python",
   "name": "python3"
  },
  "language_info": {
   "codemirror_mode": {
    "name": "ipython",
    "version": 3
   },
   "file_extension": ".py",
   "mimetype": "text/x-python",
   "name": "python",
   "nbconvert_exporter": "python",
   "pygments_lexer": "ipython3",
   "version": "3.7.9"
  }
 },
 "nbformat": 4,
 "nbformat_minor": 5
}
