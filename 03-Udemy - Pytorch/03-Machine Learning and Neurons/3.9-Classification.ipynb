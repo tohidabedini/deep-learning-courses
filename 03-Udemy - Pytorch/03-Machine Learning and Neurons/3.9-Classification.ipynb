{
 "cells": [
  {
   "cell_type": "markdown",
   "id": "5149fa5c",
   "metadata": {},
   "source": [
    "### Imports"
   ]
  },
  {
   "cell_type": "code",
   "execution_count": 1,
   "id": "a0dc8bde",
   "metadata": {},
   "outputs": [],
   "source": [
    "import torch\n",
    "import torch.nn as nn\n",
    "import numpy as np\n",
    "import matplotlib.pyplot as plt\n",
    "from sklearn.datasets import load_breast_cancer\n",
    "from sklearn.model_selection import train_test_split\n",
    "from sklearn.preprocessing import StandardScaler\n",
    "from sklearn.metrics import classification_report\n",
    "from sklearn.metrics import plot_confusion_matrix\n",
    "from sklearn import metrics\n",
    "\n",
    "%matplotlib inline"
   ]
  },
  {
   "cell_type": "markdown",
   "id": "b15a09c7",
   "metadata": {},
   "source": [
    "### Functions"
   ]
  },
  {
   "cell_type": "code",
   "execution_count": 2,
   "id": "8dd9564f",
   "metadata": {},
   "outputs": [],
   "source": [
    "def to_torch(X,reshape=False):\n",
    "    if reshape: \n",
    "        return torch.from_numpy(X.astype(np.float32).reshape(-1,1))\n",
    "    else:\n",
    "        return torch.from_numpy(X.astype(np.float32))\n",
    "\n",
    "\n",
    "def create_model_and_load(path,logit):\n",
    "    if not logit:\n",
    "        model = nn.Sequential(\n",
    "            nn.Linear(D,1),\n",
    "            nn.Sigmoid()\n",
    "        )\n",
    "    else:\n",
    "        model = nn.Sequential(\n",
    "            nn.Linear(D,1)\n",
    "        )\n",
    "\n",
    "    model.load_state_dict(torch.load(path))\n",
    "    \n",
    "    return model\n",
    "\n",
    "\n",
    "def create_model_and_train(X_train,Y_train,X_test,Y_test,D,logit=False,n_epochs=100):\n",
    "    \n",
    "    if not logit:\n",
    "        model = nn.Sequential(\n",
    "            nn.Linear(D,1),\n",
    "            nn.Sigmoid()\n",
    "        )\n",
    "        criterion = nn.BCELoss()\n",
    "    else:\n",
    "        model = nn.Sequential(\n",
    "            nn.Linear(D,1)\n",
    "        )\n",
    "        criterion = nn.BCEWithLogitsLoss()\n",
    "    optimizer = torch.optim.Adam(model.parameters())\n",
    "    \n",
    "    inputs  = to_torch(X_train,reshape=False)\n",
    "    targets = to_torch(Y_train,reshape=True)\n",
    "    \n",
    "    test_inputs  = to_torch(X_test,reshape=False)\n",
    "    test_targets = to_torch(Y_test,reshape=True)    \n",
    "    \n",
    "    \n",
    "    train_losses = np.zeros(n_epochs)\n",
    "    test_losses = np.zeros(n_epochs)\n",
    "\n",
    "    train_accs = np.zeros(n_epochs)\n",
    "    test_accs = np.zeros(n_epochs)\n",
    "    \n",
    "    \n",
    "    for it in range(n_epochs):\n",
    "        optimizer.zero_grad()\n",
    "        outputs = model(inputs)\n",
    "        \n",
    "        loss = criterion(outputs, targets)\n",
    "        train_losses[it]=loss.item()\n",
    "        \n",
    "        loss.backward()\n",
    "        optimizer.step()\n",
    "        \n",
    "        \n",
    "        #test\n",
    "        test_outputs = model(test_inputs)\n",
    "        test_loss = criterion(test_outputs, test_targets)\n",
    "        test_losses[it]=test_loss.item() \n",
    "        \n",
    "        train_accs[it]= model_result_printer(model,targets,predict_model(model,outputs,mode=1,logit=logit),usage=\"in\",metrics_lists=[metrics.accuracy_score])[0]\n",
    "        test_accs[it] = model_result_printer(model,test_targets,predict_model(model,test_outputs,mode=1,logit=logit),usage=\"in\",metrics_lists=[metrics.accuracy_score])[0]\n",
    "        \n",
    "        \n",
    "        if it%100==0:\n",
    "            print(\"{:20}\".format(f\"epoch {it+1}/{n_epochs}, Train Loss: {loss.item():.4f}, Test Loss: {test_loss.item():.4f}\"))\n",
    "        \n",
    "    return model ,train_losses, test_losses, train_accs, test_accs\n",
    "\n",
    "\n",
    "def plot_test_and_train_metric(train, test, metric):\n",
    "    plt.plot(train, label=f\"train {metric}\")\n",
    "    plt.plot(test, label =f\"test {metric}\")\n",
    "    plt.legend()\n",
    "    plt.show\n",
    "    \n",
    "\n",
    "def predict_model(model,X,mode=0,logit=False):\n",
    "    if mode==0:\n",
    "        if logit:\n",
    "            pred = np.where(model(torch.from_numpy(X).float()).detach().numpy() > 0, 1, 0)   \n",
    "        else:\n",
    "            pred = np.round(model(torch.from_numpy(X).float()).detach().numpy())\n",
    "            \n",
    "    elif mode==1:\n",
    "        if logit:\n",
    "            pred = np.where(X.detach().numpy() > 0, 1, 0)\n",
    "        else:\n",
    "            pred = np.round(X.detach().numpy())\n",
    "        \n",
    "\n",
    "    return pred\n",
    "\n",
    "\n",
    "def model_result_printer(model,y_test,y_pred,usage=\"in\",mode=\"test\",metrics_lists=[metrics.accuracy_score,metrics.f1_score,metrics.precision_score,metrics.recall_score],metric_names=[\"acc\",\"f1\",\"precision\",\"recall\"]):\n",
    "    metric_values = []\n",
    "    if usage==\"out\":\n",
    "        print(f\"-------{mode}-------\")\n",
    "    for metric in range(len(metrics_lists)):\n",
    "        metric_value = metrics_lists[metric](y_test, y_pred)\n",
    "        if usage==\"out\":\n",
    "            print(\"{:20}\".format(\"{}: \".format(metric_names[metric])),metric_value)\n",
    "        elif usage==\"in\":\n",
    "            metric_values.append(metric_value)\n",
    "\n",
    "    if usage==\"in\":       \n",
    "        return metric_values"
   ]
  },
  {
   "cell_type": "markdown",
   "id": "0ea4ea22",
   "metadata": {},
   "source": [
    "### Data loading"
   ]
  },
  {
   "cell_type": "code",
   "execution_count": 3,
   "id": "0cd87d0c",
   "metadata": {},
   "outputs": [
    {
     "name": "stdout",
     "output_type": "stream",
     "text": [
      "<class 'sklearn.utils.Bunch'>\n"
     ]
    }
   ],
   "source": [
    "data = load_breast_cancer()\n",
    "print(type(data))"
   ]
  },
  {
   "cell_type": "code",
   "execution_count": 4,
   "id": "bf97f932",
   "metadata": {},
   "outputs": [
    {
     "name": "stdout",
     "output_type": "stream",
     "text": [
      "dict_keys(['data', 'target', 'frame', 'target_names', 'DESCR', 'feature_names', 'filename'])\n",
      "(569, 30)\n",
      "(569,)\n",
      "['malignant' 'benign']\n",
      "['mean radius' 'mean texture' 'mean perimeter' 'mean area'\n",
      " 'mean smoothness' 'mean compactness' 'mean concavity'\n",
      " 'mean concave points' 'mean symmetry' 'mean fractal dimension'\n",
      " 'radius error' 'texture error' 'perimeter error' 'area error'\n",
      " 'smoothness error' 'compactness error' 'concavity error'\n",
      " 'concave points error' 'symmetry error' 'fractal dimension error'\n",
      " 'worst radius' 'worst texture' 'worst perimeter' 'worst area'\n",
      " 'worst smoothness' 'worst compactness' 'worst concavity'\n",
      " 'worst concave points' 'worst symmetry' 'worst fractal dimension']\n"
     ]
    }
   ],
   "source": [
    "print(data.keys())\n",
    "\n",
    "print(data[\"data\"].shape)\n",
    "print(data.target.shape)\n",
    "\n",
    "print(data.target_names)\n",
    "print(data.feature_names)\n",
    "\n",
    "# or data.data.shape and data.target.shape"
   ]
  },
  {
   "cell_type": "markdown",
   "id": "2c587073",
   "metadata": {},
   "source": [
    "### Train/Test split"
   ]
  },
  {
   "cell_type": "code",
   "execution_count": 5,
   "id": "b39ab0e3",
   "metadata": {},
   "outputs": [],
   "source": [
    "X_train, X_test, y_train, y_test = train_test_split(data.data, data.target, test_size=0.3)\n",
    "\n",
    "N, D = X_train.shape"
   ]
  },
  {
   "cell_type": "markdown",
   "id": "8e1325e7",
   "metadata": {},
   "source": [
    "### Normalization"
   ]
  },
  {
   "cell_type": "code",
   "execution_count": 6,
   "id": "52488af6",
   "metadata": {},
   "outputs": [],
   "source": [
    "scaler = StandardScaler()\n",
    "\n",
    "X_train = scaler.fit_transform(X_train)\n",
    "X_test = scaler.transform(X_test)"
   ]
  },
  {
   "cell_type": "markdown",
   "id": "59a62bdc",
   "metadata": {},
   "source": [
    "### Some plots"
   ]
  },
  {
   "cell_type": "code",
   "execution_count": 7,
   "id": "efb06e94",
   "metadata": {},
   "outputs": [
    {
     "data": {
      "image/png": "[encoded data removed]",
      "text/plain": [
       "<Figure size 432x288 with 1 Axes>"
      ]
     },
     "metadata": {
      "needs_background": "light"
     },
     "output_type": "display_data"
    }
   ],
   "source": [
    "plt.scatter(X_train[:,5],y_train);\n",
    "# print(X_train[:,0])"
   ]
  },
  {
   "cell_type": "markdown",
   "id": "6a4505b7",
   "metadata": {},
   "source": [
    "### Model train & test"
   ]
  },
  {
   "cell_type": "code",
   "execution_count": 16,
   "id": "9d678d93",
   "metadata": {},
   "outputs": [
    {
     "name": "stdout",
     "output_type": "stream",
     "text": [
      "epoch 1/1000, Train Loss: 0.8318, Test Loss: 0.8043\n",
      "epoch 101/1000, Train Loss: 0.3787, Test Loss: 0.3585\n",
      "epoch 201/1000, Train Loss: 0.2541, Test Loss: 0.2477\n",
      "epoch 301/1000, Train Loss: 0.1987, Test Loss: 0.1987\n",
      "epoch 401/1000, Train Loss: 0.1671, Test Loss: 0.1707\n",
      "epoch 501/1000, Train Loss: 0.1466, Test Loss: 0.1524\n",
      "epoch 601/1000, Train Loss: 0.1321, Test Loss: 0.1396\n",
      "epoch 701/1000, Train Loss: 0.1213, Test Loss: 0.1301\n",
      "epoch 801/1000, Train Loss: 0.1130, Test Loss: 0.1227\n",
      "epoch 901/1000, Train Loss: 0.1063, Test Loss: 0.1167\n"
     ]
    }
   ],
   "source": [
    "# loss = logit / simple\n",
    "logit = False\n",
    "model ,train_losses, test_losses , train_accs, test_accs= create_model_and_train(X_train,y_train,X_test,y_test,D,logit=logit,n_epochs=1000)"
   ]
  },
  {
   "cell_type": "code",
   "execution_count": 17,
   "id": "70d059b4",
   "metadata": {},
   "outputs": [
    {
     "data": {
      "image/png": "[encoded data removed]",
      "text/plain": [
       "<Figure size 432x288 with 1 Axes>"
      ]
     },
     "metadata": {
      "needs_background": "light"
     },
     "output_type": "display_data"
    }
   ],
   "source": [
    "plot_test_and_train_metric(train_losses, test_losses,\"loss\")"
   ]
  },
  {
   "cell_type": "code",
   "execution_count": 18,
   "id": "e626bb4a",
   "metadata": {},
   "outputs": [
    {
     "data": {
      "image/png": "[encoded data removed]",
      "text/plain": [
       "<Figure size 432x288 with 1 Axes>"
      ]
     },
     "metadata": {
      "needs_background": "light"
     },
     "output_type": "display_data"
    }
   ],
   "source": [
    "plot_test_and_train_metric(train_accs, test_accs,\"acc\")"
   ]
  },
  {
   "cell_type": "code",
   "execution_count": 19,
   "id": "77f69f33",
   "metadata": {
    "scrolled": true
   },
   "outputs": [
    {
     "name": "stdout",
     "output_type": "stream",
     "text": [
      "-------train-------\n",
      "acc:                 0.9874371859296482\n",
      "f1:                  0.98989898989899\n",
      "precision:           0.9839357429718876\n",
      "recall:              0.9959349593495935\n",
      "-------test-------\n",
      "acc:                 0.9649122807017544\n",
      "f1:                  0.9734513274336283\n",
      "precision:           0.9565217391304348\n",
      "recall:              0.990990990990991\n"
     ]
    }
   ],
   "source": [
    "y_pred_train = predict_model(model,X_train,logit=logit)\n",
    "model_result_printer(model,y_train,y_pred_train,usage=\"out\",mode=\"train\")\n",
    "\n",
    "y_pred_test = predict_model(model,X_test,logit=logit)\n",
    "model_result_printer(model,y_test,y_pred_test,usage=\"out\",mode=\"test\")"
   ]
  },
  {
   "cell_type": "markdown",
   "id": "df9c447a",
   "metadata": {},
   "source": [
    "### Save and Load model"
   ]
  },
  {
   "cell_type": "code",
   "execution_count": 20,
   "id": "057f0255",
   "metadata": {},
   "outputs": [
    {
     "data": {
      "text/plain": [
       "OrderedDict([('0.weight',\n",
       "              tensor([[-0.3199, -0.4352, -0.2508, -0.4498, -0.1487, -0.1242, -0.4825, -0.2417,\n",
       "                       -0.1269,  0.5575, -0.1961, -0.1617, -0.2230, -0.1839,  0.1785, -0.0316,\n",
       "                        0.2590, -0.3027,  0.1366,  0.5082, -0.5066, -0.3118, -0.3760, -0.2430,\n",
       "                       -0.5499, -0.1308, -0.3566, -0.2133, -0.3634, -0.3062]])),\n",
       "             ('0.bias', tensor([0.6403]))])"
      ]
     },
     "execution_count": 20,
     "metadata": {},
     "output_type": "execute_result"
    }
   ],
   "source": [
    "model.state_dict()"
   ]
  },
  {
   "cell_type": "code",
   "execution_count": 21,
   "id": "61454ed0",
   "metadata": {},
   "outputs": [],
   "source": [
    "path = \"./model/classification_model.pt\"\n",
    "torch.save(model.state_dict(),path)"
   ]
  },
  {
   "cell_type": "code",
   "execution_count": 22,
   "id": "9a135f97",
   "metadata": {},
   "outputs": [],
   "source": [
    "# Load model\n",
    "loaded_model = create_model_and_load(path,logit)"
   ]
  },
  {
   "cell_type": "code",
   "execution_count": 23,
   "id": "edb3b33b",
   "metadata": {},
   "outputs": [
    {
     "name": "stdout",
     "output_type": "stream",
     "text": [
      "-------train-------\n",
      "acc:                 0.9874371859296482\n",
      "f1:                  0.98989898989899\n",
      "precision:           0.9839357429718876\n",
      "recall:              0.9959349593495935\n",
      "-------test-------\n",
      "acc:                 0.9649122807017544\n",
      "f1:                  0.9734513274336283\n",
      "precision:           0.9565217391304348\n",
      "recall:              0.990990990990991\n"
     ]
    }
   ],
   "source": [
    "y_pred_train = predict_model(loaded_model,X_train,logit=logit)\n",
    "model_result_printer(loaded_model,y_train,y_pred_train,usage=\"out\",mode=\"train\")\n",
    "\n",
    "y_pred_test = predict_model(loaded_model,X_test,logit=logit)\n",
    "model_result_printer(loaded_model,y_test,y_pred_test,usage=\"out\",mode=\"test\")"
   ]
  },
  {
   "cell_type": "code",
   "execution_count": 24,
   "id": "a8933a1e",
   "metadata": {},
   "outputs": [],
   "source": [
    "# Download in colab - upload is the same\n",
    "\n",
    "# from google.cloab import files\n",
    "# files.download(path)"
   ]
  },
  {
   "cell_type": "code",
   "execution_count": null,
   "id": "85014876",
   "metadata": {},
   "outputs": [],
   "source": []
  }
 ],
 "metadata": {
  "kernelspec": {
   "display_name": "Python 3",
   "language": "python",
   "name": "python3"
  },
  "language_info": {
   "codemirror_mode": {
    "name": "ipython",
    "version": 3
   },
   "file_extension": ".py",
   "mimetype": "text/x-python",
   "name": "python",
   "nbconvert_exporter": "python",
   "pygments_lexer": "ipython3",
   "version": "3.7.9"
  }
 },
 "nbformat": 4,
 "nbformat_minor": 5
}
