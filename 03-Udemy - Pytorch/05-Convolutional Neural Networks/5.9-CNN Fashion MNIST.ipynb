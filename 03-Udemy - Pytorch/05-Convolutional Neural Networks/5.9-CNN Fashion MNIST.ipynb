{
 "cells": [
  {
   "cell_type": "markdown",
   "id": "66c98679",
   "metadata": {
    "id": "66c98679"
   },
   "source": [
    "### Conv size calculator\n",
    "\n",
    "https://madebyollin.github.io/convnet-calculator\n",
    "\n",
    "https://theano-pymc.readthedocs.io/en/latest/tutorial/conv_arithmetic.html\n",
    "\n",
    "https://pytorch.org/docs/stable/generated/torch.nn.Conv2d.html#torch.nn.Conv2d\n"
   ]
  },
  {
   "cell_type": "markdown",
   "id": "4ea4224c",
   "metadata": {
    "id": "4ea4224c"
   },
   "source": [
    "### Imports"
   ]
  },
  {
   "cell_type": "code",
   "execution_count": 1,
   "id": "e6b3907d",
   "metadata": {
    "executionInfo": {
     "elapsed": 6352,
     "status": "ok",
     "timestamp": 1630083446647,
     "user": {
      "displayName": "Abedini Tohid",
      "photoUrl": "",
      "userId": "14592010492783304561"
     },
     "user_tz": -270
    },
    "id": "e6b3907d"
   },
   "outputs": [],
   "source": [
    "import torch\n",
    "import torch.nn as nn\n",
    "import torchvision\n",
    "import torchvision.transforms as transforms\n",
    "import numpy as np\n",
    "import matplotlib.pyplot as plt\n",
    "from datetime import datetime\n",
    "\n",
    "from sklearn.metrics import classification_report\n",
    "from sklearn.metrics import confusion_matrix#,plot_confusion_matrix\n",
    "from sklearn import metrics\n",
    "import itertools\n",
    "\n",
    "%matplotlib inline"
   ]
  },
  {
   "cell_type": "markdown",
   "id": "9c8115fc",
   "metadata": {
    "id": "9c8115fc"
   },
   "source": [
    "### Functions"
   ]
  },
  {
   "cell_type": "code",
   "execution_count": 2,
   "id": "0fe1add5",
   "metadata": {
    "executionInfo": {
     "elapsed": 1187,
     "status": "ok",
     "timestamp": 1630083461385,
     "user": {
      "displayName": "Abedini Tohid",
      "photoUrl": "",
      "userId": "14592010492783304561"
     },
     "user_tz": -270
    },
    "id": "0fe1add5"
   },
   "outputs": [],
   "source": [
    "def classes_counter(dataset):\n",
    "    K = len(set(dataset.targets.numpy()))\n",
    "    return K\n",
    "\n",
    "def dataloader_batch(train_dataset,test_dataset,batch_size=128):\n",
    "    train_loader = torch.utils.data.DataLoader(dataset=train_dataset,batch_size=batch_size,shuffle=True)\n",
    "    # to prevent unwanted correlation in train_data we shuffle train data\n",
    "    test_loader  = torch.utils.data.DataLoader(dataset=test_dataset,batch_size=batch_size,shuffle=False)\n",
    "    return train_loader,test_loader\n",
    "\n",
    "\n",
    "def create_model_and_train(K,train_dataset,test_dataset,model_mode=\"CNN\",batch_size=128,n_epochs=100):\n",
    "    if model_mode==\"CNN\":\n",
    "        model = CNN(K)\n",
    "    elif model_mode==\"Linear\":\n",
    "        model = nn.Sequential(\n",
    "            nn.Linear(784,128),\n",
    "            nn.ReLU(),\n",
    "            nn.Linear(128,10),\n",
    "            )\n",
    "\n",
    "    device = torch.device(\"cuda:0\" if torch.cuda.is_available() else \"cpu\")\n",
    "    print(device)\n",
    "    model.to(device)\n",
    "    criterion = nn.CrossEntropyLoss()\n",
    "    optimizer = torch.optim.Adam(model.parameters())\n",
    "    \n",
    "    train_loader,test_loader = dataloader_batch(train_dataset,test_dataset,batch_size=batch_size)\n",
    "    \n",
    "    train_losses = np.zeros(n_epochs)\n",
    "    test_losses = np.zeros(n_epochs)\n",
    "    \n",
    "    for it in range(n_epochs):\n",
    "        t0 = datetime.now()\n",
    "        train_loss = []\n",
    "        for inputs, targets in train_loader:\n",
    "            inputs,targets = inputs.to(device), targets.to(device)\n",
    "            if model_mode==\"Linear\":\n",
    "                inputs = inputs.view(-1,784)\n",
    "\n",
    "            optimizer.zero_grad()\n",
    "            \n",
    "            outputs = model(inputs)\n",
    "            loss = criterion(outputs, targets)\n",
    "            \n",
    "            loss.backward()\n",
    "            optimizer.step()\n",
    "            \n",
    "            train_loss.append(loss.item())\n",
    "            \n",
    "        train_loss = np.mean(train_loss)\n",
    "        \n",
    "        test_loss = []\n",
    "        for inputs, targets in test_loader:\n",
    "            inputs,targets = inputs.to(device), targets.to(device)\n",
    "            if model_mode==\"Linear\":\n",
    "                inputs = inputs.view(-1,784)\n",
    "            \n",
    "            outputs = model(inputs)\n",
    "\n",
    "            loss = criterion(outputs, targets)\n",
    "                        \n",
    "            test_loss.append(loss.item())\n",
    "            \n",
    "        test_loss = np.mean(test_loss)\n",
    "        \n",
    "        train_losses[it] = train_loss\n",
    "        test_losses[it]  = test_loss\n",
    "        \n",
    "        dt = datetime.now() - t0\n",
    "        print(f\"Epoch {it+1}/{n_epochs}, Train Loss: {train_loss:.4f}, Test Loss: {test_loss:.4f}, Duration: {dt}\")\n",
    "        \n",
    "    return model,train_losses, test_losses, device, train_loader, test_loader\n",
    "\n",
    "\n",
    "def plot_test_and_train_metric(train, test, metric):\n",
    "    plt.plot(train, label=f\"train {metric}\")\n",
    "    plt.plot(test, label =f\"test {metric}\")\n",
    "    plt.legend()\n",
    "    plt.show\n",
    "    \n",
    "\n",
    "def acc_compouter(model,device,data_loader,model_mode=\"CNN\"):\n",
    "    n_correct=0.\n",
    "    n_total=0.\n",
    "    \n",
    "    for inputs,targets in data_loader:\n",
    "        inputs,targets = inputs.to(device), targets.to(device)\n",
    "        if model_mode==\"Linear\":\n",
    "            inputs = inputs.view(-1,784)\n",
    "\n",
    "        outputs = model(inputs)\n",
    "        \n",
    "        _,predictions = torch.max(outputs,1)\n",
    "        # 1 is the axis and  _ is the max value that is not needed here\n",
    "        \n",
    "        n_correct += (predictions == targets).sum().item()\n",
    "        # .item() from torch to simple python data type\n",
    "        n_total += targets.shape[0]\n",
    "        \n",
    "    train_acc = n_correct/n_total\n",
    "\n",
    "    return train_acc\n",
    "\n",
    "def predict_model(model,data_loader,dataset,device,model_mode=\"CNN\"):\n",
    "    x = dataset.data.numpy()\n",
    "    y = dataset.targets.numpy()\n",
    "    p = np.array([])\n",
    "    for inputs,targets in data_loader:\n",
    "        inputs = inputs.to(device)\n",
    "        if model_mode==\"Linear\":\n",
    "            inputs = inputs.view(-1,784)\n",
    "        \n",
    "        outputs = model(inputs)\n",
    "        _,predictions = torch.max(outputs,1)\n",
    "        p = np.concatenate((p,predictions.cpu().numpy()))\n",
    "        \n",
    "    return p,y,x\n",
    "\n",
    "def plot_confusion_matrix(cm, classes, normalize=False, title=\"Confusion matrix\", cmap=plt.cm.Blues):\n",
    "    if normalize:\n",
    "        cm=cm.astype(\"float\") / cm.sum(axis=1)[:, np.newaxis]\n",
    "        print(\"Normalized confusion matrix\")\n",
    "    else:\n",
    "        print(\"Confusion matrix, without normalization\")\n",
    "    print(cm)\n",
    "    \n",
    "    plt.imshow(cm, interpolation=\"nearest\",cmap=cmap)\n",
    "    plt.title(title)\n",
    "    plt.colorbar()\n",
    "    \n",
    "    tick_marks = np.arange(len(classes))\n",
    "    plt.xticks(tick_marks, classes, rotation=45)\n",
    "    plt.yticks(tick_marks, classes)\n",
    "    \n",
    "    fmt = \".2f\" if normalize else \"d\"\n",
    "    thresh = cm.max()/2.\n",
    "    \n",
    "    for i,j in itertools.product(range(cm.shape[0]),range(cm.shape[1])):\n",
    "        plt.text(j,i,format(cm[i,j],fmt),\n",
    "                 horizontalalignment=\"center\",\n",
    "                 color=\"white\" if cm[i,j] > thresh else \"black\")\n",
    "    plt.tight_layout()\n",
    "    plt.ylabel(\"True label\")\n",
    "    plt.xlabel(\"Predicted label\")\n",
    "    plt.show()"
   ]
  },
  {
   "cell_type": "markdown",
   "id": "9ddd751f",
   "metadata": {
    "id": "9ddd751f"
   },
   "source": [
    "### Load data"
   ]
  },
  {
   "cell_type": "code",
   "execution_count": 3,
   "id": "3becd47e",
   "metadata": {
    "colab": {
     "base_uri": "https://localhost:8080/",
     "height": 911,
     "referenced_widgets": [
      "1c9433e19e1348cba2dd81af4eeb9d50",
      "ec8e5c895777457390436068d01d23c2",
      "ac96059af7ec45d6a199dfe75590e78e",
      "d668860b54b140aa8fbfda1989db837d",
      "714f1b4f495d4cfc8252537ed52b121c",
      "4677adc1484b4a5f9c6e500485d40d8b",
      "03e6910fc2b849309f7a5b4f1e8fa57d",
      "19e9ef18bd9442a7965c005c01c67773",
      "2eba511346f645b7b69df588854809f2",
      "6a48ad5e6ec04fd191d0a5a761ae9f83",
      "5c2827b039c2482a9089f0c8fc40e6f7",
      "e7a40860d5934a279e020fcd3e38e1eb",
      "944fec0df07e4c4cbd715e20b220f177",
      "5b6b47c69a5f4c02bd75f2adf02db9bc",
      "25954b7145ed4ba8a7d5d4da992ae1ac",
      "b2dd4578d200474ca52cf78669346970",
      "b93670d788b94bbcbc16e505c45de6dc",
      "6e777bc7818e470fb912ac7281b19eb5",
      "2fecc386b54143b8aa5b5add6e34e070",
      "cbcda3f896a143a28d7e120400fbd528",
      "bc7872725b494201956adcccb7fa680f",
      "eca30b6474d94e3c93f0442a60deb3d2",
      "9dad0022c4f44fcb85706a4eb39b2ead",
      "43d63597e884483aaeeeb20180ca9e99",
      "6f8f644668174cdfa4e3ed13d1f29ee1",
      "2fbb35dc9b8b4768aa69ac0f3bab706f",
      "578b1b33889b472cb6c91f7ae4d4bb08",
      "cd0fbf6d8123475487d2dd48e3f4d7da",
      "fe46974fd8ed4422bf2639b187769488",
      "e1cadbc142f14699a760d4e0bcfb8877",
      "e0081028a853400d99dbfbd899e1d9fb",
      "37351f0dd11649969d435f6a1a737f38",
      "5bfde68de4954453aac7fe346748d2fc",
      "3ba867d8becf4914a2bd1d0644104d79",
      "da36c713dfc04342b23fdd07d6bf5b2c",
      "8f86c7a413884d88b52ae359af842531",
      "641453f301d24aaa91bcc9290d5d3021",
      "1b08096984904191b4f2a64315b4431d",
      "a1a61b9740d1475b9b1ef5daddebcaac",
      "d32f89234cbf48379161d0435e1ee156",
      "2d69bd04104b46b1a95794222fd18ebf",
      "bbf53c52db9f4a30bd304c19c1ed8157",
      "91e698624364422cb9e445123aed95c4",
      "a22bf46287474c0ca6662a2fd298a413",
      "fb4b4d7ef6de4fa99390831b94224c05",
      "0d7dcdb63aa04b11a5ceb960097aeacc",
      "4d95f23e6d65457c9e9d09bcedfc527a",
      "33fbecac6a4a4d059840f3584921d101",
      "d7fc6fad327249a7b85c25b77ba02a7a",
      "4c1f0401a4df4d52b46a6c4b45e36729",
      "5d5dc9ce884a45f9ba8fa86676139b4a",
      "78b580351a004222aaf94459c9beadf6",
      "9b4f441cddd14152a935b5eb9cfb9906",
      "661d45b2bb514efc91f16e2f437a19f4",
      "5613fc461c0d443d836aad5fb06c1e63",
      "b4f87aa89fc4459191f69549f25d5348",
      "1cea582cd000405194a6de1c01ae253e",
      "394f00f2b03445c0b60bf8c60479d37e",
      "189e1ed5538246c78813bfca86c72d38",
      "7b7c59575cea4988a039549c0f53fd34",
      "d03056d096404204a01e75206d16e4ce",
      "6dc1e9f53f9a46f5b5fa98f1bc681d72",
      "5fb4241a5111468ca2b74f1469087369",
      "96dff203e45d46bfbea0aba2f967821d",
      "39bf7659f75848e084c4cf4dd147d230",
      "b06889bc93d642e083a29bddb90a6d3f",
      "b830109b0bb54881829d620c05e1810d",
      "d794bbcd1ba4413e8a7b66e87153094e",
      "cbb3f38924684f1a892ca21199eb5f44",
      "a28f0ed8d7d044ec8d94550544bbf5e0",
      "4aca9dd5b4584399a2303c5fdec0d8f2",
      "7f1b303ac4fc4c89a5f04ca89891813f",
      "33cb75aea5b246739e13d592b40ef0fa",
      "848e80769df94d728753351e8b51e69c",
      "bce2b3fb229945c6afc56dc97233e4d1",
      "46a19bd9ba4d44c3b4e73b3541940b6c",
      "3a866477c57c40c5bd240d5f1b147bc5",
      "792702be778d4c4ca02ee71b04a87d69",
      "ceec7f4913d84ca49de7fc7a5da3f539",
      "37b5870206f749e189dbc8d032f0fa7e",
      "2a5f313adc8e425c95a9edb2b91c5999",
      "e9e4fb0ded3240b192dbc89f4c4e1b05",
      "269ec76eec194d5d9a0bcad47f96e4fa",
      "a541f444ebb541179c54dfe8cca0149a",
      "70002f7cca0642dc952ab1ca22920d14",
      "ca53baaae0334366bc10cbace5c6ec73",
      "aea032493f8e4ced8fd7336a2568b391",
      "92af3955e57348108e11409c65d94eec"
     ]
    },
    "executionInfo": {
     "elapsed": 2610,
     "status": "ok",
     "timestamp": 1630083464966,
     "user": {
      "displayName": "Abedini Tohid",
      "photoUrl": "",
      "userId": "14592010492783304561"
     },
     "user_tz": -270
    },
    "id": "3becd47e",
    "outputId": "88bad216-cc45-4700-b279-06728259cc4a"
   },
   "outputs": [
    {
     "name": "stdout",
     "output_type": "stream",
     "text": [
      "Downloading http://fashion-mnist.s3-website.eu-central-1.amazonaws.com/train-images-idx3-ubyte.gz\n",
      "Downloading http://fashion-mnist.s3-website.eu-central-1.amazonaws.com/train-images-idx3-ubyte.gz to ./FashionMNIST/raw/train-images-idx3-ubyte.gz\n"
     ]
    },
    {
     "data": {
      "application/vnd.jupyter.widget-view+json": {
       "model_id": "1c9433e19e1348cba2dd81af4eeb9d50",
       "version_major": 2,
       "version_minor": 0
      },
      "text/plain": [
       "  0%|          | 0/26421880 [00:00<?, ?it/s]"
      ]
     },
     "metadata": {},
     "output_type": "display_data"
    },
    {
     "name": "stdout",
     "output_type": "stream",
     "text": [
      "Extracting ./FashionMNIST/raw/train-images-idx3-ubyte.gz to ./FashionMNIST/raw\n",
      "\n",
      "Downloading http://fashion-mnist.s3-website.eu-central-1.amazonaws.com/train-labels-idx1-ubyte.gz\n",
      "Downloading http://fashion-mnist.s3-website.eu-central-1.amazonaws.com/train-labels-idx1-ubyte.gz to ./FashionMNIST/raw/train-labels-idx1-ubyte.gz\n"
     ]
    },
    {
     "data": {
      "application/vnd.jupyter.widget-view+json": {
       "model_id": "e7a40860d5934a279e020fcd3e38e1eb",
       "version_major": 2,
       "version_minor": 0
      },
      "text/plain": [
       "  0%|          | 0/29515 [00:00<?, ?it/s]"
      ]
     },
     "metadata": {},
     "output_type": "display_data"
    },
    {
     "name": "stdout",
     "output_type": "stream",
     "text": [
      "Extracting ./FashionMNIST/raw/train-labels-idx1-ubyte.gz to ./FashionMNIST/raw\n",
      "\n",
      "Downloading http://fashion-mnist.s3-website.eu-central-1.amazonaws.com/t10k-images-idx3-ubyte.gz\n",
      "Downloading http://fashion-mnist.s3-website.eu-central-1.amazonaws.com/t10k-images-idx3-ubyte.gz to ./FashionMNIST/raw/t10k-images-idx3-ubyte.gz\n"
     ]
    },
    {
     "data": {
      "application/vnd.jupyter.widget-view+json": {
       "model_id": "9dad0022c4f44fcb85706a4eb39b2ead",
       "version_major": 2,
       "version_minor": 0
      },
      "text/plain": [
       "  0%|          | 0/4422102 [00:00<?, ?it/s]"
      ]
     },
     "metadata": {},
     "output_type": "display_data"
    },
    {
     "name": "stdout",
     "output_type": "stream",
     "text": [
      "Extracting ./FashionMNIST/raw/t10k-images-idx3-ubyte.gz to ./FashionMNIST/raw\n",
      "\n",
      "Downloading http://fashion-mnist.s3-website.eu-central-1.amazonaws.com/t10k-labels-idx1-ubyte.gz\n",
      "Downloading http://fashion-mnist.s3-website.eu-central-1.amazonaws.com/t10k-labels-idx1-ubyte.gz to ./FashionMNIST/raw/t10k-labels-idx1-ubyte.gz\n"
     ]
    },
    {
     "data": {
      "application/vnd.jupyter.widget-view+json": {
       "model_id": "3ba867d8becf4914a2bd1d0644104d79",
       "version_major": 2,
       "version_minor": 0
      },
      "text/plain": [
       "  0%|          | 0/5148 [00:00<?, ?it/s]"
      ]
     },
     "metadata": {},
     "output_type": "display_data"
    },
    {
     "name": "stdout",
     "output_type": "stream",
     "text": [
      "Extracting ./FashionMNIST/raw/t10k-labels-idx1-ubyte.gz to ./FashionMNIST/raw\n",
      "\n",
      "Downloading http://yann.lecun.com/exdb/mnist/train-images-idx3-ubyte.gz\n",
      "Downloading http://yann.lecun.com/exdb/mnist/train-images-idx3-ubyte.gz to ./MNIST/raw/train-images-idx3-ubyte.gz\n"
     ]
    },
    {
     "name": "stderr",
     "output_type": "stream",
     "text": [
      "/usr/local/lib/python3.7/dist-packages/torchvision/datasets/mnist.py:498: UserWarning: The given NumPy array is not writeable, and PyTorch does not support non-writeable tensors. This means you can write to the underlying (supposedly non-writeable) NumPy array using the tensor. You may want to copy the array to protect its data or make it writeable before converting it to a tensor. This type of warning will be suppressed for the rest of this program. (Triggered internally at  /pytorch/torch/csrc/utils/tensor_numpy.cpp:180.)\n",
      "  return torch.from_numpy(parsed.astype(m[2], copy=False)).view(*s)\n"
     ]
    },
    {
     "data": {
      "application/vnd.jupyter.widget-view+json": {
       "model_id": "fb4b4d7ef6de4fa99390831b94224c05",
       "version_major": 2,
       "version_minor": 0
      },
      "text/plain": [
       "  0%|          | 0/9912422 [00:00<?, ?it/s]"
      ]
     },
     "metadata": {},
     "output_type": "display_data"
    },
    {
     "name": "stdout",
     "output_type": "stream",
     "text": [
      "Extracting ./MNIST/raw/train-images-idx3-ubyte.gz to ./MNIST/raw\n",
      "\n",
      "Downloading http://yann.lecun.com/exdb/mnist/train-labels-idx1-ubyte.gz\n",
      "Downloading http://yann.lecun.com/exdb/mnist/train-labels-idx1-ubyte.gz to ./MNIST/raw/train-labels-idx1-ubyte.gz\n"
     ]
    },
    {
     "data": {
      "application/vnd.jupyter.widget-view+json": {
       "model_id": "b4f87aa89fc4459191f69549f25d5348",
       "version_major": 2,
       "version_minor": 0
      },
      "text/plain": [
       "  0%|          | 0/28881 [00:00<?, ?it/s]"
      ]
     },
     "metadata": {},
     "output_type": "display_data"
    },
    {
     "name": "stdout",
     "output_type": "stream",
     "text": [
      "Extracting ./MNIST/raw/train-labels-idx1-ubyte.gz to ./MNIST/raw\n",
      "\n",
      "Downloading http://yann.lecun.com/exdb/mnist/t10k-images-idx3-ubyte.gz\n",
      "Downloading http://yann.lecun.com/exdb/mnist/t10k-images-idx3-ubyte.gz to ./MNIST/raw/t10k-images-idx3-ubyte.gz\n"
     ]
    },
    {
     "data": {
      "application/vnd.jupyter.widget-view+json": {
       "model_id": "b830109b0bb54881829d620c05e1810d",
       "version_major": 2,
       "version_minor": 0
      },
      "text/plain": [
       "  0%|          | 0/1648877 [00:00<?, ?it/s]"
      ]
     },
     "metadata": {},
     "output_type": "display_data"
    },
    {
     "name": "stdout",
     "output_type": "stream",
     "text": [
      "Extracting ./MNIST/raw/t10k-images-idx3-ubyte.gz to ./MNIST/raw\n",
      "\n",
      "Downloading http://yann.lecun.com/exdb/mnist/t10k-labels-idx1-ubyte.gz\n",
      "Downloading http://yann.lecun.com/exdb/mnist/t10k-labels-idx1-ubyte.gz to ./MNIST/raw/t10k-labels-idx1-ubyte.gz\n"
     ]
    },
    {
     "data": {
      "application/vnd.jupyter.widget-view+json": {
       "model_id": "792702be778d4c4ca02ee71b04a87d69",
       "version_major": 2,
       "version_minor": 0
      },
      "text/plain": [
       "  0%|          | 0/4542 [00:00<?, ?it/s]"
      ]
     },
     "metadata": {},
     "output_type": "display_data"
    },
    {
     "name": "stdout",
     "output_type": "stream",
     "text": [
      "Extracting ./MNIST/raw/t10k-labels-idx1-ubyte.gz to ./MNIST/raw\n",
      "\n"
     ]
    }
   ],
   "source": [
    "train_dataset_Fashion = torchvision.datasets.FashionMNIST(root=\".\",train=True,transform = transforms.ToTensor(),download=True)\n",
    "\n",
    "\n",
    "train_dataset_MNIST = torchvision.datasets.MNIST(root=\".\",train=True,transform=transforms.ToTensor(),download=True)"
   ]
  },
  {
   "cell_type": "code",
   "execution_count": 4,
   "id": "f64bd3c2",
   "metadata": {
    "colab": {
     "base_uri": "https://localhost:8080/"
    },
    "executionInfo": {
     "elapsed": 543,
     "status": "ok",
     "timestamp": 1630083470987,
     "user": {
      "displayName": "Abedini Tohid",
      "photoUrl": "",
      "userId": "14592010492783304561"
     },
     "user_tz": -270
    },
    "id": "f64bd3c2",
    "outputId": "a5f93753-9013-4fdf-a3c8-88e9f7e738e1"
   },
   "outputs": [
    {
     "data": {
      "text/plain": [
       "tensor(255, dtype=torch.uint8)"
      ]
     },
     "execution_count": 4,
     "metadata": {},
     "output_type": "execute_result"
    }
   ],
   "source": [
    "train_dataset_Fashion.data.max()"
   ]
  },
  {
   "cell_type": "code",
   "execution_count": 5,
   "id": "fdb57c4b",
   "metadata": {
    "colab": {
     "base_uri": "https://localhost:8080/"
    },
    "executionInfo": {
     "elapsed": 19,
     "status": "ok",
     "timestamp": 1630083473206,
     "user": {
      "displayName": "Abedini Tohid",
      "photoUrl": "",
      "userId": "14592010492783304561"
     },
     "user_tz": -270
    },
    "id": "fdb57c4b",
    "outputId": "c6d57077-5d2b-46b6-f379-db70de72dd61"
   },
   "outputs": [
    {
     "data": {
      "text/plain": [
       "torch.Size([60000, 28, 28])"
      ]
     },
     "execution_count": 5,
     "metadata": {},
     "output_type": "execute_result"
    }
   ],
   "source": [
    "train_dataset_Fashion.data.shape"
   ]
  },
  {
   "cell_type": "code",
   "execution_count": 6,
   "id": "fb7661be",
   "metadata": {
    "colab": {
     "base_uri": "https://localhost:8080/"
    },
    "executionInfo": {
     "elapsed": 19,
     "status": "ok",
     "timestamp": 1630083473214,
     "user": {
      "displayName": "Abedini Tohid",
      "photoUrl": "",
      "userId": "14592010492783304561"
     },
     "user_tz": -270
    },
    "id": "fb7661be",
    "outputId": "76f5ae99-1fab-4582-fd10-159a8bda56d4"
   },
   "outputs": [
    {
     "data": {
      "text/plain": [
       "tensor([9, 0, 0,  ..., 3, 0, 5])"
      ]
     },
     "execution_count": 6,
     "metadata": {},
     "output_type": "execute_result"
    }
   ],
   "source": [
    "train_dataset_Fashion.targets"
   ]
  },
  {
   "cell_type": "code",
   "execution_count": 7,
   "id": "a4490e48",
   "metadata": {
    "executionInfo": {
     "elapsed": 17,
     "status": "ok",
     "timestamp": 1630083476129,
     "user": {
      "displayName": "Abedini Tohid",
      "photoUrl": "",
      "userId": "14592010492783304561"
     },
     "user_tz": -270
    },
    "id": "a4490e48"
   },
   "outputs": [],
   "source": [
    "test_dataset_Fashion = torchvision.datasets.FashionMNIST(root=\".\",train=False ,transform = transforms.ToTensor(),download=True)\n",
    "\n",
    "test_dataset_MNIST = torchvision.datasets.MNIST(root=\".\",train=False,transform=transforms.ToTensor(),download=True)"
   ]
  },
  {
   "cell_type": "code",
   "execution_count": 8,
   "id": "e817a4cb",
   "metadata": {
    "colab": {
     "base_uri": "https://localhost:8080/"
    },
    "executionInfo": {
     "elapsed": 8,
     "status": "ok",
     "timestamp": 1630083476637,
     "user": {
      "displayName": "Abedini Tohid",
      "photoUrl": "",
      "userId": "14592010492783304561"
     },
     "user_tz": -270
    },
    "id": "e817a4cb",
    "outputId": "7682d37e-65e5-4112-d914-417865d9261b"
   },
   "outputs": [
    {
     "name": "stdout",
     "output_type": "stream",
     "text": [
      "10\n",
      "10\n"
     ]
    }
   ],
   "source": [
    "K_Fashion = classes_counter(train_dataset_Fashion)\n",
    "K_MNIST   = classes_counter(train_dataset_MNIST)\n",
    "\n",
    "print(K_Fashion)\n",
    "print(K_MNIST)"
   ]
  },
  {
   "cell_type": "markdown",
   "id": "7ee27d4e",
   "metadata": {
    "id": "7ee27d4e"
   },
   "source": [
    "### Create model"
   ]
  },
  {
   "cell_type": "code",
   "execution_count": 9,
   "id": "d65c225d",
   "metadata": {
    "executionInfo": {
     "elapsed": 5,
     "status": "ok",
     "timestamp": 1630083477347,
     "user": {
      "displayName": "Abedini Tohid",
      "photoUrl": "",
      "userId": "14592010492783304561"
     },
     "user_tz": -270
    },
    "id": "d65c225d"
   },
   "outputs": [],
   "source": [
    "class CNN(nn.Module):\n",
    "    def __init__(self,K):\n",
    "        super(CNN,self).__init__()\n",
    "        self.conv_layers = nn.Sequential(\n",
    "            nn.Conv2d(in_channels=1, out_channels=32, kernel_size=3, stride=2),\n",
    "            nn.ReLU(),\n",
    "            nn.Conv2d(in_channels=32, out_channels=64, kernel_size=3, stride=2),\n",
    "            nn.ReLU(),\n",
    "            nn.Conv2d(in_channels=64, out_channels=128, kernel_size=3, stride=2),\n",
    "            nn.ReLU(),            \n",
    "        )\n",
    "        \n",
    "        self.dense_layers = nn.Sequential(\n",
    "            nn.Dropout(0.2),\n",
    "            nn.Linear(128*2*2, 512),\n",
    "            nn.ReLU(),\n",
    "            nn.Dropout(0.2),\n",
    "            nn.Linear(512,K)\n",
    "        )\n",
    "        \n",
    "    def forward(self, X):\n",
    "        out = self.conv_layers(X)\n",
    "        out = out.view(out.size(0),-1)\n",
    "        out = self.dense_layers(out)\n",
    "        return out\n",
    "\n",
    "    \n",
    "    \n",
    "# not available at this version -- on my system\n",
    "# class CNN_flatten(nn.Module):\n",
    "#     def __init__(self,K):\n",
    "#         super(CNN_flatten,self).__init__()\n",
    "        \n",
    "#         nn.Sequential(\n",
    "#             nn.Conv2d(in_channels=1, out_channels=32, kernel_size=3, stride=2),\n",
    "#             nn.ReLU(),\n",
    "#             nn.Conv2d(in_channels=32, out_channels=64, kernel_size=3, stride=2),\n",
    "#             nn.ReLU(),\n",
    "#             nn.Conv2d(in_channels=64, out_channels=128, kernel_size=3, stride=2),\n",
    "#             nn.ReLU(), \n",
    "            \n",
    "#             nn.Flatten(),\n",
    "            \n",
    "#             nn.Dropout(0.2),\n",
    "#             nn.Linear(128*2*2, 512),\n",
    "#             nn.ReLU(),\n",
    "#             nn.Dropout(0.2),\n",
    "#             nn.Linear(512,K)\n",
    "#         )"
   ]
  },
  {
   "cell_type": "markdown",
   "id": "efba592e",
   "metadata": {
    "id": "efba592e"
   },
   "source": [
    "#### 1. MNIST Linear"
   ]
  },
  {
   "cell_type": "code",
   "execution_count": 11,
   "id": "c7b744d5",
   "metadata": {
    "colab": {
     "base_uri": "https://localhost:8080/"
    },
    "executionInfo": {
     "elapsed": 886522,
     "status": "ok",
     "timestamp": 1630084377249,
     "user": {
      "displayName": "Abedini Tohid",
      "photoUrl": "",
      "userId": "14592010492783304561"
     },
     "user_tz": -270
    },
    "id": "c7b744d5",
    "outputId": "7d222f52-48b7-4c0c-bfe7-32877c54e3ea"
   },
   "outputs": [
    {
     "name": "stdout",
     "output_type": "stream",
     "text": [
      "cuda:0\n",
      "Epoch 1/100, Train Loss: 0.4167, Test Loss: 0.2248, Duration: 0:00:08.778720\n",
      "Epoch 2/100, Train Loss: 0.1936, Test Loss: 0.1542, Duration: 0:00:08.836563\n",
      "Epoch 3/100, Train Loss: 0.1400, Test Loss: 0.1268, Duration: 0:00:08.823925\n",
      "Epoch 4/100, Train Loss: 0.1101, Test Loss: 0.1101, Duration: 0:00:08.730260\n",
      "Epoch 5/100, Train Loss: 0.0896, Test Loss: 0.0952, Duration: 0:00:08.793942\n",
      "Epoch 6/100, Train Loss: 0.0748, Test Loss: 0.0930, Duration: 0:00:08.925182\n",
      "Epoch 7/100, Train Loss: 0.0631, Test Loss: 0.0878, Duration: 0:00:08.867312\n",
      "Epoch 8/100, Train Loss: 0.0533, Test Loss: 0.0794, Duration: 0:00:08.992372\n",
      "Epoch 9/100, Train Loss: 0.0459, Test Loss: 0.0806, Duration: 0:00:08.901796\n",
      "Epoch 10/100, Train Loss: 0.0391, Test Loss: 0.0756, Duration: 0:00:08.907166\n",
      "Epoch 11/100, Train Loss: 0.0328, Test Loss: 0.0732, Duration: 0:00:08.898066\n",
      "Epoch 12/100, Train Loss: 0.0282, Test Loss: 0.0714, Duration: 0:00:08.928043\n",
      "Epoch 13/100, Train Loss: 0.0240, Test Loss: 0.0724, Duration: 0:00:08.823325\n",
      "Epoch 14/100, Train Loss: 0.0208, Test Loss: 0.0727, Duration: 0:00:08.971164\n",
      "Epoch 15/100, Train Loss: 0.0173, Test Loss: 0.0744, Duration: 0:00:08.794582\n",
      "Epoch 16/100, Train Loss: 0.0147, Test Loss: 0.0763, Duration: 0:00:08.738358\n",
      "Epoch 17/100, Train Loss: 0.0129, Test Loss: 0.0808, Duration: 0:00:08.835802\n",
      "Epoch 18/100, Train Loss: 0.0111, Test Loss: 0.0785, Duration: 0:00:08.909809\n",
      "Epoch 19/100, Train Loss: 0.0092, Test Loss: 0.0811, Duration: 0:00:08.807044\n",
      "Epoch 20/100, Train Loss: 0.0075, Test Loss: 0.0756, Duration: 0:00:08.837829\n",
      "Epoch 21/100, Train Loss: 0.0076, Test Loss: 0.0853, Duration: 0:00:08.863722\n",
      "Epoch 22/100, Train Loss: 0.0061, Test Loss: 0.0833, Duration: 0:00:08.805001\n",
      "Epoch 23/100, Train Loss: 0.0077, Test Loss: 0.0842, Duration: 0:00:08.988467\n",
      "Epoch 24/100, Train Loss: 0.0044, Test Loss: 0.0809, Duration: 0:00:08.775654\n",
      "Epoch 25/100, Train Loss: 0.0032, Test Loss: 0.0838, Duration: 0:00:08.949694\n",
      "Epoch 26/100, Train Loss: 0.0033, Test Loss: 0.0903, Duration: 0:00:08.736039\n",
      "Epoch 27/100, Train Loss: 0.0045, Test Loss: 0.0909, Duration: 0:00:08.778502\n",
      "Epoch 28/100, Train Loss: 0.0030, Test Loss: 0.0871, Duration: 0:00:08.887192\n",
      "Epoch 29/100, Train Loss: 0.0016, Test Loss: 0.0912, Duration: 0:00:08.791823\n",
      "Epoch 30/100, Train Loss: 0.0013, Test Loss: 0.0896, Duration: 0:00:08.798822\n",
      "Epoch 31/100, Train Loss: 0.0054, Test Loss: 0.1092, Duration: 0:00:08.827661\n",
      "Epoch 32/100, Train Loss: 0.0055, Test Loss: 0.0965, Duration: 0:00:08.807703\n",
      "Epoch 33/100, Train Loss: 0.0022, Test Loss: 0.0894, Duration: 0:00:08.876100\n",
      "Epoch 34/100, Train Loss: 0.0008, Test Loss: 0.0909, Duration: 0:00:08.886763\n",
      "Epoch 35/100, Train Loss: 0.0006, Test Loss: 0.0913, Duration: 0:00:08.939225\n",
      "Epoch 36/100, Train Loss: 0.0005, Test Loss: 0.0910, Duration: 0:00:08.831583\n",
      "Epoch 37/100, Train Loss: 0.0004, Test Loss: 0.0936, Duration: 0:00:08.933374\n",
      "Epoch 38/100, Train Loss: 0.0004, Test Loss: 0.0931, Duration: 0:00:08.842137\n",
      "Epoch 39/100, Train Loss: 0.0032, Test Loss: 0.1505, Duration: 0:00:08.675828\n",
      "Epoch 40/100, Train Loss: 0.0101, Test Loss: 0.1022, Duration: 0:00:08.860633\n",
      "Epoch 41/100, Train Loss: 0.0010, Test Loss: 0.0990, Duration: 0:00:08.813623\n",
      "Epoch 42/100, Train Loss: 0.0004, Test Loss: 0.0978, Duration: 0:00:08.700323\n",
      "Epoch 43/100, Train Loss: 0.0003, Test Loss: 0.0992, Duration: 0:00:08.747057\n",
      "Epoch 44/100, Train Loss: 0.0003, Test Loss: 0.1001, Duration: 0:00:08.931705\n",
      "Epoch 45/100, Train Loss: 0.0002, Test Loss: 0.0999, Duration: 0:00:08.830843\n",
      "Epoch 46/100, Train Loss: 0.0002, Test Loss: 0.1021, Duration: 0:00:08.695605\n",
      "Epoch 47/100, Train Loss: 0.0002, Test Loss: 0.1019, Duration: 0:00:08.918319\n",
      "Epoch 48/100, Train Loss: 0.0002, Test Loss: 0.1044, Duration: 0:00:08.868426\n",
      "Epoch 49/100, Train Loss: 0.0116, Test Loss: 0.1270, Duration: 0:00:08.775088\n",
      "Epoch 50/100, Train Loss: 0.0024, Test Loss: 0.1122, Duration: 0:00:08.838173\n",
      "Epoch 51/100, Train Loss: 0.0006, Test Loss: 0.1103, Duration: 0:00:08.813544\n",
      "Epoch 52/100, Train Loss: 0.0003, Test Loss: 0.1100, Duration: 0:00:08.970692\n",
      "Epoch 53/100, Train Loss: 0.0002, Test Loss: 0.1100, Duration: 0:00:08.878593\n",
      "Epoch 54/100, Train Loss: 0.0002, Test Loss: 0.1106, Duration: 0:00:08.881735\n",
      "Epoch 55/100, Train Loss: 0.0001, Test Loss: 0.1109, Duration: 0:00:08.933796\n",
      "Epoch 56/100, Train Loss: 0.0001, Test Loss: 0.1109, Duration: 0:00:08.911349\n",
      "Epoch 57/100, Train Loss: 0.0001, Test Loss: 0.1128, Duration: 0:00:08.918646\n",
      "Epoch 58/100, Train Loss: 0.0001, Test Loss: 0.1126, Duration: 0:00:08.859014\n",
      "Epoch 59/100, Train Loss: 0.0001, Test Loss: 0.1127, Duration: 0:00:08.931975\n",
      "Epoch 60/100, Train Loss: 0.0001, Test Loss: 0.1145, Duration: 0:00:08.866190\n",
      "Epoch 61/100, Train Loss: 0.0001, Test Loss: 0.1147, Duration: 0:00:08.768491\n",
      "Epoch 62/100, Train Loss: 0.0001, Test Loss: 0.1199, Duration: 0:00:08.828720\n",
      "Epoch 63/100, Train Loss: 0.0131, Test Loss: 0.1246, Duration: 0:00:08.846360\n",
      "Epoch 64/100, Train Loss: 0.0007, Test Loss: 0.1246, Duration: 0:00:08.988017\n",
      "Epoch 65/100, Train Loss: 0.0002, Test Loss: 0.1196, Duration: 0:00:08.925598\n",
      "Epoch 66/100, Train Loss: 0.0001, Test Loss: 0.1205, Duration: 0:00:08.829771\n",
      "Epoch 67/100, Train Loss: 0.0001, Test Loss: 0.1211, Duration: 0:00:08.863513\n",
      "Epoch 68/100, Train Loss: 0.0001, Test Loss: 0.1217, Duration: 0:00:08.796599\n",
      "Epoch 69/100, Train Loss: 0.0001, Test Loss: 0.1220, Duration: 0:00:08.703707\n",
      "Epoch 70/100, Train Loss: 0.0001, Test Loss: 0.1223, Duration: 0:00:08.754768\n",
      "Epoch 71/100, Train Loss: 0.0001, Test Loss: 0.1234, Duration: 0:00:08.884259\n",
      "Epoch 72/100, Train Loss: 0.0001, Test Loss: 0.1242, Duration: 0:00:08.783601\n",
      "Epoch 73/100, Train Loss: 0.0001, Test Loss: 0.1246, Duration: 0:00:08.829080\n",
      "Epoch 74/100, Train Loss: 0.0000, Test Loss: 0.1254, Duration: 0:00:08.879075\n",
      "Epoch 75/100, Train Loss: 0.0000, Test Loss: 0.1258, Duration: 0:00:08.911612\n",
      "Epoch 76/100, Train Loss: 0.0000, Test Loss: 0.1262, Duration: 0:00:08.847998\n",
      "Epoch 77/100, Train Loss: 0.0000, Test Loss: 0.1301, Duration: 0:00:08.957660\n",
      "Epoch 78/100, Train Loss: 0.0125, Test Loss: 0.1286, Duration: 0:00:08.952146\n",
      "Epoch 79/100, Train Loss: 0.0009, Test Loss: 0.1348, Duration: 0:00:08.843420\n",
      "Epoch 80/100, Train Loss: 0.0002, Test Loss: 0.1294, Duration: 0:00:08.924300\n",
      "Epoch 81/100, Train Loss: 0.0001, Test Loss: 0.1292, Duration: 0:00:08.971741\n",
      "Epoch 82/100, Train Loss: 0.0001, Test Loss: 0.1288, Duration: 0:00:08.893788\n",
      "Epoch 83/100, Train Loss: 0.0001, Test Loss: 0.1288, Duration: 0:00:08.846454\n",
      "Epoch 84/100, Train Loss: 0.0001, Test Loss: 0.1290, Duration: 0:00:08.883784\n",
      "Epoch 85/100, Train Loss: 0.0000, Test Loss: 0.1297, Duration: 0:00:08.871079\n",
      "Epoch 86/100, Train Loss: 0.0000, Test Loss: 0.1301, Duration: 0:00:08.833397\n",
      "Epoch 87/100, Train Loss: 0.0000, Test Loss: 0.1304, Duration: 0:00:08.833236\n",
      "Epoch 88/100, Train Loss: 0.0000, Test Loss: 0.1310, Duration: 0:00:08.937168\n",
      "Epoch 89/100, Train Loss: 0.0000, Test Loss: 0.1321, Duration: 0:00:08.922373\n",
      "Epoch 90/100, Train Loss: 0.0000, Test Loss: 0.1326, Duration: 0:00:08.869700\n",
      "Epoch 91/100, Train Loss: 0.0000, Test Loss: 0.1330, Duration: 0:00:08.892219\n",
      "Epoch 92/100, Train Loss: 0.0000, Test Loss: 0.1332, Duration: 0:00:08.862901\n",
      "Epoch 93/100, Train Loss: 0.0000, Test Loss: 0.1346, Duration: 0:00:08.900979\n",
      "Epoch 94/100, Train Loss: 0.0000, Test Loss: 0.1353, Duration: 0:00:08.930884\n",
      "Epoch 95/100, Train Loss: 0.0000, Test Loss: 0.1353, Duration: 0:00:08.966716\n",
      "Epoch 96/100, Train Loss: 0.0130, Test Loss: 0.1384, Duration: 0:00:08.950718\n",
      "Epoch 97/100, Train Loss: 0.0011, Test Loss: 0.1425, Duration: 0:00:08.871012\n",
      "Epoch 98/100, Train Loss: 0.0002, Test Loss: 0.1380, Duration: 0:00:08.879015\n",
      "Epoch 99/100, Train Loss: 0.0001, Test Loss: 0.1377, Duration: 0:00:08.883449\n",
      "Epoch 100/100, Train Loss: 0.0001, Test Loss: 0.1375, Duration: 0:00:08.858418\n"
     ]
    }
   ],
   "source": [
    "model_MNIST_Linear, train_losses_MNIST_Linear, test_losses_MNIST_Linear, device ,train_loader_MNIST, test_loader_MNIST = create_model_and_train(K_MNIST,train_dataset_MNIST,test_dataset_MNIST,model_mode=\"Linear\",batch_size=128,n_epochs=100)"
   ]
  },
  {
   "cell_type": "code",
   "execution_count": 12,
   "id": "a43c5a27",
   "metadata": {
    "colab": {
     "base_uri": "https://localhost:8080/",
     "height": 265
    },
    "executionInfo": {
     "elapsed": 64,
     "status": "ok",
     "timestamp": 1630084377252,
     "user": {
      "displayName": "Abedini Tohid",
      "photoUrl": "",
      "userId": "14592010492783304561"
     },
     "user_tz": -270
    },
    "id": "a43c5a27",
    "outputId": "45f2d6a0-8b4f-4708-87e0-61a1e59c840d"
   },
   "outputs": [
    {
     "data": {
      "image/png": "[encoded data removed]",
      "text/plain": [
       "<Figure size 432x288 with 1 Axes>"
      ]
     },
     "metadata": {
      "needs_background": "light"
     },
     "output_type": "display_data"
    }
   ],
   "source": [
    "plot_test_and_train_metric(train_losses_MNIST_Linear, test_losses_MNIST_Linear,\"loss\")"
   ]
  },
  {
   "cell_type": "code",
   "execution_count": 13,
   "id": "fdc1c3e1",
   "metadata": {
    "colab": {
     "base_uri": "https://localhost:8080/"
    },
    "executionInfo": {
     "elapsed": 8261,
     "status": "ok",
     "timestamp": 1630084385484,
     "user": {
      "displayName": "Abedini Tohid",
      "photoUrl": "",
      "userId": "14592010492783304561"
     },
     "user_tz": -270
    },
    "id": "fdc1c3e1",
    "outputId": "a54cbd94-563a-4e63-d577-6884ddb6dd17"
   },
   "outputs": [
    {
     "name": "stdout",
     "output_type": "stream",
     "text": [
      "train acc: 1.0\n",
      "test acc: 0.9791\n"
     ]
    }
   ],
   "source": [
    "train_acc_MNIST_Linear = acc_compouter(model_MNIST_Linear,device,train_loader_MNIST,model_mode=\"Linear\")\n",
    "print(f\"train acc: {train_acc_MNIST_Linear}\")\n",
    "\n",
    "test_acc_MNIST_Linear = acc_compouter(model_MNIST_Linear,device,test_loader_MNIST,model_mode=\"Linear\")\n",
    "print(f\"test acc: {test_acc_MNIST_Linear}\")"
   ]
  },
  {
   "cell_type": "code",
   "execution_count": 14,
   "id": "ef4df1e8",
   "metadata": {
    "colab": {
     "base_uri": "https://localhost:8080/",
     "height": 511
    },
    "executionInfo": {
     "elapsed": 2241,
     "status": "ok",
     "timestamp": 1630084387704,
     "user": {
      "displayName": "Abedini Tohid",
      "photoUrl": "",
      "userId": "14592010492783304561"
     },
     "user_tz": -270
    },
    "id": "ef4df1e8",
    "outputId": "742ce1af-53d2-4ff6-ee55-7358b1e9c6f7"
   },
   "outputs": [
    {
     "name": "stdout",
     "output_type": "stream",
     "text": [
      "Confusion matrix, without normalization\n",
      "[[ 969    1    3    0    1    0    3    0    2    1]\n",
      " [   0 1125    4    0    0    0    1    1    4    0]\n",
      " [   4    2 1010    1    0    0    2    4    8    1]\n",
      " [   0    0    5  987    0    5    0    3    3    7]\n",
      " [   0    0    1    1  963    1    6    1    2    7]\n",
      " [   3    1    0   10    2  865    3    2    5    1]\n",
      " [   4    2    3    1    4    4  938    0    2    0]\n",
      " [   0    7    8    3    0    0    0 1002    3    5]\n",
      " [   5    0    4    4    3    2    0    5  947    4]\n",
      " [   1    2    1    3    8    3    0    3    3  985]]\n"
     ]
    },
    {
     "data": {
      "image/png": "[encoded data removed]",
      "text/plain": [
       "<Figure size 432x288 with 2 Axes>"
      ]
     },
     "metadata": {
      "needs_background": "light"
     },
     "output_type": "display_data"
    }
   ],
   "source": [
    "p_test_MNIST_Linear,y_test_MNIST,x_test_MNIST = predict_model(model_MNIST_Linear,test_loader_MNIST,test_dataset_MNIST,device,model_mode=\"Linear\")\n",
    "\n",
    "cm_MNIST_Linear = confusion_matrix(y_test_MNIST,p_test_MNIST_Linear)\n",
    "plot_confusion_matrix(cm_MNIST_Linear, list(range(K_MNIST)))"
   ]
  },
  {
   "cell_type": "markdown",
   "id": "c9202b79",
   "metadata": {
    "id": "c9202b79"
   },
   "source": [
    "#### 2. MNIST CNN"
   ]
  },
  {
   "cell_type": "code",
   "execution_count": 15,
   "id": "22722106",
   "metadata": {
    "colab": {
     "base_uri": "https://localhost:8080/"
    },
    "executionInfo": {
     "elapsed": 1206738,
     "status": "ok",
     "timestamp": 1630085594419,
     "user": {
      "displayName": "Abedini Tohid",
      "photoUrl": "",
      "userId": "14592010492783304561"
     },
     "user_tz": -270
    },
    "id": "22722106",
    "outputId": "0dc7a0a1-94ad-4095-a215-a4164d171300",
    "scrolled": true
   },
   "outputs": [
    {
     "name": "stdout",
     "output_type": "stream",
     "text": [
      "cuda:0\n",
      "Epoch 1/100, Train Loss: 0.3125, Test Loss: 0.1199, Duration: 0:00:12.156429\n",
      "Epoch 2/100, Train Loss: 0.0978, Test Loss: 0.0707, Duration: 0:00:11.973619\n",
      "Epoch 3/100, Train Loss: 0.0705, Test Loss: 0.0600, Duration: 0:00:12.028363\n",
      "Epoch 4/100, Train Loss: 0.0549, Test Loss: 0.0561, Duration: 0:00:12.077219\n",
      "Epoch 5/100, Train Loss: 0.0440, Test Loss: 0.0553, Duration: 0:00:12.002732\n",
      "Epoch 6/100, Train Loss: 0.0381, Test Loss: 0.0569, Duration: 0:00:12.003407\n",
      "Epoch 7/100, Train Loss: 0.0327, Test Loss: 0.0481, Duration: 0:00:11.996646\n",
      "Epoch 8/100, Train Loss: 0.0286, Test Loss: 0.0452, Duration: 0:00:12.037870\n",
      "Epoch 9/100, Train Loss: 0.0231, Test Loss: 0.0408, Duration: 0:00:12.031926\n",
      "Epoch 10/100, Train Loss: 0.0225, Test Loss: 0.0477, Duration: 0:00:12.068741\n",
      "Epoch 11/100, Train Loss: 0.0186, Test Loss: 0.0503, Duration: 0:00:11.971379\n",
      "Epoch 12/100, Train Loss: 0.0186, Test Loss: 0.0531, Duration: 0:00:12.017499\n",
      "Epoch 13/100, Train Loss: 0.0169, Test Loss: 0.0447, Duration: 0:00:12.042365\n",
      "Epoch 14/100, Train Loss: 0.0133, Test Loss: 0.0481, Duration: 0:00:12.075071\n",
      "Epoch 15/100, Train Loss: 0.0130, Test Loss: 0.0540, Duration: 0:00:12.085834\n",
      "Epoch 16/100, Train Loss: 0.0138, Test Loss: 0.0468, Duration: 0:00:12.014383\n",
      "Epoch 17/100, Train Loss: 0.0130, Test Loss: 0.0518, Duration: 0:00:12.002020\n",
      "Epoch 18/100, Train Loss: 0.0118, Test Loss: 0.0569, Duration: 0:00:12.010257\n",
      "Epoch 19/100, Train Loss: 0.0101, Test Loss: 0.0514, Duration: 0:00:12.109137\n",
      "Epoch 20/100, Train Loss: 0.0104, Test Loss: 0.0497, Duration: 0:00:12.164814\n",
      "Epoch 21/100, Train Loss: 0.0105, Test Loss: 0.0519, Duration: 0:00:12.130835\n",
      "Epoch 22/100, Train Loss: 0.0103, Test Loss: 0.0591, Duration: 0:00:12.032334\n",
      "Epoch 23/100, Train Loss: 0.0091, Test Loss: 0.0649, Duration: 0:00:12.138537\n",
      "Epoch 24/100, Train Loss: 0.0084, Test Loss: 0.0539, Duration: 0:00:12.024147\n",
      "Epoch 25/100, Train Loss: 0.0085, Test Loss: 0.0513, Duration: 0:00:12.077185\n",
      "Epoch 26/100, Train Loss: 0.0083, Test Loss: 0.0559, Duration: 0:00:12.023920\n",
      "Epoch 27/100, Train Loss: 0.0088, Test Loss: 0.0539, Duration: 0:00:12.074140\n",
      "Epoch 28/100, Train Loss: 0.0083, Test Loss: 0.0531, Duration: 0:00:12.122081\n",
      "Epoch 29/100, Train Loss: 0.0069, Test Loss: 0.0707, Duration: 0:00:12.010311\n",
      "Epoch 30/100, Train Loss: 0.0073, Test Loss: 0.0579, Duration: 0:00:12.031537\n",
      "Epoch 31/100, Train Loss: 0.0051, Test Loss: 0.0633, Duration: 0:00:12.092052\n",
      "Epoch 32/100, Train Loss: 0.0070, Test Loss: 0.0651, Duration: 0:00:11.977682\n",
      "Epoch 33/100, Train Loss: 0.0065, Test Loss: 0.0580, Duration: 0:00:12.114512\n",
      "Epoch 34/100, Train Loss: 0.0071, Test Loss: 0.0692, Duration: 0:00:12.047739\n",
      "Epoch 35/100, Train Loss: 0.0063, Test Loss: 0.0774, Duration: 0:00:12.080705\n",
      "Epoch 36/100, Train Loss: 0.0065, Test Loss: 0.0633, Duration: 0:00:12.069622\n",
      "Epoch 37/100, Train Loss: 0.0052, Test Loss: 0.0586, Duration: 0:00:12.086531\n",
      "Epoch 38/100, Train Loss: 0.0068, Test Loss: 0.0551, Duration: 0:00:11.982975\n",
      "Epoch 39/100, Train Loss: 0.0058, Test Loss: 0.0551, Duration: 0:00:12.098356\n",
      "Epoch 40/100, Train Loss: 0.0062, Test Loss: 0.0684, Duration: 0:00:12.028782\n",
      "Epoch 41/100, Train Loss: 0.0050, Test Loss: 0.0833, Duration: 0:00:12.176366\n",
      "Epoch 42/100, Train Loss: 0.0060, Test Loss: 0.0704, Duration: 0:00:12.066234\n",
      "Epoch 43/100, Train Loss: 0.0056, Test Loss: 0.0690, Duration: 0:00:12.056888\n",
      "Epoch 44/100, Train Loss: 0.0063, Test Loss: 0.0720, Duration: 0:00:12.135119\n",
      "Epoch 45/100, Train Loss: 0.0061, Test Loss: 0.0621, Duration: 0:00:12.083065\n",
      "Epoch 46/100, Train Loss: 0.0044, Test Loss: 0.0755, Duration: 0:00:12.115664\n",
      "Epoch 47/100, Train Loss: 0.0050, Test Loss: 0.0842, Duration: 0:00:12.095816\n",
      "Epoch 48/100, Train Loss: 0.0054, Test Loss: 0.0718, Duration: 0:00:12.100285\n",
      "Epoch 49/100, Train Loss: 0.0053, Test Loss: 0.0790, Duration: 0:00:12.023982\n",
      "Epoch 50/100, Train Loss: 0.0064, Test Loss: 0.0684, Duration: 0:00:11.998201\n",
      "Epoch 51/100, Train Loss: 0.0052, Test Loss: 0.0767, Duration: 0:00:12.069452\n",
      "Epoch 52/100, Train Loss: 0.0057, Test Loss: 0.0712, Duration: 0:00:12.087950\n",
      "Epoch 53/100, Train Loss: 0.0048, Test Loss: 0.0684, Duration: 0:00:12.050877\n",
      "Epoch 54/100, Train Loss: 0.0039, Test Loss: 0.0771, Duration: 0:00:11.993293\n",
      "Epoch 55/100, Train Loss: 0.0042, Test Loss: 0.0722, Duration: 0:00:12.148373\n",
      "Epoch 56/100, Train Loss: 0.0037, Test Loss: 0.0754, Duration: 0:00:12.051466\n",
      "Epoch 57/100, Train Loss: 0.0046, Test Loss: 0.0790, Duration: 0:00:12.017168\n",
      "Epoch 58/100, Train Loss: 0.0055, Test Loss: 0.0711, Duration: 0:00:12.104735\n",
      "Epoch 59/100, Train Loss: 0.0042, Test Loss: 0.0791, Duration: 0:00:12.051486\n",
      "Epoch 60/100, Train Loss: 0.0044, Test Loss: 0.0721, Duration: 0:00:11.902013\n",
      "Epoch 61/100, Train Loss: 0.0048, Test Loss: 0.0760, Duration: 0:00:12.037235\n",
      "Epoch 62/100, Train Loss: 0.0037, Test Loss: 0.0769, Duration: 0:00:12.122805\n",
      "Epoch 63/100, Train Loss: 0.0041, Test Loss: 0.0841, Duration: 0:00:12.025115\n",
      "Epoch 64/100, Train Loss: 0.0050, Test Loss: 0.0786, Duration: 0:00:12.134161\n",
      "Epoch 65/100, Train Loss: 0.0038, Test Loss: 0.0956, Duration: 0:00:12.107001\n",
      "Epoch 66/100, Train Loss: 0.0043, Test Loss: 0.0732, Duration: 0:00:12.116498\n",
      "Epoch 67/100, Train Loss: 0.0046, Test Loss: 0.0719, Duration: 0:00:12.092437\n",
      "Epoch 68/100, Train Loss: 0.0043, Test Loss: 0.0751, Duration: 0:00:12.072653\n",
      "Epoch 69/100, Train Loss: 0.0036, Test Loss: 0.0833, Duration: 0:00:12.026382\n",
      "Epoch 70/100, Train Loss: 0.0054, Test Loss: 0.0629, Duration: 0:00:12.113045\n",
      "Epoch 71/100, Train Loss: 0.0038, Test Loss: 0.0832, Duration: 0:00:12.081405\n",
      "Epoch 72/100, Train Loss: 0.0038, Test Loss: 0.0841, Duration: 0:00:12.048621\n",
      "Epoch 73/100, Train Loss: 0.0035, Test Loss: 0.0841, Duration: 0:00:12.133023\n",
      "Epoch 74/100, Train Loss: 0.0039, Test Loss: 0.0748, Duration: 0:00:12.069319\n",
      "Epoch 75/100, Train Loss: 0.0035, Test Loss: 0.0884, Duration: 0:00:12.051234\n",
      "Epoch 76/100, Train Loss: 0.0046, Test Loss: 0.0820, Duration: 0:00:12.062712\n",
      "Epoch 77/100, Train Loss: 0.0050, Test Loss: 0.0772, Duration: 0:00:12.140046\n",
      "Epoch 78/100, Train Loss: 0.0053, Test Loss: 0.0754, Duration: 0:00:11.991753\n",
      "Epoch 79/100, Train Loss: 0.0030, Test Loss: 0.0808, Duration: 0:00:12.037143\n",
      "Epoch 80/100, Train Loss: 0.0037, Test Loss: 0.0889, Duration: 0:00:12.100050\n",
      "Epoch 81/100, Train Loss: 0.0040, Test Loss: 0.0890, Duration: 0:00:12.102637\n",
      "Epoch 82/100, Train Loss: 0.0034, Test Loss: 0.0808, Duration: 0:00:12.033181\n",
      "Epoch 83/100, Train Loss: 0.0033, Test Loss: 0.0947, Duration: 0:00:12.039229\n",
      "Epoch 84/100, Train Loss: 0.0031, Test Loss: 0.0948, Duration: 0:00:11.992712\n",
      "Epoch 85/100, Train Loss: 0.0048, Test Loss: 0.0805, Duration: 0:00:12.074875\n",
      "Epoch 86/100, Train Loss: 0.0043, Test Loss: 0.0762, Duration: 0:00:12.065258\n",
      "Epoch 87/100, Train Loss: 0.0031, Test Loss: 0.0864, Duration: 0:00:12.087972\n",
      "Epoch 88/100, Train Loss: 0.0044, Test Loss: 0.0920, Duration: 0:00:12.089035\n",
      "Epoch 89/100, Train Loss: 0.0038, Test Loss: 0.0968, Duration: 0:00:12.037781\n",
      "Epoch 90/100, Train Loss: 0.0039, Test Loss: 0.0918, Duration: 0:00:12.101134\n",
      "Epoch 91/100, Train Loss: 0.0031, Test Loss: 0.0734, Duration: 0:00:12.045069\n",
      "Epoch 92/100, Train Loss: 0.0047, Test Loss: 0.0887, Duration: 0:00:12.111303\n",
      "Epoch 93/100, Train Loss: 0.0034, Test Loss: 0.0822, Duration: 0:00:12.106652\n",
      "Epoch 94/100, Train Loss: 0.0032, Test Loss: 0.0979, Duration: 0:00:12.048566\n",
      "Epoch 95/100, Train Loss: 0.0050, Test Loss: 0.0895, Duration: 0:00:12.000424\n",
      "Epoch 96/100, Train Loss: 0.0032, Test Loss: 0.1108, Duration: 0:00:12.106090\n",
      "Epoch 97/100, Train Loss: 0.0048, Test Loss: 0.1240, Duration: 0:00:12.040961\n",
      "Epoch 98/100, Train Loss: 0.0044, Test Loss: 0.0974, Duration: 0:00:12.007593\n",
      "Epoch 99/100, Train Loss: 0.0040, Test Loss: 0.0786, Duration: 0:00:12.057573\n",
      "Epoch 100/100, Train Loss: 0.0038, Test Loss: 0.0821, Duration: 0:00:12.106930\n"
     ]
    }
   ],
   "source": [
    "model_MNIST_CNN, train_losses_MNIST_CNN, test_losses_MNIST_CNN, _ ,_, _ = create_model_and_train(K_MNIST,train_dataset_MNIST,test_dataset_MNIST,model_mode=\"CNN\",batch_size=128,n_epochs=100)"
   ]
  },
  {
   "cell_type": "code",
   "execution_count": 16,
   "id": "a3728d66",
   "metadata": {
    "colab": {
     "base_uri": "https://localhost:8080/",
     "height": 265
    },
    "executionInfo": {
     "elapsed": 35,
     "status": "ok",
     "timestamp": 1630085594426,
     "user": {
      "displayName": "Abedini Tohid",
      "photoUrl": "",
      "userId": "14592010492783304561"
     },
     "user_tz": -270
    },
    "id": "a3728d66",
    "outputId": "207ff041-8c0c-481e-e282-ec3a708565e3"
   },
   "outputs": [
    {
     "data": {
      "image/png": "[encoded data removed]",
      "text/plain": [
       "<Figure size 432x288 with 1 Axes>"
      ]
     },
     "metadata": {
      "needs_background": "light"
     },
     "output_type": "display_data"
    }
   ],
   "source": [
    "plot_test_and_train_metric(train_losses_MNIST_CNN, test_losses_MNIST_CNN,\"loss\")"
   ]
  },
  {
   "cell_type": "code",
   "execution_count": 17,
   "id": "1089b70c",
   "metadata": {
    "colab": {
     "base_uri": "https://localhost:8080/"
    },
    "executionInfo": {
     "elapsed": 9182,
     "status": "ok",
     "timestamp": 1630085603582,
     "user": {
      "displayName": "Abedini Tohid",
      "photoUrl": "",
      "userId": "14592010492783304561"
     },
     "user_tz": -270
    },
    "id": "1089b70c",
    "outputId": "f7653755-a805-4fce-e98a-786f9ee96fb3"
   },
   "outputs": [
    {
     "name": "stdout",
     "output_type": "stream",
     "text": [
      "train acc: 1.0\n",
      "test acc: 0.9884\n"
     ]
    }
   ],
   "source": [
    "train_acc_MNIST_CNN = acc_compouter(model_MNIST_CNN,device,train_loader_MNIST,model_mode=\"CNN\")\n",
    "print(f\"train acc: {train_acc_MNIST_Linear}\")\n",
    "\n",
    "test_acc_MNIST_CNN = acc_compouter(model_MNIST_CNN,device,test_loader_MNIST,model_mode=\"CNN\")\n",
    "print(f\"test acc: {test_acc_MNIST_CNN}\")"
   ]
  },
  {
   "cell_type": "code",
   "execution_count": 18,
   "id": "e4808943",
   "metadata": {
    "colab": {
     "base_uri": "https://localhost:8080/",
     "height": 511
    },
    "executionInfo": {
     "elapsed": 2383,
     "status": "ok",
     "timestamp": 1630085605934,
     "user": {
      "displayName": "Abedini Tohid",
      "photoUrl": "",
      "userId": "14592010492783304561"
     },
     "user_tz": -270
    },
    "id": "e4808943",
    "outputId": "a411223e-bf11-4851-c7b0-bd08cc3f28bb"
   },
   "outputs": [
    {
     "name": "stdout",
     "output_type": "stream",
     "text": [
      "Confusion matrix, without normalization\n",
      "[[ 969    1    3    0    1    0    3    0    2    1]\n",
      " [   0 1125    4    0    0    0    1    1    4    0]\n",
      " [   4    2 1010    1    0    0    2    4    8    1]\n",
      " [   0    0    5  987    0    5    0    3    3    7]\n",
      " [   0    0    1    1  963    1    6    1    2    7]\n",
      " [   3    1    0   10    2  865    3    2    5    1]\n",
      " [   4    2    3    1    4    4  938    0    2    0]\n",
      " [   0    7    8    3    0    0    0 1002    3    5]\n",
      " [   5    0    4    4    3    2    0    5  947    4]\n",
      " [   1    2    1    3    8    3    0    3    3  985]]\n"
     ]
    },
    {
     "data": {
      "image/png": "[encoded data removed]",
      "text/plain": [
       "<Figure size 432x288 with 2 Axes>"
      ]
     },
     "metadata": {
      "needs_background": "light"
     },
     "output_type": "display_data"
    }
   ],
   "source": [
    "p_test_MNIST_CNN,y_test_MNIST,x_test_MNIST = predict_model(model_MNIST_CNN,test_loader_MNIST,test_dataset_MNIST,device,model_mode=\"CNN\")\n",
    "\n",
    "cm_MNIST_CNN = confusion_matrix(y_test_MNIST,p_test_MNIST_Linear)\n",
    "plot_confusion_matrix(cm_MNIST_CNN, list(range(K_MNIST)))"
   ]
  },
  {
   "cell_type": "markdown",
   "id": "477c45f4",
   "metadata": {
    "id": "477c45f4"
   },
   "source": [
    "#### 3. Fashion Linear"
   ]
  },
  {
   "cell_type": "code",
   "execution_count": 19,
   "id": "441a4d13",
   "metadata": {
    "colab": {
     "base_uri": "https://localhost:8080/"
    },
    "executionInfo": {
     "elapsed": 891361,
     "status": "ok",
     "timestamp": 1630086497273,
     "user": {
      "displayName": "Abedini Tohid",
      "photoUrl": "",
      "userId": "14592010492783304561"
     },
     "user_tz": -270
    },
    "id": "441a4d13",
    "outputId": "75f50f62-e819-4b54-d9e2-252c050ad7f2"
   },
   "outputs": [
    {
     "name": "stdout",
     "output_type": "stream",
     "text": [
      "cuda:0\n",
      "Epoch 1/100, Train Loss: 0.6020, Test Loss: 0.4695, Duration: 0:00:09.005411\n",
      "Epoch 2/100, Train Loss: 0.4255, Test Loss: 0.4386, Duration: 0:00:08.903057\n",
      "Epoch 3/100, Train Loss: 0.3859, Test Loss: 0.4124, Duration: 0:00:08.966050\n",
      "Epoch 4/100, Train Loss: 0.3558, Test Loss: 0.3833, Duration: 0:00:09.023849\n",
      "Epoch 5/100, Train Loss: 0.3356, Test Loss: 0.3683, Duration: 0:00:08.941256\n",
      "Epoch 6/100, Train Loss: 0.3177, Test Loss: 0.3724, Duration: 0:00:08.970579\n",
      "Epoch 7/100, Train Loss: 0.3062, Test Loss: 0.3579, Duration: 0:00:08.980373\n",
      "Epoch 8/100, Train Loss: 0.2934, Test Loss: 0.3528, Duration: 0:00:08.954068\n",
      "Epoch 9/100, Train Loss: 0.2836, Test Loss: 0.3611, Duration: 0:00:08.980846\n",
      "Epoch 10/100, Train Loss: 0.2735, Test Loss: 0.3344, Duration: 0:00:09.005139\n",
      "Epoch 11/100, Train Loss: 0.2667, Test Loss: 0.3359, Duration: 0:00:08.918747\n",
      "Epoch 12/100, Train Loss: 0.2593, Test Loss: 0.3484, Duration: 0:00:08.910286\n",
      "Epoch 13/100, Train Loss: 0.2530, Test Loss: 0.3295, Duration: 0:00:08.927398\n",
      "Epoch 14/100, Train Loss: 0.2451, Test Loss: 0.3564, Duration: 0:00:09.006508\n",
      "Epoch 15/100, Train Loss: 0.2396, Test Loss: 0.3232, Duration: 0:00:08.900047\n",
      "Epoch 16/100, Train Loss: 0.2334, Test Loss: 0.3350, Duration: 0:00:08.938059\n",
      "Epoch 17/100, Train Loss: 0.2265, Test Loss: 0.3286, Duration: 0:00:08.911198\n",
      "Epoch 18/100, Train Loss: 0.2218, Test Loss: 0.3408, Duration: 0:00:08.933334\n",
      "Epoch 19/100, Train Loss: 0.2188, Test Loss: 0.3307, Duration: 0:00:08.964563\n",
      "Epoch 20/100, Train Loss: 0.2120, Test Loss: 0.3345, Duration: 0:00:08.949450\n",
      "Epoch 21/100, Train Loss: 0.2080, Test Loss: 0.3447, Duration: 0:00:08.880568\n",
      "Epoch 22/100, Train Loss: 0.2038, Test Loss: 0.3271, Duration: 0:00:08.850487\n",
      "Epoch 23/100, Train Loss: 0.2008, Test Loss: 0.3433, Duration: 0:00:08.949319\n",
      "Epoch 24/100, Train Loss: 0.1966, Test Loss: 0.3272, Duration: 0:00:08.940507\n",
      "Epoch 25/100, Train Loss: 0.1895, Test Loss: 0.3306, Duration: 0:00:08.909479\n",
      "Epoch 26/100, Train Loss: 0.1863, Test Loss: 0.3396, Duration: 0:00:08.946291\n",
      "Epoch 27/100, Train Loss: 0.1804, Test Loss: 0.3438, Duration: 0:00:09.047322\n",
      "Epoch 28/100, Train Loss: 0.1804, Test Loss: 0.3360, Duration: 0:00:08.919279\n",
      "Epoch 29/100, Train Loss: 0.1739, Test Loss: 0.3466, Duration: 0:00:08.952466\n",
      "Epoch 30/100, Train Loss: 0.1739, Test Loss: 0.3315, Duration: 0:00:08.973016\n",
      "Epoch 31/100, Train Loss: 0.1688, Test Loss: 0.3389, Duration: 0:00:08.894445\n",
      "Epoch 32/100, Train Loss: 0.1658, Test Loss: 0.3408, Duration: 0:00:08.845703\n",
      "Epoch 33/100, Train Loss: 0.1642, Test Loss: 0.3444, Duration: 0:00:08.991645\n",
      "Epoch 34/100, Train Loss: 0.1585, Test Loss: 0.3587, Duration: 0:00:08.872580\n",
      "Epoch 35/100, Train Loss: 0.1564, Test Loss: 0.3646, Duration: 0:00:08.899290\n",
      "Epoch 36/100, Train Loss: 0.1510, Test Loss: 0.3579, Duration: 0:00:08.907582\n",
      "Epoch 37/100, Train Loss: 0.1525, Test Loss: 0.3529, Duration: 0:00:09.034326\n",
      "Epoch 38/100, Train Loss: 0.1482, Test Loss: 0.3637, Duration: 0:00:08.896174\n",
      "Epoch 39/100, Train Loss: 0.1450, Test Loss: 0.3640, Duration: 0:00:08.917456\n",
      "Epoch 40/100, Train Loss: 0.1436, Test Loss: 0.3667, Duration: 0:00:08.901259\n",
      "Epoch 41/100, Train Loss: 0.1397, Test Loss: 0.3851, Duration: 0:00:08.883505\n",
      "Epoch 42/100, Train Loss: 0.1375, Test Loss: 0.3753, Duration: 0:00:08.899833\n",
      "Epoch 43/100, Train Loss: 0.1329, Test Loss: 0.3864, Duration: 0:00:08.987792\n",
      "Epoch 44/100, Train Loss: 0.1349, Test Loss: 0.3665, Duration: 0:00:08.802035\n",
      "Epoch 45/100, Train Loss: 0.1308, Test Loss: 0.3762, Duration: 0:00:08.852057\n",
      "Epoch 46/100, Train Loss: 0.1274, Test Loss: 0.3678, Duration: 0:00:08.788948\n",
      "Epoch 47/100, Train Loss: 0.1269, Test Loss: 0.3835, Duration: 0:00:08.888670\n",
      "Epoch 48/100, Train Loss: 0.1246, Test Loss: 0.3849, Duration: 0:00:08.818198\n",
      "Epoch 49/100, Train Loss: 0.1213, Test Loss: 0.3856, Duration: 0:00:08.835307\n",
      "Epoch 50/100, Train Loss: 0.1237, Test Loss: 0.3989, Duration: 0:00:08.992080\n",
      "Epoch 51/100, Train Loss: 0.1177, Test Loss: 0.3986, Duration: 0:00:08.806822\n",
      "Epoch 52/100, Train Loss: 0.1174, Test Loss: 0.4097, Duration: 0:00:08.985494\n",
      "Epoch 53/100, Train Loss: 0.1159, Test Loss: 0.3921, Duration: 0:00:08.951971\n",
      "Epoch 54/100, Train Loss: 0.1144, Test Loss: 0.3943, Duration: 0:00:08.830484\n",
      "Epoch 55/100, Train Loss: 0.1077, Test Loss: 0.4133, Duration: 0:00:08.791938\n",
      "Epoch 56/100, Train Loss: 0.1084, Test Loss: 0.4132, Duration: 0:00:08.907012\n",
      "Epoch 57/100, Train Loss: 0.1089, Test Loss: 0.4106, Duration: 0:00:08.883334\n",
      "Epoch 58/100, Train Loss: 0.1052, Test Loss: 0.4112, Duration: 0:00:08.986423\n",
      "Epoch 59/100, Train Loss: 0.1048, Test Loss: 0.4157, Duration: 0:00:08.962745\n",
      "Epoch 60/100, Train Loss: 0.1031, Test Loss: 0.4277, Duration: 0:00:08.921516\n",
      "Epoch 61/100, Train Loss: 0.0997, Test Loss: 0.4395, Duration: 0:00:08.908020\n",
      "Epoch 62/100, Train Loss: 0.1022, Test Loss: 0.4421, Duration: 0:00:08.995345\n",
      "Epoch 63/100, Train Loss: 0.0960, Test Loss: 0.4490, Duration: 0:00:08.864884\n",
      "Epoch 64/100, Train Loss: 0.0938, Test Loss: 0.4528, Duration: 0:00:08.961742\n",
      "Epoch 65/100, Train Loss: 0.0946, Test Loss: 0.4365, Duration: 0:00:08.887590\n",
      "Epoch 66/100, Train Loss: 0.0917, Test Loss: 0.4560, Duration: 0:00:08.810392\n",
      "Epoch 67/100, Train Loss: 0.0932, Test Loss: 0.4426, Duration: 0:00:08.948575\n",
      "Epoch 68/100, Train Loss: 0.0882, Test Loss: 0.4709, Duration: 0:00:08.870941\n",
      "Epoch 69/100, Train Loss: 0.0892, Test Loss: 0.4679, Duration: 0:00:08.875879\n",
      "Epoch 70/100, Train Loss: 0.0875, Test Loss: 0.4565, Duration: 0:00:08.861726\n",
      "Epoch 71/100, Train Loss: 0.0855, Test Loss: 0.4583, Duration: 0:00:08.888375\n",
      "Epoch 72/100, Train Loss: 0.0847, Test Loss: 0.4624, Duration: 0:00:08.982352\n",
      "Epoch 73/100, Train Loss: 0.0844, Test Loss: 0.4786, Duration: 0:00:08.896599\n",
      "Epoch 74/100, Train Loss: 0.0840, Test Loss: 0.4797, Duration: 0:00:08.926589\n",
      "Epoch 75/100, Train Loss: 0.0789, Test Loss: 0.4837, Duration: 0:00:08.870784\n",
      "Epoch 76/100, Train Loss: 0.0787, Test Loss: 0.4693, Duration: 0:00:08.878397\n",
      "Epoch 77/100, Train Loss: 0.0782, Test Loss: 0.5334, Duration: 0:00:08.901968\n",
      "Epoch 78/100, Train Loss: 0.0788, Test Loss: 0.5015, Duration: 0:00:08.932234\n",
      "Epoch 79/100, Train Loss: 0.0758, Test Loss: 0.4926, Duration: 0:00:08.899818\n",
      "Epoch 80/100, Train Loss: 0.0754, Test Loss: 0.5125, Duration: 0:00:09.045761\n",
      "Epoch 81/100, Train Loss: 0.0725, Test Loss: 0.4965, Duration: 0:00:08.913956\n",
      "Epoch 82/100, Train Loss: 0.0706, Test Loss: 0.4950, Duration: 0:00:08.889484\n",
      "Epoch 83/100, Train Loss: 0.0712, Test Loss: 0.5157, Duration: 0:00:08.957465\n",
      "Epoch 84/100, Train Loss: 0.0729, Test Loss: 0.5073, Duration: 0:00:08.808099\n",
      "Epoch 85/100, Train Loss: 0.0736, Test Loss: 0.5094, Duration: 0:00:08.968215\n",
      "Epoch 86/100, Train Loss: 0.0680, Test Loss: 0.5139, Duration: 0:00:08.833457\n",
      "Epoch 87/100, Train Loss: 0.0672, Test Loss: 0.5143, Duration: 0:00:08.911395\n",
      "Epoch 88/100, Train Loss: 0.0697, Test Loss: 0.5490, Duration: 0:00:08.894890\n",
      "Epoch 89/100, Train Loss: 0.0660, Test Loss: 0.5472, Duration: 0:00:08.926347\n",
      "Epoch 90/100, Train Loss: 0.0643, Test Loss: 0.5379, Duration: 0:00:08.818122\n",
      "Epoch 91/100, Train Loss: 0.0628, Test Loss: 0.5317, Duration: 0:00:08.887221\n",
      "Epoch 92/100, Train Loss: 0.0631, Test Loss: 0.5383, Duration: 0:00:08.886105\n",
      "Epoch 93/100, Train Loss: 0.0648, Test Loss: 0.5491, Duration: 0:00:08.973800\n",
      "Epoch 94/100, Train Loss: 0.0592, Test Loss: 0.5534, Duration: 0:00:08.929234\n",
      "Epoch 95/100, Train Loss: 0.0640, Test Loss: 0.5564, Duration: 0:00:08.760289\n",
      "Epoch 96/100, Train Loss: 0.0597, Test Loss: 0.5733, Duration: 0:00:08.901390\n",
      "Epoch 97/100, Train Loss: 0.0614, Test Loss: 0.5577, Duration: 0:00:08.880258\n",
      "Epoch 98/100, Train Loss: 0.0577, Test Loss: 0.5492, Duration: 0:00:08.929494\n",
      "Epoch 99/100, Train Loss: 0.0586, Test Loss: 0.5642, Duration: 0:00:08.881020\n",
      "Epoch 100/100, Train Loss: 0.0570, Test Loss: 0.5618, Duration: 0:00:08.883264\n"
     ]
    }
   ],
   "source": [
    "model_Fashion_Linear, train_losses_Fashion_Linear, test_losses_Fashion_Linear, _ ,train_loader_Fashion, test_loader_Fashion = create_model_and_train(K_Fashion,train_dataset_Fashion,test_dataset_Fashion,model_mode=\"Linear\",batch_size=128,n_epochs=100)"
   ]
  },
  {
   "cell_type": "code",
   "execution_count": 20,
   "id": "e4577dba",
   "metadata": {
    "colab": {
     "base_uri": "https://localhost:8080/",
     "height": 265
    },
    "executionInfo": {
     "elapsed": 70,
     "status": "ok",
     "timestamp": 1630086497282,
     "user": {
      "displayName": "Abedini Tohid",
      "photoUrl": "",
      "userId": "14592010492783304561"
     },
     "user_tz": -270
    },
    "id": "e4577dba",
    "outputId": "accdabbd-dfa8-447e-ff04-d0cc8087439a"
   },
   "outputs": [
    {
     "data": {
      "image/png": "[encoded data removed]",
      "text/plain": [
       "<Figure size 432x288 with 1 Axes>"
      ]
     },
     "metadata": {
      "needs_background": "light"
     },
     "output_type": "display_data"
    }
   ],
   "source": [
    "plot_test_and_train_metric(train_losses_Fashion_Linear, test_losses_Fashion_Linear,\"loss\")"
   ]
  },
  {
   "cell_type": "code",
   "execution_count": 21,
   "id": "8c63430b",
   "metadata": {
    "colab": {
     "base_uri": "https://localhost:8080/"
    },
    "executionInfo": {
     "elapsed": 8398,
     "status": "ok",
     "timestamp": 1630086505634,
     "user": {
      "displayName": "Abedini Tohid",
      "photoUrl": "",
      "userId": "14592010492783304561"
     },
     "user_tz": -270
    },
    "id": "8c63430b",
    "outputId": "ea032dd5-8a04-42c1-f6d9-ac6dee02fa02"
   },
   "outputs": [
    {
     "name": "stdout",
     "output_type": "stream",
     "text": [
      "train acc: 0.9827166666666667\n",
      "test acc: 0.8864\n"
     ]
    }
   ],
   "source": [
    "train_acc_Fashion_Linear = acc_compouter(model_Fashion_Linear,device,train_loader_Fashion,model_mode=\"Linear\")\n",
    "print(f\"train acc: {train_acc_Fashion_Linear}\")\n",
    "\n",
    "test_acc_Fashion_Linear = acc_compouter(model_Fashion_Linear,device,test_loader_Fashion,model_mode=\"Linear\")\n",
    "print(f\"test acc: {test_acc_Fashion_Linear}\")"
   ]
  },
  {
   "cell_type": "code",
   "execution_count": 22,
   "id": "410c49c5",
   "metadata": {
    "colab": {
     "base_uri": "https://localhost:8080/",
     "height": 511
    },
    "executionInfo": {
     "elapsed": 2034,
     "status": "ok",
     "timestamp": 1630086507645,
     "user": {
      "displayName": "Abedini Tohid",
      "photoUrl": "",
      "userId": "14592010492783304561"
     },
     "user_tz": -270
    },
    "id": "410c49c5",
    "outputId": "7c816129-3c47-4adc-fea5-56cf60d6e0c4"
   },
   "outputs": [
    {
     "name": "stdout",
     "output_type": "stream",
     "text": [
      "Confusion matrix, without normalization\n",
      "[[835   3  18  19   7   1 109   2   6   0]\n",
      " [  1 982   1   6   4   0   4   0   2   0]\n",
      " [ 19   1 752  10 135   2  80   0   1   0]\n",
      " [ 29   9  13 866  41   1  37   0   3   1]\n",
      " [  0   0  42  26 873   0  58   0   1   0]\n",
      " [  2   0   0   1   0 954   0  29   2  12]\n",
      " [113   2  75  18  72   1 710   0   8   1]\n",
      " [  0   0   0   0   0  11   0 958   0  31]\n",
      " [  8   0   5   4   1   3   5   4 970   0]\n",
      " [  0   0   0   0   0  10   1  25   0 964]]\n"
     ]
    },
    {
     "data": {
      "image/png": "[encoded data removed]",
      "text/plain": [
       "<Figure size 432x288 with 2 Axes>"
      ]
     },
     "metadata": {
      "needs_background": "light"
     },
     "output_type": "display_data"
    }
   ],
   "source": [
    "p_test_Fashion_Linear,y_test_Fashion,x_test_Fashion = predict_model(model_Fashion_Linear,test_loader_Fashion,test_dataset_Fashion,device,model_mode=\"Linear\")\n",
    "\n",
    "cm_Fashion_Linear = confusion_matrix(y_test_Fashion,p_test_Fashion_Linear)\n",
    "plot_confusion_matrix(cm_Fashion_Linear, list(range(K_Fashion)))"
   ]
  },
  {
   "cell_type": "markdown",
   "id": "9bd61948",
   "metadata": {
    "id": "9bd61948"
   },
   "source": [
    "#### 4. Fashion CNN"
   ]
  },
  {
   "cell_type": "code",
   "execution_count": 23,
   "id": "70def2d8",
   "metadata": {
    "colab": {
     "base_uri": "https://localhost:8080/"
    },
    "executionInfo": {
     "elapsed": 1207042,
     "status": "ok",
     "timestamp": 1630087714668,
     "user": {
      "displayName": "Abedini Tohid",
      "photoUrl": "",
      "userId": "14592010492783304561"
     },
     "user_tz": -270
    },
    "id": "70def2d8",
    "outputId": "40d5bd7c-1e10-40ad-f86e-f122be972cef"
   },
   "outputs": [
    {
     "name": "stdout",
     "output_type": "stream",
     "text": [
      "cuda:0\n",
      "Epoch 1/100, Train Loss: 0.6497, Test Loss: 0.5049, Duration: 0:00:12.027514\n",
      "Epoch 2/100, Train Loss: 0.4335, Test Loss: 0.4187, Duration: 0:00:12.027050\n",
      "Epoch 3/100, Train Loss: 0.3775, Test Loss: 0.3875, Duration: 0:00:11.953763\n",
      "Epoch 4/100, Train Loss: 0.3417, Test Loss: 0.3581, Duration: 0:00:12.116054\n",
      "Epoch 5/100, Train Loss: 0.3176, Test Loss: 0.3578, Duration: 0:00:12.024386\n",
      "Epoch 6/100, Train Loss: 0.2929, Test Loss: 0.3447, Duration: 0:00:12.092977\n",
      "Epoch 7/100, Train Loss: 0.2739, Test Loss: 0.3209, Duration: 0:00:11.987522\n",
      "Epoch 8/100, Train Loss: 0.2584, Test Loss: 0.3239, Duration: 0:00:12.069683\n",
      "Epoch 9/100, Train Loss: 0.2442, Test Loss: 0.3229, Duration: 0:00:11.986163\n",
      "Epoch 10/100, Train Loss: 0.2292, Test Loss: 0.3089, Duration: 0:00:12.031731\n",
      "Epoch 11/100, Train Loss: 0.2171, Test Loss: 0.3220, Duration: 0:00:11.936875\n",
      "Epoch 12/100, Train Loss: 0.2060, Test Loss: 0.3075, Duration: 0:00:12.004446\n",
      "Epoch 13/100, Train Loss: 0.1951, Test Loss: 0.3146, Duration: 0:00:11.922483\n",
      "Epoch 14/100, Train Loss: 0.1875, Test Loss: 0.3229, Duration: 0:00:11.954772\n",
      "Epoch 15/100, Train Loss: 0.1753, Test Loss: 0.3236, Duration: 0:00:12.053810\n",
      "Epoch 16/100, Train Loss: 0.1663, Test Loss: 0.3310, Duration: 0:00:12.004804\n",
      "Epoch 17/100, Train Loss: 0.1583, Test Loss: 0.3342, Duration: 0:00:12.138905\n",
      "Epoch 18/100, Train Loss: 0.1490, Test Loss: 0.3459, Duration: 0:00:12.040635\n",
      "Epoch 19/100, Train Loss: 0.1437, Test Loss: 0.3574, Duration: 0:00:12.143310\n",
      "Epoch 20/100, Train Loss: 0.1347, Test Loss: 0.3475, Duration: 0:00:12.028448\n",
      "Epoch 21/100, Train Loss: 0.1284, Test Loss: 0.3753, Duration: 0:00:12.055090\n",
      "Epoch 22/100, Train Loss: 0.1218, Test Loss: 0.3623, Duration: 0:00:12.029970\n",
      "Epoch 23/100, Train Loss: 0.1178, Test Loss: 0.3759, Duration: 0:00:12.003640\n",
      "Epoch 24/100, Train Loss: 0.1130, Test Loss: 0.3900, Duration: 0:00:12.084502\n",
      "Epoch 25/100, Train Loss: 0.1091, Test Loss: 0.3744, Duration: 0:00:12.002684\n",
      "Epoch 26/100, Train Loss: 0.1030, Test Loss: 0.3997, Duration: 0:00:12.034202\n",
      "Epoch 27/100, Train Loss: 0.0988, Test Loss: 0.3900, Duration: 0:00:12.032932\n",
      "Epoch 28/100, Train Loss: 0.0950, Test Loss: 0.4178, Duration: 0:00:12.074266\n",
      "Epoch 29/100, Train Loss: 0.0939, Test Loss: 0.4252, Duration: 0:00:12.032206\n",
      "Epoch 30/100, Train Loss: 0.0872, Test Loss: 0.4221, Duration: 0:00:12.126305\n",
      "Epoch 31/100, Train Loss: 0.0865, Test Loss: 0.4527, Duration: 0:00:11.897415\n",
      "Epoch 32/100, Train Loss: 0.0831, Test Loss: 0.4649, Duration: 0:00:12.119011\n",
      "Epoch 33/100, Train Loss: 0.0810, Test Loss: 0.4712, Duration: 0:00:12.054026\n",
      "Epoch 34/100, Train Loss: 0.0770, Test Loss: 0.4678, Duration: 0:00:12.187273\n",
      "Epoch 35/100, Train Loss: 0.0759, Test Loss: 0.4637, Duration: 0:00:12.133988\n",
      "Epoch 36/100, Train Loss: 0.0733, Test Loss: 0.4670, Duration: 0:00:12.066254\n",
      "Epoch 37/100, Train Loss: 0.0717, Test Loss: 0.4934, Duration: 0:00:11.902078\n",
      "Epoch 38/100, Train Loss: 0.0680, Test Loss: 0.5001, Duration: 0:00:12.168368\n",
      "Epoch 39/100, Train Loss: 0.0671, Test Loss: 0.5127, Duration: 0:00:12.130316\n",
      "Epoch 40/100, Train Loss: 0.0686, Test Loss: 0.4873, Duration: 0:00:12.102743\n",
      "Epoch 41/100, Train Loss: 0.0649, Test Loss: 0.5252, Duration: 0:00:12.057084\n",
      "Epoch 42/100, Train Loss: 0.0620, Test Loss: 0.5279, Duration: 0:00:12.128631\n",
      "Epoch 43/100, Train Loss: 0.0606, Test Loss: 0.5337, Duration: 0:00:12.150483\n",
      "Epoch 44/100, Train Loss: 0.0591, Test Loss: 0.5548, Duration: 0:00:12.043685\n",
      "Epoch 45/100, Train Loss: 0.0590, Test Loss: 0.5231, Duration: 0:00:12.084540\n",
      "Epoch 46/100, Train Loss: 0.0547, Test Loss: 0.5212, Duration: 0:00:12.052753\n",
      "Epoch 47/100, Train Loss: 0.0574, Test Loss: 0.5305, Duration: 0:00:12.061652\n",
      "Epoch 48/100, Train Loss: 0.0549, Test Loss: 0.5431, Duration: 0:00:12.161324\n",
      "Epoch 49/100, Train Loss: 0.0561, Test Loss: 0.5582, Duration: 0:00:12.047265\n",
      "Epoch 50/100, Train Loss: 0.0555, Test Loss: 0.5579, Duration: 0:00:12.118506\n",
      "Epoch 51/100, Train Loss: 0.0529, Test Loss: 0.5750, Duration: 0:00:12.056475\n",
      "Epoch 52/100, Train Loss: 0.0531, Test Loss: 0.5895, Duration: 0:00:12.130681\n",
      "Epoch 53/100, Train Loss: 0.0469, Test Loss: 0.6151, Duration: 0:00:12.058526\n",
      "Epoch 54/100, Train Loss: 0.0530, Test Loss: 0.5472, Duration: 0:00:12.025955\n",
      "Epoch 55/100, Train Loss: 0.0518, Test Loss: 0.6089, Duration: 0:00:12.028527\n",
      "Epoch 56/100, Train Loss: 0.0477, Test Loss: 0.5990, Duration: 0:00:11.991339\n",
      "Epoch 57/100, Train Loss: 0.0465, Test Loss: 0.5943, Duration: 0:00:12.178362\n",
      "Epoch 58/100, Train Loss: 0.0477, Test Loss: 0.6043, Duration: 0:00:12.162051\n",
      "Epoch 59/100, Train Loss: 0.0473, Test Loss: 0.6134, Duration: 0:00:12.158658\n",
      "Epoch 60/100, Train Loss: 0.0464, Test Loss: 0.6229, Duration: 0:00:12.114013\n",
      "Epoch 61/100, Train Loss: 0.0466, Test Loss: 0.6133, Duration: 0:00:12.081329\n",
      "Epoch 62/100, Train Loss: 0.0456, Test Loss: 0.6595, Duration: 0:00:12.086652\n",
      "Epoch 63/100, Train Loss: 0.0427, Test Loss: 0.6415, Duration: 0:00:12.113755\n",
      "Epoch 64/100, Train Loss: 0.0441, Test Loss: 0.6595, Duration: 0:00:12.046734\n",
      "Epoch 65/100, Train Loss: 0.0437, Test Loss: 0.6668, Duration: 0:00:11.982549\n",
      "Epoch 66/100, Train Loss: 0.0418, Test Loss: 0.6518, Duration: 0:00:12.025513\n",
      "Epoch 67/100, Train Loss: 0.0436, Test Loss: 0.6504, Duration: 0:00:12.029737\n",
      "Epoch 68/100, Train Loss: 0.0446, Test Loss: 0.6523, Duration: 0:00:12.014020\n",
      "Epoch 69/100, Train Loss: 0.0416, Test Loss: 0.6367, Duration: 0:00:12.138921\n",
      "Epoch 70/100, Train Loss: 0.0421, Test Loss: 0.6710, Duration: 0:00:12.063409\n",
      "Epoch 71/100, Train Loss: 0.0411, Test Loss: 0.6420, Duration: 0:00:12.169453\n",
      "Epoch 72/100, Train Loss: 0.0414, Test Loss: 0.6970, Duration: 0:00:12.209808\n",
      "Epoch 73/100, Train Loss: 0.0401, Test Loss: 0.6993, Duration: 0:00:12.192455\n",
      "Epoch 74/100, Train Loss: 0.0407, Test Loss: 0.6710, Duration: 0:00:12.072393\n",
      "Epoch 75/100, Train Loss: 0.0401, Test Loss: 0.6870, Duration: 0:00:12.087821\n",
      "Epoch 76/100, Train Loss: 0.0370, Test Loss: 0.6960, Duration: 0:00:12.093680\n",
      "Epoch 77/100, Train Loss: 0.0380, Test Loss: 0.6925, Duration: 0:00:12.259440\n",
      "Epoch 78/100, Train Loss: 0.0397, Test Loss: 0.6823, Duration: 0:00:12.094393\n",
      "Epoch 79/100, Train Loss: 0.0402, Test Loss: 0.7149, Duration: 0:00:12.174845\n",
      "Epoch 80/100, Train Loss: 0.0376, Test Loss: 0.6933, Duration: 0:00:12.094102\n",
      "Epoch 81/100, Train Loss: 0.0375, Test Loss: 0.7294, Duration: 0:00:12.017666\n",
      "Epoch 82/100, Train Loss: 0.0377, Test Loss: 0.7093, Duration: 0:00:12.098753\n",
      "Epoch 83/100, Train Loss: 0.0361, Test Loss: 0.7089, Duration: 0:00:12.141190\n",
      "Epoch 84/100, Train Loss: 0.0368, Test Loss: 0.7171, Duration: 0:00:12.042257\n",
      "Epoch 85/100, Train Loss: 0.0350, Test Loss: 0.7057, Duration: 0:00:12.187213\n",
      "Epoch 86/100, Train Loss: 0.0395, Test Loss: 0.6782, Duration: 0:00:12.036603\n",
      "Epoch 87/100, Train Loss: 0.0360, Test Loss: 0.7238, Duration: 0:00:12.167237\n",
      "Epoch 88/100, Train Loss: 0.0368, Test Loss: 0.6909, Duration: 0:00:12.111086\n",
      "Epoch 89/100, Train Loss: 0.0342, Test Loss: 0.7374, Duration: 0:00:12.089614\n",
      "Epoch 90/100, Train Loss: 0.0393, Test Loss: 0.6907, Duration: 0:00:12.120426\n",
      "Epoch 91/100, Train Loss: 0.0341, Test Loss: 0.7236, Duration: 0:00:11.896039\n",
      "Epoch 92/100, Train Loss: 0.0359, Test Loss: 0.6972, Duration: 0:00:11.940094\n",
      "Epoch 93/100, Train Loss: 0.0352, Test Loss: 0.7579, Duration: 0:00:11.940176\n",
      "Epoch 94/100, Train Loss: 0.0354, Test Loss: 0.6981, Duration: 0:00:11.875061\n",
      "Epoch 95/100, Train Loss: 0.0358, Test Loss: 0.8235, Duration: 0:00:11.997172\n",
      "Epoch 96/100, Train Loss: 0.0335, Test Loss: 0.7987, Duration: 0:00:12.001549\n",
      "Epoch 97/100, Train Loss: 0.0362, Test Loss: 0.7718, Duration: 0:00:12.096656\n",
      "Epoch 98/100, Train Loss: 0.0330, Test Loss: 0.7235, Duration: 0:00:12.151607\n",
      "Epoch 99/100, Train Loss: 0.0319, Test Loss: 0.7468, Duration: 0:00:12.134069\n",
      "Epoch 100/100, Train Loss: 0.0375, Test Loss: 0.7863, Duration: 0:00:12.035966\n"
     ]
    }
   ],
   "source": [
    "model_Fashion_CNN, train_losses_Fashion_CNN, test_losses_Fashion_CNN, _ ,train_loader_Fashion, test_loader_Fashion = create_model_and_train(K_Fashion,train_dataset_Fashion,test_dataset_Fashion,model_mode=\"CNN\",batch_size=128,n_epochs=100)"
   ]
  },
  {
   "cell_type": "code",
   "execution_count": 24,
   "id": "09267fc1",
   "metadata": {
    "colab": {
     "base_uri": "https://localhost:8080/",
     "height": 265
    },
    "executionInfo": {
     "elapsed": 46,
     "status": "ok",
     "timestamp": 1630087714677,
     "user": {
      "displayName": "Abedini Tohid",
      "photoUrl": "",
      "userId": "14592010492783304561"
     },
     "user_tz": -270
    },
    "id": "09267fc1",
    "outputId": "d5f6bcfd-d3dd-4656-f5fa-3abd7a701278"
   },
   "outputs": [
    {
     "data": {
      "image/png": "[encoded data removed]",
      "text/plain": [
       "<Figure size 432x288 with 1 Axes>"
      ]
     },
     "metadata": {
      "needs_background": "light"
     },
     "output_type": "display_data"
    }
   ],
   "source": [
    "plot_test_and_train_metric(train_losses_Fashion_CNN, test_losses_Fashion_CNN,\"loss\")"
   ]
  },
  {
   "cell_type": "code",
   "execution_count": 25,
   "id": "0b2852f6",
   "metadata": {
    "colab": {
     "base_uri": "https://localhost:8080/"
    },
    "executionInfo": {
     "elapsed": 9135,
     "status": "ok",
     "timestamp": 1630087723788,
     "user": {
      "displayName": "Abedini Tohid",
      "photoUrl": "",
      "userId": "14592010492783304561"
     },
     "user_tz": -270
    },
    "id": "0b2852f6",
    "outputId": "22a26d4b-ea3a-42b5-b634-2ada7087f709"
   },
   "outputs": [
    {
     "name": "stdout",
     "output_type": "stream",
     "text": [
      "train acc: 0.98945\n",
      "test acc: 0.8956\n"
     ]
    }
   ],
   "source": [
    "train_acc_Fashion_CNN = acc_compouter(model_Fashion_CNN,device,train_loader_Fashion,model_mode=\"CNN\")\n",
    "print(f\"train acc: {train_acc_Fashion_CNN}\")\n",
    "\n",
    "test_acc_Fashion_CNN = acc_compouter(model_Fashion_CNN,device,test_loader_Fashion,model_mode=\"CNN\")\n",
    "print(f\"test acc: {test_acc_Fashion_CNN}\")"
   ]
  },
  {
   "cell_type": "code",
   "execution_count": 26,
   "id": "52271bc9",
   "metadata": {
    "colab": {
     "base_uri": "https://localhost:8080/",
     "height": 511
    },
    "executionInfo": {
     "elapsed": 2685,
     "status": "ok",
     "timestamp": 1630087726466,
     "user": {
      "displayName": "Abedini Tohid",
      "photoUrl": "",
      "userId": "14592010492783304561"
     },
     "user_tz": -270
    },
    "id": "52271bc9",
    "outputId": "ea9bbfeb-02c0-43f0-fb67-d6731ae52439"
   },
   "outputs": [
    {
     "name": "stdout",
     "output_type": "stream",
     "text": [
      "Confusion matrix, without normalization\n",
      "[[835   3  18  19   7   1 109   2   6   0]\n",
      " [  1 982   1   6   4   0   4   0   2   0]\n",
      " [ 19   1 752  10 135   2  80   0   1   0]\n",
      " [ 29   9  13 866  41   1  37   0   3   1]\n",
      " [  0   0  42  26 873   0  58   0   1   0]\n",
      " [  2   0   0   1   0 954   0  29   2  12]\n",
      " [113   2  75  18  72   1 710   0   8   1]\n",
      " [  0   0   0   0   0  11   0 958   0  31]\n",
      " [  8   0   5   4   1   3   5   4 970   0]\n",
      " [  0   0   0   0   0  10   1  25   0 964]]\n"
     ]
    },
    {
     "data": {
      "image/png": "[encoded data removed]",
      "text/plain": [
       "<Figure size 432x288 with 2 Axes>"
      ]
     },
     "metadata": {
      "needs_background": "light"
     },
     "output_type": "display_data"
    }
   ],
   "source": [
    "p_test_Fashion_CNN,y_test_Fashion,x_test_Fashion = predict_model(model_Fashion_CNN,test_loader_Fashion,test_dataset_Fashion,device,model_mode=\"CNN\")\n",
    "\n",
    "cm_Fashion_CNN = confusion_matrix(y_test_Fashion,p_test_Fashion_Linear)\n",
    "plot_confusion_matrix(cm_Fashion_CNN, list(range(K_Fashion)))"
   ]
  },
  {
   "cell_type": "code",
   "execution_count": 1,
   "id": "ea8942be",
   "metadata": {
    "executionInfo": {
     "elapsed": 60,
     "status": "ok",
     "timestamp": 1630087726473,
     "user": {
      "displayName": "Abedini Tohid",
      "photoUrl": "",
      "userId": "14592010492783304561"
     },
     "user_tz": -270
    },
    "id": "ea8942be"
   },
   "outputs": [],
   "source": [
    "fashion_labels = '''Tshirt/top\n",
    "Trouser\n",
    "Pullover\n",
    "Dress\n",
    "Coat\n",
    "Sandal\n",
    "Shirt\n",
    "Sneaker\n",
    "Bag\n",
    "Ankle boot\n",
    "'''.split(\"\\n\")"
   ]
  },
  {
   "cell_type": "code",
   "execution_count": 28,
   "id": "9abc5cad",
   "metadata": {
    "colab": {
     "base_uri": "https://localhost:8080/",
     "height": 281
    },
    "executionInfo": {
     "elapsed": 59,
     "status": "ok",
     "timestamp": 1630087726476,
     "user": {
      "displayName": "Abedini Tohid",
      "photoUrl": "",
      "userId": "14592010492783304561"
     },
     "user_tz": -270
    },
    "id": "9abc5cad",
    "outputId": "56650db5-f314-476b-a42d-f7e2cd583560"
   },
   "outputs": [
    {
     "data": {
      "image/png": "[encoded data removed]",
      "text/plain": [
       "<Figure size 432x288 with 1 Axes>"
      ]
     },
     "metadata": {
      "needs_background": "light"
     },
     "output_type": "display_data"
    }
   ],
   "source": [
    "p_test_Fashion_CNN = p_test_Fashion_CNN.astype(np.uint8)\n",
    "misclassified_idx = np.where(p_test_Fashion_CNN!=y_test_Fashion)[0]\n",
    "i = np.random.choice(misclassified_idx)\n",
    "plt.imshow(x_test_Fashion[i],cmap=\"gray\")\n",
    "plt.title(\"True label: %s Predicted: %s\" % (fashion_labels[y_test_Fashion[i]], fashion_labels[int(p_test_Fashion_CNN[i])]));"
   ]
  },
  {
   "cell_type": "code",
   "execution_count": null,
   "id": "4f95ec37",
   "metadata": {
    "id": "4f95ec37"
   },
   "outputs": [],
   "source": []
  }
 ],
 "metadata": {
  "accelerator": "GPU",
  "colab": {
   "collapsed_sections": [],
   "name": "5.9-CNN Fashion MNIST.ipynb",
   "provenance": []
  },
  "kernelspec": {
   "display_name": "Python 3",
   "language": "python",
   "name": "python3"
  },
  "language_info": {
   "codemirror_mode": {
    "name": "ipython",
    "version": 3
   },
   "file_extension": ".py",
   "mimetype": "text/x-python",
   "name": "python",
   "nbconvert_exporter": "python",
   "pygments_lexer": "ipython3",
   "version": "3.7.9"
  },
  "widgets": {
   "application/vnd.jupyter.widget-state+json": {
    "03e6910fc2b849309f7a5b4f1e8fa57d": {
     "model_module": "@jupyter-widgets/base",
     "model_module_version": "1.2.0",
     "model_name": "LayoutModel",
     "state": {
      "_model_module": "@jupyter-widgets/base",
      "_model_module_version": "1.2.0",
      "_model_name": "LayoutModel",
      "_view_count": null,
      "_view_module": "@jupyter-widgets/base",
      "_view_module_version": "1.2.0",
      "_view_name": "LayoutView",
      "align_content": null,
      "align_items": null,
      "align_self": null,
      "border": null,
      "bottom": null,
      "display": null,
      "flex": null,
      "flex_flow": null,
      "grid_area": null,
      "grid_auto_columns": null,
      "grid_auto_flow": null,
      "grid_auto_rows": null,
      "grid_column": null,
      "grid_gap": null,
      "grid_row": null,
      "grid_template_areas": null,
      "grid_template_columns": null,
      "grid_template_rows": null,
      "height": null,
      "justify_content": null,
      "justify_items": null,
      "left": null,
      "margin": null,
      "max_height": null,
      "max_width": null,
      "min_height": null,
      "min_width": null,
      "object_fit": null,
      "object_position": null,
      "order": null,
      "overflow": null,
      "overflow_x": null,
      "overflow_y": null,
      "padding": null,
      "right": null,
      "top": null,
      "visibility": null,
      "width": null
     }
    },
    "0d7dcdb63aa04b11a5ceb960097aeacc": {
     "model_module": "@jupyter-widgets/base",
     "model_module_version": "1.2.0",
     "model_name": "LayoutModel",
     "state": {
      "_model_module": "@jupyter-widgets/base",
      "_model_module_version": "1.2.0",
      "_model_name": "LayoutModel",
      "_view_count": null,
      "_view_module": "@jupyter-widgets/base",
      "_view_module_version": "1.2.0",
      "_view_name": "LayoutView",
      "align_content": null,
      "align_items": null,
      "align_self": null,
      "border": null,
      "bottom": null,
      "display": null,
      "flex": null,
      "flex_flow": null,
      "grid_area": null,
      "grid_auto_columns": null,
      "grid_auto_flow": null,
      "grid_auto_rows": null,
      "grid_column": null,
      "grid_gap": null,
      "grid_row": null,
      "grid_template_areas": null,
      "grid_template_columns": null,
      "grid_template_rows": null,
      "height": null,
      "justify_content": null,
      "justify_items": null,
      "left": null,
      "margin": null,
      "max_height": null,
      "max_width": null,
      "min_height": null,
      "min_width": null,
      "object_fit": null,
      "object_position": null,
      "order": null,
      "overflow": null,
      "overflow_x": null,
      "overflow_y": null,
      "padding": null,
      "right": null,
      "top": null,
      "visibility": null,
      "width": null
     }
    },
    "189e1ed5538246c78813bfca86c72d38": {
     "model_module": "@jupyter-widgets/controls",
     "model_module_version": "1.5.0",
     "model_name": "FloatProgressModel",
     "state": {
      "_dom_classes": [],
      "_model_module": "@jupyter-widgets/controls",
      "_model_module_version": "1.5.0",
      "_model_name": "FloatProgressModel",
      "_view_count": null,
      "_view_module": "@jupyter-widgets/controls",
      "_view_module_version": "1.5.0",
      "_view_name": "ProgressView",
      "bar_style": "success",
      "description": "",
      "description_tooltip": null,
      "layout": "IPY_MODEL_96dff203e45d46bfbea0aba2f967821d",
      "max": 28881,
      "min": 0,
      "orientation": "horizontal",
      "style": "IPY_MODEL_5fb4241a5111468ca2b74f1469087369",
      "value": 28881
     }
    },
    "19e9ef18bd9442a7965c005c01c67773": {
     "model_module": "@jupyter-widgets/controls",
     "model_module_version": "1.5.0",
     "model_name": "ProgressStyleModel",
     "state": {
      "_model_module": "@jupyter-widgets/controls",
      "_model_module_version": "1.5.0",
      "_model_name": "ProgressStyleModel",
      "_view_count": null,
      "_view_module": "@jupyter-widgets/base",
      "_view_module_version": "1.2.0",
      "_view_name": "StyleView",
      "bar_color": null,
      "description_width": ""
     }
    },
    "1b08096984904191b4f2a64315b4431d": {
     "model_module": "@jupyter-widgets/controls",
     "model_module_version": "1.5.0",
     "model_name": "HTMLModel",
     "state": {
      "_dom_classes": [],
      "_model_module": "@jupyter-widgets/controls",
      "_model_module_version": "1.5.0",
      "_model_name": "HTMLModel",
      "_view_count": null,
      "_view_module": "@jupyter-widgets/controls",
      "_view_module_version": "1.5.0",
      "_view_name": "HTMLView",
      "description": "",
      "description_tooltip": null,
      "layout": "IPY_MODEL_a22bf46287474c0ca6662a2fd298a413",
      "placeholder": "​",
      "style": "IPY_MODEL_91e698624364422cb9e445123aed95c4",
      "value": " 6144/? [00:00&lt;00:00, 104972.50it/s]"
     }
    },
    "1c9433e19e1348cba2dd81af4eeb9d50": {
     "model_module": "@jupyter-widgets/controls",
     "model_module_version": "1.5.0",
     "model_name": "HBoxModel",
     "state": {
      "_dom_classes": [],
      "_model_module": "@jupyter-widgets/controls",
      "_model_module_version": "1.5.0",
      "_model_name": "HBoxModel",
      "_view_count": null,
      "_view_module": "@jupyter-widgets/controls",
      "_view_module_version": "1.5.0",
      "_view_name": "HBoxView",
      "box_style": "",
      "children": [
       "IPY_MODEL_ac96059af7ec45d6a199dfe75590e78e",
       "IPY_MODEL_d668860b54b140aa8fbfda1989db837d",
       "IPY_MODEL_714f1b4f495d4cfc8252537ed52b121c"
      ],
      "layout": "IPY_MODEL_ec8e5c895777457390436068d01d23c2"
     }
    },
    "1cea582cd000405194a6de1c01ae253e": {
     "model_module": "@jupyter-widgets/base",
     "model_module_version": "1.2.0",
     "model_name": "LayoutModel",
     "state": {
      "_model_module": "@jupyter-widgets/base",
      "_model_module_version": "1.2.0",
      "_model_name": "LayoutModel",
      "_view_count": null,
      "_view_module": "@jupyter-widgets/base",
      "_view_module_version": "1.2.0",
      "_view_name": "LayoutView",
      "align_content": null,
      "align_items": null,
      "align_self": null,
      "border": null,
      "bottom": null,
      "display": null,
      "flex": null,
      "flex_flow": null,
      "grid_area": null,
      "grid_auto_columns": null,
      "grid_auto_flow": null,
      "grid_auto_rows": null,
      "grid_column": null,
      "grid_gap": null,
      "grid_row": null,
      "grid_template_areas": null,
      "grid_template_columns": null,
      "grid_template_rows": null,
      "height": null,
      "justify_content": null,
      "justify_items": null,
      "left": null,
      "margin": null,
      "max_height": null,
      "max_width": null,
      "min_height": null,
      "min_width": null,
      "object_fit": null,
      "object_position": null,
      "order": null,
      "overflow": null,
      "overflow_x": null,
      "overflow_y": null,
      "padding": null,
      "right": null,
      "top": null,
      "visibility": null,
      "width": null
     }
    },
    "25954b7145ed4ba8a7d5d4da992ae1ac": {
     "model_module": "@jupyter-widgets/controls",
     "model_module_version": "1.5.0",
     "model_name": "FloatProgressModel",
     "state": {
      "_dom_classes": [],
      "_model_module": "@jupyter-widgets/controls",
      "_model_module_version": "1.5.0",
      "_model_name": "FloatProgressModel",
      "_view_count": null,
      "_view_module": "@jupyter-widgets/controls",
      "_view_module_version": "1.5.0",
      "_view_name": "ProgressView",
      "bar_style": "success",
      "description": "",
      "description_tooltip": null,
      "layout": "IPY_MODEL_cbcda3f896a143a28d7e120400fbd528",
      "max": 29515,
      "min": 0,
      "orientation": "horizontal",
      "style": "IPY_MODEL_2fecc386b54143b8aa5b5add6e34e070",
      "value": 29515
     }
    },
    "269ec76eec194d5d9a0bcad47f96e4fa": {
     "model_module": "@jupyter-widgets/controls",
     "model_module_version": "1.5.0",
     "model_name": "DescriptionStyleModel",
     "state": {
      "_model_module": "@jupyter-widgets/controls",
      "_model_module_version": "1.5.0",
      "_model_name": "DescriptionStyleModel",
      "_view_count": null,
      "_view_module": "@jupyter-widgets/base",
      "_view_module_version": "1.2.0",
      "_view_name": "StyleView",
      "description_width": ""
     }
    },
    "2a5f313adc8e425c95a9edb2b91c5999": {
     "model_module": "@jupyter-widgets/controls",
     "model_module_version": "1.5.0",
     "model_name": "FloatProgressModel",
     "state": {
      "_dom_classes": [],
      "_model_module": "@jupyter-widgets/controls",
      "_model_module_version": "1.5.0",
      "_model_name": "FloatProgressModel",
      "_view_count": null,
      "_view_module": "@jupyter-widgets/controls",
      "_view_module_version": "1.5.0",
      "_view_name": "ProgressView",
      "bar_style": "success",
      "description": "",
      "description_tooltip": null,
      "layout": "IPY_MODEL_ca53baaae0334366bc10cbace5c6ec73",
      "max": 4542,
      "min": 0,
      "orientation": "horizontal",
      "style": "IPY_MODEL_70002f7cca0642dc952ab1ca22920d14",
      "value": 4542
     }
    },
    "2d69bd04104b46b1a95794222fd18ebf": {
     "model_module": "@jupyter-widgets/controls",
     "model_module_version": "1.5.0",
     "model_name": "ProgressStyleModel",
     "state": {
      "_model_module": "@jupyter-widgets/controls",
      "_model_module_version": "1.5.0",
      "_model_name": "ProgressStyleModel",
      "_view_count": null,
      "_view_module": "@jupyter-widgets/base",
      "_view_module_version": "1.2.0",
      "_view_name": "StyleView",
      "bar_color": null,
      "description_width": ""
     }
    },
    "2eba511346f645b7b69df588854809f2": {
     "model_module": "@jupyter-widgets/base",
     "model_module_version": "1.2.0",
     "model_name": "LayoutModel",
     "state": {
      "_model_module": "@jupyter-widgets/base",
      "_model_module_version": "1.2.0",
      "_model_name": "LayoutModel",
      "_view_count": null,
      "_view_module": "@jupyter-widgets/base",
      "_view_module_version": "1.2.0",
      "_view_name": "LayoutView",
      "align_content": null,
      "align_items": null,
      "align_self": null,
      "border": null,
      "bottom": null,
      "display": null,
      "flex": null,
      "flex_flow": null,
      "grid_area": null,
      "grid_auto_columns": null,
      "grid_auto_flow": null,
      "grid_auto_rows": null,
      "grid_column": null,
      "grid_gap": null,
      "grid_row": null,
      "grid_template_areas": null,
      "grid_template_columns": null,
      "grid_template_rows": null,
      "height": null,
      "justify_content": null,
      "justify_items": null,
      "left": null,
      "margin": null,
      "max_height": null,
      "max_width": null,
      "min_height": null,
      "min_width": null,
      "object_fit": null,
      "object_position": null,
      "order": null,
      "overflow": null,
      "overflow_x": null,
      "overflow_y": null,
      "padding": null,
      "right": null,
      "top": null,
      "visibility": null,
      "width": null
     }
    },
    "2fbb35dc9b8b4768aa69ac0f3bab706f": {
     "model_module": "@jupyter-widgets/controls",
     "model_module_version": "1.5.0",
     "model_name": "FloatProgressModel",
     "state": {
      "_dom_classes": [],
      "_model_module": "@jupyter-widgets/controls",
      "_model_module_version": "1.5.0",
      "_model_name": "FloatProgressModel",
      "_view_count": null,
      "_view_module": "@jupyter-widgets/controls",
      "_view_module_version": "1.5.0",
      "_view_name": "ProgressView",
      "bar_style": "success",
      "description": "",
      "description_tooltip": null,
      "layout": "IPY_MODEL_e0081028a853400d99dbfbd899e1d9fb",
      "max": 4422102,
      "min": 0,
      "orientation": "horizontal",
      "style": "IPY_MODEL_e1cadbc142f14699a760d4e0bcfb8877",
      "value": 4422102
     }
    },
    "2fecc386b54143b8aa5b5add6e34e070": {
     "model_module": "@jupyter-widgets/controls",
     "model_module_version": "1.5.0",
     "model_name": "ProgressStyleModel",
     "state": {
      "_model_module": "@jupyter-widgets/controls",
      "_model_module_version": "1.5.0",
      "_model_name": "ProgressStyleModel",
      "_view_count": null,
      "_view_module": "@jupyter-widgets/base",
      "_view_module_version": "1.2.0",
      "_view_name": "StyleView",
      "bar_color": null,
      "description_width": ""
     }
    },
    "33cb75aea5b246739e13d592b40ef0fa": {
     "model_module": "@jupyter-widgets/base",
     "model_module_version": "1.2.0",
     "model_name": "LayoutModel",
     "state": {
      "_model_module": "@jupyter-widgets/base",
      "_model_module_version": "1.2.0",
      "_model_name": "LayoutModel",
      "_view_count": null,
      "_view_module": "@jupyter-widgets/base",
      "_view_module_version": "1.2.0",
      "_view_name": "LayoutView",
      "align_content": null,
      "align_items": null,
      "align_self": null,
      "border": null,
      "bottom": null,
      "display": null,
      "flex": null,
      "flex_flow": null,
      "grid_area": null,
      "grid_auto_columns": null,
      "grid_auto_flow": null,
      "grid_auto_rows": null,
      "grid_column": null,
      "grid_gap": null,
      "grid_row": null,
      "grid_template_areas": null,
      "grid_template_columns": null,
      "grid_template_rows": null,
      "height": null,
      "justify_content": null,
      "justify_items": null,
      "left": null,
      "margin": null,
      "max_height": null,
      "max_width": null,
      "min_height": null,
      "min_width": null,
      "object_fit": null,
      "object_position": null,
      "order": null,
      "overflow": null,
      "overflow_x": null,
      "overflow_y": null,
      "padding": null,
      "right": null,
      "top": null,
      "visibility": null,
      "width": null
     }
    },
    "33fbecac6a4a4d059840f3584921d101": {
     "model_module": "@jupyter-widgets/controls",
     "model_module_version": "1.5.0",
     "model_name": "FloatProgressModel",
     "state": {
      "_dom_classes": [],
      "_model_module": "@jupyter-widgets/controls",
      "_model_module_version": "1.5.0",
      "_model_name": "FloatProgressModel",
      "_view_count": null,
      "_view_module": "@jupyter-widgets/controls",
      "_view_module_version": "1.5.0",
      "_view_name": "ProgressView",
      "bar_style": "success",
      "description": "",
      "description_tooltip": null,
      "layout": "IPY_MODEL_9b4f441cddd14152a935b5eb9cfb9906",
      "max": 9912422,
      "min": 0,
      "orientation": "horizontal",
      "style": "IPY_MODEL_78b580351a004222aaf94459c9beadf6",
      "value": 9912422
     }
    },
    "37351f0dd11649969d435f6a1a737f38": {
     "model_module": "@jupyter-widgets/controls",
     "model_module_version": "1.5.0",
     "model_name": "DescriptionStyleModel",
     "state": {
      "_model_module": "@jupyter-widgets/controls",
      "_model_module_version": "1.5.0",
      "_model_name": "DescriptionStyleModel",
      "_view_count": null,
      "_view_module": "@jupyter-widgets/base",
      "_view_module_version": "1.2.0",
      "_view_name": "StyleView",
      "description_width": ""
     }
    },
    "37b5870206f749e189dbc8d032f0fa7e": {
     "model_module": "@jupyter-widgets/controls",
     "model_module_version": "1.5.0",
     "model_name": "HTMLModel",
     "state": {
      "_dom_classes": [],
      "_model_module": "@jupyter-widgets/controls",
      "_model_module_version": "1.5.0",
      "_model_name": "HTMLModel",
      "_view_count": null,
      "_view_module": "@jupyter-widgets/controls",
      "_view_module_version": "1.5.0",
      "_view_name": "HTMLView",
      "description": "",
      "description_tooltip": null,
      "layout": "IPY_MODEL_a541f444ebb541179c54dfe8cca0149a",
      "placeholder": "​",
      "style": "IPY_MODEL_269ec76eec194d5d9a0bcad47f96e4fa",
      "value": ""
     }
    },
    "394f00f2b03445c0b60bf8c60479d37e": {
     "model_module": "@jupyter-widgets/controls",
     "model_module_version": "1.5.0",
     "model_name": "HTMLModel",
     "state": {
      "_dom_classes": [],
      "_model_module": "@jupyter-widgets/controls",
      "_model_module_version": "1.5.0",
      "_model_name": "HTMLModel",
      "_view_count": null,
      "_view_module": "@jupyter-widgets/controls",
      "_view_module_version": "1.5.0",
      "_view_name": "HTMLView",
      "description": "",
      "description_tooltip": null,
      "layout": "IPY_MODEL_6dc1e9f53f9a46f5b5fa98f1bc681d72",
      "placeholder": "​",
      "style": "IPY_MODEL_d03056d096404204a01e75206d16e4ce",
      "value": ""
     }
    },
    "39bf7659f75848e084c4cf4dd147d230": {
     "model_module": "@jupyter-widgets/controls",
     "model_module_version": "1.5.0",
     "model_name": "DescriptionStyleModel",
     "state": {
      "_model_module": "@jupyter-widgets/controls",
      "_model_module_version": "1.5.0",
      "_model_name": "DescriptionStyleModel",
      "_view_count": null,
      "_view_module": "@jupyter-widgets/base",
      "_view_module_version": "1.2.0",
      "_view_name": "StyleView",
      "description_width": ""
     }
    },
    "3a866477c57c40c5bd240d5f1b147bc5": {
     "model_module": "@jupyter-widgets/base",
     "model_module_version": "1.2.0",
     "model_name": "LayoutModel",
     "state": {
      "_model_module": "@jupyter-widgets/base",
      "_model_module_version": "1.2.0",
      "_model_name": "LayoutModel",
      "_view_count": null,
      "_view_module": "@jupyter-widgets/base",
      "_view_module_version": "1.2.0",
      "_view_name": "LayoutView",
      "align_content": null,
      "align_items": null,
      "align_self": null,
      "border": null,
      "bottom": null,
      "display": null,
      "flex": null,
      "flex_flow": null,
      "grid_area": null,
      "grid_auto_columns": null,
      "grid_auto_flow": null,
      "grid_auto_rows": null,
      "grid_column": null,
      "grid_gap": null,
      "grid_row": null,
      "grid_template_areas": null,
      "grid_template_columns": null,
      "grid_template_rows": null,
      "height": null,
      "justify_content": null,
      "justify_items": null,
      "left": null,
      "margin": null,
      "max_height": null,
      "max_width": null,
      "min_height": null,
      "min_width": null,
      "object_fit": null,
      "object_position": null,
      "order": null,
      "overflow": null,
      "overflow_x": null,
      "overflow_y": null,
      "padding": null,
      "right": null,
      "top": null,
      "visibility": null,
      "width": null
     }
    },
    "3ba867d8becf4914a2bd1d0644104d79": {
     "model_module": "@jupyter-widgets/controls",
     "model_module_version": "1.5.0",
     "model_name": "HBoxModel",
     "state": {
      "_dom_classes": [],
      "_model_module": "@jupyter-widgets/controls",
      "_model_module_version": "1.5.0",
      "_model_name": "HBoxModel",
      "_view_count": null,
      "_view_module": "@jupyter-widgets/controls",
      "_view_module_version": "1.5.0",
      "_view_name": "HBoxView",
      "box_style": "",
      "children": [
       "IPY_MODEL_8f86c7a413884d88b52ae359af842531",
       "IPY_MODEL_641453f301d24aaa91bcc9290d5d3021",
       "IPY_MODEL_1b08096984904191b4f2a64315b4431d"
      ],
      "layout": "IPY_MODEL_da36c713dfc04342b23fdd07d6bf5b2c"
     }
    },
    "43d63597e884483aaeeeb20180ca9e99": {
     "model_module": "@jupyter-widgets/base",
     "model_module_version": "1.2.0",
     "model_name": "LayoutModel",
     "state": {
      "_model_module": "@jupyter-widgets/base",
      "_model_module_version": "1.2.0",
      "_model_name": "LayoutModel",
      "_view_count": null,
      "_view_module": "@jupyter-widgets/base",
      "_view_module_version": "1.2.0",
      "_view_name": "LayoutView",
      "align_content": null,
      "align_items": null,
      "align_self": null,
      "border": null,
      "bottom": null,
      "display": null,
      "flex": null,
      "flex_flow": null,
      "grid_area": null,
      "grid_auto_columns": null,
      "grid_auto_flow": null,
      "grid_auto_rows": null,
      "grid_column": null,
      "grid_gap": null,
      "grid_row": null,
      "grid_template_areas": null,
      "grid_template_columns": null,
      "grid_template_rows": null,
      "height": null,
      "justify_content": null,
      "justify_items": null,
      "left": null,
      "margin": null,
      "max_height": null,
      "max_width": null,
      "min_height": null,
      "min_width": null,
      "object_fit": null,
      "object_position": null,
      "order": null,
      "overflow": null,
      "overflow_x": null,
      "overflow_y": null,
      "padding": null,
      "right": null,
      "top": null,
      "visibility": null,
      "width": null
     }
    },
    "4677adc1484b4a5f9c6e500485d40d8b": {
     "model_module": "@jupyter-widgets/controls",
     "model_module_version": "1.5.0",
     "model_name": "DescriptionStyleModel",
     "state": {
      "_model_module": "@jupyter-widgets/controls",
      "_model_module_version": "1.5.0",
      "_model_name": "DescriptionStyleModel",
      "_view_count": null,
      "_view_module": "@jupyter-widgets/base",
      "_view_module_version": "1.2.0",
      "_view_name": "StyleView",
      "description_width": ""
     }
    },
    "46a19bd9ba4d44c3b4e73b3541940b6c": {
     "model_module": "@jupyter-widgets/controls",
     "model_module_version": "1.5.0",
     "model_name": "DescriptionStyleModel",
     "state": {
      "_model_module": "@jupyter-widgets/controls",
      "_model_module_version": "1.5.0",
      "_model_name": "DescriptionStyleModel",
      "_view_count": null,
      "_view_module": "@jupyter-widgets/base",
      "_view_module_version": "1.2.0",
      "_view_name": "StyleView",
      "description_width": ""
     }
    },
    "4aca9dd5b4584399a2303c5fdec0d8f2": {
     "model_module": "@jupyter-widgets/controls",
     "model_module_version": "1.5.0",
     "model_name": "HTMLModel",
     "state": {
      "_dom_classes": [],
      "_model_module": "@jupyter-widgets/controls",
      "_model_module_version": "1.5.0",
      "_model_name": "HTMLModel",
      "_view_count": null,
      "_view_module": "@jupyter-widgets/controls",
      "_view_module_version": "1.5.0",
      "_view_name": "HTMLView",
      "description": "",
      "description_tooltip": null,
      "layout": "IPY_MODEL_3a866477c57c40c5bd240d5f1b147bc5",
      "placeholder": "​",
      "style": "IPY_MODEL_46a19bd9ba4d44c3b4e73b3541940b6c",
      "value": " 1649664/? [00:00&lt;00:00, 15920937.67it/s]"
     }
    },
    "4c1f0401a4df4d52b46a6c4b45e36729": {
     "model_module": "@jupyter-widgets/controls",
     "model_module_version": "1.5.0",
     "model_name": "DescriptionStyleModel",
     "state": {
      "_model_module": "@jupyter-widgets/controls",
      "_model_module_version": "1.5.0",
      "_model_name": "DescriptionStyleModel",
      "_view_count": null,
      "_view_module": "@jupyter-widgets/base",
      "_view_module_version": "1.2.0",
      "_view_name": "StyleView",
      "description_width": ""
     }
    },
    "4d95f23e6d65457c9e9d09bcedfc527a": {
     "model_module": "@jupyter-widgets/controls",
     "model_module_version": "1.5.0",
     "model_name": "HTMLModel",
     "state": {
      "_dom_classes": [],
      "_model_module": "@jupyter-widgets/controls",
      "_model_module_version": "1.5.0",
      "_model_name": "HTMLModel",
      "_view_count": null,
      "_view_module": "@jupyter-widgets/controls",
      "_view_module_version": "1.5.0",
      "_view_name": "HTMLView",
      "description": "",
      "description_tooltip": null,
      "layout": "IPY_MODEL_5d5dc9ce884a45f9ba8fa86676139b4a",
      "placeholder": "​",
      "style": "IPY_MODEL_4c1f0401a4df4d52b46a6c4b45e36729",
      "value": ""
     }
    },
    "5613fc461c0d443d836aad5fb06c1e63": {
     "model_module": "@jupyter-widgets/base",
     "model_module_version": "1.2.0",
     "model_name": "LayoutModel",
     "state": {
      "_model_module": "@jupyter-widgets/base",
      "_model_module_version": "1.2.0",
      "_model_name": "LayoutModel",
      "_view_count": null,
      "_view_module": "@jupyter-widgets/base",
      "_view_module_version": "1.2.0",
      "_view_name": "LayoutView",
      "align_content": null,
      "align_items": null,
      "align_self": null,
      "border": null,
      "bottom": null,
      "display": null,
      "flex": null,
      "flex_flow": null,
      "grid_area": null,
      "grid_auto_columns": null,
      "grid_auto_flow": null,
      "grid_auto_rows": null,
      "grid_column": null,
      "grid_gap": null,
      "grid_row": null,
      "grid_template_areas": null,
      "grid_template_columns": null,
      "grid_template_rows": null,
      "height": null,
      "justify_content": null,
      "justify_items": null,
      "left": null,
      "margin": null,
      "max_height": null,
      "max_width": null,
      "min_height": null,
      "min_width": null,
      "object_fit": null,
      "object_position": null,
      "order": null,
      "overflow": null,
      "overflow_x": null,
      "overflow_y": null,
      "padding": null,
      "right": null,
      "top": null,
      "visibility": null,
      "width": null
     }
    },
    "578b1b33889b472cb6c91f7ae4d4bb08": {
     "model_module": "@jupyter-widgets/controls",
     "model_module_version": "1.5.0",
     "model_name": "HTMLModel",
     "state": {
      "_dom_classes": [],
      "_model_module": "@jupyter-widgets/controls",
      "_model_module_version": "1.5.0",
      "_model_name": "HTMLModel",
      "_view_count": null,
      "_view_module": "@jupyter-widgets/controls",
      "_view_module_version": "1.5.0",
      "_view_name": "HTMLView",
      "description": "",
      "description_tooltip": null,
      "layout": "IPY_MODEL_5bfde68de4954453aac7fe346748d2fc",
      "placeholder": "​",
      "style": "IPY_MODEL_37351f0dd11649969d435f6a1a737f38",
      "value": " 4422656/? [00:00&lt;00:00, 19937732.71it/s]"
     }
    },
    "5b6b47c69a5f4c02bd75f2adf02db9bc": {
     "model_module": "@jupyter-widgets/controls",
     "model_module_version": "1.5.0",
     "model_name": "HTMLModel",
     "state": {
      "_dom_classes": [],
      "_model_module": "@jupyter-widgets/controls",
      "_model_module_version": "1.5.0",
      "_model_name": "HTMLModel",
      "_view_count": null,
      "_view_module": "@jupyter-widgets/controls",
      "_view_module_version": "1.5.0",
      "_view_name": "HTMLView",
      "description": "",
      "description_tooltip": null,
      "layout": "IPY_MODEL_6e777bc7818e470fb912ac7281b19eb5",
      "placeholder": "​",
      "style": "IPY_MODEL_b93670d788b94bbcbc16e505c45de6dc",
      "value": ""
     }
    },
    "5bfde68de4954453aac7fe346748d2fc": {
     "model_module": "@jupyter-widgets/base",
     "model_module_version": "1.2.0",
     "model_name": "LayoutModel",
     "state": {
      "_model_module": "@jupyter-widgets/base",
      "_model_module_version": "1.2.0",
      "_model_name": "LayoutModel",
      "_view_count": null,
      "_view_module": "@jupyter-widgets/base",
      "_view_module_version": "1.2.0",
      "_view_name": "LayoutView",
      "align_content": null,
      "align_items": null,
      "align_self": null,
      "border": null,
      "bottom": null,
      "display": null,
      "flex": null,
      "flex_flow": null,
      "grid_area": null,
      "grid_auto_columns": null,
      "grid_auto_flow": null,
      "grid_auto_rows": null,
      "grid_column": null,
      "grid_gap": null,
      "grid_row": null,
      "grid_template_areas": null,
      "grid_template_columns": null,
      "grid_template_rows": null,
      "height": null,
      "justify_content": null,
      "justify_items": null,
      "left": null,
      "margin": null,
      "max_height": null,
      "max_width": null,
      "min_height": null,
      "min_width": null,
      "object_fit": null,
      "object_position": null,
      "order": null,
      "overflow": null,
      "overflow_x": null,
      "overflow_y": null,
      "padding": null,
      "right": null,
      "top": null,
      "visibility": null,
      "width": null
     }
    },
    "5c2827b039c2482a9089f0c8fc40e6f7": {
     "model_module": "@jupyter-widgets/base",
     "model_module_version": "1.2.0",
     "model_name": "LayoutModel",
     "state": {
      "_model_module": "@jupyter-widgets/base",
      "_model_module_version": "1.2.0",
      "_model_name": "LayoutModel",
      "_view_count": null,
      "_view_module": "@jupyter-widgets/base",
      "_view_module_version": "1.2.0",
      "_view_name": "LayoutView",
      "align_content": null,
      "align_items": null,
      "align_self": null,
      "border": null,
      "bottom": null,
      "display": null,
      "flex": null,
      "flex_flow": null,
      "grid_area": null,
      "grid_auto_columns": null,
      "grid_auto_flow": null,
      "grid_auto_rows": null,
      "grid_column": null,
      "grid_gap": null,
      "grid_row": null,
      "grid_template_areas": null,
      "grid_template_columns": null,
      "grid_template_rows": null,
      "height": null,
      "justify_content": null,
      "justify_items": null,
      "left": null,
      "margin": null,
      "max_height": null,
      "max_width": null,
      "min_height": null,
      "min_width": null,
      "object_fit": null,
      "object_position": null,
      "order": null,
      "overflow": null,
      "overflow_x": null,
      "overflow_y": null,
      "padding": null,
      "right": null,
      "top": null,
      "visibility": null,
      "width": null
     }
    },
    "5d5dc9ce884a45f9ba8fa86676139b4a": {
     "model_module": "@jupyter-widgets/base",
     "model_module_version": "1.2.0",
     "model_name": "LayoutModel",
     "state": {
      "_model_module": "@jupyter-widgets/base",
      "_model_module_version": "1.2.0",
      "_model_name": "LayoutModel",
      "_view_count": null,
      "_view_module": "@jupyter-widgets/base",
      "_view_module_version": "1.2.0",
      "_view_name": "LayoutView",
      "align_content": null,
      "align_items": null,
      "align_self": null,
      "border": null,
      "bottom": null,
      "display": null,
      "flex": null,
      "flex_flow": null,
      "grid_area": null,
      "grid_auto_columns": null,
      "grid_auto_flow": null,
      "grid_auto_rows": null,
      "grid_column": null,
      "grid_gap": null,
      "grid_row": null,
      "grid_template_areas": null,
      "grid_template_columns": null,
      "grid_template_rows": null,
      "height": null,
      "justify_content": null,
      "justify_items": null,
      "left": null,
      "margin": null,
      "max_height": null,
      "max_width": null,
      "min_height": null,
      "min_width": null,
      "object_fit": null,
      "object_position": null,
      "order": null,
      "overflow": null,
      "overflow_x": null,
      "overflow_y": null,
      "padding": null,
      "right": null,
      "top": null,
      "visibility": null,
      "width": null
     }
    },
    "5fb4241a5111468ca2b74f1469087369": {
     "model_module": "@jupyter-widgets/controls",
     "model_module_version": "1.5.0",
     "model_name": "ProgressStyleModel",
     "state": {
      "_model_module": "@jupyter-widgets/controls",
      "_model_module_version": "1.5.0",
      "_model_name": "ProgressStyleModel",
      "_view_count": null,
      "_view_module": "@jupyter-widgets/base",
      "_view_module_version": "1.2.0",
      "_view_name": "StyleView",
      "bar_color": null,
      "description_width": ""
     }
    },
    "641453f301d24aaa91bcc9290d5d3021": {
     "model_module": "@jupyter-widgets/controls",
     "model_module_version": "1.5.0",
     "model_name": "FloatProgressModel",
     "state": {
      "_dom_classes": [],
      "_model_module": "@jupyter-widgets/controls",
      "_model_module_version": "1.5.0",
      "_model_name": "FloatProgressModel",
      "_view_count": null,
      "_view_module": "@jupyter-widgets/controls",
      "_view_module_version": "1.5.0",
      "_view_name": "ProgressView",
      "bar_style": "success",
      "description": "",
      "description_tooltip": null,
      "layout": "IPY_MODEL_bbf53c52db9f4a30bd304c19c1ed8157",
      "max": 5148,
      "min": 0,
      "orientation": "horizontal",
      "style": "IPY_MODEL_2d69bd04104b46b1a95794222fd18ebf",
      "value": 5148
     }
    },
    "661d45b2bb514efc91f16e2f437a19f4": {
     "model_module": "@jupyter-widgets/controls",
     "model_module_version": "1.5.0",
     "model_name": "DescriptionStyleModel",
     "state": {
      "_model_module": "@jupyter-widgets/controls",
      "_model_module_version": "1.5.0",
      "_model_name": "DescriptionStyleModel",
      "_view_count": null,
      "_view_module": "@jupyter-widgets/base",
      "_view_module_version": "1.2.0",
      "_view_name": "StyleView",
      "description_width": ""
     }
    },
    "6a48ad5e6ec04fd191d0a5a761ae9f83": {
     "model_module": "@jupyter-widgets/controls",
     "model_module_version": "1.5.0",
     "model_name": "DescriptionStyleModel",
     "state": {
      "_model_module": "@jupyter-widgets/controls",
      "_model_module_version": "1.5.0",
      "_model_name": "DescriptionStyleModel",
      "_view_count": null,
      "_view_module": "@jupyter-widgets/base",
      "_view_module_version": "1.2.0",
      "_view_name": "StyleView",
      "description_width": ""
     }
    },
    "6dc1e9f53f9a46f5b5fa98f1bc681d72": {
     "model_module": "@jupyter-widgets/base",
     "model_module_version": "1.2.0",
     "model_name": "LayoutModel",
     "state": {
      "_model_module": "@jupyter-widgets/base",
      "_model_module_version": "1.2.0",
      "_model_name": "LayoutModel",
      "_view_count": null,
      "_view_module": "@jupyter-widgets/base",
      "_view_module_version": "1.2.0",
      "_view_name": "LayoutView",
      "align_content": null,
      "align_items": null,
      "align_self": null,
      "border": null,
      "bottom": null,
      "display": null,
      "flex": null,
      "flex_flow": null,
      "grid_area": null,
      "grid_auto_columns": null,
      "grid_auto_flow": null,
      "grid_auto_rows": null,
      "grid_column": null,
      "grid_gap": null,
      "grid_row": null,
      "grid_template_areas": null,
      "grid_template_columns": null,
      "grid_template_rows": null,
      "height": null,
      "justify_content": null,
      "justify_items": null,
      "left": null,
      "margin": null,
      "max_height": null,
      "max_width": null,
      "min_height": null,
      "min_width": null,
      "object_fit": null,
      "object_position": null,
      "order": null,
      "overflow": null,
      "overflow_x": null,
      "overflow_y": null,
      "padding": null,
      "right": null,
      "top": null,
      "visibility": null,
      "width": null
     }
    },
    "6e777bc7818e470fb912ac7281b19eb5": {
     "model_module": "@jupyter-widgets/base",
     "model_module_version": "1.2.0",
     "model_name": "LayoutModel",
     "state": {
      "_model_module": "@jupyter-widgets/base",
      "_model_module_version": "1.2.0",
      "_model_name": "LayoutModel",
      "_view_count": null,
      "_view_module": "@jupyter-widgets/base",
      "_view_module_version": "1.2.0",
      "_view_name": "LayoutView",
      "align_content": null,
      "align_items": null,
      "align_self": null,
      "border": null,
      "bottom": null,
      "display": null,
      "flex": null,
      "flex_flow": null,
      "grid_area": null,
      "grid_auto_columns": null,
      "grid_auto_flow": null,
      "grid_auto_rows": null,
      "grid_column": null,
      "grid_gap": null,
      "grid_row": null,
      "grid_template_areas": null,
      "grid_template_columns": null,
      "grid_template_rows": null,
      "height": null,
      "justify_content": null,
      "justify_items": null,
      "left": null,
      "margin": null,
      "max_height": null,
      "max_width": null,
      "min_height": null,
      "min_width": null,
      "object_fit": null,
      "object_position": null,
      "order": null,
      "overflow": null,
      "overflow_x": null,
      "overflow_y": null,
      "padding": null,
      "right": null,
      "top": null,
      "visibility": null,
      "width": null
     }
    },
    "6f8f644668174cdfa4e3ed13d1f29ee1": {
     "model_module": "@jupyter-widgets/controls",
     "model_module_version": "1.5.0",
     "model_name": "HTMLModel",
     "state": {
      "_dom_classes": [],
      "_model_module": "@jupyter-widgets/controls",
      "_model_module_version": "1.5.0",
      "_model_name": "HTMLModel",
      "_view_count": null,
      "_view_module": "@jupyter-widgets/controls",
      "_view_module_version": "1.5.0",
      "_view_name": "HTMLView",
      "description": "",
      "description_tooltip": null,
      "layout": "IPY_MODEL_fe46974fd8ed4422bf2639b187769488",
      "placeholder": "​",
      "style": "IPY_MODEL_cd0fbf6d8123475487d2dd48e3f4d7da",
      "value": ""
     }
    },
    "70002f7cca0642dc952ab1ca22920d14": {
     "model_module": "@jupyter-widgets/controls",
     "model_module_version": "1.5.0",
     "model_name": "ProgressStyleModel",
     "state": {
      "_model_module": "@jupyter-widgets/controls",
      "_model_module_version": "1.5.0",
      "_model_name": "ProgressStyleModel",
      "_view_count": null,
      "_view_module": "@jupyter-widgets/base",
      "_view_module_version": "1.2.0",
      "_view_name": "StyleView",
      "bar_color": null,
      "description_width": ""
     }
    },
    "714f1b4f495d4cfc8252537ed52b121c": {
     "model_module": "@jupyter-widgets/controls",
     "model_module_version": "1.5.0",
     "model_name": "HTMLModel",
     "state": {
      "_dom_classes": [],
      "_model_module": "@jupyter-widgets/controls",
      "_model_module_version": "1.5.0",
      "_model_name": "HTMLModel",
      "_view_count": null,
      "_view_module": "@jupyter-widgets/controls",
      "_view_module_version": "1.5.0",
      "_view_name": "HTMLView",
      "description": "",
      "description_tooltip": null,
      "layout": "IPY_MODEL_5c2827b039c2482a9089f0c8fc40e6f7",
      "placeholder": "​",
      "style": "IPY_MODEL_6a48ad5e6ec04fd191d0a5a761ae9f83",
      "value": " 26422272/? [00:00&lt;00:00, 75068665.68it/s]"
     }
    },
    "78b580351a004222aaf94459c9beadf6": {
     "model_module": "@jupyter-widgets/controls",
     "model_module_version": "1.5.0",
     "model_name": "ProgressStyleModel",
     "state": {
      "_model_module": "@jupyter-widgets/controls",
      "_model_module_version": "1.5.0",
      "_model_name": "ProgressStyleModel",
      "_view_count": null,
      "_view_module": "@jupyter-widgets/base",
      "_view_module_version": "1.2.0",
      "_view_name": "StyleView",
      "bar_color": null,
      "description_width": ""
     }
    },
    "792702be778d4c4ca02ee71b04a87d69": {
     "model_module": "@jupyter-widgets/controls",
     "model_module_version": "1.5.0",
     "model_name": "HBoxModel",
     "state": {
      "_dom_classes": [],
      "_model_module": "@jupyter-widgets/controls",
      "_model_module_version": "1.5.0",
      "_model_name": "HBoxModel",
      "_view_count": null,
      "_view_module": "@jupyter-widgets/controls",
      "_view_module_version": "1.5.0",
      "_view_name": "HBoxView",
      "box_style": "",
      "children": [
       "IPY_MODEL_37b5870206f749e189dbc8d032f0fa7e",
       "IPY_MODEL_2a5f313adc8e425c95a9edb2b91c5999",
       "IPY_MODEL_e9e4fb0ded3240b192dbc89f4c4e1b05"
      ],
      "layout": "IPY_MODEL_ceec7f4913d84ca49de7fc7a5da3f539"
     }
    },
    "7b7c59575cea4988a039549c0f53fd34": {
     "model_module": "@jupyter-widgets/controls",
     "model_module_version": "1.5.0",
     "model_name": "HTMLModel",
     "state": {
      "_dom_classes": [],
      "_model_module": "@jupyter-widgets/controls",
      "_model_module_version": "1.5.0",
      "_model_name": "HTMLModel",
      "_view_count": null,
      "_view_module": "@jupyter-widgets/controls",
      "_view_module_version": "1.5.0",
      "_view_name": "HTMLView",
      "description": "",
      "description_tooltip": null,
      "layout": "IPY_MODEL_b06889bc93d642e083a29bddb90a6d3f",
      "placeholder": "​",
      "style": "IPY_MODEL_39bf7659f75848e084c4cf4dd147d230",
      "value": " 29696/? [00:00&lt;00:00, 672149.74it/s]"
     }
    },
    "7f1b303ac4fc4c89a5f04ca89891813f": {
     "model_module": "@jupyter-widgets/controls",
     "model_module_version": "1.5.0",
     "model_name": "DescriptionStyleModel",
     "state": {
      "_model_module": "@jupyter-widgets/controls",
      "_model_module_version": "1.5.0",
      "_model_name": "DescriptionStyleModel",
      "_view_count": null,
      "_view_module": "@jupyter-widgets/base",
      "_view_module_version": "1.2.0",
      "_view_name": "StyleView",
      "description_width": ""
     }
    },
    "848e80769df94d728753351e8b51e69c": {
     "model_module": "@jupyter-widgets/controls",
     "model_module_version": "1.5.0",
     "model_name": "ProgressStyleModel",
     "state": {
      "_model_module": "@jupyter-widgets/controls",
      "_model_module_version": "1.5.0",
      "_model_name": "ProgressStyleModel",
      "_view_count": null,
      "_view_module": "@jupyter-widgets/base",
      "_view_module_version": "1.2.0",
      "_view_name": "StyleView",
      "bar_color": null,
      "description_width": ""
     }
    },
    "8f86c7a413884d88b52ae359af842531": {
     "model_module": "@jupyter-widgets/controls",
     "model_module_version": "1.5.0",
     "model_name": "HTMLModel",
     "state": {
      "_dom_classes": [],
      "_model_module": "@jupyter-widgets/controls",
      "_model_module_version": "1.5.0",
      "_model_name": "HTMLModel",
      "_view_count": null,
      "_view_module": "@jupyter-widgets/controls",
      "_view_module_version": "1.5.0",
      "_view_name": "HTMLView",
      "description": "",
      "description_tooltip": null,
      "layout": "IPY_MODEL_d32f89234cbf48379161d0435e1ee156",
      "placeholder": "​",
      "style": "IPY_MODEL_a1a61b9740d1475b9b1ef5daddebcaac",
      "value": ""
     }
    },
    "91e698624364422cb9e445123aed95c4": {
     "model_module": "@jupyter-widgets/controls",
     "model_module_version": "1.5.0",
     "model_name": "DescriptionStyleModel",
     "state": {
      "_model_module": "@jupyter-widgets/controls",
      "_model_module_version": "1.5.0",
      "_model_name": "DescriptionStyleModel",
      "_view_count": null,
      "_view_module": "@jupyter-widgets/base",
      "_view_module_version": "1.2.0",
      "_view_name": "StyleView",
      "description_width": ""
     }
    },
    "92af3955e57348108e11409c65d94eec": {
     "model_module": "@jupyter-widgets/base",
     "model_module_version": "1.2.0",
     "model_name": "LayoutModel",
     "state": {
      "_model_module": "@jupyter-widgets/base",
      "_model_module_version": "1.2.0",
      "_model_name": "LayoutModel",
      "_view_count": null,
      "_view_module": "@jupyter-widgets/base",
      "_view_module_version": "1.2.0",
      "_view_name": "LayoutView",
      "align_content": null,
      "align_items": null,
      "align_self": null,
      "border": null,
      "bottom": null,
      "display": null,
      "flex": null,
      "flex_flow": null,
      "grid_area": null,
      "grid_auto_columns": null,
      "grid_auto_flow": null,
      "grid_auto_rows": null,
      "grid_column": null,
      "grid_gap": null,
      "grid_row": null,
      "grid_template_areas": null,
      "grid_template_columns": null,
      "grid_template_rows": null,
      "height": null,
      "justify_content": null,
      "justify_items": null,
      "left": null,
      "margin": null,
      "max_height": null,
      "max_width": null,
      "min_height": null,
      "min_width": null,
      "object_fit": null,
      "object_position": null,
      "order": null,
      "overflow": null,
      "overflow_x": null,
      "overflow_y": null,
      "padding": null,
      "right": null,
      "top": null,
      "visibility": null,
      "width": null
     }
    },
    "944fec0df07e4c4cbd715e20b220f177": {
     "model_module": "@jupyter-widgets/base",
     "model_module_version": "1.2.0",
     "model_name": "LayoutModel",
     "state": {
      "_model_module": "@jupyter-widgets/base",
      "_model_module_version": "1.2.0",
      "_model_name": "LayoutModel",
      "_view_count": null,
      "_view_module": "@jupyter-widgets/base",
      "_view_module_version": "1.2.0",
      "_view_name": "LayoutView",
      "align_content": null,
      "align_items": null,
      "align_self": null,
      "border": null,
      "bottom": null,
      "display": null,
      "flex": null,
      "flex_flow": null,
      "grid_area": null,
      "grid_auto_columns": null,
      "grid_auto_flow": null,
      "grid_auto_rows": null,
      "grid_column": null,
      "grid_gap": null,
      "grid_row": null,
      "grid_template_areas": null,
      "grid_template_columns": null,
      "grid_template_rows": null,
      "height": null,
      "justify_content": null,
      "justify_items": null,
      "left": null,
      "margin": null,
      "max_height": null,
      "max_width": null,
      "min_height": null,
      "min_width": null,
      "object_fit": null,
      "object_position": null,
      "order": null,
      "overflow": null,
      "overflow_x": null,
      "overflow_y": null,
      "padding": null,
      "right": null,
      "top": null,
      "visibility": null,
      "width": null
     }
    },
    "96dff203e45d46bfbea0aba2f967821d": {
     "model_module": "@jupyter-widgets/base",
     "model_module_version": "1.2.0",
     "model_name": "LayoutModel",
     "state": {
      "_model_module": "@jupyter-widgets/base",
      "_model_module_version": "1.2.0",
      "_model_name": "LayoutModel",
      "_view_count": null,
      "_view_module": "@jupyter-widgets/base",
      "_view_module_version": "1.2.0",
      "_view_name": "LayoutView",
      "align_content": null,
      "align_items": null,
      "align_self": null,
      "border": null,
      "bottom": null,
      "display": null,
      "flex": null,
      "flex_flow": null,
      "grid_area": null,
      "grid_auto_columns": null,
      "grid_auto_flow": null,
      "grid_auto_rows": null,
      "grid_column": null,
      "grid_gap": null,
      "grid_row": null,
      "grid_template_areas": null,
      "grid_template_columns": null,
      "grid_template_rows": null,
      "height": null,
      "justify_content": null,
      "justify_items": null,
      "left": null,
      "margin": null,
      "max_height": null,
      "max_width": null,
      "min_height": null,
      "min_width": null,
      "object_fit": null,
      "object_position": null,
      "order": null,
      "overflow": null,
      "overflow_x": null,
      "overflow_y": null,
      "padding": null,
      "right": null,
      "top": null,
      "visibility": null,
      "width": null
     }
    },
    "9b4f441cddd14152a935b5eb9cfb9906": {
     "model_module": "@jupyter-widgets/base",
     "model_module_version": "1.2.0",
     "model_name": "LayoutModel",
     "state": {
      "_model_module": "@jupyter-widgets/base",
      "_model_module_version": "1.2.0",
      "_model_name": "LayoutModel",
      "_view_count": null,
      "_view_module": "@jupyter-widgets/base",
      "_view_module_version": "1.2.0",
      "_view_name": "LayoutView",
      "align_content": null,
      "align_items": null,
      "align_self": null,
      "border": null,
      "bottom": null,
      "display": null,
      "flex": null,
      "flex_flow": null,
      "grid_area": null,
      "grid_auto_columns": null,
      "grid_auto_flow": null,
      "grid_auto_rows": null,
      "grid_column": null,
      "grid_gap": null,
      "grid_row": null,
      "grid_template_areas": null,
      "grid_template_columns": null,
      "grid_template_rows": null,
      "height": null,
      "justify_content": null,
      "justify_items": null,
      "left": null,
      "margin": null,
      "max_height": null,
      "max_width": null,
      "min_height": null,
      "min_width": null,
      "object_fit": null,
      "object_position": null,
      "order": null,
      "overflow": null,
      "overflow_x": null,
      "overflow_y": null,
      "padding": null,
      "right": null,
      "top": null,
      "visibility": null,
      "width": null
     }
    },
    "9dad0022c4f44fcb85706a4eb39b2ead": {
     "model_module": "@jupyter-widgets/controls",
     "model_module_version": "1.5.0",
     "model_name": "HBoxModel",
     "state": {
      "_dom_classes": [],
      "_model_module": "@jupyter-widgets/controls",
      "_model_module_version": "1.5.0",
      "_model_name": "HBoxModel",
      "_view_count": null,
      "_view_module": "@jupyter-widgets/controls",
      "_view_module_version": "1.5.0",
      "_view_name": "HBoxView",
      "box_style": "",
      "children": [
       "IPY_MODEL_6f8f644668174cdfa4e3ed13d1f29ee1",
       "IPY_MODEL_2fbb35dc9b8b4768aa69ac0f3bab706f",
       "IPY_MODEL_578b1b33889b472cb6c91f7ae4d4bb08"
      ],
      "layout": "IPY_MODEL_43d63597e884483aaeeeb20180ca9e99"
     }
    },
    "a1a61b9740d1475b9b1ef5daddebcaac": {
     "model_module": "@jupyter-widgets/controls",
     "model_module_version": "1.5.0",
     "model_name": "DescriptionStyleModel",
     "state": {
      "_model_module": "@jupyter-widgets/controls",
      "_model_module_version": "1.5.0",
      "_model_name": "DescriptionStyleModel",
      "_view_count": null,
      "_view_module": "@jupyter-widgets/base",
      "_view_module_version": "1.2.0",
      "_view_name": "StyleView",
      "description_width": ""
     }
    },
    "a22bf46287474c0ca6662a2fd298a413": {
     "model_module": "@jupyter-widgets/base",
     "model_module_version": "1.2.0",
     "model_name": "LayoutModel",
     "state": {
      "_model_module": "@jupyter-widgets/base",
      "_model_module_version": "1.2.0",
      "_model_name": "LayoutModel",
      "_view_count": null,
      "_view_module": "@jupyter-widgets/base",
      "_view_module_version": "1.2.0",
      "_view_name": "LayoutView",
      "align_content": null,
      "align_items": null,
      "align_self": null,
      "border": null,
      "bottom": null,
      "display": null,
      "flex": null,
      "flex_flow": null,
      "grid_area": null,
      "grid_auto_columns": null,
      "grid_auto_flow": null,
      "grid_auto_rows": null,
      "grid_column": null,
      "grid_gap": null,
      "grid_row": null,
      "grid_template_areas": null,
      "grid_template_columns": null,
      "grid_template_rows": null,
      "height": null,
      "justify_content": null,
      "justify_items": null,
      "left": null,
      "margin": null,
      "max_height": null,
      "max_width": null,
      "min_height": null,
      "min_width": null,
      "object_fit": null,
      "object_position": null,
      "order": null,
      "overflow": null,
      "overflow_x": null,
      "overflow_y": null,
      "padding": null,
      "right": null,
      "top": null,
      "visibility": null,
      "width": null
     }
    },
    "a28f0ed8d7d044ec8d94550544bbf5e0": {
     "model_module": "@jupyter-widgets/controls",
     "model_module_version": "1.5.0",
     "model_name": "FloatProgressModel",
     "state": {
      "_dom_classes": [],
      "_model_module": "@jupyter-widgets/controls",
      "_model_module_version": "1.5.0",
      "_model_name": "FloatProgressModel",
      "_view_count": null,
      "_view_module": "@jupyter-widgets/controls",
      "_view_module_version": "1.5.0",
      "_view_name": "ProgressView",
      "bar_style": "success",
      "description": "",
      "description_tooltip": null,
      "layout": "IPY_MODEL_bce2b3fb229945c6afc56dc97233e4d1",
      "max": 1648877,
      "min": 0,
      "orientation": "horizontal",
      "style": "IPY_MODEL_848e80769df94d728753351e8b51e69c",
      "value": 1648877
     }
    },
    "a541f444ebb541179c54dfe8cca0149a": {
     "model_module": "@jupyter-widgets/base",
     "model_module_version": "1.2.0",
     "model_name": "LayoutModel",
     "state": {
      "_model_module": "@jupyter-widgets/base",
      "_model_module_version": "1.2.0",
      "_model_name": "LayoutModel",
      "_view_count": null,
      "_view_module": "@jupyter-widgets/base",
      "_view_module_version": "1.2.0",
      "_view_name": "LayoutView",
      "align_content": null,
      "align_items": null,
      "align_self": null,
      "border": null,
      "bottom": null,
      "display": null,
      "flex": null,
      "flex_flow": null,
      "grid_area": null,
      "grid_auto_columns": null,
      "grid_auto_flow": null,
      "grid_auto_rows": null,
      "grid_column": null,
      "grid_gap": null,
      "grid_row": null,
      "grid_template_areas": null,
      "grid_template_columns": null,
      "grid_template_rows": null,
      "height": null,
      "justify_content": null,
      "justify_items": null,
      "left": null,
      "margin": null,
      "max_height": null,
      "max_width": null,
      "min_height": null,
      "min_width": null,
      "object_fit": null,
      "object_position": null,
      "order": null,
      "overflow": null,
      "overflow_x": null,
      "overflow_y": null,
      "padding": null,
      "right": null,
      "top": null,
      "visibility": null,
      "width": null
     }
    },
    "ac96059af7ec45d6a199dfe75590e78e": {
     "model_module": "@jupyter-widgets/controls",
     "model_module_version": "1.5.0",
     "model_name": "HTMLModel",
     "state": {
      "_dom_classes": [],
      "_model_module": "@jupyter-widgets/controls",
      "_model_module_version": "1.5.0",
      "_model_name": "HTMLModel",
      "_view_count": null,
      "_view_module": "@jupyter-widgets/controls",
      "_view_module_version": "1.5.0",
      "_view_name": "HTMLView",
      "description": "",
      "description_tooltip": null,
      "layout": "IPY_MODEL_03e6910fc2b849309f7a5b4f1e8fa57d",
      "placeholder": "​",
      "style": "IPY_MODEL_4677adc1484b4a5f9c6e500485d40d8b",
      "value": ""
     }
    },
    "aea032493f8e4ced8fd7336a2568b391": {
     "model_module": "@jupyter-widgets/controls",
     "model_module_version": "1.5.0",
     "model_name": "DescriptionStyleModel",
     "state": {
      "_model_module": "@jupyter-widgets/controls",
      "_model_module_version": "1.5.0",
      "_model_name": "DescriptionStyleModel",
      "_view_count": null,
      "_view_module": "@jupyter-widgets/base",
      "_view_module_version": "1.2.0",
      "_view_name": "StyleView",
      "description_width": ""
     }
    },
    "b06889bc93d642e083a29bddb90a6d3f": {
     "model_module": "@jupyter-widgets/base",
     "model_module_version": "1.2.0",
     "model_name": "LayoutModel",
     "state": {
      "_model_module": "@jupyter-widgets/base",
      "_model_module_version": "1.2.0",
      "_model_name": "LayoutModel",
      "_view_count": null,
      "_view_module": "@jupyter-widgets/base",
      "_view_module_version": "1.2.0",
      "_view_name": "LayoutView",
      "align_content": null,
      "align_items": null,
      "align_self": null,
      "border": null,
      "bottom": null,
      "display": null,
      "flex": null,
      "flex_flow": null,
      "grid_area": null,
      "grid_auto_columns": null,
      "grid_auto_flow": null,
      "grid_auto_rows": null,
      "grid_column": null,
      "grid_gap": null,
      "grid_row": null,
      "grid_template_areas": null,
      "grid_template_columns": null,
      "grid_template_rows": null,
      "height": null,
      "justify_content": null,
      "justify_items": null,
      "left": null,
      "margin": null,
      "max_height": null,
      "max_width": null,
      "min_height": null,
      "min_width": null,
      "object_fit": null,
      "object_position": null,
      "order": null,
      "overflow": null,
      "overflow_x": null,
      "overflow_y": null,
      "padding": null,
      "right": null,
      "top": null,
      "visibility": null,
      "width": null
     }
    },
    "b2dd4578d200474ca52cf78669346970": {
     "model_module": "@jupyter-widgets/controls",
     "model_module_version": "1.5.0",
     "model_name": "HTMLModel",
     "state": {
      "_dom_classes": [],
      "_model_module": "@jupyter-widgets/controls",
      "_model_module_version": "1.5.0",
      "_model_name": "HTMLModel",
      "_view_count": null,
      "_view_module": "@jupyter-widgets/controls",
      "_view_module_version": "1.5.0",
      "_view_name": "HTMLView",
      "description": "",
      "description_tooltip": null,
      "layout": "IPY_MODEL_eca30b6474d94e3c93f0442a60deb3d2",
      "placeholder": "​",
      "style": "IPY_MODEL_bc7872725b494201956adcccb7fa680f",
      "value": " 29696/? [00:00&lt;00:00, 714891.13it/s]"
     }
    },
    "b4f87aa89fc4459191f69549f25d5348": {
     "model_module": "@jupyter-widgets/controls",
     "model_module_version": "1.5.0",
     "model_name": "HBoxModel",
     "state": {
      "_dom_classes": [],
      "_model_module": "@jupyter-widgets/controls",
      "_model_module_version": "1.5.0",
      "_model_name": "HBoxModel",
      "_view_count": null,
      "_view_module": "@jupyter-widgets/controls",
      "_view_module_version": "1.5.0",
      "_view_name": "HBoxView",
      "box_style": "",
      "children": [
       "IPY_MODEL_394f00f2b03445c0b60bf8c60479d37e",
       "IPY_MODEL_189e1ed5538246c78813bfca86c72d38",
       "IPY_MODEL_7b7c59575cea4988a039549c0f53fd34"
      ],
      "layout": "IPY_MODEL_1cea582cd000405194a6de1c01ae253e"
     }
    },
    "b830109b0bb54881829d620c05e1810d": {
     "model_module": "@jupyter-widgets/controls",
     "model_module_version": "1.5.0",
     "model_name": "HBoxModel",
     "state": {
      "_dom_classes": [],
      "_model_module": "@jupyter-widgets/controls",
      "_model_module_version": "1.5.0",
      "_model_name": "HBoxModel",
      "_view_count": null,
      "_view_module": "@jupyter-widgets/controls",
      "_view_module_version": "1.5.0",
      "_view_name": "HBoxView",
      "box_style": "",
      "children": [
       "IPY_MODEL_cbb3f38924684f1a892ca21199eb5f44",
       "IPY_MODEL_a28f0ed8d7d044ec8d94550544bbf5e0",
       "IPY_MODEL_4aca9dd5b4584399a2303c5fdec0d8f2"
      ],
      "layout": "IPY_MODEL_d794bbcd1ba4413e8a7b66e87153094e"
     }
    },
    "b93670d788b94bbcbc16e505c45de6dc": {
     "model_module": "@jupyter-widgets/controls",
     "model_module_version": "1.5.0",
     "model_name": "DescriptionStyleModel",
     "state": {
      "_model_module": "@jupyter-widgets/controls",
      "_model_module_version": "1.5.0",
      "_model_name": "DescriptionStyleModel",
      "_view_count": null,
      "_view_module": "@jupyter-widgets/base",
      "_view_module_version": "1.2.0",
      "_view_name": "StyleView",
      "description_width": ""
     }
    },
    "bbf53c52db9f4a30bd304c19c1ed8157": {
     "model_module": "@jupyter-widgets/base",
     "model_module_version": "1.2.0",
     "model_name": "LayoutModel",
     "state": {
      "_model_module": "@jupyter-widgets/base",
      "_model_module_version": "1.2.0",
      "_model_name": "LayoutModel",
      "_view_count": null,
      "_view_module": "@jupyter-widgets/base",
      "_view_module_version": "1.2.0",
      "_view_name": "LayoutView",
      "align_content": null,
      "align_items": null,
      "align_self": null,
      "border": null,
      "bottom": null,
      "display": null,
      "flex": null,
      "flex_flow": null,
      "grid_area": null,
      "grid_auto_columns": null,
      "grid_auto_flow": null,
      "grid_auto_rows": null,
      "grid_column": null,
      "grid_gap": null,
      "grid_row": null,
      "grid_template_areas": null,
      "grid_template_columns": null,
      "grid_template_rows": null,
      "height": null,
      "justify_content": null,
      "justify_items": null,
      "left": null,
      "margin": null,
      "max_height": null,
      "max_width": null,
      "min_height": null,
      "min_width": null,
      "object_fit": null,
      "object_position": null,
      "order": null,
      "overflow": null,
      "overflow_x": null,
      "overflow_y": null,
      "padding": null,
      "right": null,
      "top": null,
      "visibility": null,
      "width": null
     }
    },
    "bc7872725b494201956adcccb7fa680f": {
     "model_module": "@jupyter-widgets/controls",
     "model_module_version": "1.5.0",
     "model_name": "DescriptionStyleModel",
     "state": {
      "_model_module": "@jupyter-widgets/controls",
      "_model_module_version": "1.5.0",
      "_model_name": "DescriptionStyleModel",
      "_view_count": null,
      "_view_module": "@jupyter-widgets/base",
      "_view_module_version": "1.2.0",
      "_view_name": "StyleView",
      "description_width": ""
     }
    },
    "bce2b3fb229945c6afc56dc97233e4d1": {
     "model_module": "@jupyter-widgets/base",
     "model_module_version": "1.2.0",
     "model_name": "LayoutModel",
     "state": {
      "_model_module": "@jupyter-widgets/base",
      "_model_module_version": "1.2.0",
      "_model_name": "LayoutModel",
      "_view_count": null,
      "_view_module": "@jupyter-widgets/base",
      "_view_module_version": "1.2.0",
      "_view_name": "LayoutView",
      "align_content": null,
      "align_items": null,
      "align_self": null,
      "border": null,
      "bottom": null,
      "display": null,
      "flex": null,
      "flex_flow": null,
      "grid_area": null,
      "grid_auto_columns": null,
      "grid_auto_flow": null,
      "grid_auto_rows": null,
      "grid_column": null,
      "grid_gap": null,
      "grid_row": null,
      "grid_template_areas": null,
      "grid_template_columns": null,
      "grid_template_rows": null,
      "height": null,
      "justify_content": null,
      "justify_items": null,
      "left": null,
      "margin": null,
      "max_height": null,
      "max_width": null,
      "min_height": null,
      "min_width": null,
      "object_fit": null,
      "object_position": null,
      "order": null,
      "overflow": null,
      "overflow_x": null,
      "overflow_y": null,
      "padding": null,
      "right": null,
      "top": null,
      "visibility": null,
      "width": null
     }
    },
    "ca53baaae0334366bc10cbace5c6ec73": {
     "model_module": "@jupyter-widgets/base",
     "model_module_version": "1.2.0",
     "model_name": "LayoutModel",
     "state": {
      "_model_module": "@jupyter-widgets/base",
      "_model_module_version": "1.2.0",
      "_model_name": "LayoutModel",
      "_view_count": null,
      "_view_module": "@jupyter-widgets/base",
      "_view_module_version": "1.2.0",
      "_view_name": "LayoutView",
      "align_content": null,
      "align_items": null,
      "align_self": null,
      "border": null,
      "bottom": null,
      "display": null,
      "flex": null,
      "flex_flow": null,
      "grid_area": null,
      "grid_auto_columns": null,
      "grid_auto_flow": null,
      "grid_auto_rows": null,
      "grid_column": null,
      "grid_gap": null,
      "grid_row": null,
      "grid_template_areas": null,
      "grid_template_columns": null,
      "grid_template_rows": null,
      "height": null,
      "justify_content": null,
      "justify_items": null,
      "left": null,
      "margin": null,
      "max_height": null,
      "max_width": null,
      "min_height": null,
      "min_width": null,
      "object_fit": null,
      "object_position": null,
      "order": null,
      "overflow": null,
      "overflow_x": null,
      "overflow_y": null,
      "padding": null,
      "right": null,
      "top": null,
      "visibility": null,
      "width": null
     }
    },
    "cbb3f38924684f1a892ca21199eb5f44": {
     "model_module": "@jupyter-widgets/controls",
     "model_module_version": "1.5.0",
     "model_name": "HTMLModel",
     "state": {
      "_dom_classes": [],
      "_model_module": "@jupyter-widgets/controls",
      "_model_module_version": "1.5.0",
      "_model_name": "HTMLModel",
      "_view_count": null,
      "_view_module": "@jupyter-widgets/controls",
      "_view_module_version": "1.5.0",
      "_view_name": "HTMLView",
      "description": "",
      "description_tooltip": null,
      "layout": "IPY_MODEL_33cb75aea5b246739e13d592b40ef0fa",
      "placeholder": "​",
      "style": "IPY_MODEL_7f1b303ac4fc4c89a5f04ca89891813f",
      "value": ""
     }
    },
    "cbcda3f896a143a28d7e120400fbd528": {
     "model_module": "@jupyter-widgets/base",
     "model_module_version": "1.2.0",
     "model_name": "LayoutModel",
     "state": {
      "_model_module": "@jupyter-widgets/base",
      "_model_module_version": "1.2.0",
      "_model_name": "LayoutModel",
      "_view_count": null,
      "_view_module": "@jupyter-widgets/base",
      "_view_module_version": "1.2.0",
      "_view_name": "LayoutView",
      "align_content": null,
      "align_items": null,
      "align_self": null,
      "border": null,
      "bottom": null,
      "display": null,
      "flex": null,
      "flex_flow": null,
      "grid_area": null,
      "grid_auto_columns": null,
      "grid_auto_flow": null,
      "grid_auto_rows": null,
      "grid_column": null,
      "grid_gap": null,
      "grid_row": null,
      "grid_template_areas": null,
      "grid_template_columns": null,
      "grid_template_rows": null,
      "height": null,
      "justify_content": null,
      "justify_items": null,
      "left": null,
      "margin": null,
      "max_height": null,
      "max_width": null,
      "min_height": null,
      "min_width": null,
      "object_fit": null,
      "object_position": null,
      "order": null,
      "overflow": null,
      "overflow_x": null,
      "overflow_y": null,
      "padding": null,
      "right": null,
      "top": null,
      "visibility": null,
      "width": null
     }
    },
    "cd0fbf6d8123475487d2dd48e3f4d7da": {
     "model_module": "@jupyter-widgets/controls",
     "model_module_version": "1.5.0",
     "model_name": "DescriptionStyleModel",
     "state": {
      "_model_module": "@jupyter-widgets/controls",
      "_model_module_version": "1.5.0",
      "_model_name": "DescriptionStyleModel",
      "_view_count": null,
      "_view_module": "@jupyter-widgets/base",
      "_view_module_version": "1.2.0",
      "_view_name": "StyleView",
      "description_width": ""
     }
    },
    "ceec7f4913d84ca49de7fc7a5da3f539": {
     "model_module": "@jupyter-widgets/base",
     "model_module_version": "1.2.0",
     "model_name": "LayoutModel",
     "state": {
      "_model_module": "@jupyter-widgets/base",
      "_model_module_version": "1.2.0",
      "_model_name": "LayoutModel",
      "_view_count": null,
      "_view_module": "@jupyter-widgets/base",
      "_view_module_version": "1.2.0",
      "_view_name": "LayoutView",
      "align_content": null,
      "align_items": null,
      "align_self": null,
      "border": null,
      "bottom": null,
      "display": null,
      "flex": null,
      "flex_flow": null,
      "grid_area": null,
      "grid_auto_columns": null,
      "grid_auto_flow": null,
      "grid_auto_rows": null,
      "grid_column": null,
      "grid_gap": null,
      "grid_row": null,
      "grid_template_areas": null,
      "grid_template_columns": null,
      "grid_template_rows": null,
      "height": null,
      "justify_content": null,
      "justify_items": null,
      "left": null,
      "margin": null,
      "max_height": null,
      "max_width": null,
      "min_height": null,
      "min_width": null,
      "object_fit": null,
      "object_position": null,
      "order": null,
      "overflow": null,
      "overflow_x": null,
      "overflow_y": null,
      "padding": null,
      "right": null,
      "top": null,
      "visibility": null,
      "width": null
     }
    },
    "d03056d096404204a01e75206d16e4ce": {
     "model_module": "@jupyter-widgets/controls",
     "model_module_version": "1.5.0",
     "model_name": "DescriptionStyleModel",
     "state": {
      "_model_module": "@jupyter-widgets/controls",
      "_model_module_version": "1.5.0",
      "_model_name": "DescriptionStyleModel",
      "_view_count": null,
      "_view_module": "@jupyter-widgets/base",
      "_view_module_version": "1.2.0",
      "_view_name": "StyleView",
      "description_width": ""
     }
    },
    "d32f89234cbf48379161d0435e1ee156": {
     "model_module": "@jupyter-widgets/base",
     "model_module_version": "1.2.0",
     "model_name": "LayoutModel",
     "state": {
      "_model_module": "@jupyter-widgets/base",
      "_model_module_version": "1.2.0",
      "_model_name": "LayoutModel",
      "_view_count": null,
      "_view_module": "@jupyter-widgets/base",
      "_view_module_version": "1.2.0",
      "_view_name": "LayoutView",
      "align_content": null,
      "align_items": null,
      "align_self": null,
      "border": null,
      "bottom": null,
      "display": null,
      "flex": null,
      "flex_flow": null,
      "grid_area": null,
      "grid_auto_columns": null,
      "grid_auto_flow": null,
      "grid_auto_rows": null,
      "grid_column": null,
      "grid_gap": null,
      "grid_row": null,
      "grid_template_areas": null,
      "grid_template_columns": null,
      "grid_template_rows": null,
      "height": null,
      "justify_content": null,
      "justify_items": null,
      "left": null,
      "margin": null,
      "max_height": null,
      "max_width": null,
      "min_height": null,
      "min_width": null,
      "object_fit": null,
      "object_position": null,
      "order": null,
      "overflow": null,
      "overflow_x": null,
      "overflow_y": null,
      "padding": null,
      "right": null,
      "top": null,
      "visibility": null,
      "width": null
     }
    },
    "d668860b54b140aa8fbfda1989db837d": {
     "model_module": "@jupyter-widgets/controls",
     "model_module_version": "1.5.0",
     "model_name": "FloatProgressModel",
     "state": {
      "_dom_classes": [],
      "_model_module": "@jupyter-widgets/controls",
      "_model_module_version": "1.5.0",
      "_model_name": "FloatProgressModel",
      "_view_count": null,
      "_view_module": "@jupyter-widgets/controls",
      "_view_module_version": "1.5.0",
      "_view_name": "ProgressView",
      "bar_style": "success",
      "description": "",
      "description_tooltip": null,
      "layout": "IPY_MODEL_2eba511346f645b7b69df588854809f2",
      "max": 26421880,
      "min": 0,
      "orientation": "horizontal",
      "style": "IPY_MODEL_19e9ef18bd9442a7965c005c01c67773",
      "value": 26421880
     }
    },
    "d794bbcd1ba4413e8a7b66e87153094e": {
     "model_module": "@jupyter-widgets/base",
     "model_module_version": "1.2.0",
     "model_name": "LayoutModel",
     "state": {
      "_model_module": "@jupyter-widgets/base",
      "_model_module_version": "1.2.0",
      "_model_name": "LayoutModel",
      "_view_count": null,
      "_view_module": "@jupyter-widgets/base",
      "_view_module_version": "1.2.0",
      "_view_name": "LayoutView",
      "align_content": null,
      "align_items": null,
      "align_self": null,
      "border": null,
      "bottom": null,
      "display": null,
      "flex": null,
      "flex_flow": null,
      "grid_area": null,
      "grid_auto_columns": null,
      "grid_auto_flow": null,
      "grid_auto_rows": null,
      "grid_column": null,
      "grid_gap": null,
      "grid_row": null,
      "grid_template_areas": null,
      "grid_template_columns": null,
      "grid_template_rows": null,
      "height": null,
      "justify_content": null,
      "justify_items": null,
      "left": null,
      "margin": null,
      "max_height": null,
      "max_width": null,
      "min_height": null,
      "min_width": null,
      "object_fit": null,
      "object_position": null,
      "order": null,
      "overflow": null,
      "overflow_x": null,
      "overflow_y": null,
      "padding": null,
      "right": null,
      "top": null,
      "visibility": null,
      "width": null
     }
    },
    "d7fc6fad327249a7b85c25b77ba02a7a": {
     "model_module": "@jupyter-widgets/controls",
     "model_module_version": "1.5.0",
     "model_name": "HTMLModel",
     "state": {
      "_dom_classes": [],
      "_model_module": "@jupyter-widgets/controls",
      "_model_module_version": "1.5.0",
      "_model_name": "HTMLModel",
      "_view_count": null,
      "_view_module": "@jupyter-widgets/controls",
      "_view_module_version": "1.5.0",
      "_view_name": "HTMLView",
      "description": "",
      "description_tooltip": null,
      "layout": "IPY_MODEL_5613fc461c0d443d836aad5fb06c1e63",
      "placeholder": "​",
      "style": "IPY_MODEL_661d45b2bb514efc91f16e2f437a19f4",
      "value": " 9913344/? [00:00&lt;00:00, 38538267.78it/s]"
     }
    },
    "da36c713dfc04342b23fdd07d6bf5b2c": {
     "model_module": "@jupyter-widgets/base",
     "model_module_version": "1.2.0",
     "model_name": "LayoutModel",
     "state": {
      "_model_module": "@jupyter-widgets/base",
      "_model_module_version": "1.2.0",
      "_model_name": "LayoutModel",
      "_view_count": null,
      "_view_module": "@jupyter-widgets/base",
      "_view_module_version": "1.2.0",
      "_view_name": "LayoutView",
      "align_content": null,
      "align_items": null,
      "align_self": null,
      "border": null,
      "bottom": null,
      "display": null,
      "flex": null,
      "flex_flow": null,
      "grid_area": null,
      "grid_auto_columns": null,
      "grid_auto_flow": null,
      "grid_auto_rows": null,
      "grid_column": null,
      "grid_gap": null,
      "grid_row": null,
      "grid_template_areas": null,
      "grid_template_columns": null,
      "grid_template_rows": null,
      "height": null,
      "justify_content": null,
      "justify_items": null,
      "left": null,
      "margin": null,
      "max_height": null,
      "max_width": null,
      "min_height": null,
      "min_width": null,
      "object_fit": null,
      "object_position": null,
      "order": null,
      "overflow": null,
      "overflow_x": null,
      "overflow_y": null,
      "padding": null,
      "right": null,
      "top": null,
      "visibility": null,
      "width": null
     }
    },
    "e0081028a853400d99dbfbd899e1d9fb": {
     "model_module": "@jupyter-widgets/base",
     "model_module_version": "1.2.0",
     "model_name": "LayoutModel",
     "state": {
      "_model_module": "@jupyter-widgets/base",
      "_model_module_version": "1.2.0",
      "_model_name": "LayoutModel",
      "_view_count": null,
      "_view_module": "@jupyter-widgets/base",
      "_view_module_version": "1.2.0",
      "_view_name": "LayoutView",
      "align_content": null,
      "align_items": null,
      "align_self": null,
      "border": null,
      "bottom": null,
      "display": null,
      "flex": null,
      "flex_flow": null,
      "grid_area": null,
      "grid_auto_columns": null,
      "grid_auto_flow": null,
      "grid_auto_rows": null,
      "grid_column": null,
      "grid_gap": null,
      "grid_row": null,
      "grid_template_areas": null,
      "grid_template_columns": null,
      "grid_template_rows": null,
      "height": null,
      "justify_content": null,
      "justify_items": null,
      "left": null,
      "margin": null,
      "max_height": null,
      "max_width": null,
      "min_height": null,
      "min_width": null,
      "object_fit": null,
      "object_position": null,
      "order": null,
      "overflow": null,
      "overflow_x": null,
      "overflow_y": null,
      "padding": null,
      "right": null,
      "top": null,
      "visibility": null,
      "width": null
     }
    },
    "e1cadbc142f14699a760d4e0bcfb8877": {
     "model_module": "@jupyter-widgets/controls",
     "model_module_version": "1.5.0",
     "model_name": "ProgressStyleModel",
     "state": {
      "_model_module": "@jupyter-widgets/controls",
      "_model_module_version": "1.5.0",
      "_model_name": "ProgressStyleModel",
      "_view_count": null,
      "_view_module": "@jupyter-widgets/base",
      "_view_module_version": "1.2.0",
      "_view_name": "StyleView",
      "bar_color": null,
      "description_width": ""
     }
    },
    "e7a40860d5934a279e020fcd3e38e1eb": {
     "model_module": "@jupyter-widgets/controls",
     "model_module_version": "1.5.0",
     "model_name": "HBoxModel",
     "state": {
      "_dom_classes": [],
      "_model_module": "@jupyter-widgets/controls",
      "_model_module_version": "1.5.0",
      "_model_name": "HBoxModel",
      "_view_count": null,
      "_view_module": "@jupyter-widgets/controls",
      "_view_module_version": "1.5.0",
      "_view_name": "HBoxView",
      "box_style": "",
      "children": [
       "IPY_MODEL_5b6b47c69a5f4c02bd75f2adf02db9bc",
       "IPY_MODEL_25954b7145ed4ba8a7d5d4da992ae1ac",
       "IPY_MODEL_b2dd4578d200474ca52cf78669346970"
      ],
      "layout": "IPY_MODEL_944fec0df07e4c4cbd715e20b220f177"
     }
    },
    "e9e4fb0ded3240b192dbc89f4c4e1b05": {
     "model_module": "@jupyter-widgets/controls",
     "model_module_version": "1.5.0",
     "model_name": "HTMLModel",
     "state": {
      "_dom_classes": [],
      "_model_module": "@jupyter-widgets/controls",
      "_model_module_version": "1.5.0",
      "_model_name": "HTMLModel",
      "_view_count": null,
      "_view_module": "@jupyter-widgets/controls",
      "_view_module_version": "1.5.0",
      "_view_name": "HTMLView",
      "description": "",
      "description_tooltip": null,
      "layout": "IPY_MODEL_92af3955e57348108e11409c65d94eec",
      "placeholder": "​",
      "style": "IPY_MODEL_aea032493f8e4ced8fd7336a2568b391",
      "value": " 5120/? [00:00&lt;00:00, 131230.59it/s]"
     }
    },
    "ec8e5c895777457390436068d01d23c2": {
     "model_module": "@jupyter-widgets/base",
     "model_module_version": "1.2.0",
     "model_name": "LayoutModel",
     "state": {
      "_model_module": "@jupyter-widgets/base",
      "_model_module_version": "1.2.0",
      "_model_name": "LayoutModel",
      "_view_count": null,
      "_view_module": "@jupyter-widgets/base",
      "_view_module_version": "1.2.0",
      "_view_name": "LayoutView",
      "align_content": null,
      "align_items": null,
      "align_self": null,
      "border": null,
      "bottom": null,
      "display": null,
      "flex": null,
      "flex_flow": null,
      "grid_area": null,
      "grid_auto_columns": null,
      "grid_auto_flow": null,
      "grid_auto_rows": null,
      "grid_column": null,
      "grid_gap": null,
      "grid_row": null,
      "grid_template_areas": null,
      "grid_template_columns": null,
      "grid_template_rows": null,
      "height": null,
      "justify_content": null,
      "justify_items": null,
      "left": null,
      "margin": null,
      "max_height": null,
      "max_width": null,
      "min_height": null,
      "min_width": null,
      "object_fit": null,
      "object_position": null,
      "order": null,
      "overflow": null,
      "overflow_x": null,
      "overflow_y": null,
      "padding": null,
      "right": null,
      "top": null,
      "visibility": null,
      "width": null
     }
    },
    "eca30b6474d94e3c93f0442a60deb3d2": {
     "model_module": "@jupyter-widgets/base",
     "model_module_version": "1.2.0",
     "model_name": "LayoutModel",
     "state": {
      "_model_module": "@jupyter-widgets/base",
      "_model_module_version": "1.2.0",
      "_model_name": "LayoutModel",
      "_view_count": null,
      "_view_module": "@jupyter-widgets/base",
      "_view_module_version": "1.2.0",
      "_view_name": "LayoutView",
      "align_content": null,
      "align_items": null,
      "align_self": null,
      "border": null,
      "bottom": null,
      "display": null,
      "flex": null,
      "flex_flow": null,
      "grid_area": null,
      "grid_auto_columns": null,
      "grid_auto_flow": null,
      "grid_auto_rows": null,
      "grid_column": null,
      "grid_gap": null,
      "grid_row": null,
      "grid_template_areas": null,
      "grid_template_columns": null,
      "grid_template_rows": null,
      "height": null,
      "justify_content": null,
      "justify_items": null,
      "left": null,
      "margin": null,
      "max_height": null,
      "max_width": null,
      "min_height": null,
      "min_width": null,
      "object_fit": null,
      "object_position": null,
      "order": null,
      "overflow": null,
      "overflow_x": null,
      "overflow_y": null,
      "padding": null,
      "right": null,
      "top": null,
      "visibility": null,
      "width": null
     }
    },
    "fb4b4d7ef6de4fa99390831b94224c05": {
     "model_module": "@jupyter-widgets/controls",
     "model_module_version": "1.5.0",
     "model_name": "HBoxModel",
     "state": {
      "_dom_classes": [],
      "_model_module": "@jupyter-widgets/controls",
      "_model_module_version": "1.5.0",
      "_model_name": "HBoxModel",
      "_view_count": null,
      "_view_module": "@jupyter-widgets/controls",
      "_view_module_version": "1.5.0",
      "_view_name": "HBoxView",
      "box_style": "",
      "children": [
       "IPY_MODEL_4d95f23e6d65457c9e9d09bcedfc527a",
       "IPY_MODEL_33fbecac6a4a4d059840f3584921d101",
       "IPY_MODEL_d7fc6fad327249a7b85c25b77ba02a7a"
      ],
      "layout": "IPY_MODEL_0d7dcdb63aa04b11a5ceb960097aeacc"
     }
    },
    "fe46974fd8ed4422bf2639b187769488": {
     "model_module": "@jupyter-widgets/base",
     "model_module_version": "1.2.0",
     "model_name": "LayoutModel",
     "state": {
      "_model_module": "@jupyter-widgets/base",
      "_model_module_version": "1.2.0",
      "_model_name": "LayoutModel",
      "_view_count": null,
      "_view_module": "@jupyter-widgets/base",
      "_view_module_version": "1.2.0",
      "_view_name": "LayoutView",
      "align_content": null,
      "align_items": null,
      "align_self": null,
      "border": null,
      "bottom": null,
      "display": null,
      "flex": null,
      "flex_flow": null,
      "grid_area": null,
      "grid_auto_columns": null,
      "grid_auto_flow": null,
      "grid_auto_rows": null,
      "grid_column": null,
      "grid_gap": null,
      "grid_row": null,
      "grid_template_areas": null,
      "grid_template_columns": null,
      "grid_template_rows": null,
      "height": null,
      "justify_content": null,
      "justify_items": null,
      "left": null,
      "margin": null,
      "max_height": null,
      "max_width": null,
      "min_height": null,
      "min_width": null,
      "object_fit": null,
      "object_position": null,
      "order": null,
      "overflow": null,
      "overflow_x": null,
      "overflow_y": null,
      "padding": null,
      "right": null,
      "top": null,
      "visibility": null,
      "width": null
     }
    }
   }
  }
 },
 "nbformat": 4,
 "nbformat_minor": 5
}
