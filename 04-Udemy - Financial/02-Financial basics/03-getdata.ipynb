{
 "cells": [
  {
   "cell_type": "markdown",
   "id": "41d79f32",
   "metadata": {},
   "source": [
    "https://docs.google.com/document/d/1xP4Hx4G_BraIGKKwWDL6DamIOUEI--6OuuSQZlFPeNU/edit\n",
    "\n",
    "https://github.com/lazyprogrammer/financial_engineering"
   ]
  },
  {
   "cell_type": "markdown",
   "id": "d678067d",
   "metadata": {},
   "source": [
    "### Imports"
   ]
  },
  {
   "cell_type": "code",
   "execution_count": 29,
   "id": "b074eea4",
   "metadata": {},
   "outputs": [],
   "source": [
    "import yfinance as yf\n",
    "import pandas as pd\n",
    "from glob import glob\n",
    "import random"
   ]
  },
  {
   "cell_type": "markdown",
   "id": "43e31367",
   "metadata": {},
   "source": [
    "### Functions"
   ]
  },
  {
   "cell_type": "code",
   "execution_count": 23,
   "id": "64eb280b",
   "metadata": {},
   "outputs": [],
   "source": [
    "def one_data_download(symbol,path):\n",
    "    data = yf.download(symbol,start=\"2010-01-01\",end=\"2020-12-31\")\n",
    "    if data.size>0 or len(data)>10:\n",
    "        data.to_csv(path+symbol+\".csv\")\n",
    "    else:\n",
    "        print(\"Not saving\")\n",
    "    print(len(data))\n",
    "    \n",
    "def merge_csvs(path):\n",
    "    files = glob(f'{path}*.csv')\n",
    "    full_df = None\n",
    "    for f in files:\n",
    "        print(f)\n",
    "        df = pd.read_csv(f)\n",
    "        symbol = f.split(\"/\")[1].split(\".\")[0]\n",
    "        df[\"Name\"]=symbol\n",
    "        \n",
    "        if full_df is None:\n",
    "            full_df = df\n",
    "        else:\n",
    "            full_df = full_df.append(df,ignore_index=True)\n",
    "        full_df.to_csv(\"sp500full.csv\", index=False)"
   ]
  },
  {
   "cell_type": "markdown",
   "id": "58abaf5e",
   "metadata": {},
   "source": [
    "### Data download"
   ]
  },
  {
   "cell_type": "code",
   "execution_count": 20,
   "id": "531830b0",
   "metadata": {},
   "outputs": [],
   "source": [
    "symbols = ['MMM','ABT','ABBV','ACN','ATVI','AYI','ADBE','AMD','AAP','AES','AET',\n",
    "    'AMG','AFL','A','APD','AKAM','ALK','ALB','ARE','ALXN','ALGN','ALLE',\n",
    "    'AGN','ADS','LNT','ALL','GOOGL','GOOG','MO','AMZN','AEE','AAL','AEP',\n",
    "    'AXP','AIG','AMT','AWK','AMP','ABC','AME','AMGN','APH','APC','ADI','ANDV',\n",
    "    'ANSS','ANTM','AON','AOS','APA','AIV','AAPL','AMAT','APTV','ADM','ARNC',\n",
    "    'AJG','AIZ','T','ADSK','ADP','AZO','AVB','AVY','BHGE','BLL','BAC','BK',\n",
    "    'BAX','BBT','BDX','BRK.B','BBY','BIIB','BLK','HRB','BA','BWA','BXP','BSX',\n",
    "    'BHF','BMY','AVGO','BF.B','CHRW','CA','COG','CDNS','CPB','COF','CAH','CBOE',\n",
    "    'KMX','CCL','CAT','CBG','CBS','CELG','CNC','CNP','CTL','CERN','CF','SCHW',\n",
    "    'CHTR','CHK','CVX','CMG','CB','CHD','CI','XEC','CINF','CTAS','CSCO','C','CFG',\n",
    "    'CTXS','CLX','CME','CMS','KO','CTSH','CL','CMCSA','CMA','CAG','CXO','COP',\n",
    "    'ED','STZ','COO','GLW','COST','COTY','CCI','CSRA','CSX','CMI','CVS','DHI',\n",
    "    'DHR','DRI','DVA','DE','DAL','XRAY','DVN','DLR','DFS','DISCA','DISCK','DISH',\n",
    "    'DG','DLTR','D','DOV','DWDP','DPS','DTE','DRE','DUK','DXC','ETFC','EMN','ETN',\n",
    "    'EBAY','ECL','EIX','EW','EA','EMR','ETR','EVHC','EOG','EQT','EFX','EQIX','EQR',\n",
    "    'ESS','EL','ES','RE','EXC','EXPE','EXPD','ESRX','EXR','XOM','FFIV','FB','FAST',\n",
    "    'FRT','FDX','FIS','FITB','FE','FISV','FLIR','FLS','FLR','FMC','FL','F','FTV',\n",
    "    'FBHS','BEN','FCX','GPS','GRMN','IT','GD','GE','GGP','GIS','GM','GPC','GILD',\n",
    "    'GPN','GS','GT','GWW','HAL','HBI','HOG','HRS','HIG','HAS','HCA','HCP','HP','HSIC',\n",
    "    'HSY','HES','HPE','HLT','HOLX','HD','HON','HRL','HST','HPQ','HUM','HBAN','HII',\n",
    "    'IDXX','INFO','ITW','ILMN','IR','INTC','ICE','IBM','INCY','IP','IPG','IFF','INTU',\n",
    "    'ISRG','IVZ','IQV','IRM','JEC','JBHT','SJM','JNJ','JCI','JPM','JNPR','KSU','K','KEY',\n",
    "    'KMB','KIM','KMI','KLAC','KSS','KHC','KR','LB','LLL','LH','LRCX','LEG','LEN','LUK',\n",
    "    'LLY','LNC','LKQ','LMT','L','LOW','LYB','MTB','MAC','M','MRO','MPC','MAR','MMC','MLM',\n",
    "    'MAS','MA','MAT','MKC','MCD','MCK','MDT','MRK','MET','MTD','MGM','KORS','MCHP','MU',\n",
    "    'MSFT','MAA','MHK','TAP','MDLZ','MON','MNST','MCO','MS','MOS','MSI','MYL','NDAQ',\n",
    "    'NOV','NAVI','NTAP','NFLX','NWL','NFX','NEM','NWSA','NWS','NEE','NLSN','NKE','NI',\n",
    "    'NBL','JWN','NSC','NTRS','NOC','NCLH','NRG','NUE','NVDA','ORLY','OXY','OMC','OKE',\n",
    "    'ORCL','PCAR','PKG','PH','PDCO','PAYX','PYPL','PNR','PBCT','PEP','PKI','PRGO','PFE',\n",
    "    'PCG','PM','PSX','PNW','PXD','PNC','RL','PPG','PPL','PX','PCLN','PFG','PG','PGR',\n",
    "    'PLD','PRU','PEG','PSA','PHM','PVH','QRVO','PWR','QCOM','DGX','RRC','RJF','RTN','O',\n",
    "    'RHT','REG','REGN','RF','RSG','RMD','RHI','ROK','COL','ROP','ROST','RCL','CRM','SBAC',\n",
    "    'SCG','SLB','SNI','STX','SEE','SRE','SHW','SIG','SPG','SWKS','SLG','SNA','SO','LUV',\n",
    "    'SPGI','SWK','SBUX','STT','SRCL','SYK','STI','SYMC','SYF','SNPS','SYY','TROW','TPR',\n",
    "    'TGT','TEL','FTI','TXN','TXT','TMO','TIF','TWX','TJX','TMK','TSS','TSCO','TDG','TRV',\n",
    "    'TRIP','FOXA','FOX','TSN','UDR','ULTA','USB','UAA','UA','UNP','UAL','UNH','UPS','URI',\n",
    "    'UTX','UHS','UNM','VFC','VLO','VAR','VTR','VRSN','VRSK','VZ','VRTX','VIAB','V','VNO',\n",
    "    'VMC','WMT','WBA','DIS','WM','WAT','WEC','WFC','HCN','WDC','WU','WRK','WY','WHR','WMB',\n",
    "    'WLTW','WYN','WYNN','XEL','XRX','XLNX','XL','XYL','YUM','ZBH','ZION','ZTS']"
   ]
  },
  {
   "cell_type": "code",
   "execution_count": 21,
   "id": "a451b0bd",
   "metadata": {},
   "outputs": [
    {
     "name": "stdout",
     "output_type": "stream",
     "text": [
      "506\n"
     ]
    }
   ],
   "source": [
    "symbols.append('SPY')\n",
    "print(len(symbols))"
   ]
  },
  {
   "cell_type": "code",
   "execution_count": 25,
   "id": "3a1c1271",
   "metadata": {},
   "outputs": [
    {
     "name": "stdout",
     "output_type": "stream",
     "text": [
      "[*********************100%***********************]  1 of 1 completed\n",
      "2769\n"
     ]
    }
   ],
   "source": [
    "symbol = 'XEL'\n",
    "path = \"./data/\"\n",
    "one_data_download(symbol,path)"
   ]
  },
  {
   "cell_type": "code",
   "execution_count": 28,
   "id": "1cb13dd5",
   "metadata": {},
   "outputs": [
    {
     "name": "stdout",
     "output_type": "stream",
     "text": [
      "./data\\SPY.csv\n",
      "./data\\XEL.csv\n"
     ]
    }
   ],
   "source": [
    "merge_csvs(path)"
   ]
  },
  {
   "cell_type": "markdown",
   "id": "c24737d5",
   "metadata": {},
   "source": [
    "### Random sampling"
   ]
  },
  {
   "cell_type": "code",
   "execution_count": 30,
   "id": "5ca1e6ef",
   "metadata": {},
   "outputs": [
    {
     "name": "stdout",
     "output_type": "stream",
     "text": [
      "['GLW', 'CELG', 'KMB', 'AOS', 'KHC', 'XRX', 'BAC', 'GPN', 'V', 'HII', 'OMC', 'URI', 'BBT', 'FL', 'PEG', 'PPL', 'PNC', 'JPM', 'FDX', 'CME', 'A', 'MS', 'CDNS', 'EL', 'IR', 'AMD', 'OXY', 'CBG', 'SWKS', 'ETN', 'UA', 'MOS', 'LEG', 'EBAY', 'KMI', 'SRE', 'ZTS', 'NOC', 'LYB', 'FISV', 'ROK', 'ICE', 'PEP', 'INTU', 'CMG', 'GWW', 'BIIB', 'HRS', 'GOOGL', 'EXR', 'ALGN', 'COST', 'IP', 'FOXA', 'SHW', 'M', 'VLO', 'DISCK', 'MA', 'MGM', 'EA', 'PRGO', 'CSCO', 'UNM', 'FLS', 'TPR', 'NCLH', 'BK', 'MCK', 'BAX', 'TSCO', 'FE', 'ITW', 'CCI', 'SLB', 'TAP', 'WY', 'CA', 'FTI', 'PFG', 'PSA', 'DVN', 'ANTM', 'WDC', 'VIAB', 'AKAM', 'APA', 'PBCT', 'RRC', 'BXP', 'KO', 'PFE', 'AFL', 'AVY', 'GIS', 'AVGO', 'FBHS', 'CMI', 'LUK', 'NI']\n"
     ]
    }
   ],
   "source": [
    "sample = random.sample(symbols,100)\n",
    "print(sample)"
   ]
  },
  {
   "cell_type": "code",
   "execution_count": 32,
   "id": "c18b8c32",
   "metadata": {},
   "outputs": [
    {
     "name": "stdout",
     "output_type": "stream",
     "text": [
      "{'b', 1, 'c', 2, 3, 'a'}\n"
     ]
    }
   ],
   "source": [
    "# review\n",
    "a = {\"a\",\"b\",\"c\"}\n",
    "b = set ([\"a\",1,2,3])\n",
    "print(a | b)"
   ]
  },
  {
   "cell_type": "code",
   "execution_count": null,
   "id": "8910b600",
   "metadata": {},
   "outputs": [],
   "source": []
  }
 ],
 "metadata": {
  "kernelspec": {
   "display_name": "Python 3",
   "language": "python",
   "name": "python3"
  },
  "language_info": {
   "codemirror_mode": {
    "name": "ipython",
    "version": 3
   },
   "file_extension": ".py",
   "mimetype": "text/x-python",
   "name": "python",
   "nbconvert_exporter": "python",
   "pygments_lexer": "ipython3",
   "version": "3.7.9"
  }
 },
 "nbformat": 4,
 "nbformat_minor": 5
}
