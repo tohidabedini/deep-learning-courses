{
 "cells": [
  {
   "cell_type": "markdown",
   "id": "21d756f5",
   "metadata": {},
   "source": [
    "### Imports"
   ]
  },
  {
   "cell_type": "code",
   "execution_count": 1,
   "id": "d2d8a777",
   "metadata": {},
   "outputs": [],
   "source": [
    "import pandas as pd\n",
    "import numpy as np\n",
    "from scipy.stats import norm\n",
    "import matplotlib.pyplot as plt\n",
    "from scipy.stats import probplot\n",
    "import statsmodels.api as sm\n",
    "\n",
    "%matplotlib inline"
   ]
  },
  {
   "cell_type": "markdown",
   "id": "071f1a76",
   "metadata": {},
   "source": [
    "### Functions"
   ]
  },
  {
   "cell_type": "code",
   "execution_count": 2,
   "id": "9099232a",
   "metadata": {},
   "outputs": [],
   "source": [
    "def return_calculator(df,t):\n",
    "    df[\"prev_close\"] = df[\"close\"].shift(t)\n",
    "    df[\"return\"] = df[\"close\"]/df[\"prev_close\"]-1\n",
    "#     df[\"return2\"] = df[\"close\"].pct_change(t)\n",
    "    df[\"log_return\"] = np.log(df[\"return\"]+1)\n",
    "    return df"
   ]
  },
  {
   "cell_type": "markdown",
   "id": "a8248044",
   "metadata": {},
   "source": [
    "### Read data"
   ]
  },
  {
   "cell_type": "code",
   "execution_count": 3,
   "id": "3f1b0921",
   "metadata": {},
   "outputs": [],
   "source": [
    "data = pd.read_csv(\"all_stocks_5yr.csv\", parse_dates=True)"
   ]
  },
  {
   "cell_type": "code",
   "execution_count": 4,
   "id": "587f4b2e",
   "metadata": {},
   "outputs": [],
   "source": [
    "sbux = data[data[\"Name\"]==\"SBUX\"].copy()"
   ]
  },
  {
   "cell_type": "code",
   "execution_count": 5,
   "id": "fe4f56de",
   "metadata": {},
   "outputs": [
    {
     "data": {
      "text/html": [
       "<div>\n",
       "<style scoped>\n",
       "    .dataframe tbody tr th:only-of-type {\n",
       "        vertical-align: middle;\n",
       "    }\n",
       "\n",
       "    .dataframe tbody tr th {\n",
       "        vertical-align: top;\n",
       "    }\n",
       "\n",
       "    .dataframe thead th {\n",
       "        text-align: right;\n",
       "    }\n",
       "</style>\n",
       "<table border=\"1\" class=\"dataframe\">\n",
       "  <thead>\n",
       "    <tr style=\"text-align: right;\">\n",
       "      <th></th>\n",
       "      <th>date</th>\n",
       "      <th>open</th>\n",
       "      <th>high</th>\n",
       "      <th>low</th>\n",
       "      <th>close</th>\n",
       "      <th>volume</th>\n",
       "      <th>Name</th>\n",
       "    </tr>\n",
       "  </thead>\n",
       "  <tbody>\n",
       "    <tr>\n",
       "      <th>498152</th>\n",
       "      <td>2013-02-08</td>\n",
       "      <td>27.920</td>\n",
       "      <td>28.325</td>\n",
       "      <td>27.920</td>\n",
       "      <td>28.185</td>\n",
       "      <td>7146296</td>\n",
       "      <td>SBUX</td>\n",
       "    </tr>\n",
       "    <tr>\n",
       "      <th>498153</th>\n",
       "      <td>2013-02-11</td>\n",
       "      <td>28.260</td>\n",
       "      <td>28.260</td>\n",
       "      <td>27.930</td>\n",
       "      <td>28.070</td>\n",
       "      <td>5457354</td>\n",
       "      <td>SBUX</td>\n",
       "    </tr>\n",
       "    <tr>\n",
       "      <th>498154</th>\n",
       "      <td>2013-02-12</td>\n",
       "      <td>28.000</td>\n",
       "      <td>28.275</td>\n",
       "      <td>27.975</td>\n",
       "      <td>28.130</td>\n",
       "      <td>8665592</td>\n",
       "      <td>SBUX</td>\n",
       "    </tr>\n",
       "    <tr>\n",
       "      <th>498155</th>\n",
       "      <td>2013-02-13</td>\n",
       "      <td>28.230</td>\n",
       "      <td>28.230</td>\n",
       "      <td>27.750</td>\n",
       "      <td>27.915</td>\n",
       "      <td>7022056</td>\n",
       "      <td>SBUX</td>\n",
       "    </tr>\n",
       "    <tr>\n",
       "      <th>498156</th>\n",
       "      <td>2013-02-14</td>\n",
       "      <td>27.765</td>\n",
       "      <td>27.905</td>\n",
       "      <td>27.675</td>\n",
       "      <td>27.775</td>\n",
       "      <td>8899188</td>\n",
       "      <td>SBUX</td>\n",
       "    </tr>\n",
       "  </tbody>\n",
       "</table>\n",
       "</div>"
      ],
      "text/plain": [
       "              date    open    high     low   close   volume  Name\n",
       "498152  2013-02-08  27.920  28.325  27.920  28.185  7146296  SBUX\n",
       "498153  2013-02-11  28.260  28.260  27.930  28.070  5457354  SBUX\n",
       "498154  2013-02-12  28.000  28.275  27.975  28.130  8665592  SBUX\n",
       "498155  2013-02-13  28.230  28.230  27.750  27.915  7022056  SBUX\n",
       "498156  2013-02-14  27.765  27.905  27.675  27.775  8899188  SBUX"
      ]
     },
     "execution_count": 5,
     "metadata": {},
     "output_type": "execute_result"
    }
   ],
   "source": [
    "sbux.head()"
   ]
  },
  {
   "cell_type": "code",
   "execution_count": 6,
   "id": "99c23c6d",
   "metadata": {},
   "outputs": [
    {
     "name": "stdout",
     "output_type": "stream",
     "text": [
      "1259\n"
     ]
    },
    {
     "data": {
      "image/png": "[encoded data removed]",
      "text/plain": [
       "<Figure size 432x288 with 1 Axes>"
      ]
     },
     "metadata": {
      "needs_background": "light"
     },
     "output_type": "display_data"
    }
   ],
   "source": [
    "print(len(sbux))\n",
    "sbux[\"close\"].plot();"
   ]
  },
  {
   "cell_type": "code",
   "execution_count": 7,
   "id": "ae349e5d",
   "metadata": {},
   "outputs": [],
   "source": [
    "sbux = return_calculator(sbux,1)"
   ]
  },
  {
   "cell_type": "code",
   "execution_count": 8,
   "id": "da5a4654",
   "metadata": {},
   "outputs": [],
   "source": [
    "# sbux[\"prev_close\"] = sbux[\"close\"].shift(1)\n",
    "# sbux[\"return\"] = sbux[\"close\"]/sbux[\"prev_close\"]-1\n",
    "# sbux[\"return2\"] = sbux[\"close\"].pct_change(1)\n",
    "# sbux[\"log_return\"] = np.log(sbux[\"return\"]+1)"
   ]
  },
  {
   "cell_type": "code",
   "execution_count": 9,
   "id": "1dcadae2",
   "metadata": {},
   "outputs": [
    {
     "data": {
      "text/html": [
       "<div>\n",
       "<style scoped>\n",
       "    .dataframe tbody tr th:only-of-type {\n",
       "        vertical-align: middle;\n",
       "    }\n",
       "\n",
       "    .dataframe tbody tr th {\n",
       "        vertical-align: top;\n",
       "    }\n",
       "\n",
       "    .dataframe thead th {\n",
       "        text-align: right;\n",
       "    }\n",
       "</style>\n",
       "<table border=\"1\" class=\"dataframe\">\n",
       "  <thead>\n",
       "    <tr style=\"text-align: right;\">\n",
       "      <th></th>\n",
       "      <th>date</th>\n",
       "      <th>open</th>\n",
       "      <th>high</th>\n",
       "      <th>low</th>\n",
       "      <th>close</th>\n",
       "      <th>volume</th>\n",
       "      <th>Name</th>\n",
       "      <th>prev_close</th>\n",
       "      <th>return</th>\n",
       "      <th>log_return</th>\n",
       "    </tr>\n",
       "  </thead>\n",
       "  <tbody>\n",
       "    <tr>\n",
       "      <th>498152</th>\n",
       "      <td>2013-02-08</td>\n",
       "      <td>27.920</td>\n",
       "      <td>28.325</td>\n",
       "      <td>27.920</td>\n",
       "      <td>28.185</td>\n",
       "      <td>7146296</td>\n",
       "      <td>SBUX</td>\n",
       "      <td>NaN</td>\n",
       "      <td>NaN</td>\n",
       "      <td>NaN</td>\n",
       "    </tr>\n",
       "    <tr>\n",
       "      <th>498153</th>\n",
       "      <td>2013-02-11</td>\n",
       "      <td>28.260</td>\n",
       "      <td>28.260</td>\n",
       "      <td>27.930</td>\n",
       "      <td>28.070</td>\n",
       "      <td>5457354</td>\n",
       "      <td>SBUX</td>\n",
       "      <td>28.185</td>\n",
       "      <td>-0.004080</td>\n",
       "      <td>-0.004089</td>\n",
       "    </tr>\n",
       "    <tr>\n",
       "      <th>498154</th>\n",
       "      <td>2013-02-12</td>\n",
       "      <td>28.000</td>\n",
       "      <td>28.275</td>\n",
       "      <td>27.975</td>\n",
       "      <td>28.130</td>\n",
       "      <td>8665592</td>\n",
       "      <td>SBUX</td>\n",
       "      <td>28.070</td>\n",
       "      <td>0.002138</td>\n",
       "      <td>0.002135</td>\n",
       "    </tr>\n",
       "    <tr>\n",
       "      <th>498155</th>\n",
       "      <td>2013-02-13</td>\n",
       "      <td>28.230</td>\n",
       "      <td>28.230</td>\n",
       "      <td>27.750</td>\n",
       "      <td>27.915</td>\n",
       "      <td>7022056</td>\n",
       "      <td>SBUX</td>\n",
       "      <td>28.130</td>\n",
       "      <td>-0.007643</td>\n",
       "      <td>-0.007672</td>\n",
       "    </tr>\n",
       "    <tr>\n",
       "      <th>498156</th>\n",
       "      <td>2013-02-14</td>\n",
       "      <td>27.765</td>\n",
       "      <td>27.905</td>\n",
       "      <td>27.675</td>\n",
       "      <td>27.775</td>\n",
       "      <td>8899188</td>\n",
       "      <td>SBUX</td>\n",
       "      <td>27.915</td>\n",
       "      <td>-0.005015</td>\n",
       "      <td>-0.005028</td>\n",
       "    </tr>\n",
       "  </tbody>\n",
       "</table>\n",
       "</div>"
      ],
      "text/plain": [
       "              date    open    high     low   close   volume  Name  prev_close  \\\n",
       "498152  2013-02-08  27.920  28.325  27.920  28.185  7146296  SBUX         NaN   \n",
       "498153  2013-02-11  28.260  28.260  27.930  28.070  5457354  SBUX      28.185   \n",
       "498154  2013-02-12  28.000  28.275  27.975  28.130  8665592  SBUX      28.070   \n",
       "498155  2013-02-13  28.230  28.230  27.750  27.915  7022056  SBUX      28.130   \n",
       "498156  2013-02-14  27.765  27.905  27.675  27.775  8899188  SBUX      27.915   \n",
       "\n",
       "          return  log_return  \n",
       "498152       NaN         NaN  \n",
       "498153 -0.004080   -0.004089  \n",
       "498154  0.002138    0.002135  \n",
       "498155 -0.007643   -0.007672  \n",
       "498156 -0.005015   -0.005028  "
      ]
     },
     "execution_count": 9,
     "metadata": {},
     "output_type": "execute_result"
    }
   ],
   "source": [
    "sbux.head()"
   ]
  },
  {
   "cell_type": "code",
   "execution_count": 10,
   "id": "3785b989",
   "metadata": {},
   "outputs": [
    {
     "data": {
      "image/png": "[encoded data removed]",
      "text/plain": [
       "<Figure size 432x288 with 1 Axes>"
      ]
     },
     "metadata": {
      "needs_background": "light"
     },
     "output_type": "display_data"
    }
   ],
   "source": [
    "sbux[\"return\"].hist(bins=100);"
   ]
  },
  {
   "cell_type": "code",
   "execution_count": 11,
   "id": "942a7395",
   "metadata": {},
   "outputs": [
    {
     "data": {
      "text/plain": [
       "(0.0006002332205830914, 0.012360934026133879)"
      ]
     },
     "execution_count": 11,
     "metadata": {},
     "output_type": "execute_result"
    }
   ],
   "source": [
    "sbux[\"return\"].mean(), sbux[\"return\"].std()"
   ]
  },
  {
   "cell_type": "code",
   "execution_count": 12,
   "id": "2ec33b0c",
   "metadata": {},
   "outputs": [
    {
     "data": {
      "image/png": "[encoded data removed]",
      "text/plain": [
       "<Figure size 432x288 with 1 Axes>"
      ]
     },
     "metadata": {
      "needs_background": "light"
     },
     "output_type": "display_data"
    }
   ],
   "source": [
    "sbux[\"log_return\"].hist(bins=100);"
   ]
  },
  {
   "cell_type": "code",
   "execution_count": 13,
   "id": "156fe50c",
   "metadata": {},
   "outputs": [
    {
     "data": {
      "text/plain": [
       "(0.0005235902748108682, 0.012381234216101258)"
      ]
     },
     "execution_count": 13,
     "metadata": {},
     "output_type": "execute_result"
    }
   ],
   "source": [
    "sbux[\"log_return\"].mean(), sbux[\"log_return\"].std()"
   ]
  },
  {
   "cell_type": "markdown",
   "id": "86babc14",
   "metadata": {},
   "source": [
    "### QQ plots"
   ]
  },
  {
   "cell_type": "code",
   "execution_count": 14,
   "id": "f358d839",
   "metadata": {},
   "outputs": [],
   "source": [
    "x_list = np.linspace(\n",
    "    sbux['return'].min(),\n",
    "    sbux['return'].max(),\n",
    "    100\n",
    ")"
   ]
  },
  {
   "cell_type": "code",
   "execution_count": 15,
   "id": "26fce989",
   "metadata": {},
   "outputs": [],
   "source": [
    "y_list = norm.pdf(x_list, loc=sbux['return'].mean(), scale=sbux['return'].std())"
   ]
  },
  {
   "cell_type": "code",
   "execution_count": 16,
   "id": "6710c9d2",
   "metadata": {},
   "outputs": [
    {
     "data": {
      "text/plain": [
       "<AxesSubplot:>"
      ]
     },
     "execution_count": 16,
     "metadata": {},
     "output_type": "execute_result"
    },
    {
     "data": {
      "image/png": "[encoded data removed]",
      "text/plain": [
       "<Figure size 432x288 with 1 Axes>"
      ]
     },
     "metadata": {
      "needs_background": "light"
     },
     "output_type": "display_data"
    }
   ],
   "source": [
    "plt.plot(x_list, y_list);\n",
    "sbux['return'].hist(bins=100, density=True)"
   ]
  },
  {
   "cell_type": "code",
   "execution_count": 17,
   "id": "fd5014b1",
   "metadata": {},
   "outputs": [
    {
     "data": {
      "image/png": "[encoded data removed]",
      "text/plain": [
       "<Figure size 432x288 with 1 Axes>"
      ]
     },
     "metadata": {
      "needs_background": "light"
     },
     "output_type": "display_data"
    }
   ],
   "source": [
    "probplot(sbux['return'].dropna(), dist='norm', fit=True, plot=plt);"
   ]
  },
  {
   "cell_type": "code",
   "execution_count": 18,
   "id": "91d0eb35",
   "metadata": {},
   "outputs": [
    {
     "data": {
      "image/png": "[encoded data removed]",
      "text/plain": [
       "<Figure size 432x288 with 1 Axes>"
      ]
     },
     "metadata": {
      "needs_background": "light"
     },
     "output_type": "display_data"
    }
   ],
   "source": [
    "sm.qqplot(sbux['return'].dropna(), line='s');"
   ]
  },
  {
   "cell_type": "code",
   "execution_count": 19,
   "id": "1f3e93ee",
   "metadata": {},
   "outputs": [],
   "source": [
    "x_list_log = np.linspace(\n",
    "    sbux['log_return'].min(),\n",
    "    sbux['log_return'].max(),\n",
    "    100\n",
    ")"
   ]
  },
  {
   "cell_type": "code",
   "execution_count": 23,
   "id": "597709e8",
   "metadata": {},
   "outputs": [],
   "source": [
    "y_list_log = norm.pdf(x_list_log, loc=sbux['log_return'].mean(), scale=sbux['log_return'].std())"
   ]
  },
  {
   "cell_type": "code",
   "execution_count": 24,
   "id": "6b939bbc",
   "metadata": {},
   "outputs": [
    {
     "data": {
      "image/png": "[encoded data removed]",
      "text/plain": [
       "<Figure size 432x288 with 1 Axes>"
      ]
     },
     "metadata": {
      "needs_background": "light"
     },
     "output_type": "display_data"
    }
   ],
   "source": [
    "plt.plot(x_list_log, y_list_log);\n",
    "sbux['log_return'].hist(bins=100, density=True);"
   ]
  },
  {
   "cell_type": "code",
   "execution_count": 25,
   "id": "de6bdb19",
   "metadata": {},
   "outputs": [
    {
     "data": {
      "image/png": "[encoded data removed]",
      "text/plain": [
       "<Figure size 432x288 with 1 Axes>"
      ]
     },
     "metadata": {
      "needs_background": "light"
     },
     "output_type": "display_data"
    }
   ],
   "source": [
    "probplot(sbux['log_return'].dropna(), dist='norm', fit=True, plot=plt);"
   ]
  },
  {
   "cell_type": "code",
   "execution_count": null,
   "id": "bad3762a",
   "metadata": {},
   "outputs": [],
   "source": []
  }
 ],
 "metadata": {
  "kernelspec": {
   "display_name": "Python 3",
   "language": "python",
   "name": "python3"
  },
  "language_info": {
   "codemirror_mode": {
    "name": "ipython",
    "version": 3
   },
   "file_extension": ".py",
   "mimetype": "text/x-python",
   "name": "python",
   "nbconvert_exporter": "python",
   "pygments_lexer": "ipython3",
   "version": "3.7.9"
  }
 },
 "nbformat": 4,
 "nbformat_minor": 5
}
