{
 "cells": [
  {
   "cell_type": "markdown",
   "id": "21d756f5",
   "metadata": {},
   "source": [
    "### Imports"
   ]
  },
  {
   "cell_type": "code",
   "execution_count": 1,
   "id": "d2d8a777",
   "metadata": {},
   "outputs": [],
   "source": [
    "import pandas as pd\n",
    "import numpy as np\n",
    "from scipy.stats import norm\n",
    "import matplotlib.pyplot as plt\n",
    "from scipy.stats import probplot,t\n",
    "import statsmodels.api as sm\n",
    "\n",
    "%matplotlib inline"
   ]
  },
  {
   "cell_type": "markdown",
   "id": "071f1a76",
   "metadata": {},
   "source": [
    "### Functions"
   ]
  },
  {
   "cell_type": "code",
   "execution_count": 2,
   "id": "9099232a",
   "metadata": {},
   "outputs": [],
   "source": [
    "def return_calculator(df,t):\n",
    "    df[\"prev_close\"] = df[\"close\"].shift(t)\n",
    "    df[\"return\"] = df[\"close\"]/df[\"prev_close\"]-1\n",
    "#     df[\"return2\"] = df[\"close\"].pct_change(t)\n",
    "    df[\"log_return\"] = np.log(df[\"return\"]+1)\n",
    "    return df\n",
    "\n",
    "\n",
    "class myt:\n",
    "    def __init__(self,df):\n",
    "        self.df = df\n",
    "        \n",
    "    def fit(self,x):\n",
    "        return t.fit(x)\n",
    "    \n",
    "    def ppf(self, x, loc=0, scale=1):\n",
    "        return t.ppf(x, self.df, loc, scale)"
   ]
  },
  {
   "cell_type": "markdown",
   "id": "a8248044",
   "metadata": {},
   "source": [
    "### Read data"
   ]
  },
  {
   "cell_type": "code",
   "execution_count": 3,
   "id": "3f1b0921",
   "metadata": {},
   "outputs": [],
   "source": [
    "data = pd.read_csv(\"all_stocks_5yr.csv\", parse_dates=True)"
   ]
  },
  {
   "cell_type": "code",
   "execution_count": 4,
   "id": "587f4b2e",
   "metadata": {},
   "outputs": [],
   "source": [
    "sbux = data[data[\"Name\"]==\"SBUX\"].copy()"
   ]
  },
  {
   "cell_type": "code",
   "execution_count": 5,
   "id": "fe4f56de",
   "metadata": {},
   "outputs": [
    {
     "data": {
      "text/html": [
       "<div>\n",
       "<style scoped>\n",
       "    .dataframe tbody tr th:only-of-type {\n",
       "        vertical-align: middle;\n",
       "    }\n",
       "\n",
       "    .dataframe tbody tr th {\n",
       "        vertical-align: top;\n",
       "    }\n",
       "\n",
       "    .dataframe thead th {\n",
       "        text-align: right;\n",
       "    }\n",
       "</style>\n",
       "<table border=\"1\" class=\"dataframe\">\n",
       "  <thead>\n",
       "    <tr style=\"text-align: right;\">\n",
       "      <th></th>\n",
       "      <th>date</th>\n",
       "      <th>open</th>\n",
       "      <th>high</th>\n",
       "      <th>low</th>\n",
       "      <th>close</th>\n",
       "      <th>volume</th>\n",
       "      <th>Name</th>\n",
       "    </tr>\n",
       "  </thead>\n",
       "  <tbody>\n",
       "    <tr>\n",
       "      <th>498152</th>\n",
       "      <td>2013-02-08</td>\n",
       "      <td>27.920</td>\n",
       "      <td>28.325</td>\n",
       "      <td>27.920</td>\n",
       "      <td>28.185</td>\n",
       "      <td>7146296</td>\n",
       "      <td>SBUX</td>\n",
       "    </tr>\n",
       "    <tr>\n",
       "      <th>498153</th>\n",
       "      <td>2013-02-11</td>\n",
       "      <td>28.260</td>\n",
       "      <td>28.260</td>\n",
       "      <td>27.930</td>\n",
       "      <td>28.070</td>\n",
       "      <td>5457354</td>\n",
       "      <td>SBUX</td>\n",
       "    </tr>\n",
       "    <tr>\n",
       "      <th>498154</th>\n",
       "      <td>2013-02-12</td>\n",
       "      <td>28.000</td>\n",
       "      <td>28.275</td>\n",
       "      <td>27.975</td>\n",
       "      <td>28.130</td>\n",
       "      <td>8665592</td>\n",
       "      <td>SBUX</td>\n",
       "    </tr>\n",
       "    <tr>\n",
       "      <th>498155</th>\n",
       "      <td>2013-02-13</td>\n",
       "      <td>28.230</td>\n",
       "      <td>28.230</td>\n",
       "      <td>27.750</td>\n",
       "      <td>27.915</td>\n",
       "      <td>7022056</td>\n",
       "      <td>SBUX</td>\n",
       "    </tr>\n",
       "    <tr>\n",
       "      <th>498156</th>\n",
       "      <td>2013-02-14</td>\n",
       "      <td>27.765</td>\n",
       "      <td>27.905</td>\n",
       "      <td>27.675</td>\n",
       "      <td>27.775</td>\n",
       "      <td>8899188</td>\n",
       "      <td>SBUX</td>\n",
       "    </tr>\n",
       "  </tbody>\n",
       "</table>\n",
       "</div>"
      ],
      "text/plain": [
       "              date    open    high     low   close   volume  Name\n",
       "498152  2013-02-08  27.920  28.325  27.920  28.185  7146296  SBUX\n",
       "498153  2013-02-11  28.260  28.260  27.930  28.070  5457354  SBUX\n",
       "498154  2013-02-12  28.000  28.275  27.975  28.130  8665592  SBUX\n",
       "498155  2013-02-13  28.230  28.230  27.750  27.915  7022056  SBUX\n",
       "498156  2013-02-14  27.765  27.905  27.675  27.775  8899188  SBUX"
      ]
     },
     "execution_count": 5,
     "metadata": {},
     "output_type": "execute_result"
    }
   ],
   "source": [
    "sbux.head()"
   ]
  },
  {
   "cell_type": "code",
   "execution_count": 6,
   "id": "99c23c6d",
   "metadata": {},
   "outputs": [
    {
     "name": "stdout",
     "output_type": "stream",
     "text": [
      "1259\n"
     ]
    },
    {
     "data": {
      "image/png": "[encoded data removed]",
      "text/plain": [
       "<Figure size 432x288 with 1 Axes>"
      ]
     },
     "metadata": {
      "needs_background": "light"
     },
     "output_type": "display_data"
    }
   ],
   "source": [
    "print(len(sbux))\n",
    "sbux[\"close\"].plot();"
   ]
  },
  {
   "cell_type": "code",
   "execution_count": 7,
   "id": "ae349e5d",
   "metadata": {},
   "outputs": [],
   "source": [
    "sbux = return_calculator(sbux,1)"
   ]
  },
  {
   "cell_type": "code",
   "execution_count": 8,
   "id": "da5a4654",
   "metadata": {},
   "outputs": [],
   "source": [
    "# sbux[\"prev_close\"] = sbux[\"close\"].shift(1)\n",
    "# sbux[\"return\"] = sbux[\"close\"]/sbux[\"prev_close\"]-1\n",
    "# sbux[\"return2\"] = sbux[\"close\"].pct_change(1)\n",
    "# sbux[\"log_return\"] = np.log(sbux[\"return\"]+1)"
   ]
  },
  {
   "cell_type": "code",
   "execution_count": 9,
   "id": "1dcadae2",
   "metadata": {},
   "outputs": [
    {
     "data": {
      "text/html": [
       "<div>\n",
       "<style scoped>\n",
       "    .dataframe tbody tr th:only-of-type {\n",
       "        vertical-align: middle;\n",
       "    }\n",
       "\n",
       "    .dataframe tbody tr th {\n",
       "        vertical-align: top;\n",
       "    }\n",
       "\n",
       "    .dataframe thead th {\n",
       "        text-align: right;\n",
       "    }\n",
       "</style>\n",
       "<table border=\"1\" class=\"dataframe\">\n",
       "  <thead>\n",
       "    <tr style=\"text-align: right;\">\n",
       "      <th></th>\n",
       "      <th>date</th>\n",
       "      <th>open</th>\n",
       "      <th>high</th>\n",
       "      <th>low</th>\n",
       "      <th>close</th>\n",
       "      <th>volume</th>\n",
       "      <th>Name</th>\n",
       "      <th>prev_close</th>\n",
       "      <th>return</th>\n",
       "      <th>log_return</th>\n",
       "    </tr>\n",
       "  </thead>\n",
       "  <tbody>\n",
       "    <tr>\n",
       "      <th>498152</th>\n",
       "      <td>2013-02-08</td>\n",
       "      <td>27.920</td>\n",
       "      <td>28.325</td>\n",
       "      <td>27.920</td>\n",
       "      <td>28.185</td>\n",
       "      <td>7146296</td>\n",
       "      <td>SBUX</td>\n",
       "      <td>NaN</td>\n",
       "      <td>NaN</td>\n",
       "      <td>NaN</td>\n",
       "    </tr>\n",
       "    <tr>\n",
       "      <th>498153</th>\n",
       "      <td>2013-02-11</td>\n",
       "      <td>28.260</td>\n",
       "      <td>28.260</td>\n",
       "      <td>27.930</td>\n",
       "      <td>28.070</td>\n",
       "      <td>5457354</td>\n",
       "      <td>SBUX</td>\n",
       "      <td>28.185</td>\n",
       "      <td>-0.004080</td>\n",
       "      <td>-0.004089</td>\n",
       "    </tr>\n",
       "    <tr>\n",
       "      <th>498154</th>\n",
       "      <td>2013-02-12</td>\n",
       "      <td>28.000</td>\n",
       "      <td>28.275</td>\n",
       "      <td>27.975</td>\n",
       "      <td>28.130</td>\n",
       "      <td>8665592</td>\n",
       "      <td>SBUX</td>\n",
       "      <td>28.070</td>\n",
       "      <td>0.002138</td>\n",
       "      <td>0.002135</td>\n",
       "    </tr>\n",
       "    <tr>\n",
       "      <th>498155</th>\n",
       "      <td>2013-02-13</td>\n",
       "      <td>28.230</td>\n",
       "      <td>28.230</td>\n",
       "      <td>27.750</td>\n",
       "      <td>27.915</td>\n",
       "      <td>7022056</td>\n",
       "      <td>SBUX</td>\n",
       "      <td>28.130</td>\n",
       "      <td>-0.007643</td>\n",
       "      <td>-0.007672</td>\n",
       "    </tr>\n",
       "    <tr>\n",
       "      <th>498156</th>\n",
       "      <td>2013-02-14</td>\n",
       "      <td>27.765</td>\n",
       "      <td>27.905</td>\n",
       "      <td>27.675</td>\n",
       "      <td>27.775</td>\n",
       "      <td>8899188</td>\n",
       "      <td>SBUX</td>\n",
       "      <td>27.915</td>\n",
       "      <td>-0.005015</td>\n",
       "      <td>-0.005028</td>\n",
       "    </tr>\n",
       "  </tbody>\n",
       "</table>\n",
       "</div>"
      ],
      "text/plain": [
       "              date    open    high     low   close   volume  Name  prev_close  \\\n",
       "498152  2013-02-08  27.920  28.325  27.920  28.185  7146296  SBUX         NaN   \n",
       "498153  2013-02-11  28.260  28.260  27.930  28.070  5457354  SBUX      28.185   \n",
       "498154  2013-02-12  28.000  28.275  27.975  28.130  8665592  SBUX      28.070   \n",
       "498155  2013-02-13  28.230  28.230  27.750  27.915  7022056  SBUX      28.130   \n",
       "498156  2013-02-14  27.765  27.905  27.675  27.775  8899188  SBUX      27.915   \n",
       "\n",
       "          return  log_return  \n",
       "498152       NaN         NaN  \n",
       "498153 -0.004080   -0.004089  \n",
       "498154  0.002138    0.002135  \n",
       "498155 -0.007643   -0.007672  \n",
       "498156 -0.005015   -0.005028  "
      ]
     },
     "execution_count": 9,
     "metadata": {},
     "output_type": "execute_result"
    }
   ],
   "source": [
    "sbux.head()"
   ]
  },
  {
   "cell_type": "code",
   "execution_count": 10,
   "id": "3785b989",
   "metadata": {},
   "outputs": [
    {
     "data": {
      "image/png": "[encoded data removed]",
      "text/plain": [
       "<Figure size 432x288 with 1 Axes>"
      ]
     },
     "metadata": {
      "needs_background": "light"
     },
     "output_type": "display_data"
    }
   ],
   "source": [
    "sbux[\"return\"].hist(bins=100);"
   ]
  },
  {
   "cell_type": "code",
   "execution_count": 11,
   "id": "942a7395",
   "metadata": {},
   "outputs": [
    {
     "data": {
      "text/plain": [
       "(0.0006002332205830914, 0.012360934026133879)"
      ]
     },
     "execution_count": 11,
     "metadata": {},
     "output_type": "execute_result"
    }
   ],
   "source": [
    "sbux[\"return\"].mean(), sbux[\"return\"].std()"
   ]
  },
  {
   "cell_type": "code",
   "execution_count": 12,
   "id": "2ec33b0c",
   "metadata": {},
   "outputs": [
    {
     "data": {
      "image/png": "[encoded data removed]",
      "text/plain": [
       "<Figure size 432x288 with 1 Axes>"
      ]
     },
     "metadata": {
      "needs_background": "light"
     },
     "output_type": "display_data"
    }
   ],
   "source": [
    "sbux[\"log_return\"].hist(bins=100);"
   ]
  },
  {
   "cell_type": "code",
   "execution_count": 13,
   "id": "156fe50c",
   "metadata": {},
   "outputs": [
    {
     "data": {
      "text/plain": [
       "(0.0005235902748108682, 0.012381234216101258)"
      ]
     },
     "execution_count": 13,
     "metadata": {},
     "output_type": "execute_result"
    }
   ],
   "source": [
    "sbux[\"log_return\"].mean(), sbux[\"log_return\"].std()"
   ]
  },
  {
   "cell_type": "markdown",
   "id": "86babc14",
   "metadata": {},
   "source": [
    "### QQ plots"
   ]
  },
  {
   "cell_type": "code",
   "execution_count": 14,
   "id": "f358d839",
   "metadata": {},
   "outputs": [],
   "source": [
    "x_list = np.linspace(\n",
    "    sbux['return'].min(),\n",
    "    sbux['return'].max(),\n",
    "    100\n",
    ")"
   ]
  },
  {
   "cell_type": "code",
   "execution_count": 15,
   "id": "26fce989",
   "metadata": {},
   "outputs": [],
   "source": [
    "y_list = norm.pdf(x_list, loc=sbux['return'].mean(), scale=sbux['return'].std())"
   ]
  },
  {
   "cell_type": "code",
   "execution_count": 16,
   "id": "6710c9d2",
   "metadata": {},
   "outputs": [
    {
     "data": {
      "text/plain": [
       "<AxesSubplot:>"
      ]
     },
     "execution_count": 16,
     "metadata": {},
     "output_type": "execute_result"
    },
    {
     "data": {
      "image/png": "[encoded data removed]",
      "text/plain": [
       "<Figure size 432x288 with 1 Axes>"
      ]
     },
     "metadata": {
      "needs_background": "light"
     },
     "output_type": "display_data"
    }
   ],
   "source": [
    "plt.plot(x_list, y_list);\n",
    "sbux['return'].hist(bins=100, density=True)"
   ]
  },
  {
   "cell_type": "code",
   "execution_count": 17,
   "id": "fd5014b1",
   "metadata": {},
   "outputs": [
    {
     "data": {
      "image/png": "[encoded data removed]",
      "text/plain": [
       "<Figure size 432x288 with 1 Axes>"
      ]
     },
     "metadata": {
      "needs_background": "light"
     },
     "output_type": "display_data"
    }
   ],
   "source": [
    "probplot(sbux['return'].dropna(), dist='norm', fit=True, plot=plt);"
   ]
  },
  {
   "cell_type": "code",
   "execution_count": 18,
   "id": "91d0eb35",
   "metadata": {},
   "outputs": [
    {
     "data": {
      "image/png": "[encoded data removed]",
      "text/plain": [
       "<Figure size 432x288 with 1 Axes>"
      ]
     },
     "metadata": {
      "needs_background": "light"
     },
     "output_type": "display_data"
    }
   ],
   "source": [
    "sm.qqplot(sbux['return'].dropna(), line='s');"
   ]
  },
  {
   "cell_type": "code",
   "execution_count": 19,
   "id": "1f3e93ee",
   "metadata": {},
   "outputs": [],
   "source": [
    "x_list_log = np.linspace(\n",
    "    sbux['log_return'].min(),\n",
    "    sbux['log_return'].max(),\n",
    "    100\n",
    ")"
   ]
  },
  {
   "cell_type": "code",
   "execution_count": 20,
   "id": "597709e8",
   "metadata": {},
   "outputs": [],
   "source": [
    "y_list_log = norm.pdf(x_list_log, loc=sbux['log_return'].mean(), scale=sbux['log_return'].std())"
   ]
  },
  {
   "cell_type": "code",
   "execution_count": 21,
   "id": "6b939bbc",
   "metadata": {},
   "outputs": [
    {
     "data": {
      "image/png": "[encoded data removed]",
      "text/plain": [
       "<Figure size 432x288 with 1 Axes>"
      ]
     },
     "metadata": {
      "needs_background": "light"
     },
     "output_type": "display_data"
    }
   ],
   "source": [
    "plt.plot(x_list_log, y_list_log);\n",
    "sbux['log_return'].hist(bins=100, density=True);"
   ]
  },
  {
   "cell_type": "code",
   "execution_count": 22,
   "id": "de6bdb19",
   "metadata": {},
   "outputs": [
    {
     "data": {
      "image/png": "[encoded data removed]",
      "text/plain": [
       "<Figure size 432x288 with 1 Axes>"
      ]
     },
     "metadata": {
      "needs_background": "light"
     },
     "output_type": "display_data"
    }
   ],
   "source": [
    "probplot(sbux['log_return'].dropna(), dist='norm', fit=True, plot=plt);"
   ]
  },
  {
   "cell_type": "markdown",
   "id": "68a87541",
   "metadata": {},
   "source": [
    "### t-distribution"
   ]
  },
  {
   "cell_type": "code",
   "execution_count": 23,
   "id": "18461faf",
   "metadata": {},
   "outputs": [],
   "source": [
    "params = t.fit(sbux['return'].dropna())"
   ]
  },
  {
   "cell_type": "code",
   "execution_count": 24,
   "id": "93c5fc36",
   "metadata": {},
   "outputs": [
    {
     "data": {
      "text/plain": [
       "(4.78753221828017, 0.0007108616716254146, 0.009341981642040986)"
      ]
     },
     "execution_count": 24,
     "metadata": {},
     "output_type": "execute_result"
    }
   ],
   "source": [
    "params"
   ]
  },
  {
   "cell_type": "code",
   "execution_count": 25,
   "id": "a521e74a",
   "metadata": {},
   "outputs": [],
   "source": [
    "df, loc, scale = params"
   ]
  },
  {
   "cell_type": "code",
   "execution_count": 26,
   "id": "4f86a70d",
   "metadata": {},
   "outputs": [],
   "source": [
    "y_list = t.pdf(x_list, df, loc, scale)"
   ]
  },
  {
   "cell_type": "code",
   "execution_count": 27,
   "id": "ccd00c03",
   "metadata": {},
   "outputs": [
    {
     "data": {
      "image/png": "[encoded data removed]",
      "text/plain": [
       "<Figure size 432x288 with 1 Axes>"
      ]
     },
     "metadata": {
      "needs_background": "light"
     },
     "output_type": "display_data"
    }
   ],
   "source": [
    "plt.plot(x_list, y_list);\n",
    "sbux['return'].hist(bins=100,density=True);"
   ]
  },
  {
   "cell_type": "code",
   "execution_count": 28,
   "id": "9dabf35d",
   "metadata": {},
   "outputs": [],
   "source": [
    "# sm.qqplot(sbux['return'].dropna(), dist=t,line='s');"
   ]
  },
  {
   "cell_type": "code",
   "execution_count": 29,
   "id": "76379a5e",
   "metadata": {},
   "outputs": [],
   "source": [
    "# probplot(sbux['log_return'].dropna(), dist='t', fit=True, plot=plt);"
   ]
  },
  {
   "cell_type": "code",
   "execution_count": 30,
   "id": "af08c08b",
   "metadata": {},
   "outputs": [
    {
     "data": {
      "image/png": "[encoded data removed]",
      "text/plain": [
       "<Figure size 432x288 with 1 Axes>"
      ]
     },
     "metadata": {
      "needs_background": "light"
     },
     "output_type": "display_data"
    }
   ],
   "source": [
    "sm.qqplot(sbux['return'].dropna(), dist=myt(df),line='s');"
   ]
  },
  {
   "cell_type": "code",
   "execution_count": 31,
   "id": "7b04ce8f",
   "metadata": {},
   "outputs": [],
   "source": [
    "params_log = t.fit(sbux['log_return'].dropna())"
   ]
  },
  {
   "cell_type": "code",
   "execution_count": 32,
   "id": "c1f4c61f",
   "metadata": {},
   "outputs": [],
   "source": [
    "df_log, loc_log, scale_log = params_log"
   ]
  },
  {
   "cell_type": "code",
   "execution_count": 33,
   "id": "94368edf",
   "metadata": {},
   "outputs": [],
   "source": [
    "y_list_log = t.pdf(x_list_log, df_log, loc_log, scale_log)"
   ]
  },
  {
   "cell_type": "code",
   "execution_count": 34,
   "id": "2ce4964d",
   "metadata": {},
   "outputs": [
    {
     "data": {
      "image/png": "[encoded data removed]",
      "text/plain": [
       "<Figure size 432x288 with 1 Axes>"
      ]
     },
     "metadata": {
      "needs_background": "light"
     },
     "output_type": "display_data"
    }
   ],
   "source": [
    "plt.plot(x_list_log, y_list_log);\n",
    "sbux['log_return'].hist(bins=100,density=True);"
   ]
  },
  {
   "cell_type": "code",
   "execution_count": 35,
   "id": "1b02294b",
   "metadata": {},
   "outputs": [
    {
     "data": {
      "image/png": "[encoded data removed]",
      "text/plain": [
       "<Figure size 432x288 with 1 Axes>"
      ]
     },
     "metadata": {
      "needs_background": "light"
     },
     "output_type": "display_data"
    }
   ],
   "source": [
    "sm.qqplot(sbux['log_return'].dropna(), dist=myt(df_log),line='s');"
   ]
  },
  {
   "cell_type": "markdown",
   "id": "05731cc7",
   "metadata": {},
   "source": [
    "### Skewness and Kurtosis"
   ]
  },
  {
   "cell_type": "code",
   "execution_count": 36,
   "id": "ea47610d",
   "metadata": {},
   "outputs": [
    {
     "data": {
      "text/plain": [
       "-0.2680784195824153"
      ]
     },
     "execution_count": 36,
     "metadata": {},
     "output_type": "execute_result"
    }
   ],
   "source": [
    "sbux['return'].skew()"
   ]
  },
  {
   "cell_type": "code",
   "execution_count": 37,
   "id": "bd43795c",
   "metadata": {},
   "outputs": [
    {
     "data": {
      "text/plain": [
       "5.593158903424731"
      ]
     },
     "execution_count": 37,
     "metadata": {},
     "output_type": "execute_result"
    }
   ],
   "source": [
    "sbux['return'].kurtosis()"
   ]
  },
  {
   "cell_type": "code",
   "execution_count": 38,
   "id": "98403f14",
   "metadata": {},
   "outputs": [
    {
     "data": {
      "text/plain": [
       "-0.41015501490182066"
      ]
     },
     "execution_count": 38,
     "metadata": {},
     "output_type": "execute_result"
    }
   ],
   "source": [
    "sbux['log_return'].skew()"
   ]
  },
  {
   "cell_type": "code",
   "execution_count": 39,
   "id": "6e9dce88",
   "metadata": {},
   "outputs": [
    {
     "data": {
      "text/plain": [
       "5.964502225799283"
      ]
     },
     "execution_count": 39,
     "metadata": {},
     "output_type": "execute_result"
    }
   ],
   "source": [
    "sbux['log_return'].kurtosis()"
   ]
  },
  {
   "cell_type": "markdown",
   "id": "3948156a",
   "metadata": {},
   "source": [
    "### Sample"
   ]
  },
  {
   "cell_type": "code",
   "execution_count": 40,
   "id": "38cc2c4d",
   "metadata": {},
   "outputs": [
    {
     "data": {
      "text/plain": [
       "(-0.03646204849411268, 0.015480472685445168)"
      ]
     },
     "execution_count": 40,
     "metadata": {},
     "output_type": "execute_result"
    }
   ],
   "source": [
    "sample = pd.Series(np.random.randn(10000))\n",
    "sample.skew(), sample.kurtosis()"
   ]
  },
  {
   "cell_type": "code",
   "execution_count": 41,
   "id": "69b1f67d",
   "metadata": {},
   "outputs": [],
   "source": [
    "# these are all excess skewness and kurtosis"
   ]
  },
  {
   "cell_type": "markdown",
   "id": "8abcb3f5",
   "metadata": {},
   "source": [
    "### Confidence Interval"
   ]
  },
  {
   "cell_type": "code",
   "execution_count": 43,
   "id": "48bf6726",
   "metadata": {},
   "outputs": [],
   "source": [
    "values = sbux['return'].dropna().to_numpy()"
   ]
  },
  {
   "cell_type": "code",
   "execution_count": 44,
   "id": "8c4f82a8",
   "metadata": {},
   "outputs": [],
   "source": [
    "m = values.mean()\n",
    "s = values.std(ddof=1)"
   ]
  },
  {
   "cell_type": "code",
   "execution_count": 49,
   "id": "d7a35578",
   "metadata": {},
   "outputs": [],
   "source": [
    "low   = m - 1.96 * s / np.sqrt(len(values))\n",
    "high = m + 1.96 * s / np.sqrt(len(values))"
   ]
  },
  {
   "cell_type": "code",
   "execution_count": 50,
   "id": "e6c8f6a7",
   "metadata": {},
   "outputs": [
    {
     "data": {
      "image/png": "[encoded data removed]",
      "text/plain": [
       "<Figure size 432x288 with 1 Axes>"
      ]
     },
     "metadata": {
      "needs_background": "light"
     },
     "output_type": "display_data"
    }
   ],
   "source": [
    "sbux['return'].hist(bins=100, density=True)\n",
    "plt.axvline(m, label='mean', color='red')\n",
    "plt.axvline(low, label='low', color='green')\n",
    "plt.axvline(high, label='high', color='green')\n",
    "plt.legend();"
   ]
  },
  {
   "cell_type": "code",
   "execution_count": 54,
   "id": "04e079a7",
   "metadata": {},
   "outputs": [
    {
     "data": {
      "image/png": "[encoded data removed]",
      "text/plain": [
       "<Figure size 432x288 with 1 Axes>"
      ]
     },
     "metadata": {
      "needs_background": "light"
     },
     "output_type": "display_data"
    }
   ],
   "source": [
    "plt.axvline(m, label='mean', color='red')\n",
    "plt.axvline(low, label='low', color='green')\n",
    "plt.axvline(high, label='high', color='green')\n",
    "plt.axvline(0, label='zero', color='blue')\n",
    "plt.legend();"
   ]
  },
  {
   "cell_type": "code",
   "execution_count": null,
   "id": "a50a9419",
   "metadata": {},
   "outputs": [],
   "source": []
  }
 ],
 "metadata": {
  "kernelspec": {
   "display_name": "Python 3",
   "language": "python",
   "name": "python3"
  },
  "language_info": {
   "codemirror_mode": {
    "name": "ipython",
    "version": 3
   },
   "file_extension": ".py",
   "mimetype": "text/x-python",
   "name": "python",
   "nbconvert_exporter": "python",
   "pygments_lexer": "ipython3",
   "version": "3.7.9"
  }
 },
 "nbformat": 4,
 "nbformat_minor": 5
}
