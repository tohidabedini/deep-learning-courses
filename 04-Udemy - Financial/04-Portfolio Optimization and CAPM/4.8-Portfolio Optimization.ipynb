{
 "cells": [
  {
   "cell_type": "markdown",
   "id": "436b4fc9",
   "metadata": {},
   "source": [
    "### Imports"
   ]
  },
  {
   "cell_type": "code",
   "execution_count": 1,
   "id": "6740e309",
   "metadata": {},
   "outputs": [],
   "source": [
    "import pandas as pd\n",
    "import numpy as np\n",
    "import matplotlib.pyplot as plt\n",
    "\n",
    "import warnings\n",
    "warnings.filterwarnings(\"ignore\", category=Warning)\n",
    "%matplotlib inline"
   ]
  },
  {
   "cell_type": "markdown",
   "id": "383b70cf",
   "metadata": {},
   "source": [
    "### Functions"
   ]
  },
  {
   "cell_type": "code",
   "execution_count": 97,
   "id": "b868baa9",
   "metadata": {},
   "outputs": [],
   "source": [
    "def dates_generator(all_dates, start_date, end_date):\n",
    "    start =  all_dates.get_loc(start_date)\n",
    "    end = all_dates.get_loc(end_date)\n",
    "#     print(start)\n",
    "#     print(end)\n",
    "    dates = all_dates[start:end+1]\n",
    "    return dates\n",
    "\n",
    "def close_prices_generator(df, dates, names):\n",
    "    close_prices = pd.DataFrame(index=dates)\n",
    "    for name in names:\n",
    "        tmp1 = df.loc[dates]\n",
    "        df_sym = tmp1[tmp1[\"Name\"]==name]\n",
    "        df_tmp = pd.DataFrame(data=df_sym[\"Close\"].to_numpy(), index=df_sym.index, columns=[name])\n",
    "        close_prices = close_prices.join(df_tmp)\n",
    "    return close_prices\n",
    "\n",
    "def log_returns_calculator(close_prices, dates):\n",
    "    returns = pd.DataFrame(index=dates[1:])\n",
    "    for name in names:\n",
    "        current_returns = close_prices[name].pct_change()\n",
    "        returns[name] = current_returns.iloc[1:] * 100\n",
    "        \n",
    "    mean_return = returns.mean()\n",
    "    cov = returns.cov()\n",
    "        \n",
    "    return returns, mean_return, cov\n",
    "\n",
    "\n",
    "def scatter_plot(risks, returns):\n",
    "    plt.scatter(risks, returns, alpha=0.1)\n",
    "    plt.xlabel(\"Risk\");\n",
    "    plt.ylabel(\"Return\");\n",
    "\n",
    "    \n",
    "def return_risk_calculator(N, mean_return, cov, mode=0):\n",
    "    cov_np = cov.to_numpy()\n",
    "    D = len(mean_return)\n",
    "    returns = np.zeros(N)\n",
    "    risks = np.zeros(N)\n",
    "    for i in range(N):\n",
    "        rand_range = 1.0\n",
    "        if mode==0:\n",
    "            w = np.random.random(D)*rand_range - rand_range # short selling enabled\n",
    "            w[-1] = 1 - w[:-1].sum()\n",
    "            np.random.shuffle(w)\n",
    "        ret = mean_return.dot(w)\n",
    "        risk = np.sqrt(w.dot(cov_np).dot(w))\n",
    "        returns[i] = ret\n",
    "        risks[i] = risk\n",
    "    return returns, risks\n",
    "\n",
    "def single_asset_returns_calculator(mean_return, cov):\n",
    "    cov_np = cov.to_numpy()\n",
    "    D = len(mean_return)\n",
    "    single_asset_returns = np.zeros(D)\n",
    "    single_asset_risks = np.zeros(D)\n",
    "    for i in range(D):\n",
    "        ret = mean_return[i]\n",
    "        risk = np.sqrt(cov_np[i,i])\n",
    "        \n",
    "        single_asset_returns[i] = ret\n",
    "        single_asset_risks[i] = risk\n",
    "    return single_asset_returns, single_asset_risks"
   ]
  },
  {
   "cell_type": "markdown",
   "id": "f8afca1e",
   "metadata": {},
   "source": [
    "### Code"
   ]
  },
  {
   "cell_type": "code",
   "execution_count": 3,
   "id": "da02a432",
   "metadata": {},
   "outputs": [],
   "source": [
    "df = pd.read_csv(\"../02-Financial basics/sp500sub.csv\", index_col=\"Date\", parse_dates=True)"
   ]
  },
  {
   "cell_type": "code",
   "execution_count": 4,
   "id": "74265e81",
   "metadata": {},
   "outputs": [
    {
     "data": {
      "text/plain": [
       "Index(['Open', 'High', 'Low', 'Close', 'Adj Close', 'Volume', 'Name'], dtype='object')"
      ]
     },
     "execution_count": 4,
     "metadata": {},
     "output_type": "execute_result"
    }
   ],
   "source": [
    "df.columns"
   ]
  },
  {
   "cell_type": "code",
   "execution_count": 5,
   "id": "17dca624",
   "metadata": {},
   "outputs": [
    {
     "data": {
      "text/plain": [
       "array(['INCY', 'GILD', 'DXC', 'AFL', 'XYL', 'ARE', 'AMD', 'WYNN', 'IBM',\n",
       "       'ATVI', 'AES', 'GPC', 'PRU', 'HST', 'WMB', 'GOOG', 'SRE', 'HSIC',\n",
       "       'UNP', 'UPS', 'K', 'LYB', 'MDT', 'COF', 'HAS', 'CSX', 'GT', 'SYF',\n",
       "       'EBAY', 'KSS', 'AJG', 'JWN', 'SBUX', 'IT', 'PH', 'DVN', 'MMM',\n",
       "       'SPG', 'AKAM', 'IP', 'CPB', 'KMI', 'AAPL', 'NEM', 'KMX', 'TSCO',\n",
       "       'SYY', 'VNO', 'NWS', 'NBL', 'ACN', 'APH', 'PDCO', 'WLTW', 'FIS',\n",
       "       'URI', 'CBOE', 'FISV', 'BA', 'UAA', 'CVS', 'WU', 'SLB', 'AIV',\n",
       "       'VLO', 'MU', 'CAH', 'AZO', 'CCI', 'ZTS', 'MCO', 'ALLE', 'RHI',\n",
       "       'UAL', 'IR', 'CB', 'VMC', 'GD', 'AAP', 'NEE', 'ABT', 'WFC', 'DIS',\n",
       "       'SNA', 'MAR', 'JPM', 'CLX', 'KIM', 'SCG', 'HBI', 'ABBV', 'RSG',\n",
       "       'ETR', 'ADBE', 'COO', 'HLT', 'INTU', 'SLG', 'GWW', 'COG', 'CBS',\n",
       "       'FB', 'CMS', 'MDLZ'], dtype=object)"
      ]
     },
     "execution_count": 5,
     "metadata": {},
     "output_type": "execute_result"
    }
   ],
   "source": [
    "df[\"Name\"].unique()"
   ]
  },
  {
   "cell_type": "code",
   "execution_count": 6,
   "id": "ec61337a",
   "metadata": {},
   "outputs": [],
   "source": [
    "names = [\"GOOG\", \"SBUX\", \"KSS\", \"NEM\"]"
   ]
  },
  {
   "cell_type": "code",
   "execution_count": 16,
   "id": "ee4eac38",
   "metadata": {},
   "outputs": [],
   "source": [
    "all_dates = df.index.unique().sort_values()"
   ]
  },
  {
   "cell_type": "code",
   "execution_count": 8,
   "id": "11675837",
   "metadata": {},
   "outputs": [
    {
     "data": {
      "text/plain": [
       "2267"
      ]
     },
     "execution_count": 8,
     "metadata": {},
     "output_type": "execute_result"
    }
   ],
   "source": [
    "len(all_dates)"
   ]
  },
  {
   "cell_type": "code",
   "execution_count": 18,
   "id": "2106f824",
   "metadata": {},
   "outputs": [],
   "source": [
    "dates = dates_generator(all_dates, start_date=\"2014-01-02\", end_date=\"2014-06-30\")"
   ]
  },
  {
   "cell_type": "code",
   "execution_count": 19,
   "id": "1f7b0d1e",
   "metadata": {},
   "outputs": [
    {
     "data": {
      "text/plain": [
       "pandas.core.indexes.datetimes.DatetimeIndex"
      ]
     },
     "execution_count": 19,
     "metadata": {},
     "output_type": "execute_result"
    }
   ],
   "source": [
    "type(dates)"
   ]
  },
  {
   "cell_type": "code",
   "execution_count": 20,
   "id": "74401d81",
   "metadata": {},
   "outputs": [
    {
     "data": {
      "text/plain": [
       "124"
      ]
     },
     "execution_count": 20,
     "metadata": {},
     "output_type": "execute_result"
    }
   ],
   "source": [
    "len(dates)"
   ]
  },
  {
   "cell_type": "code",
   "execution_count": 24,
   "id": "6971c089",
   "metadata": {},
   "outputs": [],
   "source": [
    "close_prices = close_prices_generator(df, dates, names)"
   ]
  },
  {
   "cell_type": "code",
   "execution_count": 25,
   "id": "f77fecf4",
   "metadata": {},
   "outputs": [
    {
     "data": {
      "text/html": [
       "<div>\n",
       "<style scoped>\n",
       "    .dataframe tbody tr th:only-of-type {\n",
       "        vertical-align: middle;\n",
       "    }\n",
       "\n",
       "    .dataframe tbody tr th {\n",
       "        vertical-align: top;\n",
       "    }\n",
       "\n",
       "    .dataframe thead th {\n",
       "        text-align: right;\n",
       "    }\n",
       "</style>\n",
       "<table border=\"1\" class=\"dataframe\">\n",
       "  <thead>\n",
       "    <tr style=\"text-align: right;\">\n",
       "      <th></th>\n",
       "      <th>GOOG</th>\n",
       "      <th>SBUX</th>\n",
       "      <th>KSS</th>\n",
       "      <th>NEM</th>\n",
       "    </tr>\n",
       "    <tr>\n",
       "      <th>Date</th>\n",
       "      <th></th>\n",
       "      <th></th>\n",
       "      <th></th>\n",
       "      <th></th>\n",
       "    </tr>\n",
       "  </thead>\n",
       "  <tbody>\n",
       "    <tr>\n",
       "      <th>2014-01-02</th>\n",
       "      <td>554.481689</td>\n",
       "      <td>38.584999</td>\n",
       "      <td>56.990002</td>\n",
       "      <td>23.959999</td>\n",
       "    </tr>\n",
       "    <tr>\n",
       "      <th>2014-01-03</th>\n",
       "      <td>550.436829</td>\n",
       "      <td>38.474998</td>\n",
       "      <td>56.860001</td>\n",
       "      <td>23.920000</td>\n",
       "    </tr>\n",
       "    <tr>\n",
       "      <th>2014-01-06</th>\n",
       "      <td>556.573853</td>\n",
       "      <td>38.084999</td>\n",
       "      <td>56.040001</td>\n",
       "      <td>24.080000</td>\n",
       "    </tr>\n",
       "    <tr>\n",
       "      <th>2014-01-07</th>\n",
       "      <td>567.303589</td>\n",
       "      <td>38.605000</td>\n",
       "      <td>56.099998</td>\n",
       "      <td>23.950001</td>\n",
       "    </tr>\n",
       "    <tr>\n",
       "      <th>2014-01-08</th>\n",
       "      <td>568.484192</td>\n",
       "      <td>39.014999</td>\n",
       "      <td>55.180000</td>\n",
       "      <td>23.400000</td>\n",
       "    </tr>\n",
       "  </tbody>\n",
       "</table>\n",
       "</div>"
      ],
      "text/plain": [
       "                  GOOG       SBUX        KSS        NEM\n",
       "Date                                                   \n",
       "2014-01-02  554.481689  38.584999  56.990002  23.959999\n",
       "2014-01-03  550.436829  38.474998  56.860001  23.920000\n",
       "2014-01-06  556.573853  38.084999  56.040001  24.080000\n",
       "2014-01-07  567.303589  38.605000  56.099998  23.950001\n",
       "2014-01-08  568.484192  39.014999  55.180000  23.400000"
      ]
     },
     "execution_count": 25,
     "metadata": {},
     "output_type": "execute_result"
    }
   ],
   "source": [
    "close_prices.head()"
   ]
  },
  {
   "cell_type": "code",
   "execution_count": 27,
   "id": "3ef9d2d1",
   "metadata": {},
   "outputs": [
    {
     "data": {
      "text/plain": [
       "0"
      ]
     },
     "execution_count": 27,
     "metadata": {},
     "output_type": "execute_result"
    }
   ],
   "source": [
    "close_prices.isna().sum().sum()"
   ]
  },
  {
   "cell_type": "code",
   "execution_count": 28,
   "id": "e5778ffa",
   "metadata": {},
   "outputs": [],
   "source": [
    "close_prices.fillna(method=\"ffill\", inplace=True)"
   ]
  },
  {
   "cell_type": "code",
   "execution_count": 29,
   "id": "2326eaa6",
   "metadata": {},
   "outputs": [
    {
     "data": {
      "text/plain": [
       "0"
      ]
     },
     "execution_count": 29,
     "metadata": {},
     "output_type": "execute_result"
    }
   ],
   "source": [
    "close_prices.isna().sum().sum()"
   ]
  },
  {
   "cell_type": "code",
   "execution_count": 89,
   "id": "fd3f7e0c",
   "metadata": {},
   "outputs": [],
   "source": [
    "returns, mean_return, cov = log_returns_calculator(close_prices, dates)"
   ]
  },
  {
   "cell_type": "code",
   "execution_count": 90,
   "id": "c2c6eab2",
   "metadata": {
    "scrolled": true
   },
   "outputs": [
    {
     "data": {
      "text/html": [
       "<div>\n",
       "<style scoped>\n",
       "    .dataframe tbody tr th:only-of-type {\n",
       "        vertical-align: middle;\n",
       "    }\n",
       "\n",
       "    .dataframe tbody tr th {\n",
       "        vertical-align: top;\n",
       "    }\n",
       "\n",
       "    .dataframe thead th {\n",
       "        text-align: right;\n",
       "    }\n",
       "</style>\n",
       "<table border=\"1\" class=\"dataframe\">\n",
       "  <thead>\n",
       "    <tr style=\"text-align: right;\">\n",
       "      <th></th>\n",
       "      <th>GOOG</th>\n",
       "      <th>SBUX</th>\n",
       "      <th>KSS</th>\n",
       "      <th>NEM</th>\n",
       "    </tr>\n",
       "    <tr>\n",
       "      <th>Date</th>\n",
       "      <th></th>\n",
       "      <th></th>\n",
       "      <th></th>\n",
       "      <th></th>\n",
       "    </tr>\n",
       "  </thead>\n",
       "  <tbody>\n",
       "    <tr>\n",
       "      <th>2014-01-03</th>\n",
       "      <td>-0.729485</td>\n",
       "      <td>-0.285086</td>\n",
       "      <td>-0.228112</td>\n",
       "      <td>-0.166941</td>\n",
       "    </tr>\n",
       "    <tr>\n",
       "      <th>2014-01-06</th>\n",
       "      <td>1.114937</td>\n",
       "      <td>-1.013644</td>\n",
       "      <td>-1.442138</td>\n",
       "      <td>0.668896</td>\n",
       "    </tr>\n",
       "    <tr>\n",
       "      <th>2014-01-07</th>\n",
       "      <td>1.927819</td>\n",
       "      <td>1.365368</td>\n",
       "      <td>0.107062</td>\n",
       "      <td>-0.539864</td>\n",
       "    </tr>\n",
       "    <tr>\n",
       "      <th>2014-01-08</th>\n",
       "      <td>0.208108</td>\n",
       "      <td>1.062038</td>\n",
       "      <td>-1.639925</td>\n",
       "      <td>-2.296456</td>\n",
       "    </tr>\n",
       "    <tr>\n",
       "      <th>2014-01-09</th>\n",
       "      <td>-0.962997</td>\n",
       "      <td>-0.551071</td>\n",
       "      <td>0.688657</td>\n",
       "      <td>-0.854696</td>\n",
       "    </tr>\n",
       "  </tbody>\n",
       "</table>\n",
       "</div>"
      ],
      "text/plain": [
       "                GOOG      SBUX       KSS       NEM\n",
       "Date                                              \n",
       "2014-01-03 -0.729485 -0.285086 -0.228112 -0.166941\n",
       "2014-01-06  1.114937 -1.013644 -1.442138  0.668896\n",
       "2014-01-07  1.927819  1.365368  0.107062 -0.539864\n",
       "2014-01-08  0.208108  1.062038 -1.639925 -2.296456\n",
       "2014-01-09 -0.962997 -0.551071  0.688657 -0.854696"
      ]
     },
     "execution_count": 90,
     "metadata": {},
     "output_type": "execute_result"
    }
   ],
   "source": [
    "returns.head()"
   ]
  },
  {
   "cell_type": "code",
   "execution_count": 91,
   "id": "c07a2a2f",
   "metadata": {},
   "outputs": [
    {
     "data": {
      "text/plain": [
       "GOOG    0.038691\n",
       "SBUX    0.009955\n",
       "KSS    -0.053793\n",
       "NEM     0.072932\n",
       "dtype: float64"
      ]
     },
     "execution_count": 91,
     "metadata": {},
     "output_type": "execute_result"
    }
   ],
   "source": [
    "mean_return"
   ]
  },
  {
   "cell_type": "code",
   "execution_count": 92,
   "id": "30a304de",
   "metadata": {},
   "outputs": [
    {
     "data": {
      "text/html": [
       "<div>\n",
       "<style scoped>\n",
       "    .dataframe tbody tr th:only-of-type {\n",
       "        vertical-align: middle;\n",
       "    }\n",
       "\n",
       "    .dataframe tbody tr th {\n",
       "        vertical-align: top;\n",
       "    }\n",
       "\n",
       "    .dataframe thead th {\n",
       "        text-align: right;\n",
       "    }\n",
       "</style>\n",
       "<table border=\"1\" class=\"dataframe\">\n",
       "  <thead>\n",
       "    <tr style=\"text-align: right;\">\n",
       "      <th></th>\n",
       "      <th>GOOG</th>\n",
       "      <th>SBUX</th>\n",
       "      <th>KSS</th>\n",
       "      <th>NEM</th>\n",
       "    </tr>\n",
       "  </thead>\n",
       "  <tbody>\n",
       "    <tr>\n",
       "      <th>GOOG</th>\n",
       "      <td>2.206565</td>\n",
       "      <td>0.832469</td>\n",
       "      <td>0.771772</td>\n",
       "      <td>-0.033600</td>\n",
       "    </tr>\n",
       "    <tr>\n",
       "      <th>SBUX</th>\n",
       "      <td>0.832469</td>\n",
       "      <td>1.558406</td>\n",
       "      <td>0.714586</td>\n",
       "      <td>0.374448</td>\n",
       "    </tr>\n",
       "    <tr>\n",
       "      <th>KSS</th>\n",
       "      <td>0.771772</td>\n",
       "      <td>0.714586</td>\n",
       "      <td>2.025854</td>\n",
       "      <td>0.180308</td>\n",
       "    </tr>\n",
       "    <tr>\n",
       "      <th>NEM</th>\n",
       "      <td>-0.033600</td>\n",
       "      <td>0.374448</td>\n",
       "      <td>0.180308</td>\n",
       "      <td>4.815104</td>\n",
       "    </tr>\n",
       "  </tbody>\n",
       "</table>\n",
       "</div>"
      ],
      "text/plain": [
       "          GOOG      SBUX       KSS       NEM\n",
       "GOOG  2.206565  0.832469  0.771772 -0.033600\n",
       "SBUX  0.832469  1.558406  0.714586  0.374448\n",
       "KSS   0.771772  0.714586  2.025854  0.180308\n",
       "NEM  -0.033600  0.374448  0.180308  4.815104"
      ]
     },
     "execution_count": 92,
     "metadata": {},
     "output_type": "execute_result"
    }
   ],
   "source": [
    "cov"
   ]
  },
  {
   "cell_type": "code",
   "execution_count": 93,
   "id": "73f2a35f",
   "metadata": {},
   "outputs": [],
   "source": [
    "N = 10000\n",
    "returns, risks = return_risk_calculator(N, mean_return, cov, mode=0)"
   ]
  },
  {
   "cell_type": "code",
   "execution_count": 94,
   "id": "b232c3d5",
   "metadata": {},
   "outputs": [
    {
     "data": {
      "image/png": "[encoded data removed]",
      "text/plain": [
       "<Figure size 432x288 with 1 Axes>"
      ]
     },
     "metadata": {
      "needs_background": "light"
     },
     "output_type": "display_data"
    }
   ],
   "source": [
    "scatter_plot(risks, returns)"
   ]
  },
  {
   "cell_type": "code",
   "execution_count": 98,
   "id": "679e1992",
   "metadata": {},
   "outputs": [],
   "source": [
    "single_asset_returns, single_asset_risks = single_asset_returns_calculator(mean_return, cov)"
   ]
  },
  {
   "cell_type": "code",
   "execution_count": 99,
   "id": "570da4c3",
   "metadata": {},
   "outputs": [
    {
     "data": {
      "image/png": "[encoded data removed]",
      "text/plain": [
       "<Figure size 432x288 with 1 Axes>"
      ]
     },
     "metadata": {
      "needs_background": "light"
     },
     "output_type": "display_data"
    }
   ],
   "source": [
    "plt.scatter(risks, returns, alpha=0.1)\n",
    "plt.scatter(single_asset_risks, single_asset_returns, c=\"red\")\n",
    "plt.xlabel(\"Risk\")\n",
    "plt.ylabel(\"Return\");"
   ]
  },
  {
   "cell_type": "code",
   "execution_count": 100,
   "id": "bf5aede8",
   "metadata": {},
   "outputs": [
    {
     "name": "stdout",
     "output_type": "stream",
     "text": [
      "GOOG 2.2065647788398772\n",
      "SBUX 0.8324690007152389\n",
      "KSS 0.7717715673917704\n",
      "NEM -0.03360028033416307\n"
     ]
    }
   ],
   "source": [
    "for idx, val in cov[\"GOOG\"].iteritems():\n",
    "    print(idx, val)"
   ]
  }
 ],
 "metadata": {
  "kernelspec": {
   "display_name": "Python 3",
   "language": "python",
   "name": "python3"
  },
  "language_info": {
   "codemirror_mode": {
    "name": "ipython",
    "version": 3
   },
   "file_extension": ".py",
   "mimetype": "text/x-python",
   "name": "python",
   "nbconvert_exporter": "python",
   "pygments_lexer": "ipython3",
   "version": "3.7.9"
  }
 },
 "nbformat": 4,
 "nbformat_minor": 5
}
