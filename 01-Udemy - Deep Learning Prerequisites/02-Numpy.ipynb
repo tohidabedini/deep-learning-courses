{
 "cells": [
  {
   "cell_type": "markdown",
   "id": "korean-binary",
   "metadata": {},
   "source": [
    "https://www.datacamp.com/community/tutorials/markdown-in-jupyter-notebook"
   ]
  },
  {
   "cell_type": "markdown",
   "id": "acting-theology",
   "metadata": {},
   "source": [
    "# Vid 1 ( Numpy Section Introduction )"
   ]
  },
  {
   "cell_type": "markdown",
   "id": "transparent-outreach",
   "metadata": {},
   "source": [
    "##### Numpy (raw materials) - Matplotlib (visualize) - Scipy (statistics) - Pandas (read write manipulate)"
   ]
  },
  {
   "cell_type": "markdown",
   "id": "psychological-sample",
   "metadata": {},
   "source": [
    "<ul>\n",
    "\n",
    "<li>Numpy => numpy array</li>\n",
    "<li>Scalar 0D - Vector 1D -  Matrix 2D</li>\n",
    "<li>dot product (inner product) => a.b = aT b</li>\n",
    "<li>matrix multiplication C = AB</li>\n",
    "<li>A (m,n) B (n,p) = C (m,p)</li>\n",
    "<li>element wise dot product</li>\n",
    "    \n",
    "</ul>   "
   ]
  },
  {
   "cell_type": "markdown",
   "id": "intimate-exemption",
   "metadata": {},
   "source": [
    "### Applications:\n",
    "\n",
    "<ol>\n",
    "<li>Linear regression</li>\n",
    "<li>Logistic regression</li>\n",
    "<li>Deep neural network</li>\n",
    "<li>K-maens clustering</li>\n",
    "<li>Density Estimation</li>\n",
    "<li>Principal Component Analysis</li>\n",
    "<li>Matrix Factorization ( Recommender systems )</li>\n",
    "<li>SVM</li>\n",
    "<li>Markov models, Hidden markov models</li>\n",
    "<li>Control systems</li>\n",
    "<li>Game Theory</li>\n",
    "<li>Operations research</li>\n",
    "<li>Portfolio optimization</li>    \n",
    "\n",
    "</ol>"
   ]
  },
  {
   "cell_type": "markdown",
   "id": "retained-collection",
   "metadata": {},
   "source": [
    "# Vid 2 ( Arrays vs. Lists )"
   ]
  },
  {
   "cell_type": "code",
   "execution_count": 1,
   "id": "standard-illustration",
   "metadata": {},
   "outputs": [],
   "source": [
    "import numpy as np"
   ]
  },
  {
   "cell_type": "code",
   "execution_count": 2,
   "id": "based-resistance",
   "metadata": {},
   "outputs": [],
   "source": [
    "L = [1,2,3]\n",
    "\n",
    "A = np.array(L)\n",
    "#or\n",
    "# A = np.array([1,2,3])"
   ]
  },
  {
   "cell_type": "code",
   "execution_count": 3,
   "id": "blank-seattle",
   "metadata": {},
   "outputs": [
    {
     "name": "stdout",
     "output_type": "stream",
     "text": [
      "1\n",
      "2\n",
      "3\n"
     ]
    }
   ],
   "source": [
    "for e in L:\n",
    "    print(e)\n",
    "#     print(type(e))\n",
    "    \n",
    "# print(type(L))"
   ]
  },
  {
   "cell_type": "code",
   "execution_count": 4,
   "id": "bacterial-testimony",
   "metadata": {},
   "outputs": [
    {
     "name": "stdout",
     "output_type": "stream",
     "text": [
      "1\n",
      "2\n",
      "3\n"
     ]
    }
   ],
   "source": [
    "for e in A:\n",
    "    print(e)\n",
    "#     print(type(e))\n",
    "    \n",
    "# print(type(A))"
   ]
  },
  {
   "cell_type": "code",
   "execution_count": 5,
   "id": "attached-settle",
   "metadata": {},
   "outputs": [
    {
     "name": "stdout",
     "output_type": "stream",
     "text": [
      "[1, 2, 3, 4]\n"
     ]
    }
   ],
   "source": [
    "L.append(4)\n",
    "print(L)"
   ]
  },
  {
   "cell_type": "code",
   "execution_count": 6,
   "id": "objective-transparency",
   "metadata": {},
   "outputs": [],
   "source": [
    "# numpy array has not append ( has fixed size ) because of memory efficiency\n",
    "# A.append(4)"
   ]
  },
  {
   "cell_type": "code",
   "execution_count": 7,
   "id": "running-inquiry",
   "metadata": {},
   "outputs": [
    {
     "name": "stdout",
     "output_type": "stream",
     "text": [
      "[1, 2, 3, 4, 5]\n",
      "[5 6 7]\n"
     ]
    }
   ],
   "source": [
    "# concat two lists\n",
    "print(L + [5])\n",
    "\n",
    "# broadcasting\n",
    "print(A + np.array([4]))\n",
    "\n",
    "# print(A + np.array([5,6,7]))\n",
    "# print(A + np.array([5,6]))"
   ]
  },
  {
   "cell_type": "code",
   "execution_count": 8,
   "id": "crude-radical",
   "metadata": {},
   "outputs": [
    {
     "name": "stdout",
     "output_type": "stream",
     "text": [
      "[2 4 6]\n",
      "[1, 2, 3, 4, 1, 2, 3, 4]\n",
      "[1, 2, 3, 4, 1, 2, 3, 4]\n"
     ]
    }
   ],
   "source": [
    "print(2 * A)\n",
    "print(2 * L)\n",
    "# print(2 + L)\n",
    "print(L + L)"
   ]
  },
  {
   "cell_type": "code",
   "execution_count": 9,
   "id": "exotic-leadership",
   "metadata": {},
   "outputs": [
    {
     "name": "stdout",
     "output_type": "stream",
     "text": [
      "[4, 5, 6, 7]\n"
     ]
    }
   ],
   "source": [
    "L2 = []\n",
    "for e in L:\n",
    "    L2.append(e + 3)\n",
    "    \n",
    "print(L2)"
   ]
  },
  {
   "cell_type": "code",
   "execution_count": 10,
   "id": "atmospheric-tissue",
   "metadata": {},
   "outputs": [
    {
     "name": "stdout",
     "output_type": "stream",
     "text": [
      "[4, 5, 6, 7]\n",
      "[4 5 6]\n"
     ]
    }
   ],
   "source": [
    "L2 = [e+3 for e in L]\n",
    "print(L2)\n",
    "\n",
    "print(A+3)"
   ]
  },
  {
   "cell_type": "code",
   "execution_count": 11,
   "id": "urban-macedonia",
   "metadata": {},
   "outputs": [
    {
     "name": "stdout",
     "output_type": "stream",
     "text": [
      "[1, 4, 9, 16]\n",
      "[1 4 9]\n",
      "4\n"
     ]
    }
   ],
   "source": [
    "L2 = [e**2 for e in L]\n",
    "print(L2)\n",
    "\n",
    "print(A**2)\n",
    "print((A**2)[1])"
   ]
  },
  {
   "cell_type": "code",
   "execution_count": 12,
   "id": "arranged-property",
   "metadata": {},
   "outputs": [
    {
     "name": "stdout",
     "output_type": "stream",
     "text": [
      "[1 4 9]\n",
      "[1.         1.41421356 1.73205081]\n",
      "[0.         0.69314718 1.09861229]\n",
      "[ 2.71828183  7.3890561  20.08553692]\n",
      "[0.76159416 0.96402758 0.99505475]\n"
     ]
    }
   ],
   "source": [
    "print(np.power(A,2))\n",
    "print(np.sqrt(A))\n",
    "print(np.log(A))\n",
    "print(np.exp(A))\n",
    "print(np.tanh(A))"
   ]
  },
  {
   "cell_type": "markdown",
   "id": "specialized-shelter",
   "metadata": {},
   "source": [
    "# Vid 3 ( Dot products )"
   ]
  },
  {
   "cell_type": "markdown",
   "id": "prerequisite-invite",
   "metadata": {},
   "source": [
    "$$ a \\cdot b = a^T b = \\sum_{d=1}^D a_d b_d $$"
   ]
  },
  {
   "cell_type": "code",
   "execution_count": 13,
   "id": "processed-landscape",
   "metadata": {},
   "outputs": [],
   "source": [
    "a = np.array([1,2])\n",
    "b = np.array([3,4])"
   ]
  },
  {
   "cell_type": "code",
   "execution_count": 14,
   "id": "intended-federation",
   "metadata": {},
   "outputs": [
    {
     "name": "stdout",
     "output_type": "stream",
     "text": [
      "11\n"
     ]
    }
   ],
   "source": [
    "dot = 0\n",
    "for e,f in zip(a ,b):\n",
    "    dot+=e*f\n",
    "    \n",
    "print(dot)"
   ]
  },
  {
   "cell_type": "code",
   "execution_count": 15,
   "id": "crude-conspiracy",
   "metadata": {},
   "outputs": [
    {
     "name": "stdout",
     "output_type": "stream",
     "text": [
      "11\n"
     ]
    }
   ],
   "source": [
    "dot = 0\n",
    "for i in range(len(a)):\n",
    "    dot+=a[i]*b[i]\n",
    "    \n",
    "print(dot)"
   ]
  },
  {
   "cell_type": "code",
   "execution_count": 16,
   "id": "lovely-treatment",
   "metadata": {},
   "outputs": [
    {
     "name": "stdout",
     "output_type": "stream",
     "text": [
      "[3 8]\n",
      "11\n",
      "11\n",
      "11\n",
      "11\n",
      "11\n"
     ]
    }
   ],
   "source": [
    "print(a*b)\n",
    "\n",
    "print(np.dot(a,b))\n",
    "print(a.dot(b))\n",
    "print(a@b)\n",
    "\n",
    "print(np.sum(a*b))\n",
    "print((a*b).sum())"
   ]
  },
  {
   "cell_type": "markdown",
   "id": "unauthorized-career",
   "metadata": {},
   "source": [
    "$$ a^T b = \\left\\lVert a \\right\\rVert \\left\\lVert b \\right\\rVert \\cos \\theta_{ab}$$\n",
    "\n",
    "$$ \\cos \\theta_{ab} = \\frac{a^T b}{\\left\\lVert a \\right\\rVert \\left\\lVert b \\right\\rVert} $$\n",
    "\n",
    "$$ \\left\\lVert a \\right\\rVert = \\sqrt{\\sum_{d=1}^D a_d^2 } $$"
   ]
  },
  {
   "cell_type": "code",
   "execution_count": 17,
   "id": "welcome-chuck",
   "metadata": {},
   "outputs": [
    {
     "name": "stdout",
     "output_type": "stream",
     "text": [
      "2.23606797749979\n",
      "2.23606797749979\n"
     ]
    }
   ],
   "source": [
    "amag = np.sqrt(a.dot(a))\n",
    "print(amag)\n",
    "\n",
    "print(np.linalg.norm(a))"
   ]
  },
  {
   "cell_type": "code",
   "execution_count": 18,
   "id": "processed-azerbaijan",
   "metadata": {},
   "outputs": [
    {
     "name": "stdout",
     "output_type": "stream",
     "text": [
      "0.9838699100999074\n"
     ]
    }
   ],
   "source": [
    "cosanlge = a.dot(b) / (np.linalg.norm(a)*np.linalg.norm(b))\n",
    "print(cosanlge)"
   ]
  },
  {
   "cell_type": "code",
   "execution_count": 19,
   "id": "liked-flash",
   "metadata": {},
   "outputs": [
    {
     "name": "stdout",
     "output_type": "stream",
     "text": [
      "0.17985349979247847\n",
      "10.304846468766044\n"
     ]
    }
   ],
   "source": [
    "angle = np.arccos(cosanlge)\n",
    "#radians\n",
    "print(angle)\n",
    "\n",
    "\n",
    "#degree\n",
    "print(np.rad2deg(angle))"
   ]
  },
  {
   "cell_type": "markdown",
   "id": "enabling-video",
   "metadata": {},
   "source": [
    "# Vid 4 ( Speed test )"
   ]
  },
  {
   "cell_type": "code",
   "execution_count": 22,
   "id": "regional-rainbow",
   "metadata": {},
   "outputs": [],
   "source": [
    "import time\n",
    "\n",
    "def execution_time_calculator(start_time):\n",
    "#     print(\"--- %s seconds ---\" % (time.time() - start_time))\n",
    "    return time.time() - start_time"
   ]
  },
  {
   "cell_type": "code",
   "execution_count": 23,
   "id": "parental-disability",
   "metadata": {},
   "outputs": [
    {
     "name": "stdout",
     "output_type": "stream",
     "text": [
      "dt1/dt2:  228.11385828686045\n"
     ]
    }
   ],
   "source": [
    "a = np.random.randn(100)\n",
    "b = np.random.randn(100)\n",
    "\n",
    "T = 100000\n",
    "\n",
    "def slow_dot_product(a, b):\n",
    "    result = 0\n",
    "    for e, f in zip(a, b):\n",
    "        result += a*b\n",
    "    return result\n",
    "\n",
    "t0 = time.time()\n",
    "for t in range(T):\n",
    "    slow_dot_product(a, b)\n",
    "dt1 = execution_time_calculator(t0)\n",
    "\n",
    "t0 = time.time()\n",
    "for t in range(T):\n",
    "    a.dot(b)\n",
    "dt2 = execution_time_calculator(t0)\n",
    "\n",
    "print(\"dt1/dt2: \", dt1/dt2)"
   ]
  },
  {
   "cell_type": "code",
   "execution_count": 24,
   "id": "brutal-theater",
   "metadata": {},
   "outputs": [
    {
     "data": {
      "text/plain": [
       "1614337735.9090571"
      ]
     },
     "execution_count": 24,
     "metadata": {},
     "output_type": "execute_result"
    }
   ],
   "source": [
    "time.time()"
   ]
  },
  {
   "cell_type": "markdown",
   "id": "descending-scanning",
   "metadata": {},
   "source": [
    "# Vid 5 ( Matrices )"
   ]
  },
  {
   "cell_type": "code",
   "execution_count": 27,
   "id": "expired-eight",
   "metadata": {},
   "outputs": [
    {
     "name": "stdout",
     "output_type": "stream",
     "text": [
      "[[1, 2], [3, 4]]\n",
      "2\n"
     ]
    }
   ],
   "source": [
    "L = [[1,2],[3,4]]\n",
    "print(L)\n",
    "print(L[0][1])"
   ]
  },
  {
   "cell_type": "code",
   "execution_count": 31,
   "id": "defined-bible",
   "metadata": {},
   "outputs": [
    {
     "name": "stdout",
     "output_type": "stream",
     "text": [
      "[[1 2]\n",
      " [3 4]]\n",
      "2\n",
      "2\n"
     ]
    }
   ],
   "source": [
    "A = np.array(L)\n",
    "print(A)\n",
    "print(A[0][1])\n",
    "print(A[0,1])"
   ]
  },
  {
   "cell_type": "code",
   "execution_count": 35,
   "id": "stylish-governor",
   "metadata": {},
   "outputs": [
    {
     "name": "stdout",
     "output_type": "stream",
     "text": [
      "[1 3]\n",
      "[2 4]\n",
      "[1 2]\n"
     ]
    }
   ],
   "source": [
    "print(A[:,0])\n",
    "print(A[:,1])\n",
    "print(A[0,:])"
   ]
  },
  {
   "cell_type": "code",
   "execution_count": 41,
   "id": "earned-senegal",
   "metadata": {},
   "outputs": [
    {
     "name": "stdout",
     "output_type": "stream",
     "text": [
      "[[1 3]\n",
      " [2 4]]\n",
      "[[ 2.71828183  7.3890561 ]\n",
      " [20.08553692 54.59815003]]\n",
      "[[ 2.71828183  7.3890561 ]\n",
      " [20.08553692 54.59815003]]\n"
     ]
    }
   ],
   "source": [
    "# transpose\n",
    "print(A.T)\n",
    "print(np.exp(A))\n",
    "print(np.exp(L))\n"
   ]
  },
  {
   "cell_type": "code",
   "execution_count": 47,
   "id": "identical-skiing",
   "metadata": {},
   "outputs": [
    {
     "name": "stdout",
     "output_type": "stream",
     "text": [
      "[[ 9 12 15]\n",
      " [19 26 33]]\n"
     ]
    }
   ],
   "source": [
    "B = np.array([[1,2,3],[4,5,6]])\n",
    "# print(B)\n",
    "print(A.dot(B))\n",
    "# print(A.dot(B.T))"
   ]
  },
  {
   "cell_type": "code",
   "execution_count": 57,
   "id": "liquid-investor",
   "metadata": {},
   "outputs": [
    {
     "name": "stdout",
     "output_type": "stream",
     "text": [
      "-2.0000000000000004\n",
      "[[-2.   1. ]\n",
      " [ 1.5 -0.5]]\n"
     ]
    }
   ],
   "source": [
    "print(np.linalg.det(A))\n",
    "print(np.linalg.inv(A))"
   ]
  },
  {
   "cell_type": "code",
   "execution_count": 60,
   "id": "reserved-central",
   "metadata": {},
   "outputs": [
    {
     "name": "stdout",
     "output_type": "stream",
     "text": [
      "[[1.0000000e+00 4.4408921e-16]\n",
      " [0.0000000e+00 1.0000000e+00]]\n",
      "[[1.00000000e+00 1.11022302e-16]\n",
      " [0.00000000e+00 1.00000000e+00]]\n"
     ]
    }
   ],
   "source": [
    "print(np.linalg.inv(A).dot(A))\n",
    "print(A.dot(np.linalg.inv(A)))\n",
    "# identity matrix A A.T = I\n",
    "# 0.0000000000004 and e^-16 is because of not being exact"
   ]
  },
  {
   "cell_type": "code",
   "execution_count": 66,
   "id": "alien-superintendent",
   "metadata": {},
   "outputs": [
    {
     "name": "stdout",
     "output_type": "stream",
     "text": [
      "5\n",
      "6\n",
      "[1 4]\n",
      "[1 5]\n",
      "[[1 0 0 0]\n",
      " [0 2 0 0]\n",
      " [0 0 3 0]\n",
      " [0 0 0 4]]\n"
     ]
    }
   ],
   "source": [
    "print(np.trace(A))\n",
    "print(np.trace(B))\n",
    "\n",
    "print(np.diag(A))\n",
    "print(np.diag(B))\n",
    "\n",
    "#diag for vector\n",
    "# diag => matrix ==> vector  & vector ==> matrix\n",
    "print(np.diag([1,2,3,4]))"
   ]
  },
  {
   "cell_type": "code",
   "execution_count": 90,
   "id": "lovely-thesis",
   "metadata": {},
   "outputs": [
    {
     "name": "stdout",
     "output_type": "stream",
     "text": [
      "(array([-0.37228132,  5.37228132]), array([[-0.82456484, -0.41597356],\n",
      "       [ 0.56576746, -0.90937671]]))\n"
     ]
    }
   ],
   "source": [
    "print(np.linalg.eig(A))\n",
    "Lam ,V = np.linalg.eig(A)"
   ]
  },
  {
   "cell_type": "code",
   "execution_count": 91,
   "id": "unlikely-horse",
   "metadata": {},
   "outputs": [
    {
     "name": "stdout",
     "output_type": "stream",
     "text": [
      "[ 0.30697009 -0.21062466]\n",
      "[ 0.30697009 -0.21062466]\n"
     ]
    }
   ],
   "source": [
    "print(V[:,0] * Lam[0])\n",
    "print(A @ V[:,0])\n",
    "# x , y prints both\n",
    "# V[:,0] * Lam[0] , A @ V[:,0]\n",
    "# V[:,0] * Lam[0] == A @ V[:,0] is element wise"
   ]
  },
  {
   "cell_type": "code",
   "execution_count": 114,
   "id": "through-battle",
   "metadata": {},
   "outputs": [
    {
     "name": "stdout",
     "output_type": "stream",
     "text": [
      "False\n",
      "False\n"
     ]
    }
   ],
   "source": [
    "print(np.allclose(V[:,0] * Lam[0] , A @ V[:,0]))\n",
    "print(np.allclose(V @ np.diag(Lam), A @ V))"
   ]
  },
  {
   "cell_type": "code",
   "execution_count": 115,
   "id": "specialized-argentina",
   "metadata": {},
   "outputs": [],
   "source": [
    "# np.linalg.eigh for complex numbers"
   ]
  },
  {
   "cell_type": "markdown",
   "id": "organic-batman",
   "metadata": {},
   "source": [
    "# Vid 6 ( Solving linear systems )"
   ]
  },
  {
   "cell_type": "markdown",
   "id": "ambient-encoding",
   "metadata": {},
   "source": [
    "#### Solving with inverse is slow... use np.linalg.solve"
   ]
  },
  {
   "cell_type": "code",
   "execution_count": 116,
   "id": "interim-consolidation",
   "metadata": {},
   "outputs": [],
   "source": [
    "A = np.array([[1,1],[1.5,4]])\n",
    "b = np.array([2200,5050])"
   ]
  },
  {
   "cell_type": "code",
   "execution_count": 117,
   "id": "split-northwest",
   "metadata": {},
   "outputs": [
    {
     "data": {
      "text/plain": [
       "array([1500.,  700.])"
      ]
     },
     "execution_count": 117,
     "metadata": {},
     "output_type": "execute_result"
    }
   ],
   "source": [
    "np.linalg.solve(A,b)"
   ]
  },
  {
   "cell_type": "code",
   "execution_count": 118,
   "id": "nervous-antique",
   "metadata": {},
   "outputs": [
    {
     "data": {
      "text/plain": [
       "array([1500.,  700.])"
      ]
     },
     "execution_count": 118,
     "metadata": {},
     "output_type": "execute_result"
    }
   ],
   "source": [
    "np.linalg.inv(A).dot(b)"
   ]
  },
  {
   "cell_type": "markdown",
   "id": "narrow-driver",
   "metadata": {},
   "source": [
    "# Vid 7 ( Generting Data )"
   ]
  },
  {
   "cell_type": "code",
   "execution_count": 119,
   "id": "numerical-summer",
   "metadata": {},
   "outputs": [
    {
     "name": "stdout",
     "output_type": "stream",
     "text": [
      "[[0. 0. 0.]\n",
      " [0. 0. 0.]]\n"
     ]
    }
   ],
   "source": [
    "print(np.zeros((2,3)))"
   ]
  },
  {
   "cell_type": "code",
   "execution_count": 120,
   "id": "incident-cancellation",
   "metadata": {},
   "outputs": [
    {
     "name": "stdout",
     "output_type": "stream",
     "text": [
      "[[1. 1. 1.]\n",
      " [1. 1. 1.]]\n"
     ]
    }
   ],
   "source": [
    "print(np.ones((2,3)))"
   ]
  },
  {
   "cell_type": "code",
   "execution_count": 121,
   "id": "straight-serbia",
   "metadata": {},
   "outputs": [
    {
     "name": "stdout",
     "output_type": "stream",
     "text": [
      "[[10. 10. 10.]\n",
      " [10. 10. 10.]]\n"
     ]
    }
   ],
   "source": [
    "print(10*np.ones((2,3)))"
   ]
  },
  {
   "cell_type": "code",
   "execution_count": 123,
   "id": "social-symbol",
   "metadata": {},
   "outputs": [
    {
     "name": "stdout",
     "output_type": "stream",
     "text": [
      "[[1. 0. 0.]\n",
      " [0. 1. 0.]\n",
      " [0. 0. 1.]]\n"
     ]
    }
   ],
   "source": [
    "print(np.eye(3))"
   ]
  },
  {
   "cell_type": "code",
   "execution_count": 124,
   "id": "powerful-pitch",
   "metadata": {},
   "outputs": [
    {
     "name": "stdout",
     "output_type": "stream",
     "text": [
      "0.2411841425119341\n"
     ]
    }
   ],
   "source": [
    "print(np.random.random())"
   ]
  },
  {
   "cell_type": "code",
   "execution_count": 133,
   "id": "liquid-gasoline",
   "metadata": {},
   "outputs": [
    {
     "name": "stdout",
     "output_type": "stream",
     "text": [
      "[[0.68680729 0.01236846 0.57562069]\n",
      " [0.61215159 0.40438725 0.89663027]]\n",
      "[[ 0.91263294 -0.55609634  0.94687152]\n",
      " [ 0.75635558 -0.22797173 -0.27318345]]\n"
     ]
    }
   ],
   "source": [
    "# (0,1)\n",
    "print(np.random.random((2,3)))\n",
    "\n",
    "# (-1,1)\n",
    "print(np.random.randn(2,3))"
   ]
  },
  {
   "cell_type": "code",
   "execution_count": 135,
   "id": "optimum-orleans",
   "metadata": {},
   "outputs": [],
   "source": [
    "R = np.random.randn(1000)"
   ]
  },
  {
   "cell_type": "code",
   "execution_count": 144,
   "id": "efficient-scholar",
   "metadata": {},
   "outputs": [
    {
     "name": "stdout",
     "output_type": "stream",
     "text": [
      "0.01080824338020038\n",
      "0.01080824338020038\n",
      "1.003279988660848\n",
      "1.0016386517406606\n"
     ]
    }
   ],
   "source": [
    "print(R.mean())\n",
    "print(np.mean(R))\n",
    "\n",
    "# print(R.sum())\n",
    "print(R.var())\n",
    "print(R.std()) # var^2"
   ]
  },
  {
   "cell_type": "code",
   "execution_count": 164,
   "id": "legal-bangladesh",
   "metadata": {},
   "outputs": [
    {
     "name": "stdout",
     "output_type": "stream",
     "text": [
      "(10000, 3)\n"
     ]
    }
   ],
   "source": [
    "R = np.random.randn(10000, 3)\n",
    "print(R.shape)"
   ]
  },
  {
   "cell_type": "code",
   "execution_count": 165,
   "id": "sitting-spank",
   "metadata": {},
   "outputs": [
    {
     "name": "stdout",
     "output_type": "stream",
     "text": [
      "[ 0.00706345 -0.00950693  0.00037   ]\n",
      "[-0.10302349 -0.12152537 -0.76051302 ...  0.81470274  0.28134267\n",
      " -0.52288139]\n"
     ]
    }
   ],
   "source": [
    "print(R.mean(axis=0))\n",
    "print(R.mean(axis=1))"
   ]
  },
  {
   "cell_type": "code",
   "execution_count": 166,
   "id": "international-childhood",
   "metadata": {},
   "outputs": [
    {
     "name": "stdout",
     "output_type": "stream",
     "text": [
      "[[ 0.10564069 -0.21556948  0.04394519 ...  0.1931064  -0.28753384\n",
      "   0.17516573]\n",
      " [-0.21556948  0.4420442  -0.09117645 ... -0.34301457  0.60594892\n",
      "  -0.36049996]\n",
      " [ 0.04394519 -0.09117645  0.01932791 ...  0.04475124 -0.13300198\n",
      "   0.07499871]\n",
      " ...\n",
      " [ 0.1931064  -0.34301457  0.04475124 ...  1.56169963 -0.07064856\n",
      "   0.24776534]\n",
      " [-0.28753384  0.60594892 -0.13300198 ... -0.07064856  0.95385254\n",
      "  -0.50402979]\n",
      " [ 0.17516573 -0.36049996  0.07499871 ...  0.24776534 -0.50402979\n",
      "   0.29478733]]\n",
      "(10000, 10000)\n"
     ]
    }
   ],
   "source": [
    "print(np.cov(R))\n",
    "print(np.cov(R).shape)"
   ]
  },
  {
   "cell_type": "code",
   "execution_count": 170,
   "id": "chemical-value",
   "metadata": {},
   "outputs": [
    {
     "name": "stdout",
     "output_type": "stream",
     "text": [
      "[[ 0.9981379  -0.01231072  0.01698709]\n",
      " [-0.01231072  1.02213234  0.01180985]\n",
      " [ 0.01698709  0.01180985  1.01381472]]\n",
      "(3, 3)\n",
      "[[ 0.9981379  -0.01231072  0.01698709]\n",
      " [-0.01231072  1.02213234  0.01180985]\n",
      " [ 0.01698709  0.01180985  1.01381472]]\n"
     ]
    }
   ],
   "source": [
    "# cov standard is column for each observation so transpose it to make it ok\n",
    "print(np.cov(R.T))\n",
    "print(np.cov(R.T).shape)\n",
    "\n",
    "# or \n",
    "print(np.cov(R,rowvar=False))"
   ]
  },
  {
   "cell_type": "code",
   "execution_count": 184,
   "id": "sapphire-rogers",
   "metadata": {},
   "outputs": [
    {
     "name": "stdout",
     "output_type": "stream",
     "text": [
      "[[8 9 0]\n",
      " [7 9 5]]\n",
      "2\n"
     ]
    }
   ],
   "source": [
    "print(np.random.randint(0,10,(2,3)))\n",
    "print(np.random.choice(7))"
   ]
  },
  {
   "cell_type": "code",
   "execution_count": 188,
   "id": "special-european",
   "metadata": {},
   "outputs": [
    {
     "name": "stdout",
     "output_type": "stream",
     "text": [
      "5\n",
      "[6 4 6 5 4]\n",
      "[[1 2 3]\n",
      " [6 2 6]\n",
      " [3 3 3]]\n"
     ]
    }
   ],
   "source": [
    "print(np.random.choice([1,2,3,4,5,6]))\n",
    "print(np.random.choice([1,2,3,4,5,6],5))\n",
    "print(np.random.choice([1,2,3,4,5,6],(3,3)))"
   ]
  },
  {
   "cell_type": "markdown",
   "id": "advance-prison",
   "metadata": {},
   "source": [
    "# Vid 8 ( Numpy Exercise )"
   ]
  },
  {
   "cell_type": "code",
   "execution_count": 227,
   "id": "uniform-complexity",
   "metadata": {},
   "outputs": [
    {
     "name": "stdout",
     "output_type": "stream",
     "text": [
      "dt1/dt2:  99.00560658475486\n"
     ]
    }
   ],
   "source": [
    "a = np.random.random((3,3))\n",
    "b = np.random.random((3,3))\n",
    "\n",
    "T = 1000\n",
    "\n",
    "def slow_dot_product(a, b):\n",
    "    result = 0\n",
    "    for e, f in zip(a, b):\n",
    "        result += a*b\n",
    "    return result\n",
    "\n",
    "def slow_matrix_multiplication(a, b):\n",
    "    result = [ [0 for i in range(b.shape[1])] for j in range(a.shape[0])]\n",
    "#     result = np.zeros((a.shape[0],b.shape[1]))\n",
    "\n",
    "    for i in range(a.shape[0]):\n",
    "        for j in range(b.shape[1]):\n",
    "            result[i][j] = slow_dot_product(a[i:], b[:,j])\n",
    "\n",
    "    return result\n",
    "\n",
    "t0 = time.time()\n",
    "for t in range(T):\n",
    "    slow_matrix_multiplication(a, b)\n",
    "dt1 = execution_time_calculator(t0)\n",
    "\n",
    "\n",
    "t0 = time.time()\n",
    "for t in range(T):\n",
    "    a.dot(b)\n",
    "dt2 = execution_time_calculator(t0)\n",
    "\n",
    "print(\"dt1/dt2: \", dt1/dt2)"
   ]
  },
  {
   "cell_type": "markdown",
   "id": "interested-newspaper",
   "metadata": {},
   "source": [
    "# Vid 9 ( Where to learn more numpy )"
   ]
  },
  {
   "cell_type": "markdown",
   "id": "figured-richards",
   "metadata": {},
   "source": [
    "#### step 1: learn ML algorithms"
   ]
  }
 ],
 "metadata": {
  "kernelspec": {
   "display_name": "Python 3",
   "language": "python",
   "name": "python3"
  },
  "language_info": {
   "codemirror_mode": {
    "name": "ipython",
    "version": 3
   },
   "file_extension": ".py",
   "mimetype": "text/x-python",
   "name": "python",
   "nbconvert_exporter": "python",
   "pygments_lexer": "ipython3",
   "version": "3.6.12"
  }
 },
 "nbformat": 4,
 "nbformat_minor": 5
}
