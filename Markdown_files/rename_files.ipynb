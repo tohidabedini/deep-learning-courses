{
 "cells": [
  {
   "cell_type": "code",
   "execution_count": 26,
   "id": "tired-georgia",
   "metadata": {},
   "outputs": [],
   "source": [
    "import os\n",
    "\n",
    "def rename(directory,mode=0):\n",
    "    if mode == 0:\n",
    "        for filename in os.listdir(directory):\n",
    "            src = directory + filename\n",
    "            dst = \"p_\"+filename\n",
    "            dst = directory + dst\n",
    "\n",
    "    #         print(filename)\n",
    "            os.rename(src, dst)\n",
    "    elif mode == 1:\n",
    "        for path, subdirs, files in os.walk(directory):\n",
    "            for name in files:\n",
    "#         print(os.path.join(path, name))\n",
    "                src = os.path.join(path, name)\n",
    "                dst = \"p_\"+name\n",
    "                dst = os.path.join(path, dst)\n",
    "\n",
    "                os.rename(src, dst)\n"
   ]
  },
  {
   "cell_type": "code",
   "execution_count": 27,
   "id": "thrown-biodiversity",
   "metadata": {},
   "outputs": [],
   "source": [
    "directory = \"../../02-Udemy - Tensorflow 2.0 Deep Learning and Artificial Intelligence 2020-7/\"\n",
    "rename(directory, 1)"
   ]
  },
  {
   "cell_type": "code",
   "execution_count": null,
   "id": "directed-offering",
   "metadata": {},
   "outputs": [],
   "source": []
  },
  {
   "cell_type": "code",
   "execution_count": null,
   "id": "stupid-render",
   "metadata": {},
   "outputs": [],
   "source": []
  }
 ],
 "metadata": {
  "kernelspec": {
   "display_name": "Python 3",
   "language": "python",
   "name": "python3"
  },
  "language_info": {
   "codemirror_mode": {
    "name": "ipython",
    "version": 3
   },
   "file_extension": ".py",
   "mimetype": "text/x-python",
   "name": "python",
   "nbconvert_exporter": "python",
   "pygments_lexer": "ipython3",
   "version": "3.6.12"
  }
 },
 "nbformat": 4,
 "nbformat_minor": 5
}
